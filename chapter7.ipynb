{
 "cells": [
  {
   "cell_type": "markdown",
   "id": "ede869bf-dcc2-493d-9d04-7d2ae47eb6b2",
   "metadata": {},
   "source": [
    "# Chapter 7: Classes and Interfaces"
   ]
  },
  {
   "cell_type": "markdown",
   "id": "08817d33-3162-4f47-98f8-073705926ce4",
   "metadata": {},
   "source": [
    "# Item 48: Accept Functions Instead of Classes for Simple Interfaces\n",
    "Sometimes a class is too much man. Python treats functions as first-class citizens, and sometimes passing a function is enough.\n",
    "\n",
    "Python's `list` has a sort method that takes a function, behold"
   ]
  },
  {
   "cell_type": "code",
   "execution_count": 2,
   "id": "b9ad3a18-bd11-4f0f-bc6b-24cd7163eb46",
   "metadata": {},
   "outputs": [
    {
     "data": {
      "text/plain": [
       "['Luke', 'Jimmy', 'Blake', 'Andrew']"
      ]
     },
     "execution_count": 2,
     "metadata": {},
     "output_type": "execute_result"
    }
   ],
   "source": [
    "names.sort(key=len)# I\n",
    "names"
   ]
  },
  {
   "cell_type": "markdown",
   "id": "39219d20-ecb3-4782-8617-d6c6d9fc9740",
   "metadata": {},
   "source": [
    "We passed the `len` function to the interface. This told the list to sort from shortest to longest name!\n",
    "\n",
    "In Java we would have to make a class to do this same thing:\n",
    "```java\n",
    "class SortByLength implements Comparator<String> \n",
    "{    \n",
    "    public int compare(String a, String b) {\n",
    "        return a.length() < b.length();\n",
    "    }\n",
    "}\n",
    "\n",
    "// OR\n",
    "\n",
    "names.sort((first, second) -> Integer.compare(first.length(), second.length())\n",
    "```"
   ]
  },
  {
   "metadata": {},
   "cell_type": "markdown",
   "source": [
    "### Hooks\n",
    "this type of interaction in programming is called a \"hook\""
   ],
   "id": "c8b139b15bbbe42"
  },
  {
   "metadata": {
    "ExecuteTime": {
     "end_time": "2025-05-06T19:46:30.483747Z",
     "start_time": "2025-05-06T19:46:30.481423Z"
    }
   },
   "cell_type": "code",
   "source": [
    "# I\n",
    "def log_missing():\n",
    "    print(\"key added!\")\n",
    "    return 0\n",
    "\n",
    "\n",
    "from collections import defaultdict\n",
    "\n",
    "some_dict = {\"green\": 12, \"blue\": 3}\n",
    "\n",
    "defaulted_dict = defaultdict(log_missing, some_dict)\n",
    "\n",
    "defaulted_dict[\"green\"] += 3\n",
    "defaulted_dict[\"red\"] += 5\n",
    "defaulted_dict[\"blue\"] += 7\n",
    "dict(defaulted_dict)"
   ],
   "id": "ecddf00298bd82fa",
   "outputs": [
    {
     "name": "stdout",
     "output_type": "stream",
     "text": [
      "key added!\n"
     ]
    },
    {
     "data": {
      "text/plain": [
       "{'green': 15, 'blue': 10, 'red': 5}"
      ]
     },
     "execution_count": 4,
     "metadata": {},
     "output_type": "execute_result"
    }
   ],
   "execution_count": 4
  },
  {
   "metadata": {},
   "cell_type": "markdown",
   "source": [
    "### But why do this?\n",
    "This basically gives you a clean way to trigger side-effects and keep them separate from your deterministic behavior."
   ],
   "id": "94d90874ea4659d0"
  },
  {
   "metadata": {
    "ExecuteTime": {
     "end_time": "2025-05-06T19:50:54.519007Z",
     "start_time": "2025-05-06T19:50:54.515497Z"
    }
   },
   "cell_type": "code",
   "source": [
    "# I\n",
    "\n",
    "def count_missing():\n",
    "    global missed  # remember nonlocal?\n",
    "    missed += 1\n",
    "    return 0\n",
    "\n",
    "\n",
    "dict2 = defaultdict(count_missing, some_dict)\n",
    "dict2[\"green\"] += 3\n",
    "dict2[\"orange\"] += 2\n",
    "dict2[\"purple\"] += 1\n",
    "\n",
    "print(missed)"
   ],
   "id": "5f8a64f94b19b43a",
   "outputs": [
    {
     "name": "stdout",
     "output_type": "stream",
     "text": [
      "2\n"
     ]
    }
   ],
   "execution_count": 7
  },
  {
   "metadata": {},
   "cell_type": "markdown",
   "source": [
    "Anyway, this is the power of first-class functions. Without this, you'd have to modify/extend `defaultdict` to get this behavior.\n",
    "\n",
    "Lets do that example again, but without the gross `global` for state management."
   ],
   "id": "4f55f1a7a79fd513"
  },
  {
   "metadata": {
    "ExecuteTime": {
     "end_time": "2025-05-06T19:53:46.796895Z",
     "start_time": "2025-05-06T19:53:46.793955Z"
    }
   },
   "cell_type": "code",
   "source": [
    "    def __init__(s# Ielf):\n",
    "        self.missed = 0\n",
    "\n",
    "    def __call__(self):\n",
    "        self.missed += 1\n",
    "        return 0\n",
    "\n",
    "\n",
    "my_cool_counter = Counterater()\n",
    "\n",
    "dict2 = defaultdict(my_cool_counter,\n",
    "                    some_dict)  # though I used __call__, you can also pass a class instance's method too.\n",
    "dict2[\"green\"] += 3\n",
    "dict2[\"orange\"] += 2\n",
    "dict2[\"purple\"] += 1\n",
    "\n",
    "my_cool_counter.missed"
   ],
   "id": "569ecb129a283eb7",
   "outputs": [
    {
     "data": {
      "text/plain": [
       "2"
      ]
     },
     "execution_count": 9,
     "metadata": {},
     "output_type": "execute_result"
    }
   ],
   "execution_count": 9
  },
  {
   "metadata": {},
   "cell_type": "markdown",
   "source": [
    "### SURPRISE QUIZ: wtf is `__call__`?!\n",
    "![spongebob.png](spongebob.png)\n",
    "\n",
    "### Remember\n",
    "Python functions are first-class, and thus allow composition, chaining, hooks, etc. Though a class to handle all the above may be a natural instinct, its not necessary in python."
   ],
   "id": "626fdc5f5cb217bb"
  },
  {
   "metadata": {},
   "cell_type": "markdown",
   "source": [
    "# Item 49: Prefer Object-Oriented Polymorphism over Functions with `isinstance` Checks\n",
    "TODO: sassy comment"
   ],
   "id": "b663d8ab22a5803d"
  },
  {
   "metadata": {
    "ExecuteTime": {
     "end_time": "2025-05-06T20:12:52.709213Z",
     "start_time": "2025-05-06T20:12:52.706590Z"
    }
   },
   "cell_type": "code",
   "source": [
    "class Integer:# I\n",
    "    def __init__(self, value):\n",
    "        self.value = value\n",
    "\n",
    "\n",
    "class Add:\n",
    "    def __init__(self, left, right):\n",
    "        self.left = left\n",
    "        self.right = right\n",
    "\n",
    "\n",
    "class Multiply:\n",
    "    def __init__(self, left, right):\n",
    "        self.left = left\n",
    "        self.right = right\n",
    "\n",
    "\n",
    "tree = Add(Integer(1), Integer(2))"
   ],
   "id": "fdf0f128d837601c",
   "outputs": [],
   "execution_count": 12
  },
  {
   "metadata": {
    "ExecuteTime": {
     "end_time": "2025-05-06T20:13:28.508236Z",
     "start_time": "2025-05-06T20:13:28.505211Z"
    }
   },
   "cell_type": "code",
   "source": [
    "# EVAL THAT TREE BABY# I\n",
    "\n",
    "def evaluate(node):\n",
    "    if isinstance(node, Integer):\n",
    "        return node.value\n",
    "    elif isinstance(node, Add):\n",
    "        return evaluate(node.left) + evaluate(node.right)\n",
    "    elif isinstance(node, Multiply):\n",
    "        return evaluate(node.left) * evaluate(node.right)\n",
    "    else:\n",
    "        raise NotImplementedError"
   ],
   "id": "2aee146ac3ec057d",
   "outputs": [],
   "execution_count": 14
  },
  {
   "metadata": {
    "ExecuteTime": {
     "end_time": "2025-05-06T20:15:23.733070Z",
     "start_time": "2025-05-06T20:15:23.730850Z"
    }
   },
   "cell_type": "code",
   "source": [
    "print(evaluate(Add(In# Iteger(11), Integer(22))))\n",
    "print(evaluate(\n",
    "    Add(Multiply(Integer(2), Integer(2)), Integer(22))))  # it even supports arbitrary nesting, since it's recursive!"
   ],
   "id": "6598da23fabfb10e",
   "outputs": [
    {
     "name": "stdout",
     "output_type": "stream",
     "text": [
      "3\n",
      "33\n",
      "26\n"
     ]
    }
   ],
   "execution_count": 18
  },
  {
   "metadata": {},
   "cell_type": "markdown",
   "source": [
    "Works great! But imagine we wanted to make our AST much bigger than just Add and Multiply? Gosh that `if..elif` structure would get pretty huge...\n",
    "\n",
    "Let's make this more OOP-y"
   ],
   "id": "6f32c946bed6becc"
  },
  {
   "metadata": {
    "ExecuteTime": {
     "end_time": "2025-05-06T20:18:50.345168Z",
     "start_time": "2025-05-06T20:18:50.342665Z"
    }
   },
   "cell_type": "code",
   "source": [
    "    def evaluate(self):\n",
    "        raise NotImplementedError\n",
    "\n",
    "\n",
    "class IntegerNode(Node):\n",
    "    def __init__(self, value):\n",
    "        self.value = value\n",
    "\n",
    "    def evaluate(self):\n",
    "        return self.value\n",
    "\n",
    "\n",
    "class AddNode(Node):\n",
    "    def __init__(self, left, right):\n",
    "        self.left = left\n",
    "        self.right = right\n",
    "\n",
    "    def evaluate(self):\n",
    "        return self.left.evaluate() + self.right.evaluate()\n",
    "\n",
    "\n",
    "class MultiplyNode(Node):\n",
    "    def __init__(self, left, right):\n",
    "        self.left = left\n",
    "        self.right = right\n",
    "\n",
    "    def evaluate(self):\n",
    "        return self.left.evaluate() * self.right.evaluate()"
   ],
   "id": "2bb71c208c13ce9c",
   "outputs": [],
   "execution_count": 19
  },
  {
   "metadata": {
    "ExecuteTime": {
     "end_time": "2025-05-06T20:19:05.921571Z",
     "start_time": "2025-05-06T20:19:05.918716Z"
    }
   },
   "cell_type": "code",
   "source": "tree.evaluate()",
   "id": "aa378f82ae9c48f5",
   "outputs": [
    {
     "data": {
      "text/plain": [
       "3"
      ]
     },
     "execution_count": 21,
     "metadata": {},
     "output_type": "execute_result"
    }
   ],
   "execution_count": 21
  },
  {
   "metadata": {},
   "cell_type": "markdown",
   "source": "This allows polymorphic extension later via abstracts etc. Though, it's easy for this to become its own maintenance nightmare. Care and consideration should be had!",
   "id": "e455e94413fd314b"
  },
  {
   "metadata": {},
   "cell_type": "markdown",
   "source": "# Item 50: Consider `functools.singledispatch` for Functional-Style Programming Instead of Polymorphism",
   "id": "e5b6dc3c3edfd637"
  },
  {
   "metadata": {
    "ExecuteTime": {
     "end_time": "2025-05-06T20:26:01.484928Z",
     "start_time": "2025-05-06T20:26:01.480452Z"
    }
   },
   "cell_type": "code",
   "source": [
    "\n",
    "class NodeAlt:\n",
    "    def evaluate(self):\n",
    "        raise NotImplementedError\n",
    "\n",
    "    def pretty(self):\n",
    "        raise NotImplementedError\n",
    "\n",
    "\n",
    "class IntegerNodeAlt(NodeAlt):\n",
    "    def __init__(self, value):\n",
    "        self.value = value\n",
    "\n",
    "    def evaluate(self):\n",
    "        return self.value\n",
    "\n",
    "    def pretty(self):\n",
    "        return repr(self.value)\n",
    "\n",
    "\n",
    "class AddNodeAlt(NodeAlt):\n",
    "    def __init__(self, left, right):\n",
    "        self.left = left\n",
    "        self.right = right\n",
    "\n",
    "    def evaluate(self):\n",
    "        return self.left.evaluate() + self.right.evaluate()\n",
    "\n",
    "    def pretty(self):\n",
    "        left_str = self.left.pretty()\n",
    "        right_str = self.right.pretty()\n",
    "        return f\"({left_str} + {right_str})\"\n",
    "\n",
    "\n",
    "class MultiplyNodeAlt(NodeAlt):\n",
    "    def __init__(self, left, right):\n",
    "        self.left = left\n",
    "        self.right = right\n",
    "\n",
    "    def evaluate(self):\n",
    "        return self.left.evaluate() * self.right.evaluate()\n",
    "\n",
    "    def pretty(self):\n",
    "        left_str = self.left.pretty()\n",
    "        right_str = self.right.pretty()\n",
    "        return f\"({left_str} * {right_str})\""
   ],
   "id": "202dc34526e63d4a",
   "outputs": [],
   "execution_count": 22
  },
  {
   "metadata": {
    "ExecuteTime": {
     "end_time": "2025-05-06T20:26:09.619098Z",
     "start_time": "2025-05-06T20:26:09.616060Z"
    }
   },
   "cell_type": "code",
   "source": [
    "    AddNodeAlt(IntegerNodeAlt(3), IntegerNodeAlt(5)),\n",
    "    AddNodeAlt(IntegerNodeAlt(4), IntegerNodeAlt(7)),\n",
    ")\n",
    "tree.pretty()"
   ],
   "id": "6e0d06020174b153",
   "outputs": [
    {
     "data": {
      "text/plain": [
       "'((3 + 5) * (4 + 7))'"
      ]
     },
     "execution_count": 24,
     "metadata": {},
     "output_type": "execute_result"
    }
   ],
   "execution_count": 24
  },
  {
   "metadata": {},
   "cell_type": "markdown",
   "source": [
    "Do you see where this can go wrong? What If I need to add 30 different methods to `NodeAlt`? I have to update EVERY SINGLE INHERITOR! BOO! That sucks!!!\n",
    "\n",
    "As a fun aside: Effective Java also talks about this exact problem, and urges programmers to use `abstract` sparringly."
   ],
   "id": "78fc0a3e51a65bbc"
  },
  {
   "metadata": {
    "ExecuteTime": {
     "end_time": "2025-05-06T20:38:43.441545Z",
     "start_time": "2025-05-06T20:38:43.439169Z"
    }
   },
   "cell_type": "code",
   "source": [
    "from functools import singledispatch\n",
    "\n",
    "\n",
    "@singledispatch\n",
    "def pretty(value):\n",
    "    raise NotImplementedError"
   ],
   "id": "5016c36d99b03ce4",
   "outputs": [],
   "execution_count": 31
  },
  {
   "metadata": {},
   "cell_type": "markdown",
   "source": "Single-dispatch is a functional technique that lets you basically add behavior to a class without modifying it. The function above will be treated as the function of last resort, if nothing else can be found.",
   "id": "7629538219d79888"
  },
  {
   "metadata": {
    "ExecuteTime": {
     "end_time": "2025-05-06T20:38:44.573103Z",
     "start_time": "2025-05-06T20:38:44.570927Z"
    }
   },
   "cell_type": "code",
   "source": [
    "def _(value):  # note the name, _ basically means \"the name doesn't matter\"\n",
    "    return repr(value)\n",
    "\n",
    "\n",
    "@pretty.register(float)\n",
    "def _(value):\n",
    "    return f\"{value:.2f}\""
   ],
   "id": "131018a176baebe",
   "outputs": [],
   "execution_count": 32
  },
  {
   "metadata": {
    "ExecuteTime": {
     "end_time": "2025-05-06T20:38:46.054769Z",
     "start_time": "2025-05-06T20:38:46.052196Z"
    }
   },
   "cell_type": "code",
   "source": "print(pretty(3))",
   "id": "ff2dbb0683645dc5",
   "outputs": [
    {
     "name": "stdout",
     "output_type": "stream",
     "text": [
      "3.14\n",
      "3\n"
     ]
    }
   ],
   "execution_count": 33
  },
  {
   "metadata": {
    "ExecuteTime": {
     "end_time": "2025-05-06T20:39:25.838843Z",
     "start_time": "2025-05-06T20:39:25.833881Z"
    }
   },
   "cell_type": "code",
   "source": [
    "\n",
    "@singledispatch\n",
    "def evaluate(node):\n",
    "    raise NotImplementedError\n",
    "\n",
    "\n",
    "class Integer:\n",
    "    def __init__(self, value):\n",
    "        self.value = value\n",
    "\n",
    "\n",
    "class BinaryOp:\n",
    "    def __init__(self, left, right):\n",
    "        self.left = left\n",
    "        self.right = right\n",
    "\n",
    "\n",
    "class Add(BinaryOp):\n",
    "    def __init__(self, left, right):\n",
    "        super().__init__(left, right)\n",
    "\n",
    "\n",
    "class Multiply(BinaryOp):\n",
    "    def __init__(self, left, right):\n",
    "        super().__init__(left, right)\n",
    "\n",
    "\n",
    "@evaluate.register(Integer)\n",
    "def _(node):\n",
    "    return node.value\n",
    "\n",
    "\n",
    "@evaluate.register(Add)\n",
    "def _(node):\n",
    "    return evaluate(node.left) + evaluate(node.right)\n",
    "\n",
    "\n",
    "@evaluate.register(Multiply)\n",
    "def _(node):\n",
    "    return evaluate(node.left) * evaluate(node.right)\n",
    "\n",
    "# HEY DONT FORGET PRETTY~\n",
    "@pretty.register(Integer)\n",
    "def _(node):\n",
    "    return repr(node.value)\n",
    "\n",
    "@pretty.register(Add)\n",
    "def _(node):\n",
    "    left_str = pretty(node.left)\n",
    "    right_str = pretty(node.right)\n",
    "    return f\"({left_str} + {right_str})\"\n",
    "\n",
    "@pretty.register(Multiply)\n",
    "def _(node):\n",
    "    left_str = pretty(node.left)\n",
    "    right_str = pretty(node.right)\n",
    "    return f\"({left_str} * {right_str})\""
   ],
   "id": "d4b632f434ec0b04",
   "outputs": [],
   "execution_count": 35
  },
  {
   "metadata": {
    "ExecuteTime": {
     "end_time": "2025-05-06T20:39:33.865350Z",
     "start_time": "2025-05-06T20:39:33.863650Z"
    }
   },
   "cell_type": "code",
   "source": [
    "print(evaluate(tree))\n",
    "print(pretty(tree))"
   ],
   "id": "feeadb51f91febfe",
   "outputs": [
    {
     "name": "stdout",
     "output_type": "stream",
     "text": [
      "21\n",
      "((1 + 2) * (3 + 4))\n"
     ]
    }
   ],
   "execution_count": 36
  },
  {
   "metadata": {},
   "cell_type": "markdown",
   "source": "An immediate benefit of this, is how the dispatch works with sub-classing.",
   "id": "9495285c0802a8a9"
  },
  {
   "metadata": {
    "ExecuteTime": {
     "end_time": "2025-05-06T20:40:54.736820Z",
     "start_time": "2025-05-06T20:40:54.733212Z"
    }
   },
   "cell_type": "code",
   "source": [
    "    def __init__(self, value):\n",
    "        if value < 0:\n",
    "            raise ValueError(\"value must be positive\")\n",
    "        super().__init__(value)\n",
    "\n",
    "pretty(PositiveInteger(3))"
   ],
   "id": "6cb8c71871876c36",
   "outputs": [
    {
     "data": {
      "text/plain": [
       "'3'"
      ]
     },
     "execution_count": 37,
     "metadata": {},
     "output_type": "execute_result"
    }
   ],
   "execution_count": 37
  },
  {
   "metadata": {},
   "cell_type": "markdown",
   "source": "However, things get harder when we create a brand new class",
   "id": "9da8c364b25bf780"
  },
  {
   "metadata": {
    "ExecuteTime": {
     "end_time": "2025-05-06T20:41:51.391030Z",
     "start_time": "2025-05-06T20:41:51.368580Z"
    }
   },
   "cell_type": "code",
   "source": [
    "    def __init__(self, value):\n",
    "        self.value = value\n",
    "\n",
    "pretty(Float(3.141592653589793))"
   ],
   "id": "c0b6eabd3cb16a50",
   "outputs": [
    {
     "ename": "NotImplementedError",
     "evalue": "",
     "output_type": "error",
     "traceback": [
      "\u001B[0;31m---------------------------------------------------------------------------\u001B[0m",
      "\u001B[0;31mNotImplementedError\u001B[0m                       Traceback (most recent call last)",
      "Cell \u001B[0;32mIn[38], line 5\u001B[0m\n\u001B[1;32m      2\u001B[0m     \u001B[38;5;28;01mdef\u001B[39;00m\u001B[38;5;250m \u001B[39m\u001B[38;5;21m__init__\u001B[39m(\u001B[38;5;28mself\u001B[39m, value):\n\u001B[1;32m      3\u001B[0m         \u001B[38;5;28mself\u001B[39m\u001B[38;5;241m.\u001B[39mvalue \u001B[38;5;241m=\u001B[39m value\n\u001B[0;32m----> 5\u001B[0m \u001B[43mpretty\u001B[49m\u001B[43m(\u001B[49m\u001B[43mFloat\u001B[49m\u001B[43m(\u001B[49m\u001B[38;5;241;43m3.141592653589793\u001B[39;49m\u001B[43m)\u001B[49m\u001B[43m)\u001B[49m\n",
      "File \u001B[0;32m/opt/homebrew/Cellar/python@3.13/3.13.2/Frameworks/Python.framework/Versions/3.13/lib/python3.13/functools.py:934\u001B[0m, in \u001B[0;36msingledispatch.<locals>.wrapper\u001B[0;34m(*args, **kw)\u001B[0m\n\u001B[1;32m    931\u001B[0m \u001B[38;5;28;01mif\u001B[39;00m \u001B[38;5;129;01mnot\u001B[39;00m args:\n\u001B[1;32m    932\u001B[0m     \u001B[38;5;28;01mraise\u001B[39;00m \u001B[38;5;167;01mTypeError\u001B[39;00m(\u001B[38;5;124mf\u001B[39m\u001B[38;5;124m'\u001B[39m\u001B[38;5;132;01m{\u001B[39;00mfuncname\u001B[38;5;132;01m}\u001B[39;00m\u001B[38;5;124m requires at least \u001B[39m\u001B[38;5;124m'\u001B[39m\n\u001B[1;32m    933\u001B[0m                     \u001B[38;5;124m'\u001B[39m\u001B[38;5;124m1 positional argument\u001B[39m\u001B[38;5;124m'\u001B[39m)\n\u001B[0;32m--> 934\u001B[0m \u001B[38;5;28;01mreturn\u001B[39;00m \u001B[43mdispatch\u001B[49m\u001B[43m(\u001B[49m\u001B[43margs\u001B[49m\u001B[43m[\u001B[49m\u001B[38;5;241;43m0\u001B[39;49m\u001B[43m]\u001B[49m\u001B[38;5;241;43m.\u001B[39;49m\u001B[38;5;18;43m__class__\u001B[39;49m\u001B[43m)\u001B[49m\u001B[43m(\u001B[49m\u001B[38;5;241;43m*\u001B[39;49m\u001B[43margs\u001B[49m\u001B[43m,\u001B[49m\u001B[43m \u001B[49m\u001B[38;5;241;43m*\u001B[39;49m\u001B[38;5;241;43m*\u001B[39;49m\u001B[43mkw\u001B[49m\u001B[43m)\u001B[49m\n",
      "Cell \u001B[0;32mIn[31], line 7\u001B[0m, in \u001B[0;36mpretty\u001B[0;34m(value)\u001B[0m\n\u001B[1;32m      5\u001B[0m \u001B[38;5;129m@singledispatch\u001B[39m\n\u001B[1;32m      6\u001B[0m \u001B[38;5;28;01mdef\u001B[39;00m\u001B[38;5;250m \u001B[39m\u001B[38;5;21mpretty\u001B[39m(value):\n\u001B[0;32m----> 7\u001B[0m     \u001B[38;5;28;01mraise\u001B[39;00m \u001B[38;5;167;01mNotImplementedError\u001B[39;00m\n",
      "\u001B[0;31mNotImplementedError\u001B[0m: "
     ]
    }
   ],
   "execution_count": 38
  },
  {
   "metadata": {},
   "cell_type": "markdown",
   "source": [
    "This is a trade-off.\n",
    "- Polymorphism: easy to add new classes, PITA to add new behavior across classes.\n",
    "- Single Dispatch: easy to add new behavior across classes, PITA to add new classes.\n",
    "\n",
    "From experience, the former is the *bigger* PITA. Single dispatch allows classes themselves to remain much simpler, and allows you as the programmer, to have independent systems with their own behaviors, use those classes without polluting them.\n",
    "\n",
    "To solidify: look at Video Center and `abstract`; this is polymorphism, and it's awful. A single change causes cascading maintenance headaches everywhere. As a result, changes are seldom made, and the code-base has aged horribly.\n",
    "\n",
    "But polymorphism still makes sense in smaller contexts, or fairly self-contained contexts, where the classes don't need to be shared across system boundaries."
   ],
   "id": "69022129566ff531"
  },
  {
   "metadata": {},
   "cell_type": "markdown",
   "source": "# Item 51: Prefer `dataclasses` for Defining Lightweight Classes",
   "id": "fdf2ecc51590fea"
  },
  {
   "metadata": {
    "ExecuteTime": {
     "end_time": "2025-05-06T21:01:54.099373Z",
     "start_time": "2025-05-06T21:01:54.096074Z"
    }
   },
   "cell_type": "code",
   "source": [
    "from dataclasses import dataclass\n",
    "\n",
    "@dataclass\n",
    "class MyRGB:\n",
    "    red: int\n",
    "    green: int\n",
    "    blue: int\n",
    "\n",
    "# They enforce order\n",
    "color1 = MyRGB(1, 2, 3)\n",
    "color2 = MyRGB(red=1, green=2, blue=3)\n",
    "\n",
    "# They allow type checking! (a linter would catch this)\n",
    "color1.red = \"two\""
   ],
   "id": "2d3170852b1467a4",
   "outputs": [],
   "execution_count": 51
  },
  {
   "metadata": {
    "ExecuteTime": {
     "end_time": "2025-05-06T21:02:26.045010Z",
     "start_time": "2025-05-06T21:02:26.037200Z"
    }
   },
   "cell_type": "code",
   "source": [
    "@dataclass(kw_only=True)\n",
    "class MyRGB:\n",
    "    red: int\n",
    "    green: int\n",
    "    blue: int\n",
    "\n",
    "MyRGB(1, 2, 3)"
   ],
   "id": "91d445b3d7724b2d",
   "outputs": [
    {
     "ename": "TypeError",
     "evalue": "MyRGB.__init__() takes 1 positional argument but 4 were given",
     "output_type": "error",
     "traceback": [
      "\u001B[0;31m---------------------------------------------------------------------------\u001B[0m",
      "\u001B[0;31mTypeError\u001B[0m                                 Traceback (most recent call last)",
      "Cell \u001B[0;32mIn[55], line 8\u001B[0m\n\u001B[1;32m      5\u001B[0m     green: \u001B[38;5;28mint\u001B[39m\n\u001B[1;32m      6\u001B[0m     blue: \u001B[38;5;28mint\u001B[39m\n\u001B[0;32m----> 8\u001B[0m \u001B[43mMyRGB\u001B[49m\u001B[43m(\u001B[49m\u001B[38;5;241;43m1\u001B[39;49m\u001B[43m,\u001B[49m\u001B[43m \u001B[49m\u001B[38;5;241;43m2\u001B[39;49m\u001B[43m,\u001B[49m\u001B[43m \u001B[49m\u001B[38;5;241;43m3\u001B[39;49m\u001B[43m)\u001B[49m\n",
      "\u001B[0;31mTypeError\u001B[0m: MyRGB.__init__() takes 1 positional argument but 4 were given"
     ]
    }
   ],
   "execution_count": 55
  },
  {
   "metadata": {
    "ExecuteTime": {
     "end_time": "2025-05-06T21:02:22.955276Z",
     "start_time": "2025-05-06T21:02:22.952538Z"
    }
   },
   "cell_type": "code",
   "source": "",
   "id": "d68083d946899db4",
   "outputs": [
    {
     "data": {
      "text/plain": [
       "MyRGB(red=1, green=2, blue=3)"
      ]
     },
     "execution_count": 54,
     "metadata": {},
     "output_type": "execute_result"
    }
   ],
   "execution_count": 54
  },
  {
   "metadata": {
    "ExecuteTime": {
     "end_time": "2025-05-06T21:07:42.554529Z",
     "start_time": "2025-05-06T21:07:42.552939Z"
    }
   },
   "cell_type": "code",
   "source": [
    "print(color1 == color2)\n",
    "print(MyRGB(red=1, green=2, blue=3) == MyRGB(red=1, green=2, blue=3))"
   ],
   "id": "5931ba7dfb7f4579",
   "outputs": [
    {
     "name": "stdout",
     "output_type": "stream",
     "text": [
      "False\n",
      "True\n"
     ]
    }
   ],
   "execution_count": 60
  },
  {
   "metadata": {
    "ExecuteTime": {
     "end_time": "2025-05-06T21:14:37.466777Z",
     "start_time": "2025-05-06T21:14:37.464649Z"
    }
   },
   "cell_type": "code",
   "source": [
    "from dataclasses import asdict\n",
    "asdict(color1)"
   ],
   "id": "94133863abdc519c",
   "outputs": [
    {
     "data": {
      "text/plain": [
       "{'red': 1, 'green': 2, 'blue': 3}"
      ]
     },
     "execution_count": 68,
     "metadata": {},
     "output_type": "execute_result"
    }
   ],
   "execution_count": 68
  },
  {
   "metadata": {
    "ExecuteTime": {
     "end_time": "2025-05-06T21:11:07.243059Z",
     "start_time": "2025-05-06T21:11:07.232680Z"
    }
   },
   "cell_type": "code",
   "source": [
    "class Planet:\n",
    "    def __init__(self, distance, size):\n",
    "        self.distance = distance\n",
    "        self.size = size\n",
    "\n",
    "    def __repr__(self):\n",
    "        return (\n",
    "            f\"{type(self).__module__}\"\n",
    "            f\"{type(self).__name__}(\"\n",
    "            f\"distance={self.distance}, \"\n",
    "            f\"size={self.size})\"\n",
    "        )\n",
    "\n",
    "far = Planet(10, 5) # planet size 5, 10 away from us\n",
    "near = Planet(1, 2) # planet size 2, 1 away from us\n",
    "data = [far, near]\n",
    "# This is going to fail because python doesn't know how to compare planets!\n",
    "data.sort()"
   ],
   "id": "bc22fbf9e1a7920c",
   "outputs": [
    {
     "ename": "TypeError",
     "evalue": "'<' not supported between instances of 'Planet' and 'Planet'",
     "output_type": "error",
     "traceback": [
      "\u001B[0;31m---------------------------------------------------------------------------\u001B[0m",
      "\u001B[0;31mTypeError\u001B[0m                                 Traceback (most recent call last)",
      "Cell \u001B[0;32mIn[62], line 19\u001B[0m\n\u001B[1;32m     17\u001B[0m data \u001B[38;5;241m=\u001B[39m [far, near]\n\u001B[1;32m     18\u001B[0m \u001B[38;5;66;03m# This is going to fail, because python doesn't know how to compare planets!\u001B[39;00m\n\u001B[0;32m---> 19\u001B[0m \u001B[43mdata\u001B[49m\u001B[38;5;241;43m.\u001B[39;49m\u001B[43msort\u001B[49m\u001B[43m(\u001B[49m\u001B[43m)\u001B[49m\n",
      "\u001B[0;31mTypeError\u001B[0m: '<' not supported between instances of 'Planet' and 'Planet'"
     ]
    }
   ],
   "execution_count": 62
  },
  {
   "metadata": {
    "ExecuteTime": {
     "end_time": "2025-05-06T21:11:32.666340Z",
     "start_time": "2025-05-06T21:11:32.662879Z"
    }
   },
   "cell_type": "code",
   "source": [
    "class Planet:\n",
    "    ...\n",
    "\n",
    "    def _astuple(self):\n",
    "        return (self.distance, self.size)\n",
    "\n",
    "    def __eq__(self, other):\n",
    "        return (\n",
    "            type(self) == type(other)\n",
    "            and self._astuple() == other._astuple()\n",
    "        )\n",
    "\n",
    "    def __lt__(self, other):\n",
    "        if type(self) != type(other):\n",
    "            return NotImplemented\n",
    "        return self._astuple() < other._astuple()\n",
    "\n",
    "    def __le__(self, other):\n",
    "        if type(self) != type(other):\n",
    "            return NotImplemented\n",
    "        return self._astuple() <= other._astuple()\n",
    "\n",
    "    def __gt__(self, other):\n",
    "        if type(self) != type(other):\n",
    "            return NotImplemented\n",
    "        return self._astuple() > other._astuple()\n",
    "\n",
    "    def __ge__(self, other):\n",
    "        if type(self) != type(other):\n",
    "            return NotImplemented\n",
    "        return self._astuple() >= other._astuple()"
   ],
   "id": "b42be7e8585a9a65",
   "outputs": [],
   "execution_count": 63
  },
  {
   "metadata": {
    "ExecuteTime": {
     "end_time": "2025-05-06T21:12:44.427078Z",
     "start_time": "2025-05-06T21:12:44.424537Z"
    }
   },
   "cell_type": "code",
   "source": [
    "@dataclass(order=True)\n",
    "class DataclassPlanet:\n",
    "    distance: float\n",
    "    size: float\n",
    "\n",
    "far2 = DataclassPlanet(10, 2)\n",
    "near2 = DataclassPlanet(1, 5)\n",
    "print(far2 > near2)\n",
    "print(near2 < far2)\n",
    "\n",
    "data = [far2, near2]\n",
    "data.sort()\n",
    "data"
   ],
   "id": "b926b712263b5fc3",
   "outputs": [
    {
     "name": "stdout",
     "output_type": "stream",
     "text": [
      "True\n",
      "True\n"
     ]
    },
    {
     "data": {
      "text/plain": [
       "[DataclassPlanet(distance=1, size=5), DataclassPlanet(distance=10, size=2)]"
      ]
     },
     "execution_count": 66,
     "metadata": {},
     "output_type": "execute_result"
    }
   ],
   "execution_count": 66
  },
  {
   "metadata": {},
   "cell_type": "markdown",
   "source": [
    "As you can see, `dataclass` is _pretty cool_. A possible Java equivalent might be Lombok's `Data` annotation.\n",
    "\n",
    "Think of it as a boilerplate slayer."
   ],
   "id": "b58b055ea11e34b0"
  },
  {
   "metadata": {
    "ExecuteTime": {
     "end_time": "2025-05-06T21:15:45.982863Z",
     "start_time": "2025-05-06T21:15:45.978580Z"
    }
   },
   "cell_type": "code",
   "source": [
    "# Pydantic is good stuff. Let's see how it compares to dataclasses.\n",
    "\n",
    "import sys\n",
    "from pydantic import BaseModel\n",
    "\n",
    "@dataclass\n",
    "class PointV1:\n",
    "    x: float\n",
    "    y: float\n",
    "\n",
    "class PointV2(BaseModel):\n",
    "    x: float\n",
    "    y: float\n",
    "\n",
    "point1 = PointV1(1, 2)\n",
    "point2 = PointV2(x=1, y=2)\n",
    "print(\"The dataclass is\", sys.getsizeof(point1), \"bytes\")\n",
    "print(\"The pydantic model is\", sys.getsizeof(point2), \"bytes\")"
   ],
   "id": "fe03d1453b5fe39a",
   "outputs": [
    {
     "name": "stdout",
     "output_type": "stream",
     "text": [
      "The dataclass is 48 bytes\n",
      "The pydantic model is 72 bytes\n"
     ]
    }
   ],
   "execution_count": 69
  },
  {
   "metadata": {},
   "cell_type": "code",
   "outputs": [
    {
     "name": "stdout",
     "output_type": "stream",
     "text": [
      "['__annotations__', '__class__', '__dataclass_fields__', '__dataclass_params__', '__delattr__', '__dict__', '__dir__', '__doc__', '__eq__', '__firstlineno__', '__format__', '__ge__', '__getattribute__', '__getstate__', '__gt__', '__hash__', '__init__', '__init_subclass__', '__le__', '__lt__', '__match_args__', '__module__', '__ne__', '__new__', '__reduce__', '__reduce_ex__', '__replace__', '__repr__', '__setattr__', '__sizeof__', '__static_attributes__', '__str__', '__subclasshook__', '__weakref__', 'x', 'y']\n",
      "--------------------------------------------------------------------------------\n",
      "['__abstractmethods__', '__annotations__', '__class__', '__class_getitem__', '__class_vars__', '__copy__', '__deepcopy__', '__delattr__', '__dict__', '__dir__', '__doc__', '__eq__', '__fields__', '__fields_set__', '__firstlineno__', '__format__', '__ge__', '__get_pydantic_core_schema__', '__get_pydantic_json_schema__', '__getattr__', '__getattribute__', '__getstate__', '__gt__', '__hash__', '__init__', '__init_subclass__', '__iter__', '__le__', '__lt__', '__module__', '__ne__', '__new__', '__pretty__', '__private_attributes__', '__pydantic_complete__', '__pydantic_computed_fields__', '__pydantic_core_schema__', '__pydantic_custom_init__', '__pydantic_decorators__', '__pydantic_extra__', '__pydantic_fields__', '__pydantic_fields_set__', '__pydantic_generic_metadata__', '__pydantic_init_subclass__', '__pydantic_parent_namespace__', '__pydantic_post_init__', '__pydantic_private__', '__pydantic_root_model__', '__pydantic_serializer__', '__pydantic_setattr_handlers__', '__pydantic_validator__', '__reduce__', '__reduce_ex__', '__replace__', '__repr__', '__repr_args__', '__repr_name__', '__repr_recursion__', '__repr_str__', '__rich_repr__', '__setattr__', '__setstate__', '__signature__', '__sizeof__', '__slots__', '__static_attributes__', '__str__', '__subclasshook__', '__weakref__', '_abc_impl', '_calculate_keys', '_copy_and_set_values', '_get_value', '_iter', '_setattr_handler', 'construct', 'copy', 'dict', 'from_orm', 'json', 'model_computed_fields', 'model_config', 'model_construct', 'model_copy', 'model_dump', 'model_dump_json', 'model_extra', 'model_fields', 'model_fields_set', 'model_json_schema', 'model_parametrized_name', 'model_post_init', 'model_rebuild', 'model_validate', 'model_validate_json', 'model_validate_strings', 'parse_file', 'parse_obj', 'parse_raw', 'schema', 'schema_json', 'update_forward_refs', 'validate', 'x', 'y']\n"
     ]
    }
   ],
   "execution_count": 45,
   "source": [
    "print(dir(point1))\n",
    "print('-' * 80)\n",
    "print(dir(point2))"
   ],
   "id": "8159d56eba0f9a16"
  },
  {
   "metadata": {},
   "cell_type": "markdown",
   "source": [
    "This kind of difference can compound at scale. Prefer dataclasses to pydantic where you _do not_ need pydantic's powerful validation tooling.\n",
    "\n",
    "By the way: `dir` is just a cool lil function that either dumps the names in the current local scope, OR lists out all the attributes of an object. I like to use it as a fast and easy way to discover methods and fields on an object."
   ],
   "id": "fd4e34f873628f6b"
  },
  {
   "metadata": {
    "ExecuteTime": {
     "end_time": "2025-05-06T21:16:32.003107Z",
     "start_time": "2025-05-06T21:16:31.965399Z"
    }
   },
   "cell_type": "code",
   "source": [
    "\n",
    "PointV2(x=1, y=\"two\")  # dataclass would allow this at runtime"
   ],
   "id": "5bd2116e436c5e2c",
   "outputs": [
    {
     "ename": "ValidationError",
     "evalue": "1 validation error for PointV2\ny\n  Input should be a valid number, unable to parse string as a number [type=float_parsing, input_value='two', input_type=str]\n    For further information visit https://errors.pydantic.dev/2.11/v/float_parsing",
     "output_type": "error",
     "traceback": [
      "\u001B[0;31m---------------------------------------------------------------------------\u001B[0m",
      "\u001B[0;31mValidationError\u001B[0m                           Traceback (most recent call last)",
      "Cell \u001B[0;32mIn[70], line 3\u001B[0m\n\u001B[1;32m      1\u001B[0m \u001B[38;5;66;03m# Pydantic, of course, gives us some pretty strong RUNTIME validation\u001B[39;00m\n\u001B[0;32m----> 3\u001B[0m \u001B[43mPointV2\u001B[49m\u001B[43m(\u001B[49m\u001B[43mx\u001B[49m\u001B[38;5;241;43m=\u001B[39;49m\u001B[38;5;241;43m1\u001B[39;49m\u001B[43m,\u001B[49m\u001B[43m \u001B[49m\u001B[43my\u001B[49m\u001B[38;5;241;43m=\u001B[39;49m\u001B[38;5;124;43m\"\u001B[39;49m\u001B[38;5;124;43mtwo\u001B[39;49m\u001B[38;5;124;43m\"\u001B[39;49m\u001B[43m)\u001B[49m\n",
      "File \u001B[0;32m~/DataspellProjects/effective-python-notes/.venv/lib/python3.13/site-packages/pydantic/main.py:253\u001B[0m, in \u001B[0;36mBaseModel.__init__\u001B[0;34m(self, **data)\u001B[0m\n\u001B[1;32m    251\u001B[0m \u001B[38;5;66;03m# `__tracebackhide__` tells pytest and some other tools to omit this function from tracebacks\u001B[39;00m\n\u001B[1;32m    252\u001B[0m __tracebackhide__ \u001B[38;5;241m=\u001B[39m \u001B[38;5;28;01mTrue\u001B[39;00m\n\u001B[0;32m--> 253\u001B[0m validated_self \u001B[38;5;241m=\u001B[39m \u001B[38;5;28;43mself\u001B[39;49m\u001B[38;5;241;43m.\u001B[39;49m\u001B[43m__pydantic_validator__\u001B[49m\u001B[38;5;241;43m.\u001B[39;49m\u001B[43mvalidate_python\u001B[49m\u001B[43m(\u001B[49m\u001B[43mdata\u001B[49m\u001B[43m,\u001B[49m\u001B[43m \u001B[49m\u001B[43mself_instance\u001B[49m\u001B[38;5;241;43m=\u001B[39;49m\u001B[38;5;28;43mself\u001B[39;49m\u001B[43m)\u001B[49m\n\u001B[1;32m    254\u001B[0m \u001B[38;5;28;01mif\u001B[39;00m \u001B[38;5;28mself\u001B[39m \u001B[38;5;129;01mis\u001B[39;00m \u001B[38;5;129;01mnot\u001B[39;00m validated_self:\n\u001B[1;32m    255\u001B[0m     warnings\u001B[38;5;241m.\u001B[39mwarn(\n\u001B[1;32m    256\u001B[0m         \u001B[38;5;124m'\u001B[39m\u001B[38;5;124mA custom validator is returning a value other than `self`.\u001B[39m\u001B[38;5;130;01m\\n\u001B[39;00m\u001B[38;5;124m'\u001B[39m\n\u001B[1;32m    257\u001B[0m         \u001B[38;5;124m\"\u001B[39m\u001B[38;5;124mReturning anything other than `self` from a top level model validator isn\u001B[39m\u001B[38;5;124m'\u001B[39m\u001B[38;5;124mt supported when validating via `__init__`.\u001B[39m\u001B[38;5;130;01m\\n\u001B[39;00m\u001B[38;5;124m\"\u001B[39m\n\u001B[1;32m    258\u001B[0m         \u001B[38;5;124m'\u001B[39m\u001B[38;5;124mSee the `model_validator` docs (https://docs.pydantic.dev/latest/concepts/validators/#model-validators) for more details.\u001B[39m\u001B[38;5;124m'\u001B[39m,\n\u001B[1;32m    259\u001B[0m         stacklevel\u001B[38;5;241m=\u001B[39m\u001B[38;5;241m2\u001B[39m,\n\u001B[1;32m    260\u001B[0m     )\n",
      "\u001B[0;31mValidationError\u001B[0m: 1 validation error for PointV2\ny\n  Input should be a valid number, unable to parse string as a number [type=float_parsing, input_value='two', input_type=str]\n    For further information visit https://errors.pydantic.dev/2.11/v/float_parsing"
     ]
    }
   ],
   "execution_count": 70
  },
  {
   "metadata": {},
   "cell_type": "markdown",
   "source": [
    "# Item 52: Use `@classmethod` Polymorphism to Construct Objects Genericall\n",
    "Python only has __init__"
   ],
   "id": "4b8af642db8a572b"
  },
  {
   "metadata": {
    "ExecuteTime": {
     "end_time": "2025-05-09T05:29:48.893503Z",
     "start_time": "2025-05-09T05:29:48.889962Z"
    }
   },
   "cell_type": "code",
   "source": [
    "# First, a parent class for our mapreduce input data\n",
    "class InputData:\n",
    "    def read(self):\n",
    "        raise NotImplementedError\n",
    "\n",
    "# Second, a concrete impl\n",
    "class PathInputData(InputData):\n",
    "    def __init__(self, path):\n",
    "        super().__init__()\n",
    "        self.path = path\n",
    "\n",
    "    def read(self):\n",
    "        with open(self.path) as f:\n",
    "            return f.read()\n",
    "\n",
    "# Third, a worker\n",
    "class Worker:\n",
    "    def __init__(self, input_data):\n",
    "        self.input_data = input_data\n",
    "        self.result = None\n",
    "\n",
    "    def map(self):\n",
    "        raise NotImplementedError\n",
    "\n",
    "    def reduce(self, other):\n",
    "        raise NotImplementedError\n",
    "\n",
    "# Fourth, a concrete worker that counts lines in a file\n",
    "class LineCountWorker(Worker):\n",
    "    def map(self):\n",
    "        data = self.input_data.read()\n",
    "        self.result = data.count(\"\\n\")\n",
    "\n",
    "    def reduce(self, other):\n",
    "        self.result += other.result\n",
    "\n",
    "import os\n",
    "\n",
    "# FIFTH, a GENERATOR for inputs\n",
    "def generate_inputs(data_dir):\n",
    "    for name in os.listdir(data_dir):\n",
    "        yield PathInputData(os.path.join(data_dir, name))\n",
    "\n",
    "# Sixth, workers!\n",
    "def create_workers(input_list):\n",
    "    workers = []\n",
    "    for input_data in input_list:\n",
    "        workers.append(LineCountWorker(input_data))\n",
    "    return workers\n",
    "\n",
    "from threading import Thread\n",
    "\n",
    "# SEvEnTh, execute!\n",
    "def execute(workers):\n",
    "    threads = [Thread(target=w.map) for w in workers]\n",
    "    for thread in threads:\n",
    "        thread.start()\n",
    "    for thread in threads:\n",
    "        thread.join()\n",
    "\n",
    "    first, *rest = workers\n",
    "    for worker in rest:\n",
    "        first.reduce(worker)\n",
    "    return first.result"
   ],
   "id": "e905140c7925cca0",
   "outputs": [],
   "execution_count": 75
  },
  {
   "metadata": {
    "ExecuteTime": {
     "end_time": "2025-05-09T05:29:52.392055Z",
     "start_time": "2025-05-09T05:29:52.390502Z"
    }
   },
   "cell_type": "code",
   "source": [
    "# Tying it all together...\n",
    "def mapreduce(data_dir):\n",
    "    inputs = generate_inputs(data_dir)\n",
    "    workers = create_workers(inputs)\n",
    "    return execute(workers)\n",
    "\n",
    "# kinda iffy.. this mapreduce is _pretty specific_"
   ],
   "id": "dc82e525a0edade7",
   "outputs": [],
   "execution_count": 76
  },
  {
   "metadata": {
    "ExecuteTime": {
     "end_time": "2025-05-09T05:33:36.786246Z",
     "start_time": "2025-05-09T05:33:34.533740Z"
    }
   },
   "cell_type": "code",
   "source": [
    "import os\n",
    "import random\n",
    "from tempfile import TemporaryDirectory\n",
    "\n",
    "def write_test_files(tmpdir):\n",
    "    for i in range(10000):\n",
    "        with open(os.path.join(tmpdir, str(i)), \"w\") as f:\n",
    "            f.write(\"\\n\" * random.randint(0, 100))\n",
    "\n",
    "with TemporaryDirectory() as tmpdir:\n",
    "    print(\"MAKING TEST FILES!\")\n",
    "    write_test_files(tmpdir)\n",
    "\n",
    "    print(\"RUNNING MAPREDUCE!\")\n",
    "    result = mapreduce(tmpdir)\n",
    "    print(f\"There are {result} lines\")\n"
   ],
   "id": "e2e454bb9c4cfc5",
   "outputs": [
    {
     "name": "stdout",
     "output_type": "stream",
     "text": [
      "MAKING TEST FILES!\n",
      "RUNNING MAPREDUCE!\n",
      "There are 502154 lines\n"
     ]
    }
   ],
   "execution_count": 90
  },
  {
   "metadata": {},
   "cell_type": "markdown",
   "source": [
    "![](fry.jpg)\n",
    "Okay... so whats the problem?\n",
    "\n",
    "Well, this bad boy ain't generic at all. We made a mapreduce that only works for counting lines in a file; mapreduce is meant to be a _lot_ more generic than that."
   ],
   "id": "f91acbc495503982"
  },
  {
   "metadata": {
    "ExecuteTime": {
     "end_time": "2025-05-09T05:38:34.467611Z",
     "start_time": "2025-05-09T05:38:34.465800Z"
    }
   },
   "cell_type": "code",
   "source": [
    "# Let's generify this turd; Remember, Python only has __init__, so we can't just lean on polymorphic constructors.\n",
    "\n",
    "# BEHOLD, STATIC CONSTRUCTORS VIA CLASSMETHOD\n",
    "\n",
    "class GenericInputData:\n",
    "    def read(self):\n",
    "        raise NotImplementedError\n",
    "\n",
    "    @classmethod\n",
    "    def generate_inputs(cls, config):\n",
    "        raise NotImplementedError"
   ],
   "id": "854a16a4d60189b2",
   "outputs": [],
   "execution_count": 91
  },
  {
   "metadata": {
    "ExecuteTime": {
     "end_time": "2025-05-09T05:42:01.470480Z",
     "start_time": "2025-05-09T05:42:01.467398Z"
    }
   },
   "cell_type": "code",
   "source": [
    "# Mix up some concrete\n",
    "\n",
    "class PathInputData(GenericInputData):\n",
    "    def __init__(self, path):\n",
    "        super().__init__()\n",
    "        self.path = path\n",
    "\n",
    "    def read(self):\n",
    "        with open(self.path) as f:\n",
    "            return f.read()\n",
    "\n",
    "    @classmethod\n",
    "    def generate_inputs(cls, config):\n",
    "        data_dir = config[\"data_dir\"]\n",
    "        for name in os.listdir(data_dir):\n",
    "            yield cls(os.path.join(data_dir, name))\n",
    "\n",
    "class GenericWorker:\n",
    "    def __init__(self, input_data):\n",
    "        self.input_data = input_data\n",
    "        self.result = None\n",
    "\n",
    "    def map(self):\n",
    "        raise NotImplementedError\n",
    "\n",
    "    def reduce(self, other):\n",
    "        raise NotImplementedError\n",
    "\n",
    "    @classmethod\n",
    "    def create_workers(cls, input_class, config):\n",
    "        workers = []\n",
    "        for input_data in input_class.generate_inputs(config):  # SEE <--- DO YOU SEE?? No longer does the worker need deep knowledge of the construction of inputs\n",
    "            workers.append(cls(input_data))\n",
    "        return workers\n",
    "\n",
    "# Fourth, a concrete worker that counts lines in a file\n",
    "class LineCountWorker(GenericWorker):\n",
    "    def map(self):\n",
    "        data = self.input_data.read()\n",
    "        self.result = data.count(\"\\n\")\n",
    "\n",
    "    def reduce(self, other):\n",
    "        self.result += other.result\n",
    "\n",
    "    # nothing else changed"
   ],
   "id": "6bb392b8510688f",
   "outputs": [],
   "execution_count": 92
  },
  {
   "metadata": {
    "ExecuteTime": {
     "end_time": "2025-05-09T05:42:52.788095Z",
     "start_time": "2025-05-09T05:42:52.785422Z"
    }
   },
   "cell_type": "code",
   "source": [
    "# rewritten mapreduce\n",
    "def mapreduce(worker_class, input_class, config):\n",
    "    workers = worker_class.create_workers(input_class, config)\n",
    "    return execute(workers)"
   ],
   "id": "d73467112d0d0ec4",
   "outputs": [],
   "execution_count": 93
  },
  {
   "metadata": {
    "ExecuteTime": {
     "end_time": "2025-05-09T05:44:38.174201Z",
     "start_time": "2025-05-09T05:44:35.993938Z"
    }
   },
   "cell_type": "code",
   "source": [
    "with TemporaryDirectory() as tmpdir:\n",
    "    config = {\"data_dir\": tmpdir}\n",
    "    print(\"MAKING TEST FILES!\")\n",
    "    write_test_files(tmpdir)\n",
    "\n",
    "    print(\"RUNNING MAPREDUCE!\")\n",
    "    result = mapreduce(LineCountWorker, PathInputData, config)\n",
    "    print(f\"There are {result} lines\")\n"
   ],
   "id": "ad1e2d16bd645337",
   "outputs": [
    {
     "name": "stdout",
     "output_type": "stream",
     "text": [
      "MAKING TEST FILES!\n",
      "RUNNING MAPREDUCE!\n",
      "There are 496105 lines\n"
     ]
    }
   ],
   "execution_count": 97
  },
  {
   "metadata": {},
   "cell_type": "markdown",
   "source": [
    "Things to Remember\n",
    "\n",
    "- Python only supports a single constructor per class: the __init__ method.\n",
    "- Use @classmethod to define alternative constructors for your classes.\n",
    "- Use class method polymorphism to provide generic ways to build and connect many concrete subclasses."
   ],
   "id": "692ae424b97bc440"
  },
  {
   "metadata": {},
   "cell_type": "markdown",
   "source": "# Item 53: Initialize Parent Classes with super",
   "id": "b4baf59e8bdb3842"
  },
  {
   "metadata": {
    "ExecuteTime": {
     "end_time": "2025-05-09T05:46:36.641545Z",
     "start_time": "2025-05-09T05:46:36.639754Z"
    }
   },
   "cell_type": "code",
   "source": [
    "class MyBaseClass:\n",
    "    def __init__(self, value):\n",
    "        self.value = value\n",
    "\n",
    "class MyChildClass(MyBaseClass):\n",
    "    def __init__(self):\n",
    "        MyBaseClass.__init__(self, 5) # you may be tempted to do this."
   ],
   "id": "dde8e674765902ee",
   "outputs": [],
   "execution_count": 98
  },
  {
   "metadata": {
    "ExecuteTime": {
     "end_time": "2025-05-09T05:46:38.869592Z",
     "start_time": "2025-05-09T05:46:38.867737Z"
    }
   },
   "cell_type": "code",
   "source": [
    "class TimesTwo:\n",
    "    def __init__(self):\n",
    "        self.value *= 2\n",
    "\n",
    "class PlusFive:\n",
    "    def __init__(self):\n",
    "        self.value += 5"
   ],
   "id": "5e05161bca65d956",
   "outputs": [],
   "execution_count": 99
  },
  {
   "metadata": {
    "ExecuteTime": {
     "end_time": "2025-05-09T05:46:58.357079Z",
     "start_time": "2025-05-09T05:46:58.354953Z"
    }
   },
   "cell_type": "code",
   "source": [
    "class OneWay(MyBaseClass, TimesTwo, PlusFive):\n",
    "    def __init__(self, value):\n",
    "        MyBaseClass.__init__(self, value)\n",
    "        TimesTwo.__init__(self)\n",
    "        PlusFive.__init__(self)\n",
    "\n",
    "foo = OneWay(5)\n",
    "print(\"First ordering value is (5 * 2) + 5 =\", foo.value)"
   ],
   "id": "805a718681e9bd5f",
   "outputs": [
    {
     "name": "stdout",
     "output_type": "stream",
     "text": [
      "First ordering value is (5 * 2) + 5 = 15\n"
     ]
    }
   ],
   "execution_count": 100
  },
  {
   "metadata": {
    "ExecuteTime": {
     "end_time": "2025-05-09T05:47:38.198440Z",
     "start_time": "2025-05-09T05:47:38.195641Z"
    }
   },
   "cell_type": "code",
   "source": [
    "class OneWay(MyBaseClass, PlusFive, TimesTwo): # now we'd expect the order to be (5 + 5) * 2\n",
    "    def __init__(self, value):\n",
    "        MyBaseClass.__init__(self, value)\n",
    "        TimesTwo.__init__(self)\n",
    "        PlusFive.__init__(self)\n",
    "\n",
    "foo = OneWay(5)\n",
    "print(\"Second ordering should be (5 + 5) * 2, but is\", foo.value)"
   ],
   "id": "bc326f9873484cc7",
   "outputs": [
    {
     "name": "stdout",
     "output_type": "stream",
     "text": [
      "First ordering value is (5 * 2) + 5 = 15\n"
     ]
    }
   ],
   "execution_count": 101
  },
  {
   "metadata": {},
   "cell_type": "markdown",
   "source": "Why? We changed Arg order, but not call order in the `OneWay.__init__`",
   "id": "13f7eabfc0eaba67"
  },
  {
   "metadata": {
    "ExecuteTime": {
     "end_time": "2025-05-09T05:52:20.816231Z",
     "start_time": "2025-05-09T05:52:20.814043Z"
    }
   },
   "cell_type": "code",
   "source": [
    "# Diamond inheritance causes problems too\n",
    "class TimesSeven(MyBaseClass):\n",
    "    def __init__(self, value):\n",
    "        MyBaseClass.__init__(self, value)\n",
    "        self.value *= 7\n",
    "\n",
    "class PlusNine(MyBaseClass):\n",
    "    def __init__(self, value):\n",
    "        MyBaseClass.__init__(self, value)\n",
    "        self.value += 9\n",
    "\n",
    "class ThisWay(TimesSeven, PlusNine):\n",
    "    def __init__(self, value):\n",
    "        TimesSeven.__init__(self, value)\n",
    "        PlusNine.__init__(self, value)  # this _resets_ the value, instead of taking TimesSeven's output\n",
    "\n",
    "foo = ThisWay(5)\n",
    "print(\"Should be (5 * 7) + 9 = 44 but is\", foo.value, \"aka 5 + 9\")"
   ],
   "id": "64991e98fad2fc5f",
   "outputs": [
    {
     "name": "stdout",
     "output_type": "stream",
     "text": [
      "Should be (5 * 7) + 9 = 44 but is 14 aka 5 + 9\n"
     ]
    }
   ],
   "execution_count": 103
  },
  {
   "metadata": {
    "ExecuteTime": {
     "end_time": "2025-05-09T05:53:21.932870Z",
     "start_time": "2025-05-09T05:53:21.930169Z"
    }
   },
   "cell_type": "code",
   "source": [
    "# USE SUPER\n",
    "# Super makes sure common parents are initialized only once\n",
    "\n",
    "class TimesSevenCorrect(MyBaseClass):\n",
    "    def __init__(self, value):\n",
    "        super().__init__(value)\n",
    "        self.value *= 7\n",
    "\n",
    "class PlusNineCorrect(MyBaseClass):\n",
    "    def __init__(self, value):\n",
    "        super().__init__(value)\n",
    "        self.value += 9"
   ],
   "id": "fdfe806d48cac369",
   "outputs": [],
   "execution_count": 104
  },
  {
   "metadata": {
    "ExecuteTime": {
     "end_time": "2025-05-09T05:54:44.940545Z",
     "start_time": "2025-05-09T05:54:44.938587Z"
    }
   },
   "cell_type": "code",
   "source": [
    "class GoodWay(TimesSevenCorrect, PlusNineCorrect):\n",
    "    def __init__(self, value):\n",
    "        super().__init__(value)\n",
    "\n",
    "foo = GoodWay(5)\n",
    "print(\"Should be 7 * (5 + 9) = 98 and is\", foo.value)\n",
    "mro_str = \"\\n\".join(repr(cls) for cls in GoodWay.__mro__)\n",
    "print(mro_str)\n",
    "\n",
    "# mro lets us see the method resolution order, aka, what order inits were called.\n"
   ],
   "id": "3ceb4f7bdacebc3b",
   "outputs": [
    {
     "name": "stdout",
     "output_type": "stream",
     "text": [
      "Should be 7 * (5 + 9) = 98 and is 98\n",
      "<class '__main__.GoodWay'>\n",
      "<class '__main__.TimesSevenCorrect'>\n",
      "<class '__main__.PlusNineCorrect'>\n",
      "<class '__main__.MyBaseClass'>\n",
      "<class 'object'>\n"
     ]
    }
   ],
   "execution_count": 108
  },
  {
   "metadata": {
    "ExecuteTime": {
     "end_time": "2025-05-09T06:11:49.915005Z",
     "start_time": "2025-05-09T06:11:49.913491Z"
    }
   },
   "cell_type": "code",
   "source": [
    "# Once the top of the diamond is reached, the inits actually do work in the opposite order of how they were called.\n",
    "\n",
    "# super also avoids pitfalls of renaming classes!\n",
    "\n",
    "# But anyway this is all moot because multiple inheritance is pain, and we're going to look at a different way."
   ],
   "id": "9343b2b5e86e1d9c",
   "outputs": [],
   "execution_count": 109
  },
  {
   "metadata": {},
   "cell_type": "markdown",
   "source": [
    "# Item 54: Consider Composing Functionality with Mix-in Classes\n",
    "All the convenience and encapsulation of multiple inheritance, without the suffering!\n",
    "\n",
    "> A mix-in is a class that defines only a small set of additional methods for its child classes to provide. Mix-in classes don’t define their own instance attributes or require their __init__ constructor to be called."
   ],
   "id": "1b3c450479ffd5a7"
  },
  {
   "metadata": {
    "ExecuteTime": {
     "end_time": "2025-05-09T06:16:41.122080Z",
     "start_time": "2025-05-09T06:16:41.119661Z"
    }
   },
   "cell_type": "code",
   "source": [
    "# The book example is really good\n",
    "\n",
    "class ToDictMixin:\n",
    "    \"\"\"A mixin class that provides a to_dict method.\"\"\"\n",
    "    def to_dict(self):\n",
    "        return self._traverse_dict(self.__dict__)\n",
    "\n",
    "    def _traverse_dict(self, instance_dict):\n",
    "        output = {}\n",
    "        for key, value in instance_dict.items():\n",
    "            output[key] = self._traverse(key, value)\n",
    "        return output\n",
    "\n",
    "    def _traverse(self, key, value):\n",
    "        if isinstance(value, ToDictMixin):\n",
    "            return value.to_dict()\n",
    "        elif isinstance(value, dict):\n",
    "            return self._traverse_dict(value)\n",
    "        elif isinstance(value, list):\n",
    "            return [self._traverse(key, i) for i in value]\n",
    "        elif hasattr(value, \"__dict__\"):\n",
    "            return self._traverse_dict(value.__dict__)\n",
    "        else:\n",
    "            return value"
   ],
   "id": "cc7055b3aef51953",
   "outputs": [],
   "execution_count": 110
  },
  {
   "metadata": {
    "ExecuteTime": {
     "end_time": "2025-05-09T06:17:07.461402Z",
     "start_time": "2025-05-09T06:17:07.459411Z"
    }
   },
   "cell_type": "code",
   "source": [
    "# lets use it!\n",
    "class BinaryTree(ToDictMixin):\n",
    "    def __init__(self, value, left=None, right=None):\n",
    "        self.value = value\n",
    "        self.left = left\n",
    "        self.right = right\n",
    "\n",
    "tree = BinaryTree(\n",
    "    10,\n",
    "    left=BinaryTree(7, right=BinaryTree(9)),\n",
    "    right=BinaryTree(13, left=BinaryTree(11)),\n",
    ")\n",
    "print(tree.to_dict()) # BEHOLD"
   ],
   "id": "e719285b8b9d1ff2",
   "outputs": [
    {
     "name": "stdout",
     "output_type": "stream",
     "text": [
      "{'value': 10, 'left': {'value': 7, 'left': None, 'right': {'value': 9, 'left': None, 'right': None}}, 'right': {'value': 13, 'left': {'value': 11, 'left': None, 'right': None}, 'right': None}}\n"
     ]
    }
   ],
   "execution_count": 111
  },
  {
   "metadata": {
    "ExecuteTime": {
     "end_time": "2025-05-09T06:20:52.866579Z",
     "start_time": "2025-05-09T06:20:52.139052Z"
    }
   },
   "cell_type": "code",
   "source": [
    "class BinaryTreeWithParent(BinaryTree):\n",
    "    def __init__(\n",
    "        self,\n",
    "        value,\n",
    "        left=None,\n",
    "        right=None,\n",
    "        parent=None,\n",
    "    ):\n",
    "        super().__init__(value, left=left, right=right)\n",
    "        self.parent = parent\n",
    "\n",
    "\n",
    "root = BinaryTreeWithParent(10)\n",
    "root.left = BinaryTreeWithParent(7, parent=root)\n",
    "root.left.right = BinaryTreeWithParent(9, parent=root.left)\n",
    "print(root.to_dict())"
   ],
   "id": "5f3d7e19b8f4439c",
   "outputs": [
    {
     "ename": "RecursionError",
     "evalue": "maximum recursion depth exceeded",
     "output_type": "error",
     "traceback": [
      "\u001B[0;31m---------------------------------------------------------------------------\u001B[0m",
      "\u001B[0;31mRecursionError\u001B[0m                            Traceback (most recent call last)",
      "Cell \u001B[0;32mIn[116], line 16\u001B[0m\n\u001B[1;32m     14\u001B[0m root\u001B[38;5;241m.\u001B[39mleft \u001B[38;5;241m=\u001B[39m BinaryTreeWithParent(\u001B[38;5;241m7\u001B[39m, parent\u001B[38;5;241m=\u001B[39mroot)\n\u001B[1;32m     15\u001B[0m root\u001B[38;5;241m.\u001B[39mleft\u001B[38;5;241m.\u001B[39mright \u001B[38;5;241m=\u001B[39m BinaryTreeWithParent(\u001B[38;5;241m9\u001B[39m, parent\u001B[38;5;241m=\u001B[39mroot\u001B[38;5;241m.\u001B[39mleft)\n\u001B[0;32m---> 16\u001B[0m \u001B[38;5;28mprint\u001B[39m(\u001B[43mroot\u001B[49m\u001B[38;5;241;43m.\u001B[39;49m\u001B[43mto_dict\u001B[49m\u001B[43m(\u001B[49m\u001B[43m)\u001B[49m)\n",
      "Cell \u001B[0;32mIn[110], line 6\u001B[0m, in \u001B[0;36mToDictMixin.to_dict\u001B[0;34m(self)\u001B[0m\n\u001B[1;32m      5\u001B[0m \u001B[38;5;28;01mdef\u001B[39;00m\u001B[38;5;250m \u001B[39m\u001B[38;5;21mto_dict\u001B[39m(\u001B[38;5;28mself\u001B[39m):\n\u001B[0;32m----> 6\u001B[0m     \u001B[38;5;28;01mreturn\u001B[39;00m \u001B[38;5;28;43mself\u001B[39;49m\u001B[38;5;241;43m.\u001B[39;49m\u001B[43m_traverse_dict\u001B[49m\u001B[43m(\u001B[49m\u001B[38;5;28;43mself\u001B[39;49m\u001B[38;5;241;43m.\u001B[39;49m\u001B[38;5;18;43m__dict__\u001B[39;49m\u001B[43m)\u001B[49m\n",
      "Cell \u001B[0;32mIn[110], line 11\u001B[0m, in \u001B[0;36mToDictMixin._traverse_dict\u001B[0;34m(self, instance_dict)\u001B[0m\n\u001B[1;32m      9\u001B[0m output \u001B[38;5;241m=\u001B[39m {}\n\u001B[1;32m     10\u001B[0m \u001B[38;5;28;01mfor\u001B[39;00m key, value \u001B[38;5;129;01min\u001B[39;00m instance_dict\u001B[38;5;241m.\u001B[39mitems():\n\u001B[0;32m---> 11\u001B[0m     output[key] \u001B[38;5;241m=\u001B[39m \u001B[38;5;28;43mself\u001B[39;49m\u001B[38;5;241;43m.\u001B[39;49m\u001B[43m_traverse\u001B[49m\u001B[43m(\u001B[49m\u001B[43mkey\u001B[49m\u001B[43m,\u001B[49m\u001B[43m \u001B[49m\u001B[43mvalue\u001B[49m\u001B[43m)\u001B[49m\n\u001B[1;32m     12\u001B[0m \u001B[38;5;28;01mreturn\u001B[39;00m output\n",
      "Cell \u001B[0;32mIn[110], line 16\u001B[0m, in \u001B[0;36mToDictMixin._traverse\u001B[0;34m(self, key, value)\u001B[0m\n\u001B[1;32m     14\u001B[0m \u001B[38;5;28;01mdef\u001B[39;00m\u001B[38;5;250m \u001B[39m\u001B[38;5;21m_traverse\u001B[39m(\u001B[38;5;28mself\u001B[39m, key, value):\n\u001B[1;32m     15\u001B[0m     \u001B[38;5;28;01mif\u001B[39;00m \u001B[38;5;28misinstance\u001B[39m(value, ToDictMixin):\n\u001B[0;32m---> 16\u001B[0m         \u001B[38;5;28;01mreturn\u001B[39;00m \u001B[43mvalue\u001B[49m\u001B[38;5;241;43m.\u001B[39;49m\u001B[43mto_dict\u001B[49m\u001B[43m(\u001B[49m\u001B[43m)\u001B[49m\n\u001B[1;32m     17\u001B[0m     \u001B[38;5;28;01melif\u001B[39;00m \u001B[38;5;28misinstance\u001B[39m(value, \u001B[38;5;28mdict\u001B[39m):\n\u001B[1;32m     18\u001B[0m         \u001B[38;5;28;01mreturn\u001B[39;00m \u001B[38;5;28mself\u001B[39m\u001B[38;5;241m.\u001B[39m_traverse_dict(value)\n",
      "Cell \u001B[0;32mIn[110], line 6\u001B[0m, in \u001B[0;36mToDictMixin.to_dict\u001B[0;34m(self)\u001B[0m\n\u001B[1;32m      5\u001B[0m \u001B[38;5;28;01mdef\u001B[39;00m\u001B[38;5;250m \u001B[39m\u001B[38;5;21mto_dict\u001B[39m(\u001B[38;5;28mself\u001B[39m):\n\u001B[0;32m----> 6\u001B[0m     \u001B[38;5;28;01mreturn\u001B[39;00m \u001B[38;5;28;43mself\u001B[39;49m\u001B[38;5;241;43m.\u001B[39;49m\u001B[43m_traverse_dict\u001B[49m\u001B[43m(\u001B[49m\u001B[38;5;28;43mself\u001B[39;49m\u001B[38;5;241;43m.\u001B[39;49m\u001B[38;5;18;43m__dict__\u001B[39;49m\u001B[43m)\u001B[49m\n",
      "Cell \u001B[0;32mIn[110], line 11\u001B[0m, in \u001B[0;36mToDictMixin._traverse_dict\u001B[0;34m(self, instance_dict)\u001B[0m\n\u001B[1;32m      9\u001B[0m output \u001B[38;5;241m=\u001B[39m {}\n\u001B[1;32m     10\u001B[0m \u001B[38;5;28;01mfor\u001B[39;00m key, value \u001B[38;5;129;01min\u001B[39;00m instance_dict\u001B[38;5;241m.\u001B[39mitems():\n\u001B[0;32m---> 11\u001B[0m     output[key] \u001B[38;5;241m=\u001B[39m \u001B[38;5;28;43mself\u001B[39;49m\u001B[38;5;241;43m.\u001B[39;49m\u001B[43m_traverse\u001B[49m\u001B[43m(\u001B[49m\u001B[43mkey\u001B[49m\u001B[43m,\u001B[49m\u001B[43m \u001B[49m\u001B[43mvalue\u001B[49m\u001B[43m)\u001B[49m\n\u001B[1;32m     12\u001B[0m \u001B[38;5;28;01mreturn\u001B[39;00m output\n",
      "Cell \u001B[0;32mIn[110], line 16\u001B[0m, in \u001B[0;36mToDictMixin._traverse\u001B[0;34m(self, key, value)\u001B[0m\n\u001B[1;32m     14\u001B[0m \u001B[38;5;28;01mdef\u001B[39;00m\u001B[38;5;250m \u001B[39m\u001B[38;5;21m_traverse\u001B[39m(\u001B[38;5;28mself\u001B[39m, key, value):\n\u001B[1;32m     15\u001B[0m     \u001B[38;5;28;01mif\u001B[39;00m \u001B[38;5;28misinstance\u001B[39m(value, ToDictMixin):\n\u001B[0;32m---> 16\u001B[0m         \u001B[38;5;28;01mreturn\u001B[39;00m \u001B[43mvalue\u001B[49m\u001B[38;5;241;43m.\u001B[39;49m\u001B[43mto_dict\u001B[49m\u001B[43m(\u001B[49m\u001B[43m)\u001B[49m\n\u001B[1;32m     17\u001B[0m     \u001B[38;5;28;01melif\u001B[39;00m \u001B[38;5;28misinstance\u001B[39m(value, \u001B[38;5;28mdict\u001B[39m):\n\u001B[1;32m     18\u001B[0m         \u001B[38;5;28;01mreturn\u001B[39;00m \u001B[38;5;28mself\u001B[39m\u001B[38;5;241m.\u001B[39m_traverse_dict(value)\n",
      "    \u001B[0;31m[... skipping similar frames: ToDictMixin.to_dict at line 6 (990 times), ToDictMixin._traverse at line 16 (989 times), ToDictMixin._traverse_dict at line 11 (989 times)]\u001B[0m\n",
      "Cell \u001B[0;32mIn[110], line 11\u001B[0m, in \u001B[0;36mToDictMixin._traverse_dict\u001B[0;34m(self, instance_dict)\u001B[0m\n\u001B[1;32m      9\u001B[0m output \u001B[38;5;241m=\u001B[39m {}\n\u001B[1;32m     10\u001B[0m \u001B[38;5;28;01mfor\u001B[39;00m key, value \u001B[38;5;129;01min\u001B[39;00m instance_dict\u001B[38;5;241m.\u001B[39mitems():\n\u001B[0;32m---> 11\u001B[0m     output[key] \u001B[38;5;241m=\u001B[39m \u001B[38;5;28;43mself\u001B[39;49m\u001B[38;5;241;43m.\u001B[39;49m\u001B[43m_traverse\u001B[49m\u001B[43m(\u001B[49m\u001B[43mkey\u001B[49m\u001B[43m,\u001B[49m\u001B[43m \u001B[49m\u001B[43mvalue\u001B[49m\u001B[43m)\u001B[49m\n\u001B[1;32m     12\u001B[0m \u001B[38;5;28;01mreturn\u001B[39;00m output\n",
      "Cell \u001B[0;32mIn[110], line 16\u001B[0m, in \u001B[0;36mToDictMixin._traverse\u001B[0;34m(self, key, value)\u001B[0m\n\u001B[1;32m     14\u001B[0m \u001B[38;5;28;01mdef\u001B[39;00m\u001B[38;5;250m \u001B[39m\u001B[38;5;21m_traverse\u001B[39m(\u001B[38;5;28mself\u001B[39m, key, value):\n\u001B[1;32m     15\u001B[0m     \u001B[38;5;28;01mif\u001B[39;00m \u001B[38;5;28misinstance\u001B[39m(value, ToDictMixin):\n\u001B[0;32m---> 16\u001B[0m         \u001B[38;5;28;01mreturn\u001B[39;00m \u001B[43mvalue\u001B[49m\u001B[38;5;241;43m.\u001B[39;49m\u001B[43mto_dict\u001B[49m\u001B[43m(\u001B[49m\u001B[43m)\u001B[49m\n\u001B[1;32m     17\u001B[0m     \u001B[38;5;28;01melif\u001B[39;00m \u001B[38;5;28misinstance\u001B[39m(value, \u001B[38;5;28mdict\u001B[39m):\n\u001B[1;32m     18\u001B[0m         \u001B[38;5;28;01mreturn\u001B[39;00m \u001B[38;5;28mself\u001B[39m\u001B[38;5;241m.\u001B[39m_traverse_dict(value)\n",
      "Cell \u001B[0;32mIn[110], line 6\u001B[0m, in \u001B[0;36mToDictMixin.to_dict\u001B[0;34m(self)\u001B[0m\n\u001B[1;32m      5\u001B[0m \u001B[38;5;28;01mdef\u001B[39;00m\u001B[38;5;250m \u001B[39m\u001B[38;5;21mto_dict\u001B[39m(\u001B[38;5;28mself\u001B[39m):\n\u001B[0;32m----> 6\u001B[0m     \u001B[38;5;28;01mreturn\u001B[39;00m \u001B[38;5;28;43mself\u001B[39;49m\u001B[38;5;241;43m.\u001B[39;49m\u001B[43m_traverse_dict\u001B[49m\u001B[43m(\u001B[49m\u001B[38;5;28;43mself\u001B[39;49m\u001B[38;5;241;43m.\u001B[39;49m\u001B[38;5;18;43m__dict__\u001B[39;49m\u001B[43m)\u001B[49m\n",
      "\u001B[0;31mRecursionError\u001B[0m: maximum recursion depth exceeded"
     ]
    }
   ],
   "execution_count": 116
  },
  {
   "metadata": {
    "ExecuteTime": {
     "end_time": "2025-05-09T06:22:01.662020Z",
     "start_time": "2025-05-09T06:22:01.659795Z"
    }
   },
   "cell_type": "code",
   "source": [
    "# Whoops!\n",
    "\n",
    "# Well, hey, with Mix-Ins, its easy to fix! We have _very_ pluggable behavior:\n",
    "\n",
    "class BinaryTreeWithParent(BinaryTree):\n",
    "    def __init__(\n",
    "        self,\n",
    "        value,\n",
    "        left=None,\n",
    "        right=None,\n",
    "        parent=None,\n",
    "    ):\n",
    "        super().__init__(value, left=left, right=right)\n",
    "        self.parent = parent\n",
    "\n",
    "    def _traverse(self, key, value): # override the _traverse FROM THE MIX IN to avoid the cyclic dependency\n",
    "        if (\n",
    "            isinstance(value, BinaryTreeWithParent)\n",
    "            and key == \"parent\"\n",
    "        ):\n",
    "            return value.value  # Prevent cycles\n",
    "        else:\n",
    "            return super()._traverse(key, value)"
   ],
   "id": "919650856823fe17",
   "outputs": [],
   "execution_count": 117
  },
  {
   "metadata": {
    "ExecuteTime": {
     "end_time": "2025-05-09T06:22:02.698314Z",
     "start_time": "2025-05-09T06:22:02.696320Z"
    }
   },
   "cell_type": "code",
   "source": [
    "root = BinaryTreeWithParent(10)\n",
    "root.left = BinaryTreeWithParent(7, parent=root)\n",
    "root.left.right = BinaryTreeWithParent(9, parent=root.left)\n",
    "print(root.to_dict())"
   ],
   "id": "d677b29bbdcf5313",
   "outputs": [
    {
     "name": "stdout",
     "output_type": "stream",
     "text": [
      "{'value': 10, 'left': {'value': 7, 'left': None, 'right': {'value': 9, 'left': None, 'right': None, 'parent': 7}, 'parent': 10}, 'right': None, 'parent': None}\n"
     ]
    }
   ],
   "execution_count": 118
  },
  {
   "metadata": {},
   "cell_type": "markdown",
   "source": [
    "Brief aside for Java: instead of getting shared behavior via `abstract` in Java, use default interfaces! Java 8+ interfaces provide mixin behavior.\n",
    "\n",
    "There is virtually no reason to use `abstract` in Java since 2013. STOP IT.  (I mean... unless you have a good reason)"
   ],
   "id": "c4c2e49e3e51be7d"
  },
  {
   "metadata": {
    "ExecuteTime": {
     "end_time": "2025-05-09T06:26:13.073897Z",
     "start_time": "2025-05-09T06:26:13.071967Z"
    }
   },
   "cell_type": "code",
   "source": [
    "# you can compose mixins! WOW\n",
    "import json\n",
    "\n",
    "class JsonMixin:\n",
    "    @classmethod\n",
    "    def from_json(cls, data):\n",
    "        kwargs = json.loads(data)\n",
    "        return cls(**kwargs)\n",
    "\n",
    "    def to_json(self):\n",
    "        return json.dumps(self.to_dict()) # DO YOU SEE????"
   ],
   "id": "157634039558e499",
   "outputs": [],
   "execution_count": 119
  },
  {
   "metadata": {
    "ExecuteTime": {
     "end_time": "2025-05-09T06:27:03.105464Z",
     "start_time": "2025-05-09T06:27:03.102507Z"
    }
   },
   "cell_type": "code",
   "source": [
    "class DatacenterRack(ToDictMixin, JsonMixin):\n",
    "    def __init__(self, switch=None, machines=None):\n",
    "        self.switch = Switch(**switch)\n",
    "        self.machines = [\n",
    "            Machine(**kwargs) for kwargs in machines]\n",
    "\n",
    "class Switch(ToDictMixin, JsonMixin):\n",
    "    def __init__(self, ports=None, speed=None):\n",
    "        self.ports = ports\n",
    "        self.speed = speed\n",
    "\n",
    "class Machine(ToDictMixin, JsonMixin):\n",
    "    def __init__(self, cores=None, ram=None, disk=None):\n",
    "        self.cores = cores\n",
    "        self.ram = ram\n",
    "        self.disk = disk"
   ],
   "id": "75512bc606110507",
   "outputs": [],
   "execution_count": 120
  },
  {
   "metadata": {
    "ExecuteTime": {
     "end_time": "2025-05-09T06:27:03.957057Z",
     "start_time": "2025-05-09T06:27:03.955255Z"
    }
   },
   "cell_type": "code",
   "source": [
    "serialized = \"\"\"{\n",
    "    \"switch\": {\"ports\": 5, \"speed\": 1e9},\n",
    "    \"machines\": [\n",
    "        {\"cores\": 8, \"ram\": 32e9, \"disk\": 5e12},\n",
    "        {\"cores\": 4, \"ram\": 16e9, \"disk\": 1e12},\n",
    "        {\"cores\": 2, \"ram\": 4e9, \"disk\": 500e9}\n",
    "    ]\n",
    "}\"\"\"\n",
    "\n",
    "deserialized = DatacenterRack.from_json(serialized)\n",
    "roundtrip = deserialized.to_json()\n",
    "assert json.loads(serialized) == json.loads(roundtrip)\n",
    "\n",
    "# Mixins are the bees knees"
   ],
   "id": "17acc25b849bfb65",
   "outputs": [],
   "execution_count": 121
  },
  {
   "metadata": {},
   "cell_type": "code",
   "outputs": [],
   "execution_count": null,
   "source": "",
   "id": "ca7d327cd37ce214"
  }
 ],
 "metadata": {
  "kernelspec": {
   "display_name": "Python 3 (ipykernel)",
   "language": "python",
   "name": "python3"
  },
  "language_info": {
   "codemirror_mode": {
    "name": "ipython",
    "version": 3
   },
   "file_extension": ".py",
   "mimetype": "text/x-python",
   "name": "python",
   "nbconvert_exporter": "python",
   "pygments_lexer": "ipython3",
   "version": "3.13.2"
  }
 },
 "nbformat": 4,
 "nbformat_minor": 5
}
