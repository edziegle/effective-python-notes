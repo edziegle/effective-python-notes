{
 "cells": [
  {
   "cell_type": "markdown",
   "id": "ede869bf-dcc2-493d-9d04-7d2ae47eb6b2",
   "metadata": {},
   "source": [
    "# Chapter 7: Classes and Interfaces"
   ]
  },
  {
   "cell_type": "markdown",
   "id": "08817d33-3162-4f47-98f8-073705926ce4",
   "metadata": {},
   "source": [
    "# Item 48: Accept Functions Instead of Classes for Simple Interfaces\n",
    "Sometimes a class is too much man. Python treats functions as first-class citizens, and sometimes passing a function is enough.\n",
    "\n",
    "Python's `list` has a sort method that takes a function, behold"
   ]
  },
  {
   "cell_type": "code",
   "execution_count": 2,
   "id": "b9ad3a18-bd11-4f0f-bc6b-24cd7163eb46",
   "metadata": {},
   "outputs": [
    {
     "data": {
      "text/plain": [
       "['Luke', 'Jimmy', 'Blake', 'Andrew']"
      ]
     },
     "execution_count": 2,
     "metadata": {},
     "output_type": "execute_result"
    }
   ],
   "source": [
    "names = [\"Jimmy\", \"Andrew\", \"Luke\", \"Blake\"]\n",
    "names.sort(key=len)\n",
    "names"
   ]
  },
  {
   "cell_type": "markdown",
   "id": "39219d20-ecb3-4782-8617-d6c6d9fc9740",
   "metadata": {},
   "source": [
    "We passed the `len` function to the interface. This told the list to sort from shortest to longest name!\n",
    "\n",
    "In Java we would have to make a class to do this same thing:\n",
    "```java\n",
    "class SortByLength implements Comparator<String> \n",
    "{    \n",
    "    public int compare(String a, String b) {\n",
    "        return a.length() < b.length();\n",
    "    }\n",
    "}\n",
    "\n",
    "// OR\n",
    "\n",
    "names.sort((first, second) -> Integer.compare(first.length(), second.length())\n",
    "```"
   ]
  },
  {
   "metadata": {},
   "cell_type": "markdown",
   "source": [
    "### Hooks\n",
    "this type of interaction in programming is called a \"hook\""
   ],
   "id": "c8b139b15bbbe42"
  },
  {
   "metadata": {
    "ExecuteTime": {
     "end_time": "2025-05-06T19:46:30.483747Z",
     "start_time": "2025-05-06T19:46:30.481423Z"
    }
   },
   "cell_type": "code",
   "source": [
    "# I have a defaultdict, but I want to emit a log message every time a missing key is encountered. Behold the power of HOOKS!\n",
    "\n",
    "def log_missing():\n",
    "    print(\"key added!\")\n",
    "    return 0\n",
    "\n",
    "\n",
    "from collections import defaultdict\n",
    "\n",
    "some_dict = {\"green\": 12, \"blue\": 3}\n",
    "\n",
    "defaulted_dict = defaultdict(log_missing, some_dict)\n",
    "\n",
    "defaulted_dict[\"green\"] += 3\n",
    "defaulted_dict[\"red\"] += 5\n",
    "defaulted_dict[\"blue\"] += 7\n",
    "dict(defaulted_dict)"
   ],
   "id": "ecddf00298bd82fa",
   "outputs": [
    {
     "name": "stdout",
     "output_type": "stream",
     "text": [
      "key added!\n"
     ]
    },
    {
     "data": {
      "text/plain": [
       "{'green': 15, 'blue': 10, 'red': 5}"
      ]
     },
     "execution_count": 4,
     "metadata": {},
     "output_type": "execute_result"
    }
   ],
   "execution_count": 4
  },
  {
   "metadata": {},
   "cell_type": "markdown",
   "source": [
    "### But why do this?\n",
    "This basically gives you a clean way to trigger side-effects and keep them separate from your deterministic behavior."
   ],
   "id": "94d90874ea4659d0"
  },
  {
   "metadata": {
    "ExecuteTime": {
     "end_time": "2025-05-06T19:50:54.519007Z",
     "start_time": "2025-05-06T19:50:54.515497Z"
    }
   },
   "cell_type": "code",
   "source": [
    "missed = 0\n",
    "\n",
    "\n",
    "def count_missing():\n",
    "    global missed  # remember nonlocal?\n",
    "    missed += 1\n",
    "    return 0\n",
    "\n",
    "\n",
    "dict2 = defaultdict(count_missing, some_dict)\n",
    "dict2[\"green\"] += 3\n",
    "dict2[\"orange\"] += 2\n",
    "dict2[\"purple\"] += 1\n",
    "\n",
    "print(missed)"
   ],
   "id": "5f8a64f94b19b43a",
   "outputs": [
    {
     "name": "stdout",
     "output_type": "stream",
     "text": [
      "2\n"
     ]
    }
   ],
   "execution_count": 7
  },
  {
   "metadata": {},
   "cell_type": "markdown",
   "source": [
    "Anyway, this is the power of first-class functions. Without this, you'd have to modify/extend `defaultdict` to get this behavior.\n",
    "\n",
    "Lets do that example again, but without the gross `global` for state management."
   ],
   "id": "4f55f1a7a79fd513"
  },
  {
   "metadata": {
    "ExecuteTime": {
     "end_time": "2025-05-06T19:53:46.796895Z",
     "start_time": "2025-05-06T19:53:46.793955Z"
    }
   },
   "cell_type": "code",
   "source": [
    "class Counterater:\n",
    "    def __init__(self):\n",
    "        self.missed = 0\n",
    "\n",
    "    def __call__(self):\n",
    "        self.missed += 1\n",
    "        return 0\n",
    "\n",
    "\n",
    "my_cool_counter = Counterater()\n",
    "\n",
    "dict2 = defaultdict(my_cool_counter,\n",
    "                    some_dict)  # though I used __call__, you can also pass a class instance's method too.\n",
    "dict2[\"green\"] += 3\n",
    "dict2[\"orange\"] += 2\n",
    "dict2[\"purple\"] += 1\n",
    "\n",
    "my_cool_counter.missed"
   ],
   "id": "569ecb129a283eb7",
   "outputs": [
    {
     "data": {
      "text/plain": [
       "2"
      ]
     },
     "execution_count": 9,
     "metadata": {},
     "output_type": "execute_result"
    }
   ],
   "execution_count": 9
  },
  {
   "metadata": {},
   "cell_type": "markdown",
   "source": [
    "### SURPRISE QUIZ: wtf is `__call__`?!\n",
    "![spongebob.png](spongebob.png)\n",
    "\n",
    "### Remember\n",
    "Python functions are first-class, and thus allow composition, chaining, hooks, etc. Though a class to handle all the above may be a natural instinct, its not necessary in python."
   ],
   "id": "626fdc5f5cb217bb"
  },
  {
   "metadata": {},
   "cell_type": "markdown",
   "source": [
    "# Item 49: Prefer Object-Oriented Polymorphism over Functions with `isinstance` Checks\n",
    "TODO: sassy comment"
   ],
   "id": "b663d8ab22a5803d"
  },
  {
   "metadata": {
    "ExecuteTime": {
     "end_time": "2025-05-06T20:12:52.709213Z",
     "start_time": "2025-05-06T20:12:52.706590Z"
    }
   },
   "cell_type": "code",
   "source": [
    "# IN THIS EXAMPLE: building an AST for a pocket calculator\n",
    "class Integer:\n",
    "    def __init__(self, value):\n",
    "        self.value = value\n",
    "\n",
    "\n",
    "class Add:\n",
    "    def __init__(self, left, right):\n",
    "        self.left = left\n",
    "        self.right = right\n",
    "\n",
    "\n",
    "class Multiply:\n",
    "    def __init__(self, left, right):\n",
    "        self.left = left\n",
    "        self.right = right\n",
    "\n",
    "\n",
    "tree = Add(Integer(1), Integer(2))"
   ],
   "id": "fdf0f128d837601c",
   "outputs": [],
   "execution_count": 12
  },
  {
   "metadata": {
    "ExecuteTime": {
     "end_time": "2025-05-06T20:13:28.508236Z",
     "start_time": "2025-05-06T20:13:28.505211Z"
    }
   },
   "cell_type": "code",
   "source": [
    "# We've got a tree... now what?\n",
    "# EVAL THAT TREE BABY\n",
    "\n",
    "def evaluate(node):\n",
    "    if isinstance(node, Integer):\n",
    "        return node.value\n",
    "    elif isinstance(node, Add):\n",
    "        return evaluate(node.left) + evaluate(node.right)\n",
    "    elif isinstance(node, Multiply):\n",
    "        return evaluate(node.left) * evaluate(node.right)\n",
    "    else:\n",
    "        raise NotImplementedError"
   ],
   "id": "2aee146ac3ec057d",
   "outputs": [],
   "execution_count": 14
  },
  {
   "metadata": {
    "ExecuteTime": {
     "end_time": "2025-05-06T20:15:23.733070Z",
     "start_time": "2025-05-06T20:15:23.730850Z"
    }
   },
   "cell_type": "code",
   "source": [
    "print(evaluate(tree))\n",
    "print(evaluate(Add(Integer(11), Integer(22))))\n",
    "print(evaluate(\n",
    "    Add(Multiply(Integer(2), Integer(2)), Integer(22))))  # it even supports arbitrary nesting, since it's recursive!"
   ],
   "id": "6598da23fabfb10e",
   "outputs": [
    {
     "name": "stdout",
     "output_type": "stream",
     "text": [
      "3\n",
      "33\n",
      "26\n"
     ]
    }
   ],
   "execution_count": 18
  },
  {
   "metadata": {},
   "cell_type": "markdown",
   "source": [
    "Works great! But imagine we wanted to make our AST much bigger than just Add and Multiply? Gosh that `if..elif` structure would get pretty huge...\n",
    "\n",
    "Let's make this more OOP-y"
   ],
   "id": "6f32c946bed6becc"
  },
  {
   "metadata": {
    "ExecuteTime": {
     "end_time": "2025-05-06T20:18:50.345168Z",
     "start_time": "2025-05-06T20:18:50.342665Z"
    }
   },
   "cell_type": "code",
   "source": [
    "class Node:\n",
    "    def evaluate(self):\n",
    "        raise NotImplementedError\n",
    "\n",
    "\n",
    "class IntegerNode(Node):\n",
    "    def __init__(self, value):\n",
    "        self.value = value\n",
    "\n",
    "    def evaluate(self):\n",
    "        return self.value\n",
    "\n",
    "\n",
    "class AddNode(Node):\n",
    "    def __init__(self, left, right):\n",
    "        self.left = left\n",
    "        self.right = right\n",
    "\n",
    "    def evaluate(self):\n",
    "        return self.left.evaluate() + self.right.evaluate()\n",
    "\n",
    "\n",
    "class MultiplyNode(Node):\n",
    "    def __init__(self, left, right):\n",
    "        self.left = left\n",
    "        self.right = right\n",
    "\n",
    "    def evaluate(self):\n",
    "        return self.left.evaluate() * self.right.evaluate()"
   ],
   "id": "2bb71c208c13ce9c",
   "outputs": [],
   "execution_count": 19
  },
  {
   "metadata": {
    "ExecuteTime": {
     "end_time": "2025-05-06T20:19:05.921571Z",
     "start_time": "2025-05-06T20:19:05.918716Z"
    }
   },
   "cell_type": "code",
   "source": [
    "tree = AddNode(IntegerNode(1), IntegerNode(2))\n",
    "tree.evaluate()"
   ],
   "id": "aa378f82ae9c48f5",
   "outputs": [
    {
     "data": {
      "text/plain": [
       "3"
      ]
     },
     "execution_count": 21,
     "metadata": {},
     "output_type": "execute_result"
    }
   ],
   "execution_count": 21
  },
  {
   "metadata": {},
   "cell_type": "markdown",
   "source": "This allows polymorphic extension later via abstracts etc. Though, it's easy for this to become its own maintenance nightmare. Care and consideration should be had!",
   "id": "e455e94413fd314b"
  },
  {
   "metadata": {},
   "cell_type": "markdown",
   "source": "# Item 50: Consider `functools.singledispatch` for Functional-Style Programming Instead of Polymorphism",
   "id": "e5b6dc3c3edfd637"
  },
  {
   "metadata": {
    "ExecuteTime": {
     "end_time": "2025-05-06T20:26:01.484928Z",
     "start_time": "2025-05-06T20:26:01.480452Z"
    }
   },
   "cell_type": "code",
   "source": [
    "# Time to add pretty printing to that calculator!\n",
    "\n",
    "class NodeAlt:\n",
    "    def evaluate(self):\n",
    "        raise NotImplementedError\n",
    "\n",
    "    def pretty(self):\n",
    "        raise NotImplementedError\n",
    "\n",
    "\n",
    "class IntegerNodeAlt(NodeAlt):\n",
    "    def __init__(self, value):\n",
    "        self.value = value\n",
    "\n",
    "    def evaluate(self):\n",
    "        return self.value\n",
    "\n",
    "    def pretty(self):\n",
    "        return repr(self.value)\n",
    "\n",
    "\n",
    "class AddNodeAlt(NodeAlt):\n",
    "    def __init__(self, left, right):\n",
    "        self.left = left\n",
    "        self.right = right\n",
    "\n",
    "    def evaluate(self):\n",
    "        return self.left.evaluate() + self.right.evaluate()\n",
    "\n",
    "    def pretty(self):\n",
    "        left_str = self.left.pretty()\n",
    "        right_str = self.right.pretty()\n",
    "        return f\"({left_str} + {right_str})\"\n",
    "\n",
    "\n",
    "class MultiplyNodeAlt(NodeAlt):\n",
    "    def __init__(self, left, right):\n",
    "        self.left = left\n",
    "        self.right = right\n",
    "\n",
    "    def evaluate(self):\n",
    "        return self.left.evaluate() * self.right.evaluate()\n",
    "\n",
    "    def pretty(self):\n",
    "        left_str = self.left.pretty()\n",
    "        right_str = self.right.pretty()\n",
    "        return f\"({left_str} * {right_str})\""
   ],
   "id": "202dc34526e63d4a",
   "outputs": [],
   "execution_count": 22
  },
  {
   "metadata": {
    "ExecuteTime": {
     "end_time": "2025-05-06T20:26:09.619098Z",
     "start_time": "2025-05-06T20:26:09.616060Z"
    }
   },
   "cell_type": "code",
   "source": [
    "tree = MultiplyNodeAlt(\n",
    "    AddNodeAlt(IntegerNodeAlt(3), IntegerNodeAlt(5)),\n",
    "    AddNodeAlt(IntegerNodeAlt(4), IntegerNodeAlt(7)),\n",
    ")\n",
    "tree.pretty()"
   ],
   "id": "6e0d06020174b153",
   "outputs": [
    {
     "data": {
      "text/plain": [
       "'((3 + 5) * (4 + 7))'"
      ]
     },
     "execution_count": 24,
     "metadata": {},
     "output_type": "execute_result"
    }
   ],
   "execution_count": 24
  },
  {
   "metadata": {},
   "cell_type": "markdown",
   "source": [
    "Do you see where this can go wrong? What If I need to add 30 different methods to `NodeAlt`? I have to update EVERY SINGLE INHERITOR! BOO! That sucks!!!\n",
    "\n",
    "As a fun aside: Effective Java also talks about this exact problem, and urges programmers to use `abstract` sparringly."
   ],
   "id": "78fc0a3e51a65bbc"
  },
  {
   "metadata": {
    "ExecuteTime": {
     "end_time": "2025-05-06T20:38:43.441545Z",
     "start_time": "2025-05-06T20:38:43.439169Z"
    }
   },
   "cell_type": "code",
   "source": [
    "# Single Dispatch to the rescue!\n",
    "from functools import singledispatch\n",
    "\n",
    "\n",
    "@singledispatch\n",
    "def pretty(value):\n",
    "    raise NotImplementedError"
   ],
   "id": "5016c36d99b03ce4",
   "outputs": [],
   "execution_count": 31
  },
  {
   "metadata": {},
   "cell_type": "markdown",
   "source": "Single-dispatch is a functional technique that lets you basically add behavior to a class without modifying it. The function above will be treated as the function of last resort, if nothing else can be found.",
   "id": "7629538219d79888"
  },
  {
   "metadata": {
    "ExecuteTime": {
     "end_time": "2025-05-06T20:38:44.573103Z",
     "start_time": "2025-05-06T20:38:44.570927Z"
    }
   },
   "cell_type": "code",
   "source": [
    "@pretty.register(int)\n",
    "def _(value):  # note the name, _ basically means \"the name doesn't matter\"\n",
    "    return repr(value)\n",
    "\n",
    "\n",
    "@pretty.register(float)\n",
    "def _(value):\n",
    "    return f\"{value:.2f}\""
   ],
   "id": "131018a176baebe",
   "outputs": [],
   "execution_count": 32
  },
  {
   "metadata": {
    "ExecuteTime": {
     "end_time": "2025-05-06T20:38:46.054769Z",
     "start_time": "2025-05-06T20:38:46.052196Z"
    }
   },
   "cell_type": "code",
   "source": [
    "print(pretty(3.141592653589793))\n",
    "print(pretty(3))"
   ],
   "id": "ff2dbb0683645dc5",
   "outputs": [
    {
     "name": "stdout",
     "output_type": "stream",
     "text": [
      "3.14\n",
      "3\n"
     ]
    }
   ],
   "execution_count": 33
  },
  {
   "metadata": {
    "ExecuteTime": {
     "end_time": "2025-05-06T20:39:25.838843Z",
     "start_time": "2025-05-06T20:39:25.833881Z"
    }
   },
   "cell_type": "code",
   "source": [
    "# Lets redo the AST\n",
    "\n",
    "@singledispatch\n",
    "def evaluate(node):\n",
    "    raise NotImplementedError\n",
    "\n",
    "\n",
    "class Integer:\n",
    "    def __init__(self, value):\n",
    "        self.value = value\n",
    "\n",
    "\n",
    "class BinaryOp:\n",
    "    def __init__(self, left, right):\n",
    "        self.left = left\n",
    "        self.right = right\n",
    "\n",
    "\n",
    "class Add(BinaryOp):\n",
    "    def __init__(self, left, right):\n",
    "        super().__init__(left, right)\n",
    "\n",
    "\n",
    "class Multiply(BinaryOp):\n",
    "    def __init__(self, left, right):\n",
    "        super().__init__(left, right)\n",
    "\n",
    "\n",
    "@evaluate.register(Integer)\n",
    "def _(node):\n",
    "    return node.value\n",
    "\n",
    "\n",
    "@evaluate.register(Add)\n",
    "def _(node):\n",
    "    return evaluate(node.left) + evaluate(node.right)\n",
    "\n",
    "\n",
    "@evaluate.register(Multiply)\n",
    "def _(node):\n",
    "    return evaluate(node.left) * evaluate(node.right)\n",
    "\n",
    "# HEY DONT FORGET PRETTY~\n",
    "@pretty.register(Integer)\n",
    "def _(node):\n",
    "    return repr(node.value)\n",
    "\n",
    "@pretty.register(Add)\n",
    "def _(node):\n",
    "    left_str = pretty(node.left)\n",
    "    right_str = pretty(node.right)\n",
    "    return f\"({left_str} + {right_str})\"\n",
    "\n",
    "@pretty.register(Multiply)\n",
    "def _(node):\n",
    "    left_str = pretty(node.left)\n",
    "    right_str = pretty(node.right)\n",
    "    return f\"({left_str} * {right_str})\""
   ],
   "id": "d4b632f434ec0b04",
   "outputs": [],
   "execution_count": 35
  },
  {
   "metadata": {
    "ExecuteTime": {
     "end_time": "2025-05-06T20:39:33.865350Z",
     "start_time": "2025-05-06T20:39:33.863650Z"
    }
   },
   "cell_type": "code",
   "source": [
    "tree = Multiply(Add(Integer(1), Integer(2)), Add(Integer(3), Integer(4)))\n",
    "print(evaluate(tree))\n",
    "print(pretty(tree))"
   ],
   "id": "feeadb51f91febfe",
   "outputs": [
    {
     "name": "stdout",
     "output_type": "stream",
     "text": [
      "21\n",
      "((1 + 2) * (3 + 4))\n"
     ]
    }
   ],
   "execution_count": 36
  },
  {
   "metadata": {},
   "cell_type": "markdown",
   "source": "An immediate benefit of this, is how the dispatch works with sub-classing.",
   "id": "9495285c0802a8a9"
  },
  {
   "metadata": {
    "ExecuteTime": {
     "end_time": "2025-05-06T20:40:54.736820Z",
     "start_time": "2025-05-06T20:40:54.733212Z"
    }
   },
   "cell_type": "code",
   "source": [
    "class PositiveInteger(Integer):\n",
    "    def __init__(self, value):\n",
    "        if value < 0:\n",
    "            raise ValueError(\"value must be positive\")\n",
    "        super().__init__(value)\n",
    "\n",
    "pretty(PositiveInteger(3))"
   ],
   "id": "6cb8c71871876c36",
   "outputs": [
    {
     "data": {
      "text/plain": [
       "'3'"
      ]
     },
     "execution_count": 37,
     "metadata": {},
     "output_type": "execute_result"
    }
   ],
   "execution_count": 37
  },
  {
   "metadata": {},
   "cell_type": "markdown",
   "source": "However, things get harder when we create a brand new class",
   "id": "9da8c364b25bf780"
  },
  {
   "metadata": {
    "ExecuteTime": {
     "end_time": "2025-05-06T20:41:51.391030Z",
     "start_time": "2025-05-06T20:41:51.368580Z"
    }
   },
   "cell_type": "code",
   "source": [
    "class Float:\n",
    "    def __init__(self, value):\n",
    "        self.value = value\n",
    "\n",
    "pretty(Float(3.141592653589793))"
   ],
   "id": "c0b6eabd3cb16a50",
   "outputs": [
    {
     "ename": "NotImplementedError",
     "evalue": "",
     "output_type": "error",
     "traceback": [
      "\u001B[0;31m---------------------------------------------------------------------------\u001B[0m",
      "\u001B[0;31mNotImplementedError\u001B[0m                       Traceback (most recent call last)",
      "Cell \u001B[0;32mIn[38], line 5\u001B[0m\n\u001B[1;32m      2\u001B[0m     \u001B[38;5;28;01mdef\u001B[39;00m\u001B[38;5;250m \u001B[39m\u001B[38;5;21m__init__\u001B[39m(\u001B[38;5;28mself\u001B[39m, value):\n\u001B[1;32m      3\u001B[0m         \u001B[38;5;28mself\u001B[39m\u001B[38;5;241m.\u001B[39mvalue \u001B[38;5;241m=\u001B[39m value\n\u001B[0;32m----> 5\u001B[0m \u001B[43mpretty\u001B[49m\u001B[43m(\u001B[49m\u001B[43mFloat\u001B[49m\u001B[43m(\u001B[49m\u001B[38;5;241;43m3.141592653589793\u001B[39;49m\u001B[43m)\u001B[49m\u001B[43m)\u001B[49m\n",
      "File \u001B[0;32m/opt/homebrew/Cellar/python@3.13/3.13.2/Frameworks/Python.framework/Versions/3.13/lib/python3.13/functools.py:934\u001B[0m, in \u001B[0;36msingledispatch.<locals>.wrapper\u001B[0;34m(*args, **kw)\u001B[0m\n\u001B[1;32m    931\u001B[0m \u001B[38;5;28;01mif\u001B[39;00m \u001B[38;5;129;01mnot\u001B[39;00m args:\n\u001B[1;32m    932\u001B[0m     \u001B[38;5;28;01mraise\u001B[39;00m \u001B[38;5;167;01mTypeError\u001B[39;00m(\u001B[38;5;124mf\u001B[39m\u001B[38;5;124m'\u001B[39m\u001B[38;5;132;01m{\u001B[39;00mfuncname\u001B[38;5;132;01m}\u001B[39;00m\u001B[38;5;124m requires at least \u001B[39m\u001B[38;5;124m'\u001B[39m\n\u001B[1;32m    933\u001B[0m                     \u001B[38;5;124m'\u001B[39m\u001B[38;5;124m1 positional argument\u001B[39m\u001B[38;5;124m'\u001B[39m)\n\u001B[0;32m--> 934\u001B[0m \u001B[38;5;28;01mreturn\u001B[39;00m \u001B[43mdispatch\u001B[49m\u001B[43m(\u001B[49m\u001B[43margs\u001B[49m\u001B[43m[\u001B[49m\u001B[38;5;241;43m0\u001B[39;49m\u001B[43m]\u001B[49m\u001B[38;5;241;43m.\u001B[39;49m\u001B[38;5;18;43m__class__\u001B[39;49m\u001B[43m)\u001B[49m\u001B[43m(\u001B[49m\u001B[38;5;241;43m*\u001B[39;49m\u001B[43margs\u001B[49m\u001B[43m,\u001B[49m\u001B[43m \u001B[49m\u001B[38;5;241;43m*\u001B[39;49m\u001B[38;5;241;43m*\u001B[39;49m\u001B[43mkw\u001B[49m\u001B[43m)\u001B[49m\n",
      "Cell \u001B[0;32mIn[31], line 7\u001B[0m, in \u001B[0;36mpretty\u001B[0;34m(value)\u001B[0m\n\u001B[1;32m      5\u001B[0m \u001B[38;5;129m@singledispatch\u001B[39m\n\u001B[1;32m      6\u001B[0m \u001B[38;5;28;01mdef\u001B[39;00m\u001B[38;5;250m \u001B[39m\u001B[38;5;21mpretty\u001B[39m(value):\n\u001B[0;32m----> 7\u001B[0m     \u001B[38;5;28;01mraise\u001B[39;00m \u001B[38;5;167;01mNotImplementedError\u001B[39;00m\n",
      "\u001B[0;31mNotImplementedError\u001B[0m: "
     ]
    }
   ],
   "execution_count": 38
  },
  {
   "metadata": {},
   "cell_type": "markdown",
   "source": [
    "This is a trade-off.\n",
    "- Polymorphism: easy to add new classes, PITA to add new behavior across classes.\n",
    "- Single Dispatch: easy to add new behavior across classes, PITA to add new classes.\n",
    "\n",
    "From experience, the former is the *bigger* PITA. Single dispatch allows classes themselves to remain much simpler, and allows you as the programmer, to have independent systems with their own behaviors, use those classes without polluting them.\n",
    "\n",
    "To solidify: look at Video Center and `abstract`; this is polymorphism, and it's awful. A single change causes cascading maintenance headaches everywhere. As a result, changes are seldom made, and the code-base has aged horribly.\n",
    "\n",
    "But polymorphism still makes sense in smaller contexts, or fairly self-contained contexts, where the classes don't need to be shared across system boundaries."
   ],
   "id": "69022129566ff531"
  },
  {
   "metadata": {},
   "cell_type": "markdown",
   "source": "# Item 51: Prefer `dataclasses` for Defining Lightweight Classes",
   "id": "fdf2ecc51590fea"
  },
  {
   "metadata": {
    "ExecuteTime": {
     "end_time": "2025-05-06T21:01:54.099373Z",
     "start_time": "2025-05-06T21:01:54.096074Z"
    }
   },
   "cell_type": "code",
   "source": [
    "# dataclasses are pretty cool\n",
    "from dataclasses import dataclass\n",
    "\n",
    "@dataclass\n",
    "class MyRGB:\n",
    "    red: int\n",
    "    green: int\n",
    "    blue: int\n",
    "\n",
    "# They enforce order\n",
    "color1 = MyRGB(1, 2, 3)\n",
    "color2 = MyRGB(red=1, green=2, blue=3)\n",
    "\n",
    "# They allow type checking! (a linter would catch this)\n",
    "color1.red = \"two\""
   ],
   "id": "2d3170852b1467a4",
   "outputs": [],
   "execution_count": 51
  },
  {
   "metadata": {
    "ExecuteTime": {
     "end_time": "2025-05-06T21:02:26.045010Z",
     "start_time": "2025-05-06T21:02:26.037200Z"
    }
   },
   "cell_type": "code",
   "source": [
    "# heck we can force the user to name their args\n",
    "@dataclass(kw_only=True)\n",
    "class MyRGB:\n",
    "    red: int\n",
    "    green: int\n",
    "    blue: int\n",
    "\n",
    "MyRGB(1, 2, 3)"
   ],
   "id": "91d445b3d7724b2d",
   "outputs": [
    {
     "ename": "TypeError",
     "evalue": "MyRGB.__init__() takes 1 positional argument but 4 were given",
     "output_type": "error",
     "traceback": [
      "\u001B[0;31m---------------------------------------------------------------------------\u001B[0m",
      "\u001B[0;31mTypeError\u001B[0m                                 Traceback (most recent call last)",
      "Cell \u001B[0;32mIn[55], line 8\u001B[0m\n\u001B[1;32m      5\u001B[0m     green: \u001B[38;5;28mint\u001B[39m\n\u001B[1;32m      6\u001B[0m     blue: \u001B[38;5;28mint\u001B[39m\n\u001B[0;32m----> 8\u001B[0m \u001B[43mMyRGB\u001B[49m\u001B[43m(\u001B[49m\u001B[38;5;241;43m1\u001B[39;49m\u001B[43m,\u001B[49m\u001B[43m \u001B[49m\u001B[38;5;241;43m2\u001B[39;49m\u001B[43m,\u001B[49m\u001B[43m \u001B[49m\u001B[38;5;241;43m3\u001B[39;49m\u001B[43m)\u001B[49m\n",
      "\u001B[0;31mTypeError\u001B[0m: MyRGB.__init__() takes 1 positional argument but 4 were given"
     ]
    }
   ],
   "execution_count": 55
  },
  {
   "metadata": {
    "ExecuteTime": {
     "end_time": "2025-05-06T21:02:22.955276Z",
     "start_time": "2025-05-06T21:02:22.952538Z"
    }
   },
   "cell_type": "code",
   "source": "MyRGB(red=1, green=2, blue=3)",
   "id": "d68083d946899db4",
   "outputs": [
    {
     "data": {
      "text/plain": [
       "MyRGB(red=1, green=2, blue=3)"
      ]
     },
     "execution_count": 54,
     "metadata": {},
     "output_type": "execute_result"
    }
   ],
   "execution_count": 54
  },
  {
   "metadata": {
    "ExecuteTime": {
     "end_time": "2025-05-06T21:07:42.554529Z",
     "start_time": "2025-05-06T21:07:42.552939Z"
    }
   },
   "cell_type": "code",
   "source": [
    "# We also get functioning comparisons!\n",
    "print(color1 == color2)\n",
    "print(MyRGB(red=1, green=2, blue=3) == MyRGB(red=1, green=2, blue=3))"
   ],
   "id": "5931ba7dfb7f4579",
   "outputs": [
    {
     "name": "stdout",
     "output_type": "stream",
     "text": [
      "False\n",
      "True\n"
     ]
    }
   ],
   "execution_count": 60
  },
  {
   "metadata": {
    "ExecuteTime": {
     "end_time": "2025-05-06T21:14:37.466777Z",
     "start_time": "2025-05-06T21:14:37.464649Z"
    }
   },
   "cell_type": "code",
   "source": [
    "# Want a dictionary? You got it pal\n",
    "from dataclasses import asdict\n",
    "asdict(color1)"
   ],
   "id": "94133863abdc519c",
   "outputs": [
    {
     "data": {
      "text/plain": [
       "{'red': 1, 'green': 2, 'blue': 3}"
      ]
     },
     "execution_count": 68,
     "metadata": {},
     "output_type": "execute_result"
    }
   ],
   "execution_count": 68
  },
  {
   "metadata": {
    "ExecuteTime": {
     "end_time": "2025-05-06T21:11:07.243059Z",
     "start_time": "2025-05-06T21:11:07.232680Z"
    }
   },
   "cell_type": "code",
   "source": [
    "# Complicated ordering\n",
    "class Planet:\n",
    "    def __init__(self, distance, size):\n",
    "        self.distance = distance\n",
    "        self.size = size\n",
    "\n",
    "    def __repr__(self):\n",
    "        return (\n",
    "            f\"{type(self).__module__}\"\n",
    "            f\"{type(self).__name__}(\"\n",
    "            f\"distance={self.distance}, \"\n",
    "            f\"size={self.size})\"\n",
    "        )\n",
    "\n",
    "far = Planet(10, 5) # planet size 5, 10 away from us\n",
    "near = Planet(1, 2) # planet size 2, 1 away from us\n",
    "data = [far, near]\n",
    "# This is going to fail because python doesn't know how to compare planets!\n",
    "data.sort()"
   ],
   "id": "bc22fbf9e1a7920c",
   "outputs": [
    {
     "ename": "TypeError",
     "evalue": "'<' not supported between instances of 'Planet' and 'Planet'",
     "output_type": "error",
     "traceback": [
      "\u001B[0;31m---------------------------------------------------------------------------\u001B[0m",
      "\u001B[0;31mTypeError\u001B[0m                                 Traceback (most recent call last)",
      "Cell \u001B[0;32mIn[62], line 19\u001B[0m\n\u001B[1;32m     17\u001B[0m data \u001B[38;5;241m=\u001B[39m [far, near]\n\u001B[1;32m     18\u001B[0m \u001B[38;5;66;03m# This is going to fail, because python doesn't know how to compare planets!\u001B[39;00m\n\u001B[0;32m---> 19\u001B[0m \u001B[43mdata\u001B[49m\u001B[38;5;241;43m.\u001B[39;49m\u001B[43msort\u001B[49m\u001B[43m(\u001B[49m\u001B[43m)\u001B[49m\n",
      "\u001B[0;31mTypeError\u001B[0m: '<' not supported between instances of 'Planet' and 'Planet'"
     ]
    }
   ],
   "execution_count": 62
  },
  {
   "metadata": {
    "ExecuteTime": {
     "end_time": "2025-05-06T21:11:32.666340Z",
     "start_time": "2025-05-06T21:11:32.662879Z"
    }
   },
   "cell_type": "code",
   "source": [
    "# In order to make them comparable, we'll need to add the _astuple helper\n",
    "class Planet:\n",
    "    ...\n",
    "\n",
    "    def _astuple(self):\n",
    "        return (self.distance, self.size)\n",
    "\n",
    "    def __eq__(self, other):\n",
    "        return (\n",
    "            type(self) == type(other)\n",
    "            and self._astuple() == other._astuple()\n",
    "        )\n",
    "\n",
    "    def __lt__(self, other):\n",
    "        if type(self) != type(other):\n",
    "            return NotImplemented\n",
    "        return self._astuple() < other._astuple()\n",
    "\n",
    "    def __le__(self, other):\n",
    "        if type(self) != type(other):\n",
    "            return NotImplemented\n",
    "        return self._astuple() <= other._astuple()\n",
    "\n",
    "    def __gt__(self, other):\n",
    "        if type(self) != type(other):\n",
    "            return NotImplemented\n",
    "        return self._astuple() > other._astuple()\n",
    "\n",
    "    def __ge__(self, other):\n",
    "        if type(self) != type(other):\n",
    "            return NotImplemented\n",
    "        return self._astuple() >= other._astuple()"
   ],
   "id": "b42be7e8585a9a65",
   "outputs": [],
   "execution_count": 63
  },
  {
   "metadata": {
    "ExecuteTime": {
     "end_time": "2025-05-06T21:12:44.427078Z",
     "start_time": "2025-05-06T21:12:44.424537Z"
    }
   },
   "cell_type": "code",
   "source": [
    "# Oh boy.. thats a lot.. Dataclasses you got anything for us?!\n",
    "@dataclass(order=True)\n",
    "class DataclassPlanet:\n",
    "    distance: float\n",
    "    size: float\n",
    "\n",
    "far2 = DataclassPlanet(10, 2)\n",
    "near2 = DataclassPlanet(1, 5)\n",
    "print(far2 > near2)\n",
    "print(near2 < far2)\n",
    "\n",
    "data = [far2, near2]\n",
    "data.sort()\n",
    "data"
   ],
   "id": "b926b712263b5fc3",
   "outputs": [
    {
     "name": "stdout",
     "output_type": "stream",
     "text": [
      "True\n",
      "True\n"
     ]
    },
    {
     "data": {
      "text/plain": [
       "[DataclassPlanet(distance=1, size=5), DataclassPlanet(distance=10, size=2)]"
      ]
     },
     "execution_count": 66,
     "metadata": {},
     "output_type": "execute_result"
    }
   ],
   "execution_count": 66
  },
  {
   "metadata": {},
   "cell_type": "markdown",
   "source": [
    "As you can see, `dataclass` is _pretty cool_. A possible Java equivalent might be Lombok's `Data` annotation.\n",
    "\n",
    "Think of it as a boilerplate slayer."
   ],
   "id": "b58b055ea11e34b0"
  },
  {
   "metadata": {
    "ExecuteTime": {
     "end_time": "2025-05-06T21:15:45.982863Z",
     "start_time": "2025-05-06T21:15:45.978580Z"
    }
   },
   "cell_type": "code",
   "source": [
    "# What about Pydantic?\n",
    "# Pydantic is good stuff. Let's see how it compares to dataclasses.\n",
    "\n",
    "import sys\n",
    "from pydantic import BaseModel\n",
    "\n",
    "@dataclass\n",
    "class PointV1:\n",
    "    x: float\n",
    "    y: float\n",
    "\n",
    "class PointV2(BaseModel):\n",
    "    x: float\n",
    "    y: float\n",
    "\n",
    "point1 = PointV1(1, 2)\n",
    "point2 = PointV2(x=1, y=2)\n",
    "print(\"The dataclass is\", sys.getsizeof(point1), \"bytes\")\n",
    "print(\"The pydantic model is\", sys.getsizeof(point2), \"bytes\")"
   ],
   "id": "fe03d1453b5fe39a",
   "outputs": [
    {
     "name": "stdout",
     "output_type": "stream",
     "text": [
      "The dataclass is 48 bytes\n",
      "The pydantic model is 72 bytes\n"
     ]
    }
   ],
   "execution_count": 69
  },
  {
   "metadata": {},
   "cell_type": "code",
   "outputs": [
    {
     "name": "stdout",
     "output_type": "stream",
     "text": [
      "['__annotations__', '__class__', '__dataclass_fields__', '__dataclass_params__', '__delattr__', '__dict__', '__dir__', '__doc__', '__eq__', '__firstlineno__', '__format__', '__ge__', '__getattribute__', '__getstate__', '__gt__', '__hash__', '__init__', '__init_subclass__', '__le__', '__lt__', '__match_args__', '__module__', '__ne__', '__new__', '__reduce__', '__reduce_ex__', '__replace__', '__repr__', '__setattr__', '__sizeof__', '__static_attributes__', '__str__', '__subclasshook__', '__weakref__', 'x', 'y']\n",
      "--------------------------------------------------------------------------------\n",
      "['__abstractmethods__', '__annotations__', '__class__', '__class_getitem__', '__class_vars__', '__copy__', '__deepcopy__', '__delattr__', '__dict__', '__dir__', '__doc__', '__eq__', '__fields__', '__fields_set__', '__firstlineno__', '__format__', '__ge__', '__get_pydantic_core_schema__', '__get_pydantic_json_schema__', '__getattr__', '__getattribute__', '__getstate__', '__gt__', '__hash__', '__init__', '__init_subclass__', '__iter__', '__le__', '__lt__', '__module__', '__ne__', '__new__', '__pretty__', '__private_attributes__', '__pydantic_complete__', '__pydantic_computed_fields__', '__pydantic_core_schema__', '__pydantic_custom_init__', '__pydantic_decorators__', '__pydantic_extra__', '__pydantic_fields__', '__pydantic_fields_set__', '__pydantic_generic_metadata__', '__pydantic_init_subclass__', '__pydantic_parent_namespace__', '__pydantic_post_init__', '__pydantic_private__', '__pydantic_root_model__', '__pydantic_serializer__', '__pydantic_setattr_handlers__', '__pydantic_validator__', '__reduce__', '__reduce_ex__', '__replace__', '__repr__', '__repr_args__', '__repr_name__', '__repr_recursion__', '__repr_str__', '__rich_repr__', '__setattr__', '__setstate__', '__signature__', '__sizeof__', '__slots__', '__static_attributes__', '__str__', '__subclasshook__', '__weakref__', '_abc_impl', '_calculate_keys', '_copy_and_set_values', '_get_value', '_iter', '_setattr_handler', 'construct', 'copy', 'dict', 'from_orm', 'json', 'model_computed_fields', 'model_config', 'model_construct', 'model_copy', 'model_dump', 'model_dump_json', 'model_extra', 'model_fields', 'model_fields_set', 'model_json_schema', 'model_parametrized_name', 'model_post_init', 'model_rebuild', 'model_validate', 'model_validate_json', 'model_validate_strings', 'parse_file', 'parse_obj', 'parse_raw', 'schema', 'schema_json', 'update_forward_refs', 'validate', 'x', 'y']\n"
     ]
    }
   ],
   "execution_count": 45,
   "source": [
    "# Why is pydantic bigger? Well there's just a lot more to a Pydntic model than a dataclass. DIR EM:\n",
    "print(dir(point1))\n",
    "print('-' * 80)\n",
    "print(dir(point2))"
   ],
   "id": "8159d56eba0f9a16"
  },
  {
   "metadata": {},
   "cell_type": "markdown",
   "source": [
    "This kind of difference can compound at scale. Prefer dataclasses to pydantic where you _do not_ need pydantic's powerful validation tooling.\n",
    "\n",
    "By the way: `dir` is just a cool lil function that either dumps the names in the current local scope, OR lists out all the attributes of an object. I like to use it as a fast and easy way to discover methods and fields on an object."
   ],
   "id": "fd4e34f873628f6b"
  },
  {
   "metadata": {
    "ExecuteTime": {
     "end_time": "2025-05-06T21:16:32.003107Z",
     "start_time": "2025-05-06T21:16:31.965399Z"
    }
   },
   "cell_type": "code",
   "source": [
    "# Pydantic, of course, gives us some pretty strong RUNTIME validation\n",
    "\n",
    "PointV2(x=1, y=\"two\")  # dataclass would allow this at runtime"
   ],
   "id": "5bd2116e436c5e2c",
   "outputs": [
    {
     "ename": "ValidationError",
     "evalue": "1 validation error for PointV2\ny\n  Input should be a valid number, unable to parse string as a number [type=float_parsing, input_value='two', input_type=str]\n    For further information visit https://errors.pydantic.dev/2.11/v/float_parsing",
     "output_type": "error",
     "traceback": [
      "\u001B[0;31m---------------------------------------------------------------------------\u001B[0m",
      "\u001B[0;31mValidationError\u001B[0m                           Traceback (most recent call last)",
      "Cell \u001B[0;32mIn[70], line 3\u001B[0m\n\u001B[1;32m      1\u001B[0m \u001B[38;5;66;03m# Pydantic, of course, gives us some pretty strong RUNTIME validation\u001B[39;00m\n\u001B[0;32m----> 3\u001B[0m \u001B[43mPointV2\u001B[49m\u001B[43m(\u001B[49m\u001B[43mx\u001B[49m\u001B[38;5;241;43m=\u001B[39;49m\u001B[38;5;241;43m1\u001B[39;49m\u001B[43m,\u001B[49m\u001B[43m \u001B[49m\u001B[43my\u001B[49m\u001B[38;5;241;43m=\u001B[39;49m\u001B[38;5;124;43m\"\u001B[39;49m\u001B[38;5;124;43mtwo\u001B[39;49m\u001B[38;5;124;43m\"\u001B[39;49m\u001B[43m)\u001B[49m\n",
      "File \u001B[0;32m~/DataspellProjects/effective-python-notes/.venv/lib/python3.13/site-packages/pydantic/main.py:253\u001B[0m, in \u001B[0;36mBaseModel.__init__\u001B[0;34m(self, **data)\u001B[0m\n\u001B[1;32m    251\u001B[0m \u001B[38;5;66;03m# `__tracebackhide__` tells pytest and some other tools to omit this function from tracebacks\u001B[39;00m\n\u001B[1;32m    252\u001B[0m __tracebackhide__ \u001B[38;5;241m=\u001B[39m \u001B[38;5;28;01mTrue\u001B[39;00m\n\u001B[0;32m--> 253\u001B[0m validated_self \u001B[38;5;241m=\u001B[39m \u001B[38;5;28;43mself\u001B[39;49m\u001B[38;5;241;43m.\u001B[39;49m\u001B[43m__pydantic_validator__\u001B[49m\u001B[38;5;241;43m.\u001B[39;49m\u001B[43mvalidate_python\u001B[49m\u001B[43m(\u001B[49m\u001B[43mdata\u001B[49m\u001B[43m,\u001B[49m\u001B[43m \u001B[49m\u001B[43mself_instance\u001B[49m\u001B[38;5;241;43m=\u001B[39;49m\u001B[38;5;28;43mself\u001B[39;49m\u001B[43m)\u001B[49m\n\u001B[1;32m    254\u001B[0m \u001B[38;5;28;01mif\u001B[39;00m \u001B[38;5;28mself\u001B[39m \u001B[38;5;129;01mis\u001B[39;00m \u001B[38;5;129;01mnot\u001B[39;00m validated_self:\n\u001B[1;32m    255\u001B[0m     warnings\u001B[38;5;241m.\u001B[39mwarn(\n\u001B[1;32m    256\u001B[0m         \u001B[38;5;124m'\u001B[39m\u001B[38;5;124mA custom validator is returning a value other than `self`.\u001B[39m\u001B[38;5;130;01m\\n\u001B[39;00m\u001B[38;5;124m'\u001B[39m\n\u001B[1;32m    257\u001B[0m         \u001B[38;5;124m\"\u001B[39m\u001B[38;5;124mReturning anything other than `self` from a top level model validator isn\u001B[39m\u001B[38;5;124m'\u001B[39m\u001B[38;5;124mt supported when validating via `__init__`.\u001B[39m\u001B[38;5;130;01m\\n\u001B[39;00m\u001B[38;5;124m\"\u001B[39m\n\u001B[1;32m    258\u001B[0m         \u001B[38;5;124m'\u001B[39m\u001B[38;5;124mSee the `model_validator` docs (https://docs.pydantic.dev/latest/concepts/validators/#model-validators) for more details.\u001B[39m\u001B[38;5;124m'\u001B[39m,\n\u001B[1;32m    259\u001B[0m         stacklevel\u001B[38;5;241m=\u001B[39m\u001B[38;5;241m2\u001B[39m,\n\u001B[1;32m    260\u001B[0m     )\n",
      "\u001B[0;31mValidationError\u001B[0m: 1 validation error for PointV2\ny\n  Input should be a valid number, unable to parse string as a number [type=float_parsing, input_value='two', input_type=str]\n    For further information visit https://errors.pydantic.dev/2.11/v/float_parsing"
     ]
    }
   ],
   "execution_count": 70
  },
  {
   "metadata": {},
   "cell_type": "markdown",
   "source": "# Item 52: Use `@classmethod` Polymorphism to Construct Objects Genericall",
   "id": "4b8af642db8a572b"
  },
  {
   "metadata": {},
   "cell_type": "code",
   "outputs": [],
   "execution_count": null,
   "source": "",
   "id": "59418be58ba47526"
  }
 ],
 "metadata": {
  "kernelspec": {
   "display_name": "Python 3 (ipykernel)",
   "language": "python",
   "name": "python3"
  },
  "language_info": {
   "codemirror_mode": {
    "name": "ipython",
    "version": 3
   },
   "file_extension": ".py",
   "mimetype": "text/x-python",
   "name": "python",
   "nbconvert_exporter": "python",
   "pygments_lexer": "ipython3",
   "version": "3.13.2"
  }
 },
 "nbformat": 4,
 "nbformat_minor": 5
}
