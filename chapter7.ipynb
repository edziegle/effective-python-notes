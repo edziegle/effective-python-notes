{
 "cells": [
  {
   "cell_type": "markdown",
   "id": "ede869bf-dcc2-493d-9d04-7d2ae47eb6b2",
   "metadata": {},
   "source": [
    "# Chapter 7: Classes and Interfaces"
   ]
  },
  {
   "cell_type": "markdown",
   "id": "08817d33-3162-4f47-98f8-073705926ce4",
   "metadata": {},
   "source": [
    "# Item 48: Accept Functions Instead of Classes for Simple Interfaces\n",
    "Sometimes a class is too much man. Python treats functions as first-class citizens, and sometimes passing a function is enough.\n",
    "\n",
    "Python's `list` has a sort method that takes a function, behold"
   ]
  },
  {
   "cell_type": "code",
   "id": "b9ad3a18-bd11-4f0f-bc6b-24cd7163eb46",
   "metadata": {},
   "source": [
    "names.sort(key=len)# I\n",
    "names"
   ],
   "outputs": [],
   "execution_count": null
  },
  {
   "cell_type": "markdown",
   "id": "39219d20-ecb3-4782-8617-d6c6d9fc9740",
   "metadata": {},
   "source": [
    "We passed the `len` function to the interface. This told the list to sort from shortest to longest name!\n",
    "\n",
    "In Java we would have to make a class to do this same thing:\n",
    "```java\n",
    "class SortByLength implements Comparator<String> \n",
    "{    \n",
    "    public int compare(String a, String b) {\n",
    "        return a.length() < b.length();\n",
    "    }\n",
    "}\n",
    "\n",
    "// OR\n",
    "\n",
    "names.sort((first, second) -> Integer.compare(first.length(), second.length())\n",
    "```"
   ]
  },
  {
   "metadata": {},
   "cell_type": "markdown",
   "source": [
    "### Hooks\n",
    "this type of interaction in programming is called a \"hook\""
   ],
   "id": "c8b139b15bbbe42"
  },
  {
   "metadata": {},
   "cell_type": "code",
   "source": [
    "# I\n",
    "def log_missing():\n",
    "    print(\"key added!\")\n",
    "    return 0\n",
    "\n",
    "\n",
    "from collections import defaultdict\n",
    "\n",
    "some_dict = {\"green\": 12, \"blue\": 3}\n",
    "\n",
    "defaulted_dict = defaultdict(log_missing, some_dict)\n",
    "\n",
    "defaulted_dict[\"green\"] += 3\n",
    "defaulted_dict[\"red\"] += 5\n",
    "defaulted_dict[\"blue\"] += 7\n",
    "dict(defaulted_dict)"
   ],
   "id": "ecddf00298bd82fa",
   "outputs": [],
   "execution_count": null
  },
  {
   "metadata": {},
   "cell_type": "markdown",
   "source": [
    "### But why do this?\n",
    "This basically gives you a clean way to trigger side-effects and keep them separate from your deterministic behavior."
   ],
   "id": "94d90874ea4659d0"
  },
  {
   "metadata": {},
   "cell_type": "code",
   "source": [
    "# I\n",
    "\n",
    "def count_missing():\n",
    "    global missed  # remember nonlocal?\n",
    "    missed += 1\n",
    "    return 0\n",
    "\n",
    "\n",
    "dict2 = defaultdict(count_missing, some_dict)\n",
    "dict2[\"green\"] += 3\n",
    "dict2[\"orange\"] += 2\n",
    "dict2[\"purple\"] += 1\n",
    "\n",
    "print(missed)"
   ],
   "id": "5f8a64f94b19b43a",
   "outputs": [],
   "execution_count": null
  },
  {
   "metadata": {},
   "cell_type": "markdown",
   "source": [
    "Anyway, this is the power of first-class functions. Without this, you'd have to modify/extend `defaultdict` to get this behavior.\n",
    "\n",
    "Lets do that example again, but without the gross `global` for state management."
   ],
   "id": "4f55f1a7a79fd513"
  },
  {
   "metadata": {},
   "cell_type": "code",
   "source": [
    "    def __init__(s# Ielf):\n",
    "        self.missed = 0\n",
    "\n",
    "    def __call__(self):\n",
    "        self.missed += 1\n",
    "        return 0\n",
    "\n",
    "\n",
    "my_cool_counter = Counterater()\n",
    "\n",
    "dict2 = defaultdict(my_cool_counter,\n",
    "                    some_dict)  # though I used __call__, you can also pass a class instance's method too.\n",
    "dict2[\"green\"] += 3\n",
    "dict2[\"orange\"] += 2\n",
    "dict2[\"purple\"] += 1\n",
    "\n",
    "my_cool_counter.missed"
   ],
   "id": "569ecb129a283eb7",
   "outputs": [],
   "execution_count": null
  },
  {
   "metadata": {},
   "cell_type": "markdown",
   "source": [
    "### SURPRISE QUIZ: wtf is `__call__`?!\n",
    "![spongebob.png](spongebob.png)\n",
    "\n",
    "### Remember\n",
    "Python functions are first-class, and thus allow composition, chaining, hooks, etc. Though a class to handle all the above may be a natural instinct, its not necessary in python."
   ],
   "id": "626fdc5f5cb217bb"
  },
  {
   "metadata": {},
   "cell_type": "markdown",
   "source": [
    "# Item 49: Prefer Object-Oriented Polymorphism over Functions with `isinstance` Checks\n",
    "TODO: sassy comment"
   ],
   "id": "b663d8ab22a5803d"
  },
  {
   "metadata": {},
   "cell_type": "code",
   "source": [
    "class Integer:# I\n",
    "    def __init__(self, value):\n",
    "        self.value = value\n",
    "\n",
    "\n",
    "class Add:\n",
    "    def __init__(self, left, right):\n",
    "        self.left = left\n",
    "        self.right = right\n",
    "\n",
    "\n",
    "class Multiply:\n",
    "    def __init__(self, left, right):\n",
    "        self.left = left\n",
    "        self.right = right\n",
    "\n",
    "\n",
    "tree = Add(Integer(1), Integer(2))"
   ],
   "id": "fdf0f128d837601c",
   "outputs": [],
   "execution_count": null
  },
  {
   "metadata": {},
   "cell_type": "code",
   "source": [
    "# EVAL THAT TREE BABY# I\n",
    "\n",
    "def evaluate(node):\n",
    "    if isinstance(node, Integer):\n",
    "        return node.value\n",
    "    elif isinstance(node, Add):\n",
    "        return evaluate(node.left) + evaluate(node.right)\n",
    "    elif isinstance(node, Multiply):\n",
    "        return evaluate(node.left) * evaluate(node.right)\n",
    "    else:\n",
    "        raise NotImplementedError"
   ],
   "id": "2aee146ac3ec057d",
   "outputs": [],
   "execution_count": null
  },
  {
   "metadata": {},
   "cell_type": "code",
   "source": [
    "print(evaluate(Add(In# Iteger(11), Integer(22))))\n",
    "print(evaluate(\n",
    "    Add(Multiply(Integer(2), Integer(2)), Integer(22))))  # it even supports arbitrary nesting, since it's recursive!"
   ],
   "id": "6598da23fabfb10e",
   "outputs": [],
   "execution_count": null
  },
  {
   "metadata": {},
   "cell_type": "markdown",
   "source": [
    "Works great! But imagine we wanted to make our AST much bigger than just Add and Multiply? Gosh that `if..elif` structure would get pretty huge...\n",
    "\n",
    "Let's make this more OOP-y"
   ],
   "id": "6f32c946bed6becc"
  },
  {
   "metadata": {},
   "cell_type": "code",
   "source": [
    "    def evaluate(self):\n",
    "        raise NotImplementedError\n",
    "\n",
    "\n",
    "class IntegerNode(Node):\n",
    "    def __init__(self, value):\n",
    "        self.value = value\n",
    "\n",
    "    def evaluate(self):\n",
    "        return self.value\n",
    "\n",
    "\n",
    "class AddNode(Node):\n",
    "    def __init__(self, left, right):\n",
    "        self.left = left\n",
    "        self.right = right\n",
    "\n",
    "    def evaluate(self):\n",
    "        return self.left.evaluate() + self.right.evaluate()\n",
    "\n",
    "\n",
    "class MultiplyNode(Node):\n",
    "    def __init__(self, left, right):\n",
    "        self.left = left\n",
    "        self.right = right\n",
    "\n",
    "    def evaluate(self):\n",
    "        return self.left.evaluate() * self.right.evaluate()"
   ],
   "id": "2bb71c208c13ce9c",
   "outputs": [],
   "execution_count": null
  },
  {
   "metadata": {},
   "cell_type": "code",
   "source": "tree.evaluate()",
   "id": "aa378f82ae9c48f5",
   "outputs": [],
   "execution_count": null
  },
  {
   "metadata": {},
   "cell_type": "markdown",
   "source": "This allows polymorphic extension later via abstracts etc. Though, it's easy for this to become its own maintenance nightmare. Care and consideration should be had!",
   "id": "e455e94413fd314b"
  },
  {
   "metadata": {},
   "cell_type": "markdown",
   "source": "# Item 50: Consider `functools.singledispatch` for Functional-Style Programming Instead of Polymorphism",
   "id": "e5b6dc3c3edfd637"
  },
  {
   "metadata": {},
   "cell_type": "code",
   "source": [
    "\n",
    "class NodeAlt:\n",
    "    def evaluate(self):\n",
    "        raise NotImplementedError\n",
    "\n",
    "    def pretty(self):\n",
    "        raise NotImplementedError\n",
    "\n",
    "\n",
    "class IntegerNodeAlt(NodeAlt):\n",
    "    def __init__(self, value):\n",
    "        self.value = value\n",
    "\n",
    "    def evaluate(self):\n",
    "        return self.value\n",
    "\n",
    "    def pretty(self):\n",
    "        return repr(self.value)\n",
    "\n",
    "\n",
    "class AddNodeAlt(NodeAlt):\n",
    "    def __init__(self, left, right):\n",
    "        self.left = left\n",
    "        self.right = right\n",
    "\n",
    "    def evaluate(self):\n",
    "        return self.left.evaluate() + self.right.evaluate()\n",
    "\n",
    "    def pretty(self):\n",
    "        left_str = self.left.pretty()\n",
    "        right_str = self.right.pretty()\n",
    "        return f\"({left_str} + {right_str})\"\n",
    "\n",
    "\n",
    "class MultiplyNodeAlt(NodeAlt):\n",
    "    def __init__(self, left, right):\n",
    "        self.left = left\n",
    "        self.right = right\n",
    "\n",
    "    def evaluate(self):\n",
    "        return self.left.evaluate() * self.right.evaluate()\n",
    "\n",
    "    def pretty(self):\n",
    "        left_str = self.left.pretty()\n",
    "        right_str = self.right.pretty()\n",
    "        return f\"({left_str} * {right_str})\""
   ],
   "id": "202dc34526e63d4a",
   "outputs": [],
   "execution_count": null
  },
  {
   "metadata": {},
   "cell_type": "code",
   "source": [
    "    AddNodeAlt(IntegerNodeAlt(3), IntegerNodeAlt(5)),\n",
    "    AddNodeAlt(IntegerNodeAlt(4), IntegerNodeAlt(7)),\n",
    ")\n",
    "tree.pretty()"
   ],
   "id": "6e0d06020174b153",
   "outputs": [],
   "execution_count": null
  },
  {
   "metadata": {},
   "cell_type": "markdown",
   "source": [
    "Do you see where this can go wrong? What If I need to add 30 different methods to `NodeAlt`? I have to update EVERY SINGLE INHERITOR! BOO! That sucks!!!\n",
    "\n",
    "As a fun aside: Effective Java also talks about this exact problem, and urges programmers to use `abstract` sparringly."
   ],
   "id": "78fc0a3e51a65bbc"
  },
  {
   "metadata": {},
   "cell_type": "code",
   "source": [
    "from functools import singledispatch\n",
    "\n",
    "\n",
    "@singledispatch\n",
    "def pretty(value):\n",
    "    raise NotImplementedError"
   ],
   "id": "5016c36d99b03ce4",
   "outputs": [],
   "execution_count": null
  },
  {
   "metadata": {},
   "cell_type": "markdown",
   "source": "Single-dispatch is a functional technique that lets you basically add behavior to a class without modifying it. The function above will be treated as the function of last resort, if nothing else can be found.",
   "id": "7629538219d79888"
  },
  {
   "metadata": {},
   "cell_type": "code",
   "source": [
    "def _(value):  # note the name, _ basically means \"the name doesn't matter\"\n",
    "    return repr(value)\n",
    "\n",
    "\n",
    "@pretty.register(float)\n",
    "def _(value):\n",
    "    return f\"{value:.2f}\""
   ],
   "id": "131018a176baebe",
   "outputs": [],
   "execution_count": null
  },
  {
   "metadata": {},
   "cell_type": "code",
   "source": "print(pretty(3))",
   "id": "ff2dbb0683645dc5",
   "outputs": [],
   "execution_count": null
  },
  {
   "metadata": {},
   "cell_type": "code",
   "source": [
    "\n",
    "@singledispatch\n",
    "def evaluate(node):\n",
    "    raise NotImplementedError\n",
    "\n",
    "\n",
    "class Integer:\n",
    "    def __init__(self, value):\n",
    "        self.value = value\n",
    "\n",
    "\n",
    "class BinaryOp:\n",
    "    def __init__(self, left, right):\n",
    "        self.left = left\n",
    "        self.right = right\n",
    "\n",
    "\n",
    "class Add(BinaryOp):\n",
    "    def __init__(self, left, right):\n",
    "        super().__init__(left, right)\n",
    "\n",
    "\n",
    "class Multiply(BinaryOp):\n",
    "    def __init__(self, left, right):\n",
    "        super().__init__(left, right)\n",
    "\n",
    "\n",
    "@evaluate.register(Integer)\n",
    "def _(node):\n",
    "    return node.value\n",
    "\n",
    "\n",
    "@evaluate.register(Add)\n",
    "def _(node):\n",
    "    return evaluate(node.left) + evaluate(node.right)\n",
    "\n",
    "\n",
    "@evaluate.register(Multiply)\n",
    "def _(node):\n",
    "    return evaluate(node.left) * evaluate(node.right)\n",
    "\n",
    "# HEY DONT FORGET PRETTY~\n",
    "@pretty.register(Integer)\n",
    "def _(node):\n",
    "    return repr(node.value)\n",
    "\n",
    "@pretty.register(Add)\n",
    "def _(node):\n",
    "    left_str = pretty(node.left)\n",
    "    right_str = pretty(node.right)\n",
    "    return f\"({left_str} + {right_str})\"\n",
    "\n",
    "@pretty.register(Multiply)\n",
    "def _(node):\n",
    "    left_str = pretty(node.left)\n",
    "    right_str = pretty(node.right)\n",
    "    return f\"({left_str} * {right_str})\""
   ],
   "id": "d4b632f434ec0b04",
   "outputs": [],
   "execution_count": null
  },
  {
   "metadata": {},
   "cell_type": "code",
   "source": [
    "print(evaluate(tree))\n",
    "print(pretty(tree))"
   ],
   "id": "feeadb51f91febfe",
   "outputs": [],
   "execution_count": null
  },
  {
   "metadata": {},
   "cell_type": "markdown",
   "source": "An immediate benefit of this, is how the dispatch works with sub-classing.",
   "id": "9495285c0802a8a9"
  },
  {
   "metadata": {},
   "cell_type": "code",
   "source": [
    "    def __init__(self, value):\n",
    "        if value < 0:\n",
    "            raise ValueError(\"value must be positive\")\n",
    "        super().__init__(value)\n",
    "\n",
    "pretty(PositiveInteger(3))"
   ],
   "id": "6cb8c71871876c36",
   "outputs": [],
   "execution_count": null
  },
  {
   "metadata": {},
   "cell_type": "markdown",
   "source": "However, things get harder when we create a brand new class",
   "id": "9da8c364b25bf780"
  },
  {
   "metadata": {},
   "cell_type": "code",
   "source": [
    "    def __init__(self, value):\n",
    "        self.value = value\n",
    "\n",
    "pretty(Float(3.141592653589793))"
   ],
   "id": "c0b6eabd3cb16a50",
   "outputs": [],
   "execution_count": null
  },
  {
   "metadata": {},
   "cell_type": "markdown",
   "source": [
    "This is a trade-off.\n",
    "- Polymorphism: easy to add new classes, PITA to add new behavior across classes.\n",
    "- Single Dispatch: easy to add new behavior across classes, PITA to add new classes.\n",
    "\n",
    "From experience, the former is the *bigger* PITA. Single dispatch allows classes themselves to remain much simpler, and allows you as the programmer, to have independent systems with their own behaviors, use those classes without polluting them.\n",
    "\n",
    "To solidify: look at Video Center and `abstract`; this is polymorphism, and it's awful. A single change causes cascading maintenance headaches everywhere. As a result, changes are seldom made, and the code-base has aged horribly.\n",
    "\n",
    "But polymorphism still makes sense in smaller contexts, or fairly self-contained contexts, where the classes don't need to be shared across system boundaries."
   ],
   "id": "69022129566ff531"
  },
  {
   "metadata": {},
   "cell_type": "markdown",
   "source": "# Item 51: Prefer `dataclasses` for Defining Lightweight Classes",
   "id": "fdf2ecc51590fea"
  },
  {
   "metadata": {},
   "cell_type": "code",
   "source": [
    "from dataclasses import dataclass\n",
    "\n",
    "@dataclass\n",
    "class MyRGB:\n",
    "    red: int\n",
    "    green: int\n",
    "    blue: int\n",
    "\n",
    "# They enforce order\n",
    "color1 = MyRGB(1, 2, 3)\n",
    "color2 = MyRGB(red=1, green=2, blue=3)\n",
    "\n",
    "# They allow type checking! (a linter would catch this)\n",
    "color1.red = \"two\""
   ],
   "id": "2d3170852b1467a4",
   "outputs": [],
   "execution_count": null
  },
  {
   "metadata": {},
   "cell_type": "code",
   "source": [
    "@dataclass(kw_only=True)\n",
    "class MyRGB:\n",
    "    red: int\n",
    "    green: int\n",
    "    blue: int\n",
    "\n",
    "MyRGB(1, 2, 3)"
   ],
   "id": "91d445b3d7724b2d",
   "outputs": [],
   "execution_count": null
  },
  {
   "metadata": {},
   "cell_type": "code",
   "source": "",
   "id": "d68083d946899db4",
   "outputs": [],
   "execution_count": null
  },
  {
   "metadata": {},
   "cell_type": "code",
   "source": [
    "print(color1 == color2)\n",
    "print(MyRGB(red=1, green=2, blue=3) == MyRGB(red=1, green=2, blue=3))"
   ],
   "id": "5931ba7dfb7f4579",
   "outputs": [],
   "execution_count": null
  },
  {
   "metadata": {},
   "cell_type": "code",
   "source": [
    "from dataclasses import asdict\n",
    "asdict(color1)"
   ],
   "id": "94133863abdc519c",
   "outputs": [],
   "execution_count": null
  },
  {
   "metadata": {},
   "cell_type": "code",
   "source": [
    "class Planet:\n",
    "    def __init__(self, distance, size):\n",
    "        self.distance = distance\n",
    "        self.size = size\n",
    "\n",
    "    def __repr__(self):\n",
    "        return (\n",
    "            f\"{type(self).__module__}\"\n",
    "            f\"{type(self).__name__}(\"\n",
    "            f\"distance={self.distance}, \"\n",
    "            f\"size={self.size})\"\n",
    "        )\n",
    "\n",
    "far = Planet(10, 5) # planet size 5, 10 away from us\n",
    "near = Planet(1, 2) # planet size 2, 1 away from us\n",
    "data = [far, near]\n",
    "# This is going to fail because python doesn't know how to compare planets!\n",
    "data.sort()"
   ],
   "id": "bc22fbf9e1a7920c",
   "outputs": [],
   "execution_count": null
  },
  {
   "metadata": {},
   "cell_type": "code",
   "source": [
    "class Planet:\n",
    "    ...\n",
    "\n",
    "    def _astuple(self):\n",
    "        return (self.distance, self.size)\n",
    "\n",
    "    def __eq__(self, other):\n",
    "        return (\n",
    "            type(self) == type(other)\n",
    "            and self._astuple() == other._astuple()\n",
    "        )\n",
    "\n",
    "    def __lt__(self, other):\n",
    "        if type(self) != type(other):\n",
    "            return NotImplemented\n",
    "        return self._astuple() < other._astuple()\n",
    "\n",
    "    def __le__(self, other):\n",
    "        if type(self) != type(other):\n",
    "            return NotImplemented\n",
    "        return self._astuple() <= other._astuple()\n",
    "\n",
    "    def __gt__(self, other):\n",
    "        if type(self) != type(other):\n",
    "            return NotImplemented\n",
    "        return self._astuple() > other._astuple()\n",
    "\n",
    "    def __ge__(self, other):\n",
    "        if type(self) != type(other):\n",
    "            return NotImplemented\n",
    "        return self._astuple() >= other._astuple()"
   ],
   "id": "b42be7e8585a9a65",
   "outputs": [],
   "execution_count": null
  },
  {
   "metadata": {},
   "cell_type": "code",
   "source": [
    "@dataclass(order=True)\n",
    "class DataclassPlanet:\n",
    "    distance: float\n",
    "    size: float\n",
    "\n",
    "far2 = DataclassPlanet(10, 2)\n",
    "near2 = DataclassPlanet(1, 5)\n",
    "print(far2 > near2)\n",
    "print(near2 < far2)\n",
    "\n",
    "data = [far2, near2]\n",
    "data.sort()\n",
    "data"
   ],
   "id": "b926b712263b5fc3",
   "outputs": [],
   "execution_count": null
  },
  {
   "metadata": {},
   "cell_type": "markdown",
   "source": [
    "As you can see, `dataclass` is _pretty cool_. A possible Java equivalent might be Lombok's `Data` annotation.\n",
    "\n",
    "Think of it as a boilerplate slayer."
   ],
   "id": "b58b055ea11e34b0"
  },
  {
   "metadata": {},
   "cell_type": "code",
   "source": [
    "# Pydantic is good stuff. Let's see how it compares to dataclasses.\n",
    "\n",
    "import sys\n",
    "from pydantic import BaseModel\n",
    "\n",
    "@dataclass\n",
    "class PointV1:\n",
    "    x: float\n",
    "    y: float\n",
    "\n",
    "class PointV2(BaseModel):\n",
    "    x: float\n",
    "    y: float\n",
    "\n",
    "point1 = PointV1(1, 2)\n",
    "point2 = PointV2(x=1, y=2)\n",
    "print(\"The dataclass is\", sys.getsizeof(point1), \"bytes\")\n",
    "print(\"The pydantic model is\", sys.getsizeof(point2), \"bytes\")"
   ],
   "id": "fe03d1453b5fe39a",
   "outputs": [],
   "execution_count": null
  },
  {
   "metadata": {},
   "cell_type": "code",
   "source": [
    "print(dir(point1))\n",
    "print('-' * 80)\n",
    "print(dir(point2))"
   ],
   "id": "8159d56eba0f9a16",
   "outputs": [],
   "execution_count": null
  },
  {
   "metadata": {},
   "cell_type": "markdown",
   "source": [
    "This kind of difference can compound at scale. Prefer dataclasses to pydantic where you _do not_ need pydantic's powerful validation tooling.\n",
    "\n",
    "By the way: `dir` is just a cool lil function that either dumps the names in the current local scope, OR lists out all the attributes of an object. I like to use it as a fast and easy way to discover methods and fields on an object."
   ],
   "id": "fd4e34f873628f6b"
  },
  {
   "metadata": {},
   "cell_type": "code",
   "source": [
    "\n",
    "PointV2(x=1, y=\"two\")  # dataclass would allow this at runtime"
   ],
   "id": "5bd2116e436c5e2c",
   "outputs": [],
   "execution_count": null
  },
  {
   "metadata": {},
   "cell_type": "markdown",
   "source": [
    "# Item 52: Use `@classmethod` Polymorphism to Construct Objects Genericall\n",
    "Python only has __init__"
   ],
   "id": "4b8af642db8a572b"
  },
  {
   "metadata": {},
   "cell_type": "code",
   "source": [
    "# First, a parent class for our mapreduce input data\n",
    "class InputData:\n",
    "    def read(self):\n",
    "        raise NotImplementedError\n",
    "\n",
    "# Second, a concrete impl\n",
    "class PathInputData(InputData):\n",
    "    def __init__(self, path):\n",
    "        super().__init__()\n",
    "        self.path = path\n",
    "\n",
    "    def read(self):\n",
    "        with open(self.path) as f:\n",
    "            return f.read()\n",
    "\n",
    "# Third, a worker\n",
    "class Worker:\n",
    "    def __init__(self, input_data):\n",
    "        self.input_data = input_data\n",
    "        self.result = None\n",
    "\n",
    "    def map(self):\n",
    "        raise NotImplementedError\n",
    "\n",
    "    def reduce(self, other):\n",
    "        raise NotImplementedError\n",
    "\n",
    "# Fourth, a concrete worker that counts lines in a file\n",
    "class LineCountWorker(Worker):\n",
    "    def map(self):\n",
    "        data = self.input_data.read()\n",
    "        self.result = data.count(\"\\n\")\n",
    "\n",
    "    def reduce(self, other):\n",
    "        self.result += other.result\n",
    "\n",
    "import os\n",
    "\n",
    "# FIFTH, a GENERATOR for inputs\n",
    "def generate_inputs(data_dir):\n",
    "    for name in os.listdir(data_dir):\n",
    "        yield PathInputData(os.path.join(data_dir, name))\n",
    "\n",
    "# Sixth, workers!\n",
    "def create_workers(input_list):\n",
    "    workers = []\n",
    "    for input_data in input_list:\n",
    "        workers.append(LineCountWorker(input_data))\n",
    "    return workers\n",
    "\n",
    "from threading import Thread\n",
    "\n",
    "# SEvEnTh, execute!\n",
    "def execute(workers):\n",
    "    threads = [Thread(target=w.map) for w in workers]\n",
    "    for thread in threads:\n",
    "        thread.start()\n",
    "    for thread in threads:\n",
    "        thread.join()\n",
    "\n",
    "    first, *rest = workers\n",
    "    for worker in rest:\n",
    "        first.reduce(worker)\n",
    "    return first.result"
   ],
   "id": "e905140c7925cca0",
   "outputs": [],
   "execution_count": null
  },
  {
   "metadata": {},
   "cell_type": "code",
   "source": [
    "# Tying it all together...\n",
    "def mapreduce(data_dir):\n",
    "    inputs = generate_inputs(data_dir)\n",
    "    workers = create_workers(inputs)\n",
    "    return execute(workers)\n",
    "\n",
    "# kinda iffy.. this mapreduce is _pretty specific_"
   ],
   "id": "dc82e525a0edade7",
   "outputs": [],
   "execution_count": null
  },
  {
   "metadata": {},
   "cell_type": "code",
   "source": [
    "import os\n",
    "import random\n",
    "from tempfile import TemporaryDirectory\n",
    "\n",
    "def write_test_files(tmpdir):\n",
    "    for i in range(10000):\n",
    "        with open(os.path.join(tmpdir, str(i)), \"w\") as f:\n",
    "            f.write(\"\\n\" * random.randint(0, 100))\n",
    "\n",
    "with TemporaryDirectory() as tmpdir:\n",
    "    print(\"MAKING TEST FILES!\")\n",
    "    write_test_files(tmpdir)\n",
    "\n",
    "    print(\"RUNNING MAPREDUCE!\")\n",
    "    result = mapreduce(tmpdir)\n",
    "    print(f\"There are {result} lines\")\n"
   ],
   "id": "e2e454bb9c4cfc5",
   "outputs": [],
   "execution_count": null
  },
  {
   "metadata": {},
   "cell_type": "markdown",
   "source": [
    "![](fry.jpg)\n",
    "Okay... so whats the problem?\n",
    "\n",
    "Well, this bad boy ain't generic at all. We made a mapreduce that only works for counting lines in a file; mapreduce is meant to be a _lot_ more generic than that."
   ],
   "id": "f91acbc495503982"
  },
  {
   "metadata": {},
   "cell_type": "code",
   "source": [
    "# Let's generify this turd; Remember, Python only has __init__, so we can't just lean on polymorphic constructors.\n",
    "\n",
    "# BEHOLD, STATIC CONSTRUCTORS VIA CLASSMETHOD\n",
    "\n",
    "class GenericInputData:\n",
    "    def read(self):\n",
    "        raise NotImplementedError\n",
    "\n",
    "    @classmethod\n",
    "    def generate_inputs(cls, config):\n",
    "        raise NotImplementedError"
   ],
   "id": "854a16a4d60189b2",
   "outputs": [],
   "execution_count": null
  },
  {
   "metadata": {},
   "cell_type": "code",
   "source": [
    "# Mix up some concrete\n",
    "\n",
    "class PathInputData(GenericInputData):\n",
    "    def __init__(self, path):\n",
    "        super().__init__()\n",
    "        self.path = path\n",
    "\n",
    "    def read(self):\n",
    "        with open(self.path) as f:\n",
    "            return f.read()\n",
    "\n",
    "    @classmethod\n",
    "    def generate_inputs(cls, config):\n",
    "        data_dir = config[\"data_dir\"]\n",
    "        for name in os.listdir(data_dir):\n",
    "            yield cls(os.path.join(data_dir, name))\n",
    "\n",
    "class GenericWorker:\n",
    "    def __init__(self, input_data):\n",
    "        self.input_data = input_data\n",
    "        self.result = None\n",
    "\n",
    "    def map(self):\n",
    "        raise NotImplementedError\n",
    "\n",
    "    def reduce(self, other):\n",
    "        raise NotImplementedError\n",
    "\n",
    "    @classmethod\n",
    "    def create_workers(cls, input_class, config):\n",
    "        workers = []\n",
    "        for input_data in input_class.generate_inputs(config):  # SEE <--- DO YOU SEE?? No longer does the worker need deep knowledge of the construction of inputs\n",
    "            workers.append(cls(input_data))\n",
    "        return workers\n",
    "\n",
    "# Fourth, a concrete worker that counts lines in a file\n",
    "class LineCountWorker(GenericWorker):\n",
    "    def map(self):\n",
    "        data = self.input_data.read()\n",
    "        self.result = data.count(\"\\n\")\n",
    "\n",
    "    def reduce(self, other):\n",
    "        self.result += other.result\n",
    "\n",
    "    # nothing else changed"
   ],
   "id": "6bb392b8510688f",
   "outputs": [],
   "execution_count": null
  },
  {
   "metadata": {},
   "cell_type": "code",
   "source": [
    "# rewritten mapreduce\n",
    "def mapreduce(worker_class, input_class, config):\n",
    "    workers = worker_class.create_workers(input_class, config)\n",
    "    return execute(workers)"
   ],
   "id": "d73467112d0d0ec4",
   "outputs": [],
   "execution_count": null
  },
  {
   "metadata": {},
   "cell_type": "code",
   "source": [
    "with TemporaryDirectory() as tmpdir:\n",
    "    config = {\"data_dir\": tmpdir}\n",
    "    print(\"MAKING TEST FILES!\")\n",
    "    write_test_files(tmpdir)\n",
    "\n",
    "    print(\"RUNNING MAPREDUCE!\")\n",
    "    result = mapreduce(LineCountWorker, PathInputData, config)\n",
    "    print(f\"There are {result} lines\")\n"
   ],
   "id": "ad1e2d16bd645337",
   "outputs": [],
   "execution_count": null
  },
  {
   "metadata": {},
   "cell_type": "markdown",
   "source": [
    "Things to Remember\n",
    "\n",
    "- Python only supports a single constructor per class: the __init__ method.\n",
    "- Use @classmethod to define alternative constructors for your classes.\n",
    "- Use class method polymorphism to provide generic ways to build and connect many concrete subclasses."
   ],
   "id": "692ae424b97bc440"
  },
  {
   "metadata": {},
   "cell_type": "markdown",
   "source": "# Item 53: Initialize Parent Classes with super",
   "id": "b4baf59e8bdb3842"
  },
  {
   "metadata": {},
   "cell_type": "code",
   "source": [
    "class MyBaseClass:\n",
    "    def __init__(self, value):\n",
    "        self.value = value\n",
    "\n",
    "class MyChildClass(MyBaseClass):\n",
    "    def __init__(self):\n",
    "        MyBaseClass.__init__(self, 5) # you may be tempted to do this."
   ],
   "id": "dde8e674765902ee",
   "outputs": [],
   "execution_count": null
  },
  {
   "metadata": {},
   "cell_type": "code",
   "source": [
    "class TimesTwo:\n",
    "    def __init__(self):\n",
    "        self.value *= 2\n",
    "\n",
    "class PlusFive:\n",
    "    def __init__(self):\n",
    "        self.value += 5"
   ],
   "id": "5e05161bca65d956",
   "outputs": [],
   "execution_count": null
  },
  {
   "metadata": {},
   "cell_type": "code",
   "source": [
    "class OneWay(MyBaseClass, TimesTwo, PlusFive):\n",
    "    def __init__(self, value):\n",
    "        MyBaseClass.__init__(self, value)\n",
    "        TimesTwo.__init__(self)\n",
    "        PlusFive.__init__(self)\n",
    "\n",
    "foo = OneWay(5)\n",
    "print(\"First ordering value is (5 * 2) + 5 =\", foo.value)"
   ],
   "id": "805a718681e9bd5f",
   "outputs": [],
   "execution_count": null
  },
  {
   "metadata": {},
   "cell_type": "code",
   "source": [
    "class OneWay(MyBaseClass, PlusFive, TimesTwo): # now we'd expect the order to be (5 + 5) * 2\n",
    "    def __init__(self, value):\n",
    "        MyBaseClass.__init__(self, value)\n",
    "        TimesTwo.__init__(self)\n",
    "        PlusFive.__init__(self)\n",
    "\n",
    "foo = OneWay(5)\n",
    "print(\"Second ordering should be (5 + 5) * 2, but is\", foo.value)"
   ],
   "id": "bc326f9873484cc7",
   "outputs": [],
   "execution_count": null
  },
  {
   "metadata": {},
   "cell_type": "markdown",
   "source": "Why? We changed Arg order, but not call order in the `OneWay.__init__`",
   "id": "13f7eabfc0eaba67"
  },
  {
   "metadata": {},
   "cell_type": "code",
   "source": [
    "# Diamond inheritance causes problems too\n",
    "class TimesSeven(MyBaseClass):\n",
    "    def __init__(self, value):\n",
    "        MyBaseClass.__init__(self, value)\n",
    "        self.value *= 7\n",
    "\n",
    "class PlusNine(MyBaseClass):\n",
    "    def __init__(self, value):\n",
    "        MyBaseClass.__init__(self, value)\n",
    "        self.value += 9\n",
    "\n",
    "class ThisWay(TimesSeven, PlusNine):\n",
    "    def __init__(self, value):\n",
    "        TimesSeven.__init__(self, value)\n",
    "        PlusNine.__init__(self, value)  # this _resets_ the value, instead of taking TimesSeven's output\n",
    "\n",
    "foo = ThisWay(5)\n",
    "print(\"Should be (5 * 7) + 9 = 44 but is\", foo.value, \"aka 5 + 9\")"
   ],
   "id": "64991e98fad2fc5f",
   "outputs": [],
   "execution_count": null
  },
  {
   "metadata": {},
   "cell_type": "code",
   "source": [
    "# USE SUPER\n",
    "# Super makes sure common parents are initialized only once\n",
    "\n",
    "class TimesSevenCorrect(MyBaseClass):\n",
    "    def __init__(self, value):\n",
    "        super().__init__(value)\n",
    "        self.value *= 7\n",
    "\n",
    "class PlusNineCorrect(MyBaseClass):\n",
    "    def __init__(self, value):\n",
    "        super().__init__(value)\n",
    "        self.value += 9"
   ],
   "id": "fdfe806d48cac369",
   "outputs": [],
   "execution_count": null
  },
  {
   "metadata": {},
   "cell_type": "code",
   "source": [
    "class GoodWay(TimesSevenCorrect, PlusNineCorrect):\n",
    "    def __init__(self, value):\n",
    "        super().__init__(value)\n",
    "\n",
    "foo = GoodWay(5)\n",
    "print(\"Should be 7 * (5 + 9) = 98 and is\", foo.value)\n",
    "mro_str = \"\\n\".join(repr(cls) for cls in GoodWay.__mro__)\n",
    "print(mro_str)\n",
    "\n",
    "# mro lets us see the method resolution order, aka, what order inits were called.\n"
   ],
   "id": "3ceb4f7bdacebc3b",
   "outputs": [],
   "execution_count": null
  },
  {
   "metadata": {},
   "cell_type": "code",
   "source": [
    "# Once the top of the diamond is reached, the inits actually do work in the opposite order of how they were called.\n",
    "\n",
    "# super also avoids pitfalls of renaming classes!\n",
    "\n",
    "# But anyway this is all moot because multiple inheritance is pain, and we're going to look at a different way."
   ],
   "id": "9343b2b5e86e1d9c",
   "outputs": [],
   "execution_count": null
  },
  {
   "metadata": {},
   "cell_type": "markdown",
   "source": [
    "# Item 54: Consider Composing Functionality with Mix-in Classes\n",
    "All the convenience and encapsulation of multiple inheritance, without the suffering!\n",
    "\n",
    "> A mix-in is a class that defines only a small set of additional methods for its child classes to provide. Mix-in classes don’t define their own instance attributes or require their __init__ constructor to be called."
   ],
   "id": "1b3c450479ffd5a7"
  },
  {
   "metadata": {},
   "cell_type": "code",
   "source": [
    "# The book example is really good\n",
    "\n",
    "class ToDictMixin:\n",
    "    \"\"\"A mixin class that provides a to_dict method.\"\"\"\n",
    "    def to_dict(self):\n",
    "        return self._traverse_dict(self.__dict__)\n",
    "\n",
    "    def _traverse_dict(self, instance_dict):\n",
    "        output = {}\n",
    "        for key, value in instance_dict.items():\n",
    "            output[key] = self._traverse(key, value)\n",
    "        return output\n",
    "\n",
    "    def _traverse(self, key, value):\n",
    "        if isinstance(value, ToDictMixin):\n",
    "            return value.to_dict()\n",
    "        elif isinstance(value, dict):\n",
    "            return self._traverse_dict(value)\n",
    "        elif isinstance(value, list):\n",
    "            return [self._traverse(key, i) for i in value]\n",
    "        elif hasattr(value, \"__dict__\"):\n",
    "            return self._traverse_dict(value.__dict__)\n",
    "        else:\n",
    "            return value"
   ],
   "id": "cc7055b3aef51953",
   "outputs": [],
   "execution_count": null
  },
  {
   "metadata": {},
   "cell_type": "code",
   "source": [
    "# lets use it!\n",
    "class BinaryTree(ToDictMixin):\n",
    "    def __init__(self, value, left=None, right=None):\n",
    "        self.value = value\n",
    "        self.left = left\n",
    "        self.right = right\n",
    "\n",
    "tree = BinaryTree(\n",
    "    10,\n",
    "    left=BinaryTree(7, right=BinaryTree(9)),\n",
    "    right=BinaryTree(13, left=BinaryTree(11)),\n",
    ")\n",
    "print(tree.to_dict()) # BEHOLD"
   ],
   "id": "e719285b8b9d1ff2",
   "outputs": [],
   "execution_count": null
  },
  {
   "metadata": {},
   "cell_type": "code",
   "source": [
    "class BinaryTreeWithParent(BinaryTree):\n",
    "    def __init__(\n",
    "        self,\n",
    "        value,\n",
    "        left=None,\n",
    "        right=None,\n",
    "        parent=None,\n",
    "    ):\n",
    "        super().__init__(value, left=left, right=right)\n",
    "        self.parent = parent\n",
    "\n",
    "\n",
    "root = BinaryTreeWithParent(10)\n",
    "root.left = BinaryTreeWithParent(7, parent=root)\n",
    "root.left.right = BinaryTreeWithParent(9, parent=root.left)\n",
    "print(root.to_dict())"
   ],
   "id": "5f3d7e19b8f4439c",
   "outputs": [],
   "execution_count": null
  },
  {
   "metadata": {},
   "cell_type": "code",
   "source": [
    "# Whoops!\n",
    "\n",
    "# Well, hey, with Mix-Ins, its easy to fix! We have _very_ pluggable behavior:\n",
    "\n",
    "class BinaryTreeWithParent(BinaryTree):\n",
    "    def __init__(\n",
    "        self,\n",
    "        value,\n",
    "        left=None,\n",
    "        right=None,\n",
    "        parent=None,\n",
    "    ):\n",
    "        super().__init__(value, left=left, right=right)\n",
    "        self.parent = parent\n",
    "\n",
    "    def _traverse(self, key, value): # override the _traverse FROM THE MIX IN to avoid the cyclic dependency\n",
    "        if (\n",
    "            isinstance(value, BinaryTreeWithParent)\n",
    "            and key == \"parent\"\n",
    "        ):\n",
    "            return value.value  # Prevent cycles\n",
    "        else:\n",
    "            return super()._traverse(key, value)"
   ],
   "id": "919650856823fe17",
   "outputs": [],
   "execution_count": null
  },
  {
   "metadata": {},
   "cell_type": "code",
   "source": [
    "root = BinaryTreeWithParent(10)\n",
    "root.left = BinaryTreeWithParent(7, parent=root)\n",
    "root.left.right = BinaryTreeWithParent(9, parent=root.left)\n",
    "print(root.to_dict())"
   ],
   "id": "d677b29bbdcf5313",
   "outputs": [],
   "execution_count": null
  },
  {
   "metadata": {},
   "cell_type": "markdown",
   "source": [
    "Brief aside for Java: instead of getting shared behavior via `abstract` in Java, use default interfaces! Java 8+ interfaces provide mixin behavior.\n",
    "\n",
    "There is virtually no reason to use `abstract` in Java since 2013. STOP IT.  (I mean... unless you have a good reason)"
   ],
   "id": "c4c2e49e3e51be7d"
  },
  {
   "metadata": {},
   "cell_type": "code",
   "source": [
    "# you can compose mixins! WOW\n",
    "import json\n",
    "\n",
    "class JsonMixin:\n",
    "    @classmethod\n",
    "    def from_json(cls, data):\n",
    "        kwargs = json.loads(data)\n",
    "        return cls(**kwargs)\n",
    "\n",
    "    def to_json(self):\n",
    "        return json.dumps(self.to_dict()) # DO YOU SEE????"
   ],
   "id": "157634039558e499",
   "outputs": [],
   "execution_count": null
  },
  {
   "metadata": {},
   "cell_type": "code",
   "source": [
    "class DatacenterRack(ToDictMixin, JsonMixin):\n",
    "    def __init__(self, switch=None, machines=None):\n",
    "        self.switch = Switch(**switch)\n",
    "        self.machines = [\n",
    "            Machine(**kwargs) for kwargs in machines]\n",
    "\n",
    "class Switch(ToDictMixin, JsonMixin):\n",
    "    def __init__(self, ports=None, speed=None):\n",
    "        self.ports = ports\n",
    "        self.speed = speed\n",
    "\n",
    "class Machine(ToDictMixin, JsonMixin):\n",
    "    def __init__(self, cores=None, ram=None, disk=None):\n",
    "        self.cores = cores\n",
    "        self.ram = ram\n",
    "        self.disk = disk"
   ],
   "id": "75512bc606110507",
   "outputs": [],
   "execution_count": null
  },
  {
   "metadata": {},
   "cell_type": "code",
   "source": [
    "serialized = \"\"\"{\n",
    "    \"switch\": {\"ports\": 5, \"speed\": 1e9},\n",
    "    \"machines\": [\n",
    "        {\"cores\": 8, \"ram\": 32e9, \"disk\": 5e12},\n",
    "        {\"cores\": 4, \"ram\": 16e9, \"disk\": 1e12},\n",
    "        {\"cores\": 2, \"ram\": 4e9, \"disk\": 500e9}\n",
    "    ]\n",
    "}\"\"\"\n",
    "\n",
    "deserialized = DatacenterRack.from_json(serialized)\n",
    "roundtrip = deserialized.to_json()\n",
    "assert json.loads(serialized) == json.loads(roundtrip)\n",
    "\n",
    "# Mixins are the bees knees"
   ],
   "id": "17acc25b849bfb65",
   "outputs": [],
   "execution_count": null
  },
  {
   "metadata": {},
   "cell_type": "markdown",
   "source": [
    "# Item 55: Prefer Public Attributes over Private Ones\n",
    "Real talk: go read this one, demonstrating this live doesn't do it justice"
   ],
   "id": "d106c22ca2896a35"
  },
  {
   "metadata": {},
   "cell_type": "code",
   "source": [
    "class MyClass:\n",
    "    def __init__(self, value):\n",
    "        self._protected = 5  # this is a convention but not enforced by Python\n",
    "        self.__private = value  # this actually has _some_ enforcement\n",
    "\n",
    "    def get_private(self):\n",
    "        return self.__private\n",
    "\n",
    "foo = MyClass(10)\n",
    "print(foo._protected)\n",
    "print(foo.get_private())\n",
    "# foo.__private"
   ],
   "id": "68e3f4ef03b3104e",
   "outputs": [],
   "execution_count": null
  },
  {
   "metadata": {},
   "cell_type": "code",
   "source": "foo.__dict__",
   "id": "5f46dd73e00a6a78",
   "outputs": [],
   "execution_count": null
  },
  {
   "metadata": {},
   "cell_type": "code",
   "source": "foo._MyClass__private",
   "id": "20f6c0293eea3daf",
   "outputs": [],
   "execution_count": null
  },
  {
   "metadata": {},
   "cell_type": "code",
   "source": [
    "# Oops. Yeah. Python doesn't have rigorous enforcement of private attributes.\n",
    "\n",
    "class MyBadSubclass(MyClass):\n",
    "    def get_private(self):\n",
    "        return self._MyClass__private  #yes, you can do this\n",
    "\n",
    "bar = MyBadSubclass(5)\n",
    "bar.get_private()"
   ],
   "id": "f2e921ace93bf492",
   "outputs": [],
   "execution_count": null
  },
  {
   "metadata": {},
   "cell_type": "code",
   "source": [
    "# Instead of relying on strict enforcement, Pythin leans on \"we're all consenting adults here\"\n",
    "# Simple: just allow subclasses to access stuff. But use `_protected` convention to signal that they should proceed with caution.\n",
    "\n",
    "#Private is best reserved for when you are concerend about sub-classes having naming conflicts\n",
    "\n",
    "class ApiClass:\n",
    "    def __init__(self):\n",
    "        self.__value = 5       # Double underscore\n",
    "\n",
    "    def get(self):\n",
    "        return self.__value    # Double underscore\n",
    "\n",
    "class Child(ApiClass):\n",
    "    def __init__(self):\n",
    "        super().__init__()\n",
    "        self._value = \"hello\"  # OK!\n",
    "        self.__value = \"world\"\n",
    "\n",
    "a = Child()\n",
    "print(f\"{a.get()} and {a._value} are different, and notice that `get` didn't pull the subclass private value\")"
   ],
   "id": "c9f8156e5d91f84a",
   "outputs": [],
   "execution_count": null
  },
  {
   "metadata": {},
   "cell_type": "markdown",
   "source": [
    "Things to Remember\n",
    "\n",
    "- Private attributes aren’t rigorously enforced by the Python compiler.\n",
    "- Plan from the beginning to allow subclasses to do more with your internal APIs and attributes instead of choosing to lock them out.\n",
    "- Use documentation of protected fields to guide subclasses instead of trying to force access control with private attributes.\n",
    "- Only consider using private attributes to avoid naming conflicts with subclasses that are out of your control."
   ],
   "id": "622c76fcd5263c08"
  },
  {
   "metadata": {},
   "cell_type": "markdown",
   "source": [
    "# Item 56: Prefer `dataclasses` for Creating Immutable Objects\n",
    "Nearly everything in python can be modified at runtime. You don't even need to deal with a heavy-duty reflection api. This is by design. But sometimes you want a little immutability..."
   ],
   "id": "6841a994b8e525a7"
  },
  {
   "metadata": {},
   "cell_type": "code",
   "source": [
    "# Immutability with dataclasses\n",
    "def evil_guy(point):\n",
    "    point.x = -3\n",
    "\n",
    "\n",
    "class ImmutablePoint:\n",
    "    def __init__(self, name, x, y):\n",
    "        self.__dict__.update(name=name, x=x, y=y)\n",
    "\n",
    "    def __setattr__(self, key, value):\n",
    "        raise AttributeError(\"Immutable object: set not allowed\")\n",
    "\n",
    "    def __delattr__(self, key):\n",
    "        raise AttributeError(\"Immutable object: del not allowed\")\n",
    "\n",
    "origin2 = ImmutablePoint(\"source\", 0, 0)\n",
    "evil_guy(origin2)"
   ],
   "id": "304a2d18e4837cb3",
   "outputs": [],
   "execution_count": null
  },
  {
   "metadata": {},
   "cell_type": "code",
   "source": [
    "# Or just use dataclasses\n",
    "@dataclass(frozen=True)\n",
    "class ImmutablePoint:\n",
    "    name: str\n",
    "    x: float\n",
    "    y: float\n",
    "\n",
    "origin2 = ImmutablePoint(\"source\", 0, 0)\n",
    "evil_guy(origin2)"
   ],
   "id": "1bf915ecd1e054cc",
   "outputs": [],
   "execution_count": null
  },
  {
   "metadata": {},
   "cell_type": "code",
   "source": [
    "# The book talks about using objects as set or dict keys, and how this is a PITA cause your object needs to be hashable. Well, good news, Dataclasses give you that for freeeee.\n",
    "\n",
    "point1 = ImmutablePoint(\"source\", 0, 0)\n",
    "point2 = ImmutablePoint(\"source\", 2, 0)\n",
    "point3 = ImmutablePoint(\"target\", 1, 1)\n",
    "\n",
    "my_dict = {point1: 1, point2: 2}\n",
    "my_dict[point3] = 3\n",
    "my_dict"
   ],
   "id": "f3a935cbf24b94e0",
   "outputs": [],
   "execution_count": null
  },
  {
   "metadata": {},
   "cell_type": "code",
   "source": [
    "my_dict[ImmutablePoint(\"source\", 0, 0)] = 44\n",
    "my_dict"
   ],
   "id": "7cace071880e86dc",
   "outputs": [],
   "execution_count": null
  },
  {
   "metadata": {},
   "cell_type": "markdown",
   "source": "# Item 57: Inherit from `collections.abc` Classes for Custom Container Types",
   "id": "a884a90d1898500"
  },
  {
   "metadata": {},
   "cell_type": "code",
   "source": [
    "# Subclassing list here, you see we get all the nice semantics of list, and it works like we'd expect\n",
    "class FrequencyList(list):\n",
    "    def __init__(self, members):\n",
    "        super().__init__(members)\n",
    "\n",
    "    def frequency(self):\n",
    "        counts = {}\n",
    "        for item in self:\n",
    "            counts[item] = counts.get(item, 0) + 1\n",
    "        return counts\n",
    "\n",
    "foo = FrequencyList([\"a\", \"b\", \"a\", \"c\", \"b\", \"a\", \"d\"])\n",
    "print(\"Length is\", len(foo))\n",
    "foo.pop()  # Removes \"d\"\n",
    "print(\"After pop:\", repr(foo))\n",
    "print(\"Frequency:\", foo.frequency())\n"
   ],
   "id": "3924adb4725fe43d",
   "outputs": [],
   "execution_count": null
  },
  {
   "metadata": {},
   "cell_type": "code",
   "source": [
    "# But what if we want list-like semantics for things that aren't really lists? Like Binary Trees\n",
    "class BinaryNode:\n",
    "    def __init__(self, value, left=None, right=None):\n",
    "        self.value = value\n",
    "        self.left = left\n",
    "        self.right = right\n",
    "\n",
    "class MyTreeSequence(BinaryNode):\n",
    "    def some_method(self):\n",
    "        return \"HA this doesn't actually fill the list semantics at all!!!\"\n",
    "\n",
    "foo = MyTreeSequence(4)\n",
    "len(foo)"
   ],
   "id": "e3c7b1530b9be2af",
   "outputs": [],
   "execution_count": null
  },
  {
   "metadata": {},
   "cell_type": "code",
   "source": [
    "# collections.abc gives us a set of abstracts that define the contract!\n",
    "\n",
    "from collections.abc import Sequence\n",
    "\n",
    "class MyTreeSequence(Sequence):  # PyCharm will squiggle this, demanding you implement the abstracts\n",
    "    def some_method(self):\n",
    "        return \"HA this doesn't actually fill the list semantics at all!!!\"\n",
    "\n",
    "foo = MyTreeSequence()"
   ],
   "id": "f901284f469160b7",
   "outputs": [],
   "execution_count": null
  },
  {
   "metadata": {},
   "cell_type": "code",
   "source": [
    "# Fill the contract!\n",
    "class IndexableNode(BinaryNode):\n",
    "    def _traverse(self):\n",
    "        if self.left is not None:\n",
    "            yield from self.left._traverse()\n",
    "        yield self\n",
    "        if self.right is not None:\n",
    "            yield from self.right._traverse()\n",
    "\n",
    "    def __getitem__(self, index):\n",
    "        for i, item in enumerate(self._traverse()):\n",
    "            if i == index:\n",
    "                return item.value\n",
    "        raise IndexError(f\"Index {index} is out of range\")\n",
    "\n",
    "class SequenceNode(IndexableNode):\n",
    "    def __len__(self):\n",
    "        count = 0\n",
    "        for _ in self._traverse():\n",
    "            count += 1\n",
    "        return count\n",
    "\n",
    "class BetterNode(SequenceNode, Sequence):\n",
    "    pass\n",
    "\n",
    "tree = BetterNode(\n",
    "    10,\n",
    "    left=BetterNode(\n",
    "        5,\n",
    "        left=BetterNode(2),\n",
    "        right=BetterNode(6, right=BetterNode(7)),\n",
    "    ),\n",
    "    right=BetterNode(15, left=BetterNode(11)),\n",
    ")\n",
    "\n",
    "print(\"Index of 7 is\", tree.index(7))\n",
    "print(\"Count of 10 is\", tree.count(10))\n"
   ],
   "id": "73938eccdfc135f3",
   "outputs": [],
   "execution_count": null
  }
 ],
 "metadata": {
  "kernelspec": {
   "display_name": "Python 3 (ipykernel)",
   "language": "python",
   "name": "python3"
  },
  "language_info": {
   "codemirror_mode": {
    "name": "ipython",
    "version": 3
   },
   "file_extension": ".py",
   "mimetype": "text/x-python",
   "name": "python",
   "nbconvert_exporter": "python",
   "pygments_lexer": "ipython3",
   "version": "3.13.2"
  }
 },
 "nbformat": 4,
 "nbformat_minor": 5
}
