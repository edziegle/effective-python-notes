{
 "cells": [
  {
   "cell_type": "markdown",
   "id": "23a222e9-dbd9-4c23-8314-7f7c90250e1e",
   "metadata": {},
   "source": [
    "# Chapter 5: Functions?!\n",
    "Boy howdy, do I love functions. Eat your heart out Java!!!"
   ]
  },
  {
   "cell_type": "markdown",
   "id": "225ed1b4-91cd-4d5c-89c4-b6bf748ad06b",
   "metadata": {},
   "source": [
    "## 30: Know that Function Arguments can be Mutated\n",
    "Python aint got them fancy pointer doodads, but that doesn't mean you're always safe passing things around."
   ]
  },
  {
   "cell_type": "code",
   "execution_count": 36,
   "id": "782998db-1bab-4ade-a6eb-6eec71af966d",
   "metadata": {},
   "outputs": [
    {
     "data": {
      "text/plain": [
       "[1, 2, 3, 4]"
      ]
     },
     "execution_count": 36,
     "metadata": {},
     "output_type": "execute_result"
    }
   ],
   "source": [
    "def mutant_attack(items):\n",
    "    items.append(4) # mutate what the reference points at\n",
    "\n",
    "x = [1,2,3]\n",
    "mutant_attack(x)\n",
    "x"
   ]
  },
  {
   "cell_type": "code",
   "execution_count": 37,
   "id": "293bb344-5770-413d-a15b-a71f9b3d52bb",
   "metadata": {},
   "outputs": [
    {
     "data": {
      "text/plain": [
       "[1, 2, 3]"
      ]
     },
     "execution_count": 37,
     "metadata": {},
     "output_type": "execute_result"
    }
   ],
   "source": [
    "def replace_em(items):\n",
    "    items = [9,8,7] # trying to mutate the reference itself\n",
    "\n",
    "y = [1,2,3]\n",
    "replace_em(y)\n",
    "y"
   ]
  },
  {
   "cell_type": "code",
   "execution_count": 38,
   "id": "72864bcf-b80d-4ba0-834e-c704af6d281e",
   "metadata": {},
   "outputs": [
    {
     "data": {
      "text/plain": [
       "[1, 2, 3, 4, 4]"
      ]
     },
     "execution_count": 38,
     "metadata": {},
     "output_type": "execute_result"
    }
   ],
   "source": [
    "z = x\n",
    "mutant_attack(z)\n",
    "x"
   ]
  },
  {
   "cell_type": "code",
   "execution_count": 19,
   "id": "f18035f4-dadd-45e1-9ba8-becf666d5ef4",
   "metadata": {},
   "outputs": [
    {
     "data": {
      "text/plain": [
       "20"
      ]
     },
     "execution_count": 19,
     "metadata": {},
     "output_type": "execute_result"
    }
   ],
   "source": [
    "class MyClass:\n",
    "    def __init__(self,value):\n",
    "        self.value = value\n",
    "\n",
    "x = MyClass(10)\n",
    "\n",
    "\n",
    "def my_mutator(obj):\n",
    "    obj.value = 20\n",
    "\n",
    "my_mutator(x)\n",
    "\n",
    "x.value"
   ]
  },
  {
   "cell_type": "markdown",
   "id": "771a246d-a36d-4d3e-b664-92258e189cb7",
   "metadata": {},
   "source": [
    "## 31: Return Dedicated Result Objects Instead of Requiring Function Callers to Unpack More Than Three Variables\n",
    "Lets take a look at a meaty function:"
   ]
  },
  {
   "cell_type": "code",
   "execution_count": 24,
   "id": "1476a8ce-df57-4ec6-a62a-c6fde2c7e566",
   "metadata": {},
   "outputs": [
    {
     "data": {
      "text/plain": [
       "(1, 5, 3.0, 3, 5)"
      ]
     },
     "execution_count": 24,
     "metadata": {},
     "output_type": "execute_result"
    }
   ],
   "source": [
    "from statistics import median as built_in_median\n",
    "\n",
    "def gimme_stats(nums):\n",
    "    minimum = min(nums)\n",
    "    maximum = max(nums)\n",
    "    count = len(nums)\n",
    "    average = sum(nums) / count\n",
    "    median = built_in_median(nums)\n",
    "    return minimum, maximum, average, median, count\n",
    "\n",
    "minimum, maximum, average, median, count = gimme_stats([1,2,3,4,5]) # lame\n",
    "gimme_stats([1,2,3,4,5]) "
   ]
  },
  {
   "cell_type": "markdown",
   "id": "07c0e13c-d634-4aa1-9760-b5441e0d6ea2",
   "metadata": {},
   "source": [
    "This sucks. What happens if you got things in the wrong order, or had the wrong number of unpacking vars? BOO\n",
    "\n",
    "Dataclasses to the rescue!\n",
    "Eric shameless brag moment, after reading the title of this item I thought \"oh yeah definitely use a dataclass\"\n",
    "\n",
    "(almost as if someone has read the previous edition of this book 🤔)"
   ]
  },
  {
   "cell_type": "code",
   "execution_count": 26,
   "id": "d3729bcb-3352-4e63-abdb-6e7e806d1ede",
   "metadata": {},
   "outputs": [
    {
     "data": {
      "text/plain": [
       "Stats(minimum=1, maximum=9, average=9.0, median=5, count=9)"
      ]
     },
     "execution_count": 26,
     "metadata": {},
     "output_type": "execute_result"
    }
   ],
   "source": [
    "@dataclass\n",
    "class Stats:\n",
    "    minimum: float\n",
    "    maximum: float\n",
    "    average: float\n",
    "    median: float\n",
    "    count: int\n",
    "\n",
    "def gimme_stats(nums):\n",
    "    return Stats(\n",
    "        minimum=min(nums),\n",
    "        maximum=max(nums),\n",
    "        count=len(nums),\n",
    "        average=sum(nums) / count,\n",
    "        median=built_in_median(nums),\n",
    "    )\n",
    "\n",
    "those_stats = gimme_stats([1,2,3,4,5,6,7,8,9])\n",
    "those_stats"
   ]
  },
  {
   "cell_type": "markdown",
   "id": "680ca8e8-61d5-490b-abfa-7e47061893d8",
   "metadata": {},
   "source": [
    "This is easier to work with, and lets you fetch things by their names too like `those_stats.average` etc"
   ]
  },
  {
   "cell_type": "markdown",
   "id": "9ca4efc0-b62f-4510-8dac-cb02076a75e8",
   "metadata": {},
   "source": [
    "## 32: Prefer Raising Exceptions to Returning `None`\n",
    "Whoops, Eric did this in a few spots in `swordfish`! Loser.\n",
    "\n",
    "#### For the Java-Afflicted\n",
    "Returning `None` is basically as egregious as returning `null`. There's no reason to do it in modern Java."
   ]
  },
  {
   "cell_type": "code",
   "execution_count": 31,
   "id": "60c65a2d-8ba4-4572-aec8-ebd684ede960",
   "metadata": {},
   "outputs": [
    {
     "name": "stdout",
     "output_type": "stream",
     "text": [
      "dang it, we divided by zero!!!\n"
     ]
    }
   ],
   "source": [
    "# A seemingly reasonable case\n",
    "def careful_divide(a, b):\n",
    "    try:\n",
    "        return a / b\n",
    "    except ZeroDivisionError:\n",
    "        return None\n",
    "\n",
    "x, y = 1, 0\n",
    "result = careful_divide(x, y)\n",
    "if result is None:\n",
    "    print(\"dang it, we divided by zero!!!\")"
   ]
  },
  {
   "cell_type": "code",
   "execution_count": 32,
   "id": "eaf71c76-d485-49bf-9bf4-d79efbef85bf",
   "metadata": {},
   "outputs": [
    {
     "name": "stdout",
     "output_type": "stream",
     "text": [
      "Uhh.... wait this wasn't a None\n"
     ]
    }
   ],
   "source": [
    "# Where it gets a bit messy:\n",
    "x, y = 0, 5\n",
    "result = careful_divide(x, y)\n",
    "if not result:\n",
    "    print(\"Uhh.... wait this wasn't a None\")"
   ]
  },
  {
   "cell_type": "code",
   "execution_count": 35,
   "id": "f09b2cd0-591a-49e0-b489-82715c1ac8ec",
   "metadata": {},
   "outputs": [
    {
     "name": "stdout",
     "output_type": "stream",
     "text": [
      "Invalid inputs\n"
     ]
    }
   ],
   "source": [
    "# You could do it like this, as the book explains\n",
    "def careful_divide_bad_no(a, b):\n",
    "    try:\n",
    "        return True, a / b\n",
    "    except ZeroDivisionError:\n",
    "        return False, None\n",
    "\n",
    "# But lets be real, this is bad API design. We foist extra work on callers,\n",
    "# and there's no guarantee they'll heed it anyway..\n",
    "# they might even think the first value is the result. It's bad! BOO\n",
    "\n",
    "_, result = careful_divide_bad_no(x, y)\n",
    "if not result:\n",
    "    print(\"Invalid inputs\")"
   ]
  },
  {
   "cell_type": "code",
   "execution_count": 36,
   "id": "fff13f13-6f96-434b-8236-3fbd0f4242d4",
   "metadata": {},
   "outputs": [
    {
     "name": "stdout",
     "output_type": "stream",
     "text": [
      "Result is 2.5\n"
     ]
    }
   ],
   "source": [
    "# In Python, exceptions aren't always _exceptional_\n",
    "\n",
    "def careful_divide(a, b):\n",
    "    try:\n",
    "        return a / b\n",
    "    except ZeroDivisionError:\n",
    "        raise ValueError(\"Invalid inputs\")\n",
    "\n",
    "x, y = 5, 2\n",
    "try:\n",
    "    result = careful_divide(x, y)\n",
    "except ValueError:\n",
    "    print(\"Invalid inputs\")\n",
    "else:\n",
    "    print(f\"Result is {result:.1f}\")\n"
   ]
  },
  {
   "cell_type": "markdown",
   "id": "71201fab-9600-4936-8201-9c4efd259780",
   "metadata": {},
   "source": [
    "This is kind of a trite example, because honestly we could always just _not_ catch/handle the `ZeroDivisionError` in the function and put that onus on the caller.\n",
    "\n",
    "A better way to think about this would be with an API and a Database:"
   ]
  },
  {
   "cell_type": "code",
   "execution_count": 38,
   "id": "cce5c994-f7e7-436c-b048-fbc4e8cd47e2",
   "metadata": {},
   "outputs": [
    {
     "ename": "ValueError",
     "evalue": "I REFUSE to connect, you CANNOT make me!",
     "output_type": "error",
     "traceback": [
      "\u001b[0;31m---------------------------------------------------------------------------\u001b[0m",
      "\u001b[0;31mValueError\u001b[0m                                Traceback (most recent call last)",
      "Cell \u001b[0;32mIn[38], line 14\u001b[0m\n\u001b[1;32m      9\u001b[0m         \u001b[38;5;28mself\u001b[39m\u001b[38;5;241m.\u001b[39merror_code \u001b[38;5;241m=\u001b[39m error_code\n\u001b[1;32m     11\u001b[0m my_trustworthy_db_client \u001b[38;5;241m=\u001b[39m MyDbClient()\n\u001b[0;32m---> 14\u001b[0m db_connection \u001b[38;5;241m=\u001b[39m \u001b[43mmy_trustworthy_db_client\u001b[49m\u001b[38;5;241;43m.\u001b[39;49m\u001b[43mconnect\u001b[49m\u001b[43m(\u001b[49m\u001b[43m)\u001b[49m\n",
      "Cell \u001b[0;32mIn[38], line 4\u001b[0m, in \u001b[0;36mMyDbClient.connect\u001b[0;34m(self)\u001b[0m\n\u001b[1;32m      3\u001b[0m \u001b[38;5;28;01mdef\u001b[39;00m\u001b[38;5;250m \u001b[39m\u001b[38;5;21mconnect\u001b[39m(\u001b[38;5;28mself\u001b[39m):\n\u001b[0;32m----> 4\u001b[0m     \u001b[38;5;28;01mraise\u001b[39;00m \u001b[38;5;167;01mValueError\u001b[39;00m(\u001b[38;5;124m\"\u001b[39m\u001b[38;5;124mI REFUSE to connect, you CANNOT make me!\u001b[39m\u001b[38;5;124m\"\u001b[39m)\n",
      "\u001b[0;31mValueError\u001b[0m: I REFUSE to connect, you CANNOT make me!"
     ]
    }
   ],
   "source": [
    "class MyDbClient:\n",
    "    \"\"\"A really bad DB client.\"\"\"\n",
    "    def connect(self):\n",
    "        raise ValueError(\"I REFUSE to connect, you CANNOT make me!\")\n",
    "\n",
    "my_trustworthy_db_client = MyDbClient()\n",
    "\n",
    "db_connection = my_trustworthy_db_client.connect()"
   ]
  },
  {
   "cell_type": "code",
   "execution_count": 50,
   "id": "696aecd9-68d1-481e-8cae-57134d19dad9",
   "metadata": {},
   "outputs": [],
   "source": [
    "class MyHttpException(Exception):\n",
    "    \"\"\"An error your webserver knows how to handle.\"\"\"\n",
    "    def __init__(self, message, error_code):\n",
    "        super().__init__(message)\n",
    "        self.error_code = error_code\n",
    "\n",
    "def my_get_route():\n",
    "    \"\"\"Gets the item from the database.\n",
    "\n",
    "    Raises:\n",
    "        MyHttpException: When the database is being goofy.\n",
    "    \"\"\"\n",
    "    try:\n",
    "        db_connection = my_trustworthy_db_client.connect()\n",
    "    except ValueError as e:\n",
    "        raise MyHttpException(\"Something goofed.\", 500) from e\n",
    "\n",
    "# my_get_route()"
   ]
  },
  {
   "cell_type": "markdown",
   "id": "6baaa6bd-7640-49c4-bd8b-a1d123c3fe47",
   "metadata": {},
   "source": [
    "PAUSE: what's `from e`?"
   ]
  },
  {
   "cell_type": "code",
   "execution_count": 51,
   "id": "fbb17d3c-e8f7-4a3d-b653-76c21ad90619",
   "metadata": {},
   "outputs": [
    {
     "data": {
      "text/plain": [
       "500"
      ]
     },
     "execution_count": 51,
     "metadata": {},
     "output_type": "execute_result"
    }
   ],
   "source": [
    "def my_top_handler():\n",
    "    try:\n",
    "        return my_get_route()\n",
    "    except MyHttpException as e:\n",
    "        return e.error_code\n",
    "\n",
    "my_top_handler()"
   ]
  },
  {
   "cell_type": "markdown",
   "id": "6ef25cfe-f7a1-40fe-bb23-2543b49058f5",
   "metadata": {},
   "source": [
    "# 33: Know How Closures Interact with Variable Scope and `nonlocal`"
   ]
  },
  {
   "cell_type": "code",
   "execution_count": 57,
   "id": "f54e5b56-2da8-4b32-8e0f-03e9dda1fcc0",
   "metadata": {},
   "outputs": [
    {
     "data": {
      "text/plain": [
       "[2, 3, 5, 7, 1, 4, 6, 8]"
      ]
     },
     "execution_count": 57,
     "metadata": {},
     "output_type": "execute_result"
    }
   ],
   "source": [
    "def sort_notifications(values, group):\n",
    "    def sort_key(x): # define our sort key as a closure function\n",
    "        if x in group:\n",
    "            return (0, x) # rely on built-in sequence comparison behavior\n",
    "        return (1, x)\n",
    "\n",
    "    values.sort(key=sort_key)\n",
    "\n",
    "# imagine these are notification IDs\n",
    "notifications = [8, 3, 1, 2, 5, 4, 7, 6]\n",
    "high_priority = {2, 3, 5, 7}\n",
    "sort_notifications(notifications, high_priority)\n",
    "notifications\n",
    "\n",
    "# for each notification send to front end blah blah"
   ]
  },
  {
   "cell_type": "markdown",
   "id": "b4b9c9f2-678a-41b0-a5bd-3b2069f284c4",
   "metadata": {},
   "source": [
    "Oops, new requirements: the FE team would like to _know_ if any of the high priority notifications were seen or not."
   ]
  },
  {
   "cell_type": "code",
   "execution_count": 1,
   "id": "dee96094-5084-4478-8ae8-0ed749223099",
   "metadata": {},
   "outputs": [
    {
     "name": "stdout",
     "output_type": "stream",
     "text": [
      "Found: False; order: [2, 3, 5, 7, 1, 4, 6, 8]\n"
     ]
    }
   ],
   "source": [
    "def sort_notifications2(values, group):\n",
    "    found = False\n",
    "    \n",
    "    def sort_key(x):\n",
    "        if x in group:\n",
    "            found = True # we found one!!!\n",
    "            return (0, x)\n",
    "        return (1, x)\n",
    "\n",
    "    values.sort(key=sort_key)\n",
    "    return found\n",
    "\n",
    "notifications = [8, 3, 1, 2, 5, 4, 7, 6]\n",
    "high_priority = {2, 3, 5, 7}\n",
    "found = sort_notifications2(notifications, high_priority)\n",
    "print(f\"Found: {found}; order: {notifications}\")"
   ]
  },
  {
   "attachments": {},
   "cell_type": "markdown",
   "id": "14d73e9b-ff76-4d88-b6bc-7454fe56635c",
   "metadata": {},
   "source": [
    "![spongebob.png](spongebob.png)\n",
    "\n",
    "### Okay, so what the hell?\n",
    "The `found = True` is treated as _variable assignment_ by the Python interpreter. Essentially, it traversed the scope and immediately found `found = True` which is a valid variable assignment, so it stopped here, and determined this expression was creating a new variable `found` in the local scope. It never traversed back up to see the `found = False`\n",
    "\n",
    "This is intentional behavior, to keep the global module scope clean."
   ]
  },
  {
   "cell_type": "code",
   "execution_count": 3,
   "id": "561a8419-ceef-49a6-a9aa-f92275522279",
   "metadata": {},
   "outputs": [
    {
     "name": "stdout",
     "output_type": "stream",
     "text": [
      "Found: True; order: [2, 3, 5, 7, 1, 4, 6, 8]\n"
     ]
    }
   ],
   "source": [
    "def sort_notifications2(values, group):\n",
    "    found = False\n",
    "    \n",
    "    def sort_key(x):\n",
    "        nonlocal found  # give Python a lil hint...\n",
    "        if x in group:\n",
    "            found = True\n",
    "            return (0, x)\n",
    "        return (1, x)\n",
    "\n",
    "    values.sort(key=sort_key)\n",
    "    return found\n",
    "\n",
    "notifications = [8, 3, 1, 2, 5, 4, 7, 6]\n",
    "high_priority = {2, 3, 5, 7}\n",
    "found = sort_notifications2(notifications, high_priority)\n",
    "print(f\"Found: {found}; order: {notifications}\")"
   ]
  },
  {
   "cell_type": "markdown",
   "id": "d255b09e-a361-4bdf-883b-80c747f871a2",
   "metadata": {},
   "source": [
    "And that made it work! BUT, we should use `nonlocal` (and its counterpart `global`) sparringly, as these are almost like GOTOs for variables. Spooky shit bro."
   ]
  },
  {
   "cell_type": "markdown",
   "id": "b34bab09-f2e7-4f0e-82c2-0ab8abb819f9",
   "metadata": {},
   "source": [
    "# 34: Reduce Visual Noise with Variable Positional Arguments\n",
    "Remember the unpacking syntax? It's back again."
   ]
  },
  {
   "cell_type": "code",
   "execution_count": 34,
   "id": "9a06897b-6c62-457a-bd10-92bda774238d",
   "metadata": {},
   "outputs": [
    {
     "name": "stdout",
     "output_type": "stream",
     "text": [
      "Video Center is showing me scary numbers: 1, 2\n",
      "I stubbed my toe and now I can't reach my computer to publish my photo\n"
     ]
    }
   ],
   "source": [
    "def raise_p0(message, values):\n",
    "    if not values:\n",
    "        print(message)\n",
    "    else:\n",
    "        values_str = \", \".join(str(x) for x in values)\n",
    "        print(f\"{message}: {values_str}\")\n",
    "\n",
    "raise_p0(\"Video Center is showing me scary numbers\", [1, 2])\n",
    "raise_p0(\"I stubbed my toe and now I can't reach my computer to publish my photo\", [])"
   ]
  },
  {
   "cell_type": "markdown",
   "id": "68674eb8-7ea2-43e4-9a44-47ba81a8c1e4",
   "metadata": {},
   "source": [
    "Sweet, we STREAMLINED the process for customers to raise issues and hold us accountable! But, well... this function could be better:\n",
    "\n",
    "`raise_p0(\"I only want to give one argument!\", [])`"
   ]
  },
  {
   "cell_type": "code",
   "execution_count": 8,
   "id": "89deb677-ace4-4b3c-8ae5-74ac6df085f1",
   "metadata": {},
   "outputs": [
    {
     "name": "stdout",
     "output_type": "stream",
     "text": [
      "I don't like teal: 1, 2, please use red\n",
      "Test please ignore\n"
     ]
    }
   ],
   "source": [
    "def raise_p0(message, *values):\n",
    "    if not values:\n",
    "        print(message)\n",
    "    else:\n",
    "        values_str = \", \".join(str(x) for x in values)\n",
    "        print(f\"{message}: {values_str}\")\n",
    "\n",
    "raise_p0(\"I don't like teal\", 1, 2, \"please use red\")\n",
    "raise_p0(\"Test please ignore\")"
   ]
  },
  {
   "cell_type": "code",
   "execution_count": null,
   "id": "b3029e22-2dab-4ce6-bf62-0db6417f0447",
   "metadata": {},
   "outputs": [],
   "source": []
  },
  {
   "cell_type": "code",
   "execution_count": 12,
   "id": "2b392ef2-fae4-441d-aaf8-88bd11bd48cc",
   "metadata": {},
   "outputs": [
    {
     "name": "stdout",
     "output_type": "stream",
     "text": [
      "I'm sick and tired, and wont take it anymore!: its bad, its expensive, jimmy giving me weird looks\n"
     ]
    }
   ],
   "source": [
    "# You can use this WITH unpacking! Wow!\n",
    "litany_of_complaints = [\"its bad\", \"its expensive\", \"jimmy giving me weird looks\"]\n",
    "\n",
    "raise_p0(\"I'm sick and tired, and wont take it anymore!\", *litany_of_complaints)"
   ]
  },
  {
   "cell_type": "markdown",
   "id": "4f997019-947f-4b9a-af4b-36111765e247",
   "metadata": {},
   "source": [
    "#### Warning: Remember Generators?\n",
    "Consider the following"
   ]
  },
  {
   "cell_type": "code",
   "execution_count": 11,
   "id": "09fd1a27-132a-4618-8dd9-1c1c50c5aea7",
   "metadata": {},
   "outputs": [],
   "source": [
    "def lots_of_numbers():\n",
    "    for i in range(1_000_000_000_000):\n",
    "        yield i\n",
    "\n",
    "it = lots_of_numbers()\n",
    "\n",
    "# Probably don't run this example <_<\n",
    "# raise_p0(\"hellos, I am friendli not-hacker\", *it)"
   ]
  },
  {
   "cell_type": "markdown",
   "id": "928ddf02-7e66-4c41-b4ab-3c7b914362ae",
   "metadata": {},
   "source": [
    "Another annoyance: what if you refactor to add a positional arg?"
   ]
  },
  {
   "cell_type": "code",
   "execution_count": 15,
   "id": "0f4afed5-9659-4046-a9c8-91bdf84d938b",
   "metadata": {},
   "outputs": [
    {
     "name": "stdout",
     "output_type": "stream",
     "text": [
      "P1 - help: something is broken!\n",
      "PI'm sick and tired, and wont take it anymore! - its bad: its expensive, jimmy giving me weird looks\n"
     ]
    }
   ],
   "source": [
    "def raise_support(priority, message, *values):\n",
    "    if not values:\n",
    "        print(message)\n",
    "    else:\n",
    "        values_str = \", \".join(str(x) for x in values)\n",
    "        print(f\"P{priority} - {message}: {values_str}\")\n",
    "\n",
    "raise_support(1, \"help\", \"something is broken!\") # fine\n",
    "raise_support(\"I'm sick and tired, and wont take it anymore!\", *litany_of_complaints) # oops\n",
    "# because of the *arg, the function will happily accept calls with variable inputs\n",
    "# Python won't help you catch this bug"
   ]
  },
  {
   "cell_type": "markdown",
   "id": "e09cfb64-d69d-4fad-8949-8a2ecac7f415",
   "metadata": {},
   "source": [
    "Type annotations can protect you a bit here:\n",
    "```python\n",
    "def raise_support(priority: int, message: str, *values: Any):```"
   ]
  },
  {
   "cell_type": "markdown",
   "id": "de23c5e8-7729-4625-b977-baf2d0ff9035",
   "metadata": {},
   "source": [
    "# 35: Provide Optional Behavior with Keyword Arguments\n",
    "This is the one I miss the most when I'm working in Java."
   ]
  },
  {
   "cell_type": "code",
   "execution_count": 19,
   "id": "d7e3b802-e2c8-4dd6-a373-ad9654ee4a42",
   "metadata": {},
   "outputs": [
    {
     "name": "stdout",
     "output_type": "stream",
     "text": [
      "FOO 1, BAR 2, BAZ 1\n",
      "FOO 1, BAR 2, BAZ 1\n"
     ]
    }
   ],
   "source": [
    "def foo_much(foo, bar, baz=1):\n",
    "    print(f\"FOO {foo}, BAR {bar}, BAZ {baz}\")\n",
    "\n",
    "foo_much(1,2)\n",
    "foo_much(bar=2, foo=1)"
   ]
  },
  {
   "cell_type": "code",
   "execution_count": 22,
   "id": "fafe1170-8422-4e25-9145-b452b244d3cc",
   "metadata": {},
   "outputs": [],
   "source": [
    "# Bad\n",
    "# foo_much(foo=1, bar=2, foo=2)\n",
    "# foo_much(bar=2, 1)"
   ]
  },
  {
   "cell_type": "code",
   "execution_count": 25,
   "id": "7643ef0c-640b-40fa-80a1-3475fcff36e1",
   "metadata": {},
   "outputs": [
    {
     "name": "stdout",
     "output_type": "stream",
     "text": [
      "FOO 22, BAR 99, BAZ 1\n",
      "FOO 22, BAR 99, BAZ 9000\n"
     ]
    }
   ],
   "source": [
    "foobar = {\"foo\": 22, \"bar\": 99}\n",
    "foo_much(**foobar)\n",
    "foo_much(**foobar, baz=9000)"
   ]
  },
  {
   "cell_type": "code",
   "execution_count": 26,
   "id": "03d2fb8a-04a1-4a2d-8a7b-4d7946ce15bd",
   "metadata": {},
   "outputs": [
    {
     "name": "stdout",
     "output_type": "stream",
     "text": [
      "FOO 22, BAR 99, BAZ 8888\n"
     ]
    }
   ],
   "source": [
    "baz = {\"baz\": 8888}\n",
    "foo_much(**baz, **foobar) # note, no overlapping keys"
   ]
  },
  {
   "cell_type": "code",
   "execution_count": 29,
   "id": "01c6f0e9-2da8-43cf-b7e7-1261e88b3073",
   "metadata": {},
   "outputs": [
    {
     "name": "stdout",
     "output_type": "stream",
     "text": [
      "FOO 1\n",
      "BAR 2\n",
      "BAZ 3\n"
     ]
    }
   ],
   "source": [
    "# Similar to the variable positional args, we can do this for keyword args (KWARGS) too:\n",
    "def generic_much(**kwargs):\n",
    "    for key, value in kwargs.items():\n",
    "        print(f\"{key} {value}\".upper())\n",
    "\n",
    "generic_much(foo=1, bar=2, baz=3)"
   ]
  },
  {
   "cell_type": "markdown",
   "id": "290c093b-24c2-41b1-8d5a-b6c395725048",
   "metadata": {},
   "source": [
    "# 36: Use `None` and Docstrings to Specify Dynamic Default Arguments\n",
    "Would you look at that, we got new requirements for our ACS python SDK! They want timestamps?!"
   ]
  },
  {
   "cell_type": "code",
   "execution_count": 40,
   "id": "29ded40f-5a46-405b-84c2-48653487fb98",
   "metadata": {},
   "outputs": [
    {
     "name": "stdout",
     "output_type": "stream",
     "text": [
      "2025-04-16 17:07:48.891218: P1 - help: something is broken!\n",
      "2025-04-16 17:07:48.891218: P5 - I just wanted to talk\n"
     ]
    }
   ],
   "source": [
    "from time import sleep\n",
    "from datetime import datetime\n",
    "\n",
    "def raise_support(priority, message, *values, when=datetime.now()):\n",
    "    if not values:\n",
    "        print(f\"{when}: P{priority} - {message}\")\n",
    "    else:\n",
    "        values_str = \", \".join(str(x) for x in values)\n",
    "        print(f\"{when}: P{priority} - {message}: {values_str}\")\n",
    "\n",
    "raise_support(1, \"help\", \"something is broken!\")\n",
    "sleep(0.2)\n",
    "raise_support(5, \"I just wanted to talk\")"
   ]
  },
  {
   "cell_type": "markdown",
   "id": "84fab60d-7811-481e-950f-f768998b89ae",
   "metadata": {},
   "source": [
    "Wait a minute... those are the same timestamps\n",
    "![huh.jpg](huh.jpg)\n",
    "\n",
    "Yeah! When Python first encounters `raise_support` while evaluating source code, it executes and saves the result of that first `datetime.now()`."
   ]
  },
  {
   "cell_type": "code",
   "execution_count": 42,
   "id": "3681114f-e3bd-4399-a2be-8dbbf5d5c2f1",
   "metadata": {},
   "outputs": [
    {
     "name": "stdout",
     "output_type": "stream",
     "text": [
      "2025-04-16 17:16:46.951552: P1 - help: something is broken!\n",
      "2025-04-16 17:16:47.156594: P5 - I just wanted to talk\n"
     ]
    }
   ],
   "source": [
    "# The conventional way\n",
    "\n",
    "def raise_support(priority, message, *values, when=None):\n",
    "    \"\"\"Raise the support team\n",
    "\n",
    "    Args:\n",
    "        ...\n",
    "        when: datetime of when the message occured, defaults to now.\n",
    "    \"\"\"\n",
    "    if when is None:\n",
    "        when = datetime.now()\n",
    "    if not values:\n",
    "        print(f\"{when}: P{priority} - {message}\")\n",
    "    else:\n",
    "        values_str = \", \".join(str(x) for x in values)\n",
    "        print(f\"{when}: P{priority} - {message}: {values_str}\")\n",
    "\n",
    "raise_support(1, \"help\", \"something is broken!\")\n",
    "sleep(0.2)\n",
    "raise_support(5, \"I just wanted to talk\")"
   ]
  },
  {
   "cell_type": "markdown",
   "id": "b38b9efd-6895-4f97-9585-4d19033fb939",
   "metadata": {},
   "source": [
    "A BRIEF ASIDE: datetime.now()\n",
    "\n",
    "Likely your LLM will tell you to use `datetime.utcnow()` if you want `now` with timezone info. This is the old and wrong way. Instead, do thus:\n",
    "\n",
    "```python\n",
    "from datetime import UTC\n",
    "\n",
    "datetime.now(UTC)\n",
    "```\n"
   ]
  },
  {
   "cell_type": "markdown",
   "id": "ce68c764-618c-4b7e-a1cb-978385739cda",
   "metadata": {},
   "source": [
    "# 37: Enforce Clarity with Keyword-Only and Positional-Only Arguments"
   ]
  },
  {
   "cell_type": "code",
   "execution_count": 46,
   "id": "7d252a6c-c9ee-4fdb-a907-a82e3765501a",
   "metadata": {},
   "outputs": [
    {
     "ename": "TypeError",
     "evalue": "get_resizer_support() takes 2 positional arguments but 3 were given",
     "output_type": "error",
     "traceback": [
      "\u001b[0;31m---------------------------------------------------------------------------\u001b[0m",
      "\u001b[0;31mTypeError\u001b[0m                                 Traceback (most recent call last)",
      "Cell \u001b[0;32mIn[46], line 7\u001b[0m\n\u001b[1;32m      4\u001b[0m     \u001b[38;5;28;01melse\u001b[39;00m:\n\u001b[1;32m      5\u001b[0m         \u001b[38;5;28mprint\u001b[39m(\u001b[38;5;124mf\u001b[39m\u001b[38;5;124m\"\u001b[39m\u001b[38;5;124mP\u001b[39m\u001b[38;5;132;01m{\u001b[39;00mpriority\u001b[38;5;132;01m}\u001b[39;00m\u001b[38;5;124m - \u001b[39m\u001b[38;5;132;01m{\u001b[39;00mmessage\u001b[38;5;132;01m}\u001b[39;00m\u001b[38;5;124m\"\u001b[39m)\n\u001b[0;32m----> 7\u001b[0m \u001b[43mget_resizer_support\u001b[49m\u001b[43m(\u001b[49m\u001b[38;5;241;43m0\u001b[39;49m\u001b[43m,\u001b[49m\u001b[43m \u001b[49m\u001b[38;5;124;43m\"\u001b[39;49m\u001b[38;5;124;43mRESIZE GIF\u001b[39;49m\u001b[38;5;124;43m\"\u001b[39;49m\u001b[43m,\u001b[49m\u001b[43m \u001b[49m\u001b[38;5;28;43;01mTrue\u001b[39;49;00m\u001b[43m)\u001b[49m\n",
      "\u001b[0;31mTypeError\u001b[0m: get_resizer_support() takes 2 positional arguments but 3 were given"
     ]
    }
   ],
   "source": [
    "def get_resizer_support(priority, message_for_jimmy, *, direct_to_jimmy=True):\n",
    "    if direct_to_jimmy:\n",
    "        print(\"JIMMY PLZ\")\n",
    "    else:\n",
    "        print(f\"P{priority} - {message}\")\n",
    "\n",
    "get_resizer_support(0, \"RESIZE GIF\", True)"
   ]
  },
  {
   "cell_type": "code",
   "execution_count": 47,
   "id": "1a5dca5c-9b1d-442e-9471-9268e0d254a1",
   "metadata": {},
   "outputs": [
    {
     "name": "stdout",
     "output_type": "stream",
     "text": [
      "JIMMY PLZ\n"
     ]
    }
   ],
   "source": [
    "get_resizer_support(0, message_for_jimmy=\"RESIZE GIF\", direct_to_jimmy=True)"
   ]
  },
  {
   "cell_type": "markdown",
   "id": "529dd912-4c5c-434e-86cc-1642f0f86650",
   "metadata": {},
   "source": [
    "Uh oh, this wont work, what if we finally figure out how to support resizer _without_ bothering Jimmy? We gotta make sure people don't use that named `message_for_jimmy` bit, otherwise we'll break them when we update the function!"
   ]
  },
  {
   "cell_type": "code",
   "execution_count": 50,
   "id": "fbf50923-002e-4751-ae9a-756b1dccbc72",
   "metadata": {},
   "outputs": [
    {
     "ename": "TypeError",
     "evalue": "get_resizer_support() got some positional-only arguments passed as keyword arguments: 'message_for_jimmy'",
     "output_type": "error",
     "traceback": [
      "\u001b[0;31m---------------------------------------------------------------------------\u001b[0m",
      "\u001b[0;31mTypeError\u001b[0m                                 Traceback (most recent call last)",
      "Cell \u001b[0;32mIn[50], line 7\u001b[0m\n\u001b[1;32m      4\u001b[0m     \u001b[38;5;28;01melse\u001b[39;00m:\n\u001b[1;32m      5\u001b[0m         \u001b[38;5;28mprint\u001b[39m(\u001b[38;5;124mf\u001b[39m\u001b[38;5;124m\"\u001b[39m\u001b[38;5;124mP\u001b[39m\u001b[38;5;132;01m{\u001b[39;00mpriority\u001b[38;5;132;01m}\u001b[39;00m\u001b[38;5;124m - \u001b[39m\u001b[38;5;132;01m{\u001b[39;00mmessage\u001b[38;5;132;01m}\u001b[39;00m\u001b[38;5;124m\"\u001b[39m)\n\u001b[0;32m----> 7\u001b[0m \u001b[43mget_resizer_support\u001b[49m\u001b[43m(\u001b[49m\u001b[38;5;241;43m0\u001b[39;49m\u001b[43m,\u001b[49m\u001b[43m \u001b[49m\u001b[43mmessage_for_jimmy\u001b[49m\u001b[38;5;241;43m=\u001b[39;49m\u001b[38;5;124;43m\"\u001b[39;49m\u001b[38;5;124;43mRESIZE GIF\u001b[39;49m\u001b[38;5;124;43m\"\u001b[39;49m\u001b[43m)\u001b[49m\n",
      "\u001b[0;31mTypeError\u001b[0m: get_resizer_support() got some positional-only arguments passed as keyword arguments: 'message_for_jimmy'"
     ]
    }
   ],
   "source": [
    "def get_resizer_support(priority, message_for_jimmy, /, *, direct_to_jimmy=True):\n",
    "    if direct_to_jimmy:\n",
    "        print(\"JIMMY PLZ\")\n",
    "    else:\n",
    "        print(f\"P{priority} - {message}\")\n",
    "\n",
    "get_resizer_support(0, message_for_jimmy=\"RESIZE GIF\")"
   ]
  },
  {
   "cell_type": "code",
   "execution_count": 51,
   "id": "83e09551-6890-4f0b-9c55-a0eea49d5f65",
   "metadata": {},
   "outputs": [
    {
     "name": "stdout",
     "output_type": "stream",
     "text": [
      "JIMMY PLZ\n"
     ]
    }
   ],
   "source": [
    "get_resizer_support(0, \"RESIZE GIF\")"
   ]
  },
  {
   "cell_type": "code",
   "execution_count": 54,
   "id": "31121042-f328-4ccc-9220-7403e917b75e",
   "metadata": {},
   "outputs": [
    {
     "name": "stdout",
     "output_type": "stream",
     "text": [
      "1\n"
     ]
    }
   ],
   "source": [
    "def foo(x, /):\n",
    "    print(x)\n",
    "\n",
    "foo(1)"
   ]
  },
  {
   "cell_type": "markdown",
   "id": "15526cb8-841b-4768-864a-137b996e101d",
   "metadata": {},
   "source": [
    "# 38: Define Function Decorators with `functools.wraps`"
   ]
  },
  {
   "cell_type": "code",
   "execution_count": 66,
   "id": "e03d56d1-069b-4e9c-b1cc-7f17517f8a6c",
   "metadata": {},
   "outputs": [],
   "source": [
    "# an example tracing decorator\n",
    "def trace(func):\n",
    "    def wrapper(*args, **kwargs):\n",
    "        args_repr = repr(args)\n",
    "        kwargs_repr = repr(kwargs)\n",
    "        result = func(*args, **kwargs)\n",
    "        print(f\"{func.__name__}\"\n",
    "              f\"({args_repr}, {kwargs_repr}) \"\n",
    "              f\"-> {result!r}\")\n",
    "        return result\n",
    "\n",
    "    return wrapper"
   ]
  },
  {
   "cell_type": "code",
   "execution_count": 67,
   "id": "29fb9202-3de5-4461-b9d8-8293c2ad105b",
   "metadata": {},
   "outputs": [
    {
     "name": "stdout",
     "output_type": "stream",
     "text": [
      "fibonacci((1,), {}) -> 1\n",
      "fibonacci((0,), {}) -> 0\n",
      "fibonacci((1,), {}) -> 1\n",
      "fibonacci((2,), {}) -> 1\n",
      "fibonacci((3,), {}) -> 2\n"
     ]
    },
    {
     "data": {
      "text/plain": [
       "2"
      ]
     },
     "execution_count": 67,
     "metadata": {},
     "output_type": "execute_result"
    }
   ],
   "source": [
    "# lets trace a fibbo\n",
    "\n",
    "@trace\n",
    "def fibonacci(n):\n",
    "    \"\"\"Return the n-th Fibonacci number\"\"\"\n",
    "    if n in (0, 1):\n",
    "        return n\n",
    "    return fibonacci(n - 2) + fibonacci(n - 1)\n",
    "\n",
    "fibonacci(3)"
   ]
  },
  {
   "cell_type": "code",
   "execution_count": 68,
   "id": "9e2f7e57-d73e-4c31-8634-573c861dc6f5",
   "metadata": {},
   "outputs": [
    {
     "name": "stdout",
     "output_type": "stream",
     "text": [
      "Help on function wrapper in module __main__:\n",
      "\n",
      "wrapper(*args, **kwargs)\n",
      "\n"
     ]
    }
   ],
   "source": [
    "# typical decorator problem, the function loses its name!\n",
    "help(fibonacci)"
   ]
  },
  {
   "cell_type": "code",
   "execution_count": 69,
   "id": "3552fe5d-c5dd-40c3-9207-c70919caa82e",
   "metadata": {},
   "outputs": [
    {
     "ename": "AttributeError",
     "evalue": "Can't get local object 'trace.<locals>.wrapper'",
     "output_type": "error",
     "traceback": [
      "\u001b[0;31m---------------------------------------------------------------------------\u001b[0m",
      "\u001b[0;31mAttributeError\u001b[0m                            Traceback (most recent call last)",
      "Cell \u001b[0;32mIn[69], line 4\u001b[0m\n\u001b[1;32m      1\u001b[0m \u001b[38;5;66;03m# this breaks serialization too (which matters for distributed runners, or machine-learning\u001b[39;00m\n\u001b[1;32m      2\u001b[0m \u001b[38;5;28;01mimport\u001b[39;00m\u001b[38;5;250m \u001b[39m\u001b[38;5;21;01mpickle\u001b[39;00m\n\u001b[0;32m----> 4\u001b[0m \u001b[43mpickle\u001b[49m\u001b[38;5;241;43m.\u001b[39;49m\u001b[43mdumps\u001b[49m\u001b[43m(\u001b[49m\u001b[43mfibonacci\u001b[49m\u001b[43m)\u001b[49m\n",
      "\u001b[0;31mAttributeError\u001b[0m: Can't get local object 'trace.<locals>.wrapper'"
     ]
    }
   ],
   "source": [
    "# this breaks serialization too (which matters for distributed runners, or machine-learning\n",
    "import pickle\n",
    "\n",
    "pickle.dumps(fibonacci)"
   ]
  },
  {
   "cell_type": "code",
   "execution_count": 70,
   "id": "9e160832-5021-4646-9ab9-368ad471a54a",
   "metadata": {},
   "outputs": [
    {
     "name": "stdout",
     "output_type": "stream",
     "text": [
      "Help on function fibonacci in module __main__:\n",
      "\n",
      "fibonacci(n)\n",
      "    Return the n-th Fibonacci number\n",
      "\n"
     ]
    }
   ],
   "source": [
    "# Easy as heck to solve though, just use functools.wraps!!!!!!\n",
    "from functools import wraps\n",
    "\n",
    "def trace(func):\n",
    "    @wraps(func)\n",
    "    def wrapper(*args, **kwargs):\n",
    "        args_repr = repr(args)\n",
    "        kwargs_repr = repr(kwargs)\n",
    "        result = func(*args, **kwargs)\n",
    "        print(f\"{func.__name__}\"\n",
    "              f\"({args_repr}, {kwargs_repr}) \"\n",
    "              f\"-> {result!r}\")\n",
    "        return result\n",
    "\n",
    "    return wrapper\n",
    "\n",
    "@trace\n",
    "def fibonacci(n):\n",
    "    \"\"\"Return the n-th Fibonacci number\"\"\"\n",
    "    if n in (0, 1):\n",
    "        return n\n",
    "    return fibonacci(n - 2) + fibonacci(n - 1)\n",
    "\n",
    "help(fibonacci)"
   ]
  },
  {
   "cell_type": "code",
   "execution_count": 71,
   "id": "ae025f61-d41d-4472-8059-2e2793dd2338",
   "metadata": {},
   "outputs": [
    {
     "name": "stdout",
     "output_type": "stream",
     "text": [
      "b'\\x80\\x04\\x95\\x1a\\x00\\x00\\x00\\x00\\x00\\x00\\x00\\x8c\\x08__main__\\x94\\x8c\\tfibonacci\\x94\\x93\\x94.'\n"
     ]
    }
   ],
   "source": [
    "# and now pickling works too!\n",
    "print(pickle.dumps(fibonacci))"
   ]
  },
  {
   "cell_type": "markdown",
   "id": "ff15e619-9458-41e3-af2b-3599e29e17c6",
   "metadata": {},
   "source": [
    "# 39: Prefer `functools.partial` over `lambda` Expressions for Glue Functions\n",
    "Time for some function currying."
   ]
  },
  {
   "cell_type": "code",
   "execution_count": null,
   "id": "92c9ed51-7c35-403a-9e3d-491480b12684",
   "metadata": {},
   "outputs": [],
   "source": [
    "# Actually, lets go look at swordfish"
   ]
  }
 ],
 "metadata": {
  "kernelspec": {
   "display_name": "Python 3 (ipykernel)",
   "language": "python",
   "name": "python3"
  },
  "language_info": {
   "codemirror_mode": {
    "name": "ipython",
    "version": 3
   },
   "file_extension": ".py",
   "mimetype": "text/x-python",
   "name": "python",
   "nbconvert_exporter": "python",
   "pygments_lexer": "ipython3",
   "version": "3.13.2"
  }
 },
 "nbformat": 4,
 "nbformat_minor": 5
}
