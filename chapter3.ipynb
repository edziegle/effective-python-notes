{
 "cells": [
  {
   "cell_type": "markdown",
   "id": "5dbb3f114be5b755",
   "metadata": {},
   "source": [
    "# Chapter 3\n",
    "## Loops and Iterators"
   ]
  },
  {
   "cell_type": "markdown",
   "id": "aa2db50e7aa184e4",
   "metadata": {},
   "source": [
    "# Enumerate\n",
    "It's better than len + range!"
   ]
  },
  {
   "cell_type": "code",
   "execution_count": null,
   "id": "79527eb9d51fdcb0",
   "metadata": {},
   "outputs": [],
   "source": [
    "# Enumerate makes range(len(x)) pointless\n",
    "\n",
    "for i, thing in enumerate([\"a\", \"b\", \"c\"]):\n",
    "    print(i, thing)"
   ]
  },
  {
   "cell_type": "code",
   "execution_count": null,
   "id": "f0988292175b5367",
   "metadata": {},
   "outputs": [],
   "source": [
    "# Enumerate works by creating a generator that yields the enumerated item with an integer index\n",
    "\n",
    "enumerated = enumerate([\"a\", \"b\", \"c\"])\n",
    "next(enumerated)"
   ]
  },
  {
   "cell_type": "code",
   "execution_count": null,
   "id": "27787b3520e02777",
   "metadata": {},
   "outputs": [],
   "source": [
    "for i, thing in enumerated:  # Discuss\n",
    "    print(i, thing)"
   ]
  },
  {
   "cell_type": "code",
   "execution_count": null,
   "id": "56d7970caacc6dad",
   "metadata": {},
   "outputs": [],
   "source": [
    "# What will this do?\n",
    "next(enumerated)"
   ]
  },
  {
   "cell_type": "markdown",
   "id": "c6af81e0cc44967c",
   "metadata": {},
   "source": [
    "Aside: generator; what the flip?! DISCUSS"
   ]
  },
  {
   "cell_type": "markdown",
   "id": "fc8d8d9c3f74feb2",
   "metadata": {},
   "source": [
    "## Make use of `zip`"
   ]
  },
  {
   "cell_type": "code",
   "execution_count": null,
   "id": "dc7b3935c4fa9fed",
   "metadata": {},
   "outputs": [],
   "source": [
    "from faker import Faker\n",
    "\n",
    "fake = Faker()\n",
    "\n",
    "# DID YOU KNOW? List comprehensions edition\n",
    "# https://wiki.haskell.org/List_comprehension\n",
    "\n",
    "some_names = [fake.name() for _ in range(9)]\n",
    "char_counts = [len(n) for n in some_names]"
   ]
  },
  {
   "cell_type": "markdown",
   "id": "bc6f04b58d89a4c0",
   "metadata": {},
   "source": [
    "Cool cool. But I want to access data from BOTH lists at the same time, now what?!"
   ]
  },
  {
   "cell_type": "code",
   "execution_count": null,
   "id": "97423e182378297",
   "metadata": {},
   "outputs": [],
   "source": [
    "longest_name = None\n",
    "biggest_count = 0\n",
    "\n",
    "for i in range(len(some_names)):\n",
    "    count = char_counts[i]\n",
    "    if count > biggest_count:\n",
    "        longest_name = some_names[i]\n",
    "        biggest_count = count\n",
    "\n",
    "print(longest_name)"
   ]
  },
  {
   "cell_type": "markdown",
   "id": "274dd892e014b444",
   "metadata": {},
   "source": [
    "Hideous!!!\n",
    "\n",
    "Surely, there's a better way Mr. Slatkin?!"
   ]
  },
  {
   "cell_type": "code",
   "execution_count": null,
   "id": "9d8c59cf0a19ceda",
   "metadata": {},
   "outputs": [],
   "source": [
    "# Generators again?!\n",
    "longest_name = None\n",
    "biggest_count = 0\n",
    "\n",
    "for name, count in zip(some_names, char_counts):\n",
    "    if count > biggest_count:\n",
    "        longest_name = name\n",
    "        biggest_count = count\n",
    "\n",
    "print(longest_name)"
   ]
  },
  {
   "cell_type": "markdown",
   "id": "2ccf0c0d12a0df48",
   "metadata": {},
   "source": [
    "Wow! Thanks Mr. Slatkin! I'm sure there's no caveats right? Like if the lists aren't the same size?"
   ]
  },
  {
   "cell_type": "code",
   "execution_count": null,
   "id": "faba7189582ad121",
   "metadata": {},
   "outputs": [],
   "source": [
    "some_names.append(\"Video Center Rulez\")\n",
    "for name, count in zip(some_names, char_counts):\n",
    "    print(name, count)"
   ]
  },
  {
   "cell_type": "markdown",
   "id": "dc251d70a0d0fe28",
   "metadata": {},
   "source": [
    "Damn! So `zip` will only yield a tuple until one of the wrapped sequences is exhausted. Well, good thing there's `strict` if I really care about truncation (or the cool itertools lib)"
   ]
  },
  {
   "cell_type": "code",
   "execution_count": null,
   "id": "706b9a5e0e83b3bd",
   "metadata": {},
   "outputs": [],
   "source": [
    "try:\n",
    "    for name, count in zip(some_names, char_counts, strict=True):\n",
    "        print(name, count)\n",
    "except ValueError:\n",
    "    print(\"No way man!\")"
   ]
  },
  {
   "cell_type": "code",
   "execution_count": null,
   "id": "6cd0699c3bd31ef7",
   "metadata": {},
   "outputs": [],
   "source": [
    "from itertools import zip_longest\n",
    "\n",
    "for name, count in zip_longest(some_names, char_counts, fillvalue=10000):\n",
    "    print(name, count)"
   ]
  },
  {
   "cell_type": "markdown",
   "id": "fd9d97d5c403eb12",
   "metadata": {},
   "source": [
    "### Things to Remember\n",
    "- zip can be used to iterate over multiple iterators in parallel\n",
    "- zip makes a lazy generator that pops out tuples\n",
    "- zip (by default) silently truncates output to the length of the shorter iterator\n",
    "    - use strict to avoid this"
   ]
  },
  {
   "cell_type": "markdown",
   "id": "eed2914df969ebc9",
   "metadata": {},
   "source": [
    "# Avoid Else Blocks After for and while Loops\n",
    "\n",
    "Yes, this _is_ a thing you can do in Python and _yes_ it _is_ confusing."
   ]
  },
  {
   "cell_type": "code",
   "execution_count": null,
   "id": "cc91986cd46b9c42",
   "metadata": {},
   "outputs": [],
   "source": [
    "for name in some_names[:2]:\n",
    "    print(name)\n",
    "else:\n",
    "    print(\"Done!\")"
   ]
  },
  {
   "cell_type": "markdown",
   "id": "8b4ba31b829310c9",
   "metadata": {},
   "source": [
    "Why did the else execute? Shouldn't it have... done nothing? The list wasn't empty!!! Why doesn't this work like try/except/else?!"
   ]
  },
  {
   "cell_type": "code",
   "execution_count": null,
   "id": "be56f12c5af59ccf",
   "metadata": {},
   "outputs": [],
   "source": [
    "for x in []:\n",
    "    print(\"Unreachable code baby!\")\n",
    "else:\n",
    "    print(\"And yet here we are.\")"
   ]
  },
  {
   "cell_type": "markdown",
   "id": "58f2352ad5b6a9af",
   "metadata": {},
   "source": [
    "In theory, the `else` is sort of meant to be combined with `break`, in a search operation"
   ]
  },
  {
   "cell_type": "code",
   "execution_count": null,
   "id": "f4511327db2269c9",
   "metadata": {},
   "outputs": [],
   "source": [
    "for name in some_names:\n",
    "    if name == \"Video Center Rulez\":\n",
    "        print(f\"We found {name}!\")\n",
    "        break\n",
    "else:\n",
    "    print(\"No results found!\")"
   ]
  },
  {
   "cell_type": "markdown",
   "id": "e503e8c2bf374a42",
   "metadata": {},
   "source": [
    "Still, kind of confusing no? Could instead just use a result variable:"
   ]
  },
  {
   "cell_type": "code",
   "execution_count": null,
   "id": "6fbb1cb25cc8ba0d",
   "metadata": {},
   "outputs": [],
   "source": [
    "def find_name(names, target) -> bool:\n",
    "    found_it = False\n",
    "    for name in names:\n",
    "        if name == target:\n",
    "            found_it = True\n",
    "            break\n",
    "\n",
    "    return found_it\n",
    "\n",
    "\n",
    "find_name(some_names, \"Video Center Rulez\")"
   ]
  },
  {
   "cell_type": "markdown",
   "id": "39008954b01f27dd",
   "metadata": {},
   "source": [
    "### Things to Remember\n",
    "- the else block on for is goofy, probably just avoid using it"
   ]
  },
  {
   "cell_type": "markdown",
   "id": "2afd0093a94634e7",
   "metadata": {},
   "source": [
    "# Never Use for Loop Variables After the Loop Ends\n",
    "Just because the loop ends, doesn't mean its var goes out of scope..."
   ]
  },
  {
   "cell_type": "code",
   "execution_count": null,
   "id": "83ac3523f24248c3",
   "metadata": {},
   "outputs": [],
   "source": [
    "for i in range(10):\n",
    "    print(i)\n",
    "print(i)"
   ]
  },
  {
   "cell_type": "markdown",
   "id": "9b292795f5cc7b9b",
   "metadata": {},
   "source": [
    "It's tempting to use this in _clever_ ways, but really, just avoid it, because you can't always be sure it will be there:"
   ]
  },
  {
   "cell_type": "code",
   "execution_count": null,
   "id": "5aa36232b6a4833f",
   "metadata": {},
   "outputs": [],
   "source": [
    "for x in []:\n",
    "    print(x)\n",
    "# print(x)"
   ]
  },
  {
   "cell_type": "code",
   "execution_count": null,
   "id": "e4d8916bd62c3dd2",
   "metadata": {},
   "outputs": [],
   "source": [
    "# But it gets worse!\n",
    "\n",
    "for i in []:\n",
    "    print(i)\n",
    "print(i)"
   ]
  },
  {
   "cell_type": "markdown",
   "id": "a56eff6a14bee01",
   "metadata": {},
   "source": [
    "Whoops! That's kinda confusing! Yeah just.. don't do this. This leakage behavior is an artifact of how Python builds it's syntax tree. Note how this behavior does _not_ happen on list and generator comprehensions."
   ]
  },
  {
   "cell_type": "markdown",
   "id": "d2b3058a-4311-40d2-82d1-9ed2e37980e7",
   "metadata": {},
   "source": [
    "# Be Defensive when Iterating over Arguments\n",
    "\n",
    "Remember the `StopIteration` thing I showed earlier?"
   ]
  },
  {
   "cell_type": "code",
   "execution_count": null,
   "id": "ab3b735c-a78d-4078-a7a4-7ee3d2c41d44",
   "metadata": {},
   "outputs": [],
   "source": [
    "def my_number_gen():\n",
    "    for i in range(4):\n",
    "        yield i\n",
    "\n",
    "\n",
    "gen1 = my_number_gen()\n",
    "gen2 = my_number_gen()"
   ]
  },
  {
   "cell_type": "code",
   "execution_count": null,
   "id": "769b2072-5e8c-485c-9719-8264afe10391",
   "metadata": {},
   "outputs": [],
   "source": [
    "for n in gen1:\n",
    "    print(n)"
   ]
  },
  {
   "cell_type": "code",
   "execution_count": null,
   "id": "7312439b-c7e2-4a0b-a95d-08183f3cbccf",
   "metadata": {},
   "outputs": [],
   "source": [
    "while True:\n",
    "    print(next(gen2))"
   ]
  },
  {
   "cell_type": "markdown",
   "id": "68e5e1d1-1520-4eba-89fe-228cef5e39ea",
   "metadata": {},
   "source": [
    "DISCUSS: why it do that tho?\n",
    "\n",
    "Python `for` loops automatically except (to halt) on a `StopIteration` exception; as does the `list` constructor!\n",
    "\n",
    "## Defend yourself"
   ]
  },
  {
   "cell_type": "code",
   "execution_count": null,
   "id": "aa6f0ae7-3452-4a5c-8e3b-506687c16ab6",
   "metadata": {},
   "outputs": [],
   "source": [
    "# Explicitly exhaust the generator and kep its contents in a list:\n",
    "\n",
    "list_of_stuff = list(my_number_gen())\n",
    "list_of_stuff"
   ]
  },
  {
   "cell_type": "code",
   "execution_count": null,
   "id": "cb9fbba5-4503-4df3-9d05-5546e7103d46",
   "metadata": {},
   "outputs": [],
   "source": [
    "# But that approach ain't great: what if the generator has 400,000,000 strings?\n",
    "\n",
    "# Let's just make a container ourselves!\n",
    "class MyIter:\n",
    "    def __iter__(self):\n",
    "        for i in range(4):\n",
    "            yield i\n",
    "\n",
    "\n",
    "it1 = MyIter()\n",
    "next(iter(it1))"
   ]
  },
  {
   "cell_type": "code",
   "execution_count": null,
   "id": "3e0e2c8d-085c-4b61-8386-0886f24c7159",
   "metadata": {},
   "outputs": [],
   "source": [
    "for x in iter(it1):\n",
    "    print(x)"
   ]
  },
  {
   "cell_type": "code",
   "execution_count": null,
   "id": "5b905b3b-eed4-4001-8a56-72a217d52d31",
   "metadata": {},
   "outputs": [],
   "source": [
    "# Okay?\n",
    "def do_it(nums):\n",
    "    for x in nums:\n",
    "        print(x)\n",
    "    return sum(nums)\n",
    "\n",
    "\n",
    "gen3 = iter(it1)\n",
    "\n",
    "do_it(gen3)"
   ]
  },
  {
   "cell_type": "markdown",
   "id": "0220f7a2-c5d9-4162-9952-2cb084007696",
   "metadata": {},
   "source": [
    "Whoops! Not quite what we expected right?"
   ]
  },
  {
   "cell_type": "code",
   "execution_count": null,
   "id": "ed23fb82-a0f5-483b-b2b7-e2b1c856a42c",
   "metadata": {},
   "outputs": [],
   "source": [
    "from collections.abc import Iterator\n",
    "\n",
    "\n",
    "def do_it_defensively(nums):\n",
    "    if isinstance(nums, Iterator):\n",
    "        raise TypeError(\"Give me a container nerd!\")\n",
    "    for x in nums:\n",
    "        print(x)\n",
    "    return sum(nums)\n",
    "\n",
    "\n",
    "do_it_defensively(gen3)"
   ]
  },
  {
   "cell_type": "code",
   "execution_count": null,
   "id": "b0a95876-cdfd-4278-9f59-99411e0aa8ee",
   "metadata": {},
   "outputs": [],
   "source": [
    "do_it_defensively(list(my_number_gen()))"
   ]
  },
  {
   "cell_type": "markdown",
   "id": "ef9ca179-2ef2-43e1-aac1-7fe1e53b6a17",
   "metadata": {},
   "source": [
    "# Never Modify Containers While Iterating over Them; Use Copies or Caches Instead\n",
    "Not just Python advice!"
   ]
  },
  {
   "cell_type": "code",
   "execution_count": null,
   "id": "fe121a8f-559c-4d53-8a7a-b66d08c1e9ea",
   "metadata": {},
   "outputs": [],
   "source": [
    "my_dict = {\"red\": 1, \"blue\": 2}\n",
    "\n",
    "for key in my_dict:\n",
    "    if key == \"blue\":\n",
    "        my_dict[\"yellow\"] = 3"
   ]
  },
  {
   "cell_type": "code",
   "execution_count": null,
   "id": "4fd23573-d1ea-428e-bb16-c465b9ffbdc9",
   "metadata": {},
   "outputs": [],
   "source": [
    "# but it lets you do this:\n",
    "for key in my_dict:\n",
    "    if key == \"blue\":\n",
    "        my_dict[\"blue\"] = 3\n",
    "my_dict"
   ]
  },
  {
   "cell_type": "markdown",
   "id": "1bae0dc0-62e5-410b-b2d7-ffb290012cef",
   "metadata": {},
   "source": [
    "Index overwrites also work fine on `set` and `list` types!\n",
    "\n",
    "Speaking of lists and indexes: do NOT insert an element before the current iterator position."
   ]
  },
  {
   "cell_type": "code",
   "execution_count": null,
   "id": "86b4a10a-ecfc-4b65-ad04-a9f96a16ec82",
   "metadata": {},
   "outputs": [],
   "source": [
    "my_list = [1, 2, 3]\n",
    "for num in my_list:\n",
    "    print(num)\n",
    "    if num == 2:\n",
    "        my_list.insert(0, 4)"
   ]
  },
  {
   "cell_type": "markdown",
   "id": "9ca3b250-15e3-4b06-9af7-ed4ae2176fb2",
   "metadata": {},
   "source": [
    "Given the inconsistency, make a copy instead of doing modification-in-place."
   ]
  },
  {
   "cell_type": "code",
   "execution_count": null,
   "id": "67e1e9d1-8bff-4010-b25b-fe387225a2af",
   "metadata": {},
   "outputs": [],
   "source": [
    "my_list = [1, 2, 3]\n",
    "my_dict = {\"red\": 1, \"blue\": 2}\n",
    "\n",
    "for x in list(my_list):\n",
    "    print(x)\n",
    "    if x == 2:\n",
    "        my_list.insert(0, 4)\n",
    "print(my_list)\n",
    "\n",
    "for k in list(my_dict.keys()):\n",
    "    if k == \"blue\":\n",
    "        my_dict[\"green\"] = 4\n",
    "print(my_dict)"
   ]
  },
  {
   "cell_type": "code",
   "execution_count": null,
   "id": "73f60281-64ac-49a6-a046-99bddedf9463",
   "metadata": {},
   "outputs": [],
   "source": [
    "# For huge datasets, stage modifications:\n",
    "my_pretend_huge_dict = {\"red\": 1, \"blue\": 2}\n",
    "staged = {}\n",
    "\n",
    "for k in my_pretend_huge_dict:\n",
    "    if k == \"blue\":\n",
    "        staged[\"green\"] = 4\n",
    "my_pretend_huge_dict.update(staged)\n",
    "print(my_pretend_huge_dict)"
   ]
  },
  {
   "cell_type": "code",
   "execution_count": null,
   "id": "6354e52b-2045-435a-936d-78457d39eea7",
   "metadata": {},
   "outputs": [],
   "source": [
    "# Once more, but with checking the vals too\n",
    "my_pretend_huge_dict = {\"red\": 1, \"blue\": 2, \"green\": 3}\n",
    "staged = {}\n",
    "\n",
    "for k in my_pretend_huge_dict:\n",
    "    if k == \"blue\":\n",
    "        staged[\"green\"] = 4\n",
    "    val = my_pretend_huge_dict[k]\n",
    "    other_val = staged.get(k)\n",
    "    if val == 4 or other_val == 4:\n",
    "        staged[\"yellow\"] = 5\n",
    "my_pretend_huge_dict.update(staged)\n",
    "print(staged)\n",
    "print(my_pretend_huge_dict)"
   ]
  },
  {
   "cell_type": "markdown",
   "id": "70596be0-5a0f-428c-a1f3-d976c392229f",
   "metadata": {},
   "source": [
    "# Pass Iterators to `any` and `all` for Efficient Short-Circuiting Logic"
   ]
  },
  {
   "cell_type": "code",
   "execution_count": null,
   "id": "7369638b-264c-40cc-8bfd-4245a6701025",
   "metadata": {},
   "outputs": [],
   "source": [
    "# FLIP SOME COINS DAWG\n",
    "import random\n",
    "\n",
    "\n",
    "def flippem():\n",
    "    if random.randint(0, 1) == 0:\n",
    "        return \"heads\"\n",
    "    else:\n",
    "        return \"tails\"\n",
    "\n",
    "\n",
    "def is_it_heads():\n",
    "    return flippem() == \"heads\"\n",
    "\n",
    "\n",
    "flips = [is_it_heads() for _ in range(10)]\n",
    "flips"
   ]
  },
  {
   "cell_type": "markdown",
   "id": "f0018eb2-9775-4799-966f-69be3a148231",
   "metadata": {},
   "source": [
    "This is fine, but does a lot more work than it needs to (imagine this was an expensive operation, and not a simple coin flip).\n",
    "\n",
    "Instead we can use `all` which will step through an iter and halt early:"
   ]
  },
  {
   "cell_type": "code",
   "execution_count": null,
   "id": "5f3b0445-9de4-407b-8199-da6dd3bd98cd",
   "metadata": {},
   "outputs": [],
   "source": [
    "flip_erator = (is_it_heads() for _ in range(10))\n",
    "type(flip_erator)"
   ]
  },
  {
   "cell_type": "code",
   "execution_count": null,
   "id": "dbd2d641-c5a9-463a-a2c8-f83a59fa3e83",
   "metadata": {},
   "outputs": [],
   "source": [
    "all(flip_erator)"
   ]
  },
  {
   "cell_type": "markdown",
   "id": "eeb7195f-8e4c-431f-9555-92ed2cf2ba2f",
   "metadata": {},
   "source": [
    "There's also `any` which will tell us if _any_ of the outputs are `True`. Like `all` it halts when it finds what it's looking for. Didn't have to climb highest mountain, nor run through the fields, etc."
   ]
  },
  {
   "cell_type": "code",
   "execution_count": null,
   "id": "e74f71a5-b821-48cb-beca-ea7e4646c6ff",
   "metadata": {},
   "outputs": [],
   "source": [
    "any(flip_erator)"
   ]
  },
  {
   "cell_type": "code",
   "execution_count": null,
   "id": "74b56e8e-0236-4240-b3ad-6ca578aa8b41",
   "metadata": {},
   "outputs": [],
   "source": [
    "any([False, False])"
   ]
  },
  {
   "cell_type": "markdown",
   "id": "b50e45c8-b34b-431e-a40a-95f1a5fc57f0",
   "metadata": {},
   "source": [
    "Picking between the two is straight-forward:\n",
    "\n",
    "- I want to end on the first False: use `all`\n",
    "- I want to end on the first True: use `any`"
   ]
  },
  {
   "cell_type": "markdown",
   "id": "b872cbe7-6f35-4b3a-bccc-14513b6bdfb6",
   "metadata": {},
   "source": [
    "Consider `itertools` for Working with Iterators and Generators"
   ]
  },
  {
   "cell_type": "code",
   "execution_count": null,
   "id": "12fafcbf-460d-40ec-9056-99a291c145f2",
   "metadata": {},
   "outputs": [],
   "source": [
    "import itertools\n",
    "\n",
    "list(itertools.chain([1, 2, 3], [4, 5, 6]))"
   ]
  },
  {
   "cell_type": "code",
   "execution_count": null,
   "id": "aa6b8576-9473-4b72-92a7-edca28ba9abe",
   "metadata": {},
   "outputs": [],
   "source": [
    "list(itertools.repeat(\"yo\", 5))"
   ]
  },
  {
   "cell_type": "code",
   "execution_count": null,
   "id": "f601b12e-895c-4999-9559-cc2526fb0afa",
   "metadata": {},
   "outputs": [],
   "source": [
    "cycle_itr = itertools.cycle([111, 222])\n",
    "result = [next(cycle_itr) for _ in range(5)]\n",
    "print(result)"
   ]
  },
  {
   "cell_type": "code",
   "execution_count": null,
   "id": "c730f450-70d5-4e96-ad3c-908c5e022740",
   "metadata": {},
   "outputs": [],
   "source": [
    "values = [1, 2, 3, 4, 5, 6, 7, 8, 9]\n",
    "\n",
    "# handy, so you don't have to keep count of generator values or indexes\n",
    "first_five = itertools.islice(values, 5)\n",
    "middle_odds = itertools.islice(values, 2, 8, 2)\n",
    "\n",
    "print(list(first_five))\n",
    "print(list(middle_odds))"
   ]
  },
  {
   "cell_type": "code",
   "execution_count": null,
   "id": "655d4796573faf63",
   "metadata": {},
   "outputs": [],
   "source": [
    "less_than_seven = itertools.takewhile(lambda x: x < 7, values)\n",
    "print(list(less_than_seven))"
   ]
  },
  {
   "cell_type": "code",
   "execution_count": null,
   "id": "36b75168f463c6a6",
   "metadata": {},
   "outputs": [],
   "source": [
    "seven_and_above = itertools.dropwhile(lambda x: x < 7, values)\n",
    "print(list(seven_and_above))"
   ]
  },
  {
   "cell_type": "code",
   "execution_count": null,
   "id": "d390eb4f99a10707",
   "metadata": {},
   "outputs": [],
   "source": [
    "# Batched is pretty cool, no overlaps!\n",
    "\n",
    "it = itertools.batched([1, 2, 3, 4, 5, 6, 7], 3)\n",
    "print(list(it))"
   ]
  },
  {
   "cell_type": "code",
   "execution_count": null,
   "id": "a435d28e28088e79",
   "metadata": {},
   "outputs": [],
   "source": [
    "# pairwise goes pair by pair, with overlaps\n",
    "\n",
    "it = itertools.pairwise([1, 2, 3, 4, 5, 6, 7])\n",
    "print(list(it))"
   ]
  },
  {
   "cell_type": "code",
   "execution_count": null,
   "id": "4483576be8b8d27c",
   "metadata": {},
   "outputs": [],
   "source": [
    "# Permutations!\n",
    "print(list(itertools.permutations([1, 2, 3], 3)))\n",
    "\n",
    "# BONUS: What is the Big O of this?"
   ]
  },
  {
   "cell_type": "code",
   "execution_count": null,
   "id": "20a00be150b915ca",
   "metadata": {},
   "outputs": [],
   "source": [
    "# Combinations!\n",
    "print(list(itertools.combinations([1, 2, 3], 2)))"
   ]
  }
 ],
 "metadata": {
  "kernelspec": {
   "display_name": "Python 3 (ipykernel)",
   "language": "python",
   "name": "python3"
  },
  "language_info": {
   "codemirror_mode": {
    "name": "ipython",
    "version": 3
   },
   "file_extension": ".py",
   "mimetype": "text/x-python",
   "name": "python",
   "nbconvert_exporter": "python",
   "pygments_lexer": "ipython3",
   "version": "3.10.16"
  }
 },
 "nbformat": 4,
 "nbformat_minor": 5
}
