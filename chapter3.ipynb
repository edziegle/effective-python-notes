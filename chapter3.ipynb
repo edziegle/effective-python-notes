{
 "cells": [
  {
   "metadata": {},
   "cell_type": "markdown",
   "source": [
    "# Chapter 3\n",
    "## Loops and Iterators"
   ],
   "id": "5dbb3f114be5b755"
  },
  {
   "metadata": {},
   "cell_type": "markdown",
   "source": [
    "# Enumerate\n",
    "It's better than len + range!"
   ],
   "id": "aa2db50e7aa184e4"
  },
  {
   "metadata": {},
   "cell_type": "code",
   "source": [
    "# Enumerate makes range(len(x)) pointless\n",
    "\n",
    "for i, thing in enumerate([\"a\", \"b\", \"c\"]):\n",
    "    print(i, thing)"
   ],
   "id": "79527eb9d51fdcb0",
   "outputs": [],
   "execution_count": null
  },
  {
   "metadata": {},
   "cell_type": "code",
   "source": [
    "# Enumerate works by creating a generator that yields the enumerated item with an integer index\n",
    "\n",
    "enumerated = enumerate([\"a\", \"b\", \"c\"])\n",
    "next(enumerated)"
   ],
   "id": "f0988292175b5367",
   "outputs": [],
   "execution_count": null
  },
  {
   "metadata": {},
   "cell_type": "code",
   "source": [
    "for i, thing in enumerated: # Discuss\n",
    "    print(i, thing)\n"
   ],
   "id": "27787b3520e02777",
   "outputs": [],
   "execution_count": null
  },
  {
   "metadata": {},
   "cell_type": "code",
   "source": [
    "# What will this do?\n",
    "next(enumerated)"
   ],
   "id": "56d7970caacc6dad",
   "outputs": [],
   "execution_count": null
  },
  {
   "metadata": {},
   "cell_type": "markdown",
   "source": "Aside: generator; what the flip?! DISCUSS",
   "id": "c6af81e0cc44967c"
  },
  {
   "metadata": {},
   "cell_type": "markdown",
   "source": "## Make use of `zip`",
   "id": "fc8d8d9c3f74feb2"
  },
  {
   "metadata": {},
   "cell_type": "code",
   "source": [
    "from faker import Faker\n",
    "fake = Faker()\n",
    "\n",
    "# DID YOU KNOW? List comprehensions edition\n",
    "# https://wiki.haskell.org/List_comprehension\n",
    "\n",
    "some_names = [fake.name() for _ in range(9)]\n",
    "char_counts = [len(n) for n in some_names]"
   ],
   "id": "dc7b3935c4fa9fed",
   "outputs": [],
   "execution_count": null
  },
  {
   "metadata": {},
   "cell_type": "markdown",
   "source": "Cool cool. But I want to access data from BOTH lists at the same time, now what?!",
   "id": "bc6f04b58d89a4c0"
  },
  {
   "metadata": {},
   "cell_type": "code",
   "source": [
    "longest_name = None\n",
    "biggest_count = 0\n",
    "\n",
    "for i in range(len(some_names)):\n",
    "    count = char_counts[i]\n",
    "    if count > biggest_count:\n",
    "        longest_name = some_names[i]\n",
    "        biggest_count = count\n",
    "\n",
    "print(longest_name)"
   ],
   "id": "97423e182378297",
   "outputs": [],
   "execution_count": null
  },
  {
   "metadata": {},
   "cell_type": "markdown",
   "source": [
    "Hideous!!!\n",
    "\n",
    "Surely, there's a better way Mr. Slatkin?!"
   ],
   "id": "274dd892e014b444"
  },
  {
   "metadata": {},
   "cell_type": "code",
   "source": [
    "# Generators again?!\n",
    "longest_name = None\n",
    "biggest_count = 0\n",
    "\n",
    "for name, count in zip(some_names, char_counts):\n",
    "    if count > biggest_count:\n",
    "        longest_name = name\n",
    "        biggest_count = count\n",
    "\n",
    "print(longest_name)"
   ],
   "id": "9d8c59cf0a19ceda",
   "outputs": [],
   "execution_count": null
  },
  {
   "metadata": {},
   "cell_type": "markdown",
   "source": "Wow! Thanks Mr. Slatkin! I'm sure there's no caveats right? Like if the lists aren't the same size?",
   "id": "2ccf0c0d12a0df48"
  },
  {
   "metadata": {},
   "cell_type": "code",
   "source": [
    "some_names.append(\"Video Center Rulez\")\n",
    "for name, count in zip(some_names, char_counts):\n",
    "    print(name, count)"
   ],
   "id": "faba7189582ad121",
   "outputs": [],
   "execution_count": null
  },
  {
   "metadata": {},
   "cell_type": "markdown",
   "source": "Damn! So `zip` will only yield a tuple until one of the wrapped sequences is exhausted. Well, good thing there's `strict` if I really care about truncation (or the cool itertools lib)",
   "id": "dc251d70a0d0fe28"
  },
  {
   "metadata": {},
   "cell_type": "code",
   "source": [
    "try:\n",
    "    for name, count in zip(some_names, char_counts, strict=True):\n",
    "        print(name, count)\n",
    "except ValueError:\n",
    "    print(\"No way man!\")"
   ],
   "id": "706b9a5e0e83b3bd",
   "outputs": [],
   "execution_count": null
  },
  {
   "metadata": {},
   "cell_type": "code",
   "source": [
    "from itertools import zip_longest\n",
    "\n",
    "for name, count in zip_longest(some_names, char_counts, fillvalue=10000):\n",
    "    print(name, count)"
   ],
   "id": "6cd0699c3bd31ef7",
   "outputs": [],
   "execution_count": null
  },
  {
   "metadata": {},
   "cell_type": "markdown",
   "source": [
    "### Things to Remember\n",
    "- zip can be used to iterate over multiple iterators in parallel\n",
    "- zip makes a lazy generator that pops out tuples\n",
    "- zip (by default) silently truncates output to the length of the shorter iterator\n",
    "    - use strict to avoid this"
   ],
   "id": "fd9d97d5c403eb12"
  },
  {
   "metadata": {},
   "cell_type": "markdown",
   "source": [
    "# Avoid Else Blocks After for and while Loops\n",
    "\n",
    "Yes, this _is_ a thing you can do in Python and _yes_ it _is_ confusing."
   ],
   "id": "eed2914df969ebc9"
  },
  {
   "metadata": {},
   "cell_type": "code",
   "source": [
    "for name in some_names[:2]:\n",
    "    print(name)\n",
    "else:\n",
    "    print(\"Done!\")"
   ],
   "id": "cc91986cd46b9c42",
   "outputs": [],
   "execution_count": null
  },
  {
   "metadata": {},
   "cell_type": "markdown",
   "source": "Why did the else execute? Shouldn't it have... done nothing? The list wasn't empty!!! Why doesn't this work like try/except/else?!",
   "id": "8b4ba31b829310c9"
  },
  {
   "metadata": {},
   "cell_type": "code",
   "source": [
    "for x in []:\n",
    "    print(\"Unreachable code baby!\")\n",
    "else:\n",
    "    print(\"And yet here we are.\")"
   ],
   "id": "be56f12c5af59ccf",
   "outputs": [],
   "execution_count": null
  },
  {
   "metadata": {},
   "cell_type": "markdown",
   "source": "In theory, the `else` is sort of meant to be combined with `break`, in a search operation",
   "id": "58f2352ad5b6a9af"
  },
  {
   "metadata": {},
   "cell_type": "code",
   "source": [
    "for name in some_names:\n",
    "    if name == \"Video Center Rulez\":\n",
    "        print(f\"We found {name}!\")\n",
    "        break\n",
    "else:\n",
    "    print(\"No results found!\")"
   ],
   "id": "f4511327db2269c9",
   "outputs": [],
   "execution_count": null
  },
  {
   "metadata": {},
   "cell_type": "markdown",
   "source": "Still, kind of confusing no? Could instead just use a result variable:",
   "id": "e503e8c2bf374a42"
  },
  {
   "metadata": {},
   "cell_type": "code",
   "source": [
    "def find_name(names, target) -> bool:\n",
    "    found_it = False\n",
    "    for name in names:\n",
    "        if name == target:\n",
    "            found_it = True\n",
    "            break\n",
    "\n",
    "    return found_it\n",
    "\n",
    "find_name(some_names, \"Video Center Rulez\")"
   ],
   "id": "6fbb1cb25cc8ba0d",
   "outputs": [],
   "execution_count": null
  },
  {
   "metadata": {},
   "cell_type": "markdown",
   "source": [
    "### Things to Remember\n",
    "- the else block on for is goofy, probably just avoid using it"
   ],
   "id": "39008954b01f27dd"
  },
  {
   "metadata": {},
   "cell_type": "markdown",
   "source": [
    "# Never Use for Loop Variables After the Loop Ends\n",
    "Just because the loop ends, doesn't mean its var goes out of scope..."
   ],
   "id": "2afd0093a94634e7"
  },
  {
   "metadata": {},
   "cell_type": "code",
   "source": [
    "for i in range(10):\n",
    "    print(i)\n",
    "print(i)"
   ],
   "id": "83ac3523f24248c3",
   "outputs": [],
   "execution_count": null
  },
  {
   "metadata": {},
   "cell_type": "markdown",
   "source": "It's tempting to use this in _clever_ ways, but really, just avoid it, because you can't always be sure it will be there:",
   "id": "9b292795f5cc7b9b"
  },
  {
   "metadata": {},
   "cell_type": "code",
   "source": [
    "for x in []:\n",
    "    print(x)\n",
    "# print(x)"
   ],
   "id": "5aa36232b6a4833f",
   "outputs": [],
   "execution_count": null
  },
  {
   "metadata": {},
   "cell_type": "code",
   "source": [
    "# But it gets worse!\n",
    "\n",
    "for i in []:\n",
    "    print(i)\n",
    "print(i)"
   ],
   "id": "e4d8916bd62c3dd2",
   "outputs": [],
   "execution_count": null
  },
  {
   "metadata": {},
   "cell_type": "markdown",
   "source": "Whoops! That's kinda confusing! Yeah just.. don't do this. This leakage behavior is an artifact of how Python builds it's syntax tree. Note how this behavior does _not_ happen on list and generator comprehensions.",
   "id": "a56eff6a14bee01"
  }
 ],
 "metadata": {
  "kernelspec": {
   "display_name": "Python 3",
   "language": "python",
   "name": "python3"
  },
  "language_info": {
   "codemirror_mode": {
    "name": "ipython",
    "version": 2
   },
   "file_extension": ".py",
   "mimetype": "text/x-python",
   "name": "python",
   "nbconvert_exporter": "python",
   "pygments_lexer": "ipython2",
   "version": "2.7.6"
  }
 },
 "nbformat": 4,
 "nbformat_minor": 5
}
