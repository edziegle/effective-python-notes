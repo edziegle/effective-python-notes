{
 "cells": [
  {
   "metadata": {},
   "cell_type": "markdown",
   "source": [
    "# Chapter 3\n",
    "## Loops and Iterators\n",
    "\n",
    "- `enumerate`\n",
    "-"
   ],
   "id": "5dbb3f114be5b755"
  },
  {
   "metadata": {},
   "cell_type": "markdown",
   "source": [
    "# Enumerate\n",
    "It's better than len + range!"
   ],
   "id": "aa2db50e7aa184e4"
  },
  {
   "metadata": {
    "ExecuteTime": {
     "end_time": "2025-04-01T20:23:07.669389Z",
     "start_time": "2025-04-01T20:23:07.665498Z"
    }
   },
   "cell_type": "code",
   "source": [
    "# Enumerate makes range(len(x)) pointless\n",
    "\n",
    "for i, thing in enumerate([\"a\", \"b\", \"c\"]):\n",
    "    print(i, thing)"
   ],
   "id": "79527eb9d51fdcb0",
   "outputs": [
    {
     "name": "stdout",
     "output_type": "stream",
     "text": [
      "0 a\n",
      "1 b\n",
      "2 c\n"
     ]
    }
   ],
   "execution_count": 8
  },
  {
   "metadata": {
    "ExecuteTime": {
     "end_time": "2025-04-01T20:23:08.879270Z",
     "start_time": "2025-04-01T20:23:08.875405Z"
    }
   },
   "cell_type": "code",
   "source": [
    "# Enumerate works by creating a generator that yields the enumerated item with an integer index\n",
    "\n",
    "enumerated = enumerate([\"a\", \"b\", \"c\"])\n",
    "next(enumerated)"
   ],
   "id": "f0988292175b5367",
   "outputs": [
    {
     "data": {
      "text/plain": [
       "(0, 'a')"
      ]
     },
     "execution_count": 9,
     "metadata": {},
     "output_type": "execute_result"
    }
   ],
   "execution_count": 9
  },
  {
   "metadata": {
    "ExecuteTime": {
     "end_time": "2025-04-01T20:23:11.599065Z",
     "start_time": "2025-04-01T20:23:11.595426Z"
    }
   },
   "cell_type": "code",
   "source": [
    "for i, thing in enumerated: # Discuss\n",
    "    print(i, thing)"
   ],
   "id": "56d7970caacc6dad",
   "outputs": [
    {
     "name": "stdout",
     "output_type": "stream",
     "text": [
      "1 b\n",
      "2 c\n"
     ]
    }
   ],
   "execution_count": 10
  },
  {
   "metadata": {},
   "cell_type": "markdown",
   "source": "Aside: generator; what the flip?!",
   "id": "3e155fa86af2973"
  },
  {
   "metadata": {},
   "cell_type": "markdown",
   "source": "## Make use of `zip`",
   "id": "fc8d8d9c3f74feb2"
  },
  {
   "metadata": {},
   "cell_type": "code",
   "outputs": [],
   "execution_count": null,
   "source": "",
   "id": "dc7b3935c4fa9fed"
  }
 ],
 "metadata": {
  "kernelspec": {
   "display_name": "Python 3",
   "language": "python",
   "name": "python3"
  },
  "language_info": {
   "codemirror_mode": {
    "name": "ipython",
    "version": 2
   },
   "file_extension": ".py",
   "mimetype": "text/x-python",
   "name": "python",
   "nbconvert_exporter": "python",
   "pygments_lexer": "ipython2",
   "version": "2.7.6"
  }
 },
 "nbformat": 4,
 "nbformat_minor": 5
}
