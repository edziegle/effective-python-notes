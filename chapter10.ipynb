{
 "cells": [
  {
   "cell_type": "markdown",
   "id": "58d30ab68901bdaa",
   "metadata": {},
   "source": "# Chapter 10: Robustness"
  },
  {
   "cell_type": "markdown",
   "id": "29f7894b6e68f2f0",
   "metadata": {},
   "source": "## Item 80: Take Advantage of Each Block in `try/except/else/finally`"
  },
  {
   "cell_type": "code",
   "id": "7c5b34893041f2d4",
   "metadata": {
    "ExecuteTime": {
     "end_time": "2025-08-06T19:58:50.715565Z",
     "start_time": "2025-08-06T19:58:50.712005Z"
    }
   },
   "source": [
    "def erics_cool_file_reader(filename):\n",
    "    print(\"Step 1: lets gooo\")\n",
    "    handle = open(filename)\n",
    "    try:\n",
    "        print(\"Step 2: read the file\")\n",
    "        return handle.read()\n",
    "    finally:\n",
    "        print(\"Step 3: close the file\")\n",
    "        handle.close()\n",
    "\n",
    "\n",
    "# This is essentially what `with open` is doing\n",
    "erics_cool_file_reader(\"packages.csv\")"
   ],
   "outputs": [
    {
     "name": "stdout",
     "output_type": "stream",
     "text": [
      "Step 1: lets gooo\n",
      "Step 2: read the file\n",
      "Step 3: close the file\n"
     ]
    },
    {
     "data": {
      "text/plain": [
       "'Sydney, truck, 25\\nMelbourne, boat, 6\\nBrisbane, plane, 12\\nPerth, road train, 90\\nAdelaide, truck, 17\\n'"
      ]
     },
     "execution_count": 55,
     "metadata": {},
     "output_type": "execute_result"
    }
   ],
   "execution_count": 55
  },
  {
   "cell_type": "code",
   "id": "85e6e34a14b066",
   "metadata": {
    "ExecuteTime": {
     "end_time": "2025-08-06T19:58:51.129585Z",
     "start_time": "2025-08-06T19:58:51.103474Z"
    }
   },
   "source": [
    "# THE ORDER OF EXECUTION\n",
    "\n",
    "throwaway_txt = \"throwaway.txt\"\n",
    "with open(throwaway_txt, \"wb\") as f:\n",
    "    f.write(b\"\\xf1\\xf2\\xf3\\xf4\")\n",
    "\n",
    "data = erics_cool_file_reader(\"foop\")"
   ],
   "outputs": [
    {
     "name": "stdout",
     "output_type": "stream",
     "text": [
      "Step 1: lets gooo\n"
     ]
    },
    {
     "ename": "FileNotFoundError",
     "evalue": "[Errno 2] No such file or directory: 'foop'",
     "output_type": "error",
     "traceback": [
      "\u001B[31m---------------------------------------------------------------------------\u001B[39m",
      "\u001B[31mFileNotFoundError\u001B[39m                         Traceback (most recent call last)",
      "\u001B[36mCell\u001B[39m\u001B[36m \u001B[39m\u001B[32mIn[56]\u001B[39m\u001B[32m, line 7\u001B[39m\n\u001B[32m      4\u001B[39m \u001B[38;5;28;01mwith\u001B[39;00m \u001B[38;5;28mopen\u001B[39m(throwaway_txt, \u001B[33m\"\u001B[39m\u001B[33mwb\u001B[39m\u001B[33m\"\u001B[39m) \u001B[38;5;28;01mas\u001B[39;00m f:\n\u001B[32m      5\u001B[39m     f.write(\u001B[33mb\u001B[39m\u001B[33m\"\u001B[39m\u001B[38;5;130;01m\\xf1\u001B[39;00m\u001B[38;5;130;01m\\xf2\u001B[39;00m\u001B[38;5;130;01m\\xf3\u001B[39;00m\u001B[38;5;130;01m\\xf4\u001B[39;00m\u001B[33m\"\u001B[39m)\n\u001B[32m----> \u001B[39m\u001B[32m7\u001B[39m data = \u001B[43merics_cool_file_reader\u001B[49m\u001B[43m(\u001B[49m\u001B[33;43m\"\u001B[39;49m\u001B[33;43mfoop\u001B[39;49m\u001B[33;43m\"\u001B[39;49m\u001B[43m)\u001B[49m\n",
      "\u001B[36mCell\u001B[39m\u001B[36m \u001B[39m\u001B[32mIn[55]\u001B[39m\u001B[32m, line 3\u001B[39m, in \u001B[36merics_cool_file_reader\u001B[39m\u001B[34m(filename)\u001B[39m\n\u001B[32m      1\u001B[39m \u001B[38;5;28;01mdef\u001B[39;00m\u001B[38;5;250m \u001B[39m\u001B[34merics_cool_file_reader\u001B[39m(filename):\n\u001B[32m      2\u001B[39m     \u001B[38;5;28mprint\u001B[39m(\u001B[33m\"\u001B[39m\u001B[33mStep 1: lets gooo\u001B[39m\u001B[33m\"\u001B[39m)\n\u001B[32m----> \u001B[39m\u001B[32m3\u001B[39m     handle = \u001B[38;5;28;43mopen\u001B[39;49m\u001B[43m(\u001B[49m\u001B[43mfilename\u001B[49m\u001B[43m)\u001B[49m\n\u001B[32m      4\u001B[39m     \u001B[38;5;28;01mtry\u001B[39;00m:\n\u001B[32m      5\u001B[39m         \u001B[38;5;28mprint\u001B[39m(\u001B[33m\"\u001B[39m\u001B[33mStep 2: read the file\u001B[39m\u001B[33m\"\u001B[39m)\n",
      "\u001B[36mFile \u001B[39m\u001B[32m~/dev/effective-python-notes/.venv/lib/python3.13/site-packages/IPython/core/interactiveshell.py:326\u001B[39m, in \u001B[36m_modified_open\u001B[39m\u001B[34m(file, *args, **kwargs)\u001B[39m\n\u001B[32m    319\u001B[39m \u001B[38;5;28;01mif\u001B[39;00m file \u001B[38;5;129;01min\u001B[39;00m {\u001B[32m0\u001B[39m, \u001B[32m1\u001B[39m, \u001B[32m2\u001B[39m}:\n\u001B[32m    320\u001B[39m     \u001B[38;5;28;01mraise\u001B[39;00m \u001B[38;5;167;01mValueError\u001B[39;00m(\n\u001B[32m    321\u001B[39m         \u001B[33mf\u001B[39m\u001B[33m\"\u001B[39m\u001B[33mIPython won\u001B[39m\u001B[33m'\u001B[39m\u001B[33mt let you open fd=\u001B[39m\u001B[38;5;132;01m{\u001B[39;00mfile\u001B[38;5;132;01m}\u001B[39;00m\u001B[33m by default \u001B[39m\u001B[33m\"\u001B[39m\n\u001B[32m    322\u001B[39m         \u001B[33m\"\u001B[39m\u001B[33mas it is likely to crash IPython. If you know what you are doing, \u001B[39m\u001B[33m\"\u001B[39m\n\u001B[32m    323\u001B[39m         \u001B[33m\"\u001B[39m\u001B[33myou can use builtins\u001B[39m\u001B[33m'\u001B[39m\u001B[33m open.\u001B[39m\u001B[33m\"\u001B[39m\n\u001B[32m    324\u001B[39m     )\n\u001B[32m--> \u001B[39m\u001B[32m326\u001B[39m \u001B[38;5;28;01mreturn\u001B[39;00m \u001B[43mio_open\u001B[49m\u001B[43m(\u001B[49m\u001B[43mfile\u001B[49m\u001B[43m,\u001B[49m\u001B[43m \u001B[49m\u001B[43m*\u001B[49m\u001B[43margs\u001B[49m\u001B[43m,\u001B[49m\u001B[43m \u001B[49m\u001B[43m*\u001B[49m\u001B[43m*\u001B[49m\u001B[43mkwargs\u001B[49m\u001B[43m)\u001B[49m\n",
      "\u001B[31mFileNotFoundError\u001B[39m: [Errno 2] No such file or directory: 'foop'"
     ]
    }
   ],
   "execution_count": 56
  },
  {
   "cell_type": "markdown",
   "id": "e37f319a8f6811f",
   "metadata": {},
   "source": [
    "Note the order of operations. An exception did occur, but \"finally\" happened before the exception was propagated.\n",
    "\n",
    "So-called finally! Its a conspiracy!!!\n",
    "\n",
    "Bonus quiz: Why did the author not put `open` in the `try/finally` block?"
   ]
  },
  {
   "cell_type": "code",
   "id": "e565b68922ee1453",
   "metadata": {
    "ExecuteTime": {
     "end_time": "2025-08-06T19:58:53.041625Z",
     "start_time": "2025-08-06T19:58:53.038501Z"
    }
   },
   "source": [
    "# Else blocks\n",
    "# These run when an exception didn't happen\n",
    "import json\n",
    "\n",
    "\n",
    "def get_some_json(data, key):\n",
    "    try:\n",
    "        print(\"READING\")\n",
    "        res = json.loads(data)\n",
    "    except ValueError:\n",
    "        print(\"WHOOPS\")\n",
    "        raise  # Author raises a KeyError, possibly for the caller's benefit?\n",
    "    else:\n",
    "        print(\"Looking!\")\n",
    "        return res[key]\n",
    "\n",
    "\n",
    "assert get_some_json('{\"foo\": \"bar\"}', \"foo\") == \"bar\""
   ],
   "outputs": [
    {
     "name": "stdout",
     "output_type": "stream",
     "text": [
      "READING\n",
      "Looking!\n"
     ]
    }
   ],
   "execution_count": 57
  },
  {
   "cell_type": "code",
   "id": "ea7c4ad1de2ed6f3",
   "metadata": {
    "ExecuteTime": {
     "end_time": "2025-08-06T19:58:53.695261Z",
     "start_time": "2025-08-06T19:58:53.674509Z"
    }
   },
   "source": [
    "# We're only catching errors with loading json, propagate out the rest\n",
    "get_some_json('{\"foo\": \"bar\"}', \"baz\")"
   ],
   "outputs": [
    {
     "name": "stdout",
     "output_type": "stream",
     "text": [
      "READING\n",
      "Looking!\n"
     ]
    },
    {
     "ename": "KeyError",
     "evalue": "'baz'",
     "output_type": "error",
     "traceback": [
      "\u001B[31m---------------------------------------------------------------------------\u001B[39m",
      "\u001B[31mKeyError\u001B[39m                                  Traceback (most recent call last)",
      "\u001B[36mCell\u001B[39m\u001B[36m \u001B[39m\u001B[32mIn[58]\u001B[39m\u001B[32m, line 2\u001B[39m\n\u001B[32m      1\u001B[39m \u001B[38;5;66;03m# We're only catching errors with loading json, propagate out the rest\u001B[39;00m\n\u001B[32m----> \u001B[39m\u001B[32m2\u001B[39m \u001B[43mget_some_json\u001B[49m\u001B[43m(\u001B[49m\u001B[33;43m'\u001B[39;49m\u001B[33;43m{\u001B[39;49m\u001B[33;43m\"\u001B[39;49m\u001B[33;43mfoo\u001B[39;49m\u001B[33;43m\"\u001B[39;49m\u001B[33;43m: \u001B[39;49m\u001B[33;43m\"\u001B[39;49m\u001B[33;43mbar\u001B[39;49m\u001B[33;43m\"\u001B[39;49m\u001B[33;43m}\u001B[39;49m\u001B[33;43m'\u001B[39;49m\u001B[43m,\u001B[49m\u001B[43m \u001B[49m\u001B[33;43m\"\u001B[39;49m\u001B[33;43mbaz\u001B[39;49m\u001B[33;43m\"\u001B[39;49m\u001B[43m)\u001B[49m\n",
      "\u001B[36mCell\u001B[39m\u001B[36m \u001B[39m\u001B[32mIn[57]\u001B[39m\u001B[32m, line 15\u001B[39m, in \u001B[36mget_some_json\u001B[39m\u001B[34m(data, key)\u001B[39m\n\u001B[32m     13\u001B[39m \u001B[38;5;28;01melse\u001B[39;00m:\n\u001B[32m     14\u001B[39m     \u001B[38;5;28mprint\u001B[39m(\u001B[33m\"\u001B[39m\u001B[33mLooking!\u001B[39m\u001B[33m\"\u001B[39m)\n\u001B[32m---> \u001B[39m\u001B[32m15\u001B[39m     \u001B[38;5;28;01mreturn\u001B[39;00m \u001B[43mres\u001B[49m\u001B[43m[\u001B[49m\u001B[43mkey\u001B[49m\u001B[43m]\u001B[49m\n",
      "\u001B[31mKeyError\u001B[39m: 'baz'"
     ]
    }
   ],
   "execution_count": 58
  },
  {
   "cell_type": "code",
   "id": "e2fdf9c388943cd4",
   "metadata": {
    "ExecuteTime": {
     "end_time": "2025-08-06T19:58:54.215412Z",
     "start_time": "2025-08-06T19:58:54.177993Z"
    }
   },
   "source": [
    "# Some bad json\n",
    "get_some_json('{\"foo\" \"bar\"}', \"foo\")"
   ],
   "outputs": [
    {
     "name": "stdout",
     "output_type": "stream",
     "text": [
      "READING\n",
      "WHOOPS\n"
     ]
    },
    {
     "ename": "JSONDecodeError",
     "evalue": "Expecting ':' delimiter: line 1 column 8 (char 7)",
     "output_type": "error",
     "traceback": [
      "\u001B[31m---------------------------------------------------------------------------\u001B[39m",
      "\u001B[31mJSONDecodeError\u001B[39m                           Traceback (most recent call last)",
      "\u001B[36mCell\u001B[39m\u001B[36m \u001B[39m\u001B[32mIn[59]\u001B[39m\u001B[32m, line 2\u001B[39m\n\u001B[32m      1\u001B[39m \u001B[38;5;66;03m# Some bad json\u001B[39;00m\n\u001B[32m----> \u001B[39m\u001B[32m2\u001B[39m \u001B[43mget_some_json\u001B[49m\u001B[43m(\u001B[49m\u001B[33;43m'\u001B[39;49m\u001B[33;43m{\u001B[39;49m\u001B[33;43m\"\u001B[39;49m\u001B[33;43mfoo\u001B[39;49m\u001B[33;43m\"\u001B[39;49m\u001B[33;43m \u001B[39;49m\u001B[33;43m\"\u001B[39;49m\u001B[33;43mbar\u001B[39;49m\u001B[33;43m\"\u001B[39;49m\u001B[33;43m}\u001B[39;49m\u001B[33;43m'\u001B[39;49m\u001B[43m,\u001B[49m\u001B[43m \u001B[49m\u001B[33;43m\"\u001B[39;49m\u001B[33;43mfoo\u001B[39;49m\u001B[33;43m\"\u001B[39;49m\u001B[43m)\u001B[49m\n",
      "\u001B[36mCell\u001B[39m\u001B[36m \u001B[39m\u001B[32mIn[57]\u001B[39m\u001B[32m, line 9\u001B[39m, in \u001B[36mget_some_json\u001B[39m\u001B[34m(data, key)\u001B[39m\n\u001B[32m      7\u001B[39m \u001B[38;5;28;01mtry\u001B[39;00m:\n\u001B[32m      8\u001B[39m     \u001B[38;5;28mprint\u001B[39m(\u001B[33m\"\u001B[39m\u001B[33mREADING\u001B[39m\u001B[33m\"\u001B[39m)\n\u001B[32m----> \u001B[39m\u001B[32m9\u001B[39m     res = \u001B[43mjson\u001B[49m\u001B[43m.\u001B[49m\u001B[43mloads\u001B[49m\u001B[43m(\u001B[49m\u001B[43mdata\u001B[49m\u001B[43m)\u001B[49m\n\u001B[32m     10\u001B[39m \u001B[38;5;28;01mexcept\u001B[39;00m \u001B[38;5;167;01mValueError\u001B[39;00m:\n\u001B[32m     11\u001B[39m     \u001B[38;5;28mprint\u001B[39m(\u001B[33m\"\u001B[39m\u001B[33mWHOOPS\u001B[39m\u001B[33m\"\u001B[39m)\n",
      "\u001B[36mFile \u001B[39m\u001B[32m/opt/homebrew/Cellar/python@3.13/3.13.5/Frameworks/Python.framework/Versions/3.13/lib/python3.13/json/__init__.py:346\u001B[39m, in \u001B[36mloads\u001B[39m\u001B[34m(s, cls, object_hook, parse_float, parse_int, parse_constant, object_pairs_hook, **kw)\u001B[39m\n\u001B[32m    341\u001B[39m     s = s.decode(detect_encoding(s), \u001B[33m'\u001B[39m\u001B[33msurrogatepass\u001B[39m\u001B[33m'\u001B[39m)\n\u001B[32m    343\u001B[39m \u001B[38;5;28;01mif\u001B[39;00m (\u001B[38;5;28mcls\u001B[39m \u001B[38;5;129;01mis\u001B[39;00m \u001B[38;5;28;01mNone\u001B[39;00m \u001B[38;5;129;01mand\u001B[39;00m object_hook \u001B[38;5;129;01mis\u001B[39;00m \u001B[38;5;28;01mNone\u001B[39;00m \u001B[38;5;129;01mand\u001B[39;00m\n\u001B[32m    344\u001B[39m         parse_int \u001B[38;5;129;01mis\u001B[39;00m \u001B[38;5;28;01mNone\u001B[39;00m \u001B[38;5;129;01mand\u001B[39;00m parse_float \u001B[38;5;129;01mis\u001B[39;00m \u001B[38;5;28;01mNone\u001B[39;00m \u001B[38;5;129;01mand\u001B[39;00m\n\u001B[32m    345\u001B[39m         parse_constant \u001B[38;5;129;01mis\u001B[39;00m \u001B[38;5;28;01mNone\u001B[39;00m \u001B[38;5;129;01mand\u001B[39;00m object_pairs_hook \u001B[38;5;129;01mis\u001B[39;00m \u001B[38;5;28;01mNone\u001B[39;00m \u001B[38;5;129;01mand\u001B[39;00m \u001B[38;5;129;01mnot\u001B[39;00m kw):\n\u001B[32m--> \u001B[39m\u001B[32m346\u001B[39m     \u001B[38;5;28;01mreturn\u001B[39;00m \u001B[43m_default_decoder\u001B[49m\u001B[43m.\u001B[49m\u001B[43mdecode\u001B[49m\u001B[43m(\u001B[49m\u001B[43ms\u001B[49m\u001B[43m)\u001B[49m\n\u001B[32m    347\u001B[39m \u001B[38;5;28;01mif\u001B[39;00m \u001B[38;5;28mcls\u001B[39m \u001B[38;5;129;01mis\u001B[39;00m \u001B[38;5;28;01mNone\u001B[39;00m:\n\u001B[32m    348\u001B[39m     \u001B[38;5;28mcls\u001B[39m = JSONDecoder\n",
      "\u001B[36mFile \u001B[39m\u001B[32m/opt/homebrew/Cellar/python@3.13/3.13.5/Frameworks/Python.framework/Versions/3.13/lib/python3.13/json/decoder.py:345\u001B[39m, in \u001B[36mJSONDecoder.decode\u001B[39m\u001B[34m(self, s, _w)\u001B[39m\n\u001B[32m    340\u001B[39m \u001B[38;5;28;01mdef\u001B[39;00m\u001B[38;5;250m \u001B[39m\u001B[34mdecode\u001B[39m(\u001B[38;5;28mself\u001B[39m, s, _w=WHITESPACE.match):\n\u001B[32m    341\u001B[39m \u001B[38;5;250m    \u001B[39m\u001B[33;03m\"\"\"Return the Python representation of ``s`` (a ``str`` instance\u001B[39;00m\n\u001B[32m    342\u001B[39m \u001B[33;03m    containing a JSON document).\u001B[39;00m\n\u001B[32m    343\u001B[39m \n\u001B[32m    344\u001B[39m \u001B[33;03m    \"\"\"\u001B[39;00m\n\u001B[32m--> \u001B[39m\u001B[32m345\u001B[39m     obj, end = \u001B[38;5;28;43mself\u001B[39;49m\u001B[43m.\u001B[49m\u001B[43mraw_decode\u001B[49m\u001B[43m(\u001B[49m\u001B[43ms\u001B[49m\u001B[43m,\u001B[49m\u001B[43m \u001B[49m\u001B[43midx\u001B[49m\u001B[43m=\u001B[49m\u001B[43m_w\u001B[49m\u001B[43m(\u001B[49m\u001B[43ms\u001B[49m\u001B[43m,\u001B[49m\u001B[43m \u001B[49m\u001B[32;43m0\u001B[39;49m\u001B[43m)\u001B[49m\u001B[43m.\u001B[49m\u001B[43mend\u001B[49m\u001B[43m(\u001B[49m\u001B[43m)\u001B[49m\u001B[43m)\u001B[49m\n\u001B[32m    346\u001B[39m     end = _w(s, end).end()\n\u001B[32m    347\u001B[39m     \u001B[38;5;28;01mif\u001B[39;00m end != \u001B[38;5;28mlen\u001B[39m(s):\n",
      "\u001B[36mFile \u001B[39m\u001B[32m/opt/homebrew/Cellar/python@3.13/3.13.5/Frameworks/Python.framework/Versions/3.13/lib/python3.13/json/decoder.py:361\u001B[39m, in \u001B[36mJSONDecoder.raw_decode\u001B[39m\u001B[34m(self, s, idx)\u001B[39m\n\u001B[32m    352\u001B[39m \u001B[38;5;250m\u001B[39m\u001B[33;03m\"\"\"Decode a JSON document from ``s`` (a ``str`` beginning with\u001B[39;00m\n\u001B[32m    353\u001B[39m \u001B[33;03ma JSON document) and return a 2-tuple of the Python\u001B[39;00m\n\u001B[32m    354\u001B[39m \u001B[33;03mrepresentation and the index in ``s`` where the document ended.\u001B[39;00m\n\u001B[32m   (...)\u001B[39m\u001B[32m    358\u001B[39m \n\u001B[32m    359\u001B[39m \u001B[33;03m\"\"\"\u001B[39;00m\n\u001B[32m    360\u001B[39m \u001B[38;5;28;01mtry\u001B[39;00m:\n\u001B[32m--> \u001B[39m\u001B[32m361\u001B[39m     obj, end = \u001B[38;5;28;43mself\u001B[39;49m\u001B[43m.\u001B[49m\u001B[43mscan_once\u001B[49m\u001B[43m(\u001B[49m\u001B[43ms\u001B[49m\u001B[43m,\u001B[49m\u001B[43m \u001B[49m\u001B[43midx\u001B[49m\u001B[43m)\u001B[49m\n\u001B[32m    362\u001B[39m \u001B[38;5;28;01mexcept\u001B[39;00m \u001B[38;5;167;01mStopIteration\u001B[39;00m \u001B[38;5;28;01mas\u001B[39;00m err:\n\u001B[32m    363\u001B[39m     \u001B[38;5;28;01mraise\u001B[39;00m JSONDecodeError(\u001B[33m\"\u001B[39m\u001B[33mExpecting value\u001B[39m\u001B[33m\"\u001B[39m, s, err.value) \u001B[38;5;28;01mfrom\u001B[39;00m\u001B[38;5;250m \u001B[39m\u001B[38;5;28;01mNone\u001B[39;00m\n",
      "\u001B[31mJSONDecodeError\u001B[39m: Expecting ':' delimiter: line 1 column 8 (char 7)"
     ]
    }
   ],
   "execution_count": 59
  },
  {
   "cell_type": "code",
   "id": "470a7ffd4c1145e9",
   "metadata": {
    "ExecuteTime": {
     "end_time": "2025-08-06T19:58:54.822653Z",
     "start_time": "2025-08-06T19:58:54.818878Z"
    }
   },
   "source": [
    "# PUT THEM ALL TOGETHER\n",
    "\n",
    "UNDEFINED = object()\n",
    "\n",
    "\n",
    "def divider(path):\n",
    "    print(\"Open er up\")\n",
    "    handle = open(path, \"r+\")\n",
    "\n",
    "    try:\n",
    "        print(\"Read!!!\")\n",
    "        data = handle.read()\n",
    "\n",
    "        print(\"Parse!!!\")\n",
    "        data = json.loads(data)\n",
    "\n",
    "        print(\"Divide!!!\")\n",
    "        value = data[\"numerator\"] / data[\"denominator\"]\n",
    "    except ZeroDivisionError:\n",
    "        print(\"File not found\")\n",
    "        return UNDEFINED\n",
    "    else:\n",
    "        print(\"Calculate!!!\")\n",
    "        data[\"result\"] = value\n",
    "        result = json.dumps(data)\n",
    "        handle.seek(0)\n",
    "        handle.write(result)\n",
    "        return value\n",
    "    finally:\n",
    "        print(\"Close!!!\")\n",
    "        handle.close()"
   ],
   "outputs": [],
   "execution_count": 60
  },
  {
   "cell_type": "code",
   "id": "a99850226cefa057",
   "metadata": {
    "ExecuteTime": {
     "end_time": "2025-08-06T19:58:55.410925Z",
     "start_time": "2025-08-06T19:58:55.407240Z"
    }
   },
   "source": [
    "# happy path\n",
    "temp_path = \"random_data.json\"\n",
    "\n",
    "with open(temp_path, \"w+\") as f:\n",
    "    f.write('{\"numerator\": 1, \"denominator\": 10}')\n",
    "\n",
    "assert divider(temp_path) == 0.1\n",
    "\n",
    "with open(temp_path, \"r+\") as f:\n",
    "    print(f.read())"
   ],
   "outputs": [
    {
     "name": "stdout",
     "output_type": "stream",
     "text": [
      "Open er up\n",
      "Read!!!\n",
      "Parse!!!\n",
      "Divide!!!\n",
      "Calculate!!!\n",
      "Close!!!\n",
      "{\"numerator\": 1, \"denominator\": 10, \"result\": 0.1}\n"
     ]
    }
   ],
   "execution_count": 61
  },
  {
   "cell_type": "code",
   "id": "414892203ed41a10",
   "metadata": {
    "ExecuteTime": {
     "end_time": "2025-08-06T19:58:56.163599Z",
     "start_time": "2025-08-06T19:58:56.159908Z"
    }
   },
   "source": [
    "# zero division path\n",
    "temp_path = \"random_data.json\"\n",
    "\n",
    "with open(temp_path, \"w+\") as f:\n",
    "    f.write('{\"numerator\": 1, \"denominator\": 0}')\n",
    "\n",
    "assert divider(temp_path) is UNDEFINED\n",
    "\n",
    "with open(temp_path, \"r+\") as f:\n",
    "    print(f.read())"
   ],
   "outputs": [
    {
     "name": "stdout",
     "output_type": "stream",
     "text": [
      "Open er up\n",
      "Read!!!\n",
      "Parse!!!\n",
      "Divide!!!\n",
      "File not found\n",
      "Close!!!\n",
      "{\"numerator\": 1, \"denominator\": 0}\n"
     ]
    }
   ],
   "execution_count": 62
  },
  {
   "cell_type": "code",
   "id": "4728e9f076de42b9",
   "metadata": {
    "ExecuteTime": {
     "end_time": "2025-08-06T19:58:56.901051Z",
     "start_time": "2025-08-06T19:58:56.864045Z"
    }
   },
   "source": [
    "# Bad data path\n",
    "temp_path = \"random_data.json\"\n",
    "\n",
    "with open(temp_path, \"w+\") as f:\n",
    "    f.write('{\"numerator\": 1 lol what}')\n",
    "\n",
    "assert divider(temp_path) == 0.1\n",
    "\n",
    "with open(temp_path, \"r+\") as f:\n",
    "    print(f.read())"
   ],
   "outputs": [
    {
     "name": "stdout",
     "output_type": "stream",
     "text": [
      "Open er up\n",
      "Read!!!\n",
      "Parse!!!\n",
      "Close!!!\n"
     ]
    },
    {
     "ename": "JSONDecodeError",
     "evalue": "Expecting ',' delimiter: line 1 column 17 (char 16)",
     "output_type": "error",
     "traceback": [
      "\u001B[31m---------------------------------------------------------------------------\u001B[39m",
      "\u001B[31mJSONDecodeError\u001B[39m                           Traceback (most recent call last)",
      "\u001B[36mCell\u001B[39m\u001B[36m \u001B[39m\u001B[32mIn[63]\u001B[39m\u001B[32m, line 7\u001B[39m\n\u001B[32m      4\u001B[39m \u001B[38;5;28;01mwith\u001B[39;00m \u001B[38;5;28mopen\u001B[39m(temp_path, \u001B[33m\"\u001B[39m\u001B[33mw+\u001B[39m\u001B[33m\"\u001B[39m) \u001B[38;5;28;01mas\u001B[39;00m f:\n\u001B[32m      5\u001B[39m     f.write(\u001B[33m'\u001B[39m\u001B[33m{\u001B[39m\u001B[33m\"\u001B[39m\u001B[33mnumerator\u001B[39m\u001B[33m\"\u001B[39m\u001B[33m: 1 lol what}\u001B[39m\u001B[33m'\u001B[39m)\n\u001B[32m----> \u001B[39m\u001B[32m7\u001B[39m \u001B[38;5;28;01massert\u001B[39;00m \u001B[43mdivider\u001B[49m\u001B[43m(\u001B[49m\u001B[43mtemp_path\u001B[49m\u001B[43m)\u001B[49m == \u001B[32m0.1\u001B[39m\n\u001B[32m      9\u001B[39m \u001B[38;5;28;01mwith\u001B[39;00m \u001B[38;5;28mopen\u001B[39m(temp_path, \u001B[33m\"\u001B[39m\u001B[33mr+\u001B[39m\u001B[33m\"\u001B[39m) \u001B[38;5;28;01mas\u001B[39;00m f:\n\u001B[32m     10\u001B[39m     \u001B[38;5;28mprint\u001B[39m(f.read())\n",
      "\u001B[36mCell\u001B[39m\u001B[36m \u001B[39m\u001B[32mIn[60]\u001B[39m\u001B[32m, line 15\u001B[39m, in \u001B[36mdivider\u001B[39m\u001B[34m(path)\u001B[39m\n\u001B[32m     12\u001B[39m data = handle.read()\n\u001B[32m     14\u001B[39m \u001B[38;5;28mprint\u001B[39m(\u001B[33m\"\u001B[39m\u001B[33mParse!!!\u001B[39m\u001B[33m\"\u001B[39m)\n\u001B[32m---> \u001B[39m\u001B[32m15\u001B[39m data = \u001B[43mjson\u001B[49m\u001B[43m.\u001B[49m\u001B[43mloads\u001B[49m\u001B[43m(\u001B[49m\u001B[43mdata\u001B[49m\u001B[43m)\u001B[49m\n\u001B[32m     17\u001B[39m \u001B[38;5;28mprint\u001B[39m(\u001B[33m\"\u001B[39m\u001B[33mDivide!!!\u001B[39m\u001B[33m\"\u001B[39m)\n\u001B[32m     18\u001B[39m value = data[\u001B[33m\"\u001B[39m\u001B[33mnumerator\u001B[39m\u001B[33m\"\u001B[39m] / data[\u001B[33m\"\u001B[39m\u001B[33mdenominator\u001B[39m\u001B[33m\"\u001B[39m]\n",
      "\u001B[36mFile \u001B[39m\u001B[32m/opt/homebrew/Cellar/python@3.13/3.13.5/Frameworks/Python.framework/Versions/3.13/lib/python3.13/json/__init__.py:346\u001B[39m, in \u001B[36mloads\u001B[39m\u001B[34m(s, cls, object_hook, parse_float, parse_int, parse_constant, object_pairs_hook, **kw)\u001B[39m\n\u001B[32m    341\u001B[39m     s = s.decode(detect_encoding(s), \u001B[33m'\u001B[39m\u001B[33msurrogatepass\u001B[39m\u001B[33m'\u001B[39m)\n\u001B[32m    343\u001B[39m \u001B[38;5;28;01mif\u001B[39;00m (\u001B[38;5;28mcls\u001B[39m \u001B[38;5;129;01mis\u001B[39;00m \u001B[38;5;28;01mNone\u001B[39;00m \u001B[38;5;129;01mand\u001B[39;00m object_hook \u001B[38;5;129;01mis\u001B[39;00m \u001B[38;5;28;01mNone\u001B[39;00m \u001B[38;5;129;01mand\u001B[39;00m\n\u001B[32m    344\u001B[39m         parse_int \u001B[38;5;129;01mis\u001B[39;00m \u001B[38;5;28;01mNone\u001B[39;00m \u001B[38;5;129;01mand\u001B[39;00m parse_float \u001B[38;5;129;01mis\u001B[39;00m \u001B[38;5;28;01mNone\u001B[39;00m \u001B[38;5;129;01mand\u001B[39;00m\n\u001B[32m    345\u001B[39m         parse_constant \u001B[38;5;129;01mis\u001B[39;00m \u001B[38;5;28;01mNone\u001B[39;00m \u001B[38;5;129;01mand\u001B[39;00m object_pairs_hook \u001B[38;5;129;01mis\u001B[39;00m \u001B[38;5;28;01mNone\u001B[39;00m \u001B[38;5;129;01mand\u001B[39;00m \u001B[38;5;129;01mnot\u001B[39;00m kw):\n\u001B[32m--> \u001B[39m\u001B[32m346\u001B[39m     \u001B[38;5;28;01mreturn\u001B[39;00m \u001B[43m_default_decoder\u001B[49m\u001B[43m.\u001B[49m\u001B[43mdecode\u001B[49m\u001B[43m(\u001B[49m\u001B[43ms\u001B[49m\u001B[43m)\u001B[49m\n\u001B[32m    347\u001B[39m \u001B[38;5;28;01mif\u001B[39;00m \u001B[38;5;28mcls\u001B[39m \u001B[38;5;129;01mis\u001B[39;00m \u001B[38;5;28;01mNone\u001B[39;00m:\n\u001B[32m    348\u001B[39m     \u001B[38;5;28mcls\u001B[39m = JSONDecoder\n",
      "\u001B[36mFile \u001B[39m\u001B[32m/opt/homebrew/Cellar/python@3.13/3.13.5/Frameworks/Python.framework/Versions/3.13/lib/python3.13/json/decoder.py:345\u001B[39m, in \u001B[36mJSONDecoder.decode\u001B[39m\u001B[34m(self, s, _w)\u001B[39m\n\u001B[32m    340\u001B[39m \u001B[38;5;28;01mdef\u001B[39;00m\u001B[38;5;250m \u001B[39m\u001B[34mdecode\u001B[39m(\u001B[38;5;28mself\u001B[39m, s, _w=WHITESPACE.match):\n\u001B[32m    341\u001B[39m \u001B[38;5;250m    \u001B[39m\u001B[33;03m\"\"\"Return the Python representation of ``s`` (a ``str`` instance\u001B[39;00m\n\u001B[32m    342\u001B[39m \u001B[33;03m    containing a JSON document).\u001B[39;00m\n\u001B[32m    343\u001B[39m \n\u001B[32m    344\u001B[39m \u001B[33;03m    \"\"\"\u001B[39;00m\n\u001B[32m--> \u001B[39m\u001B[32m345\u001B[39m     obj, end = \u001B[38;5;28;43mself\u001B[39;49m\u001B[43m.\u001B[49m\u001B[43mraw_decode\u001B[49m\u001B[43m(\u001B[49m\u001B[43ms\u001B[49m\u001B[43m,\u001B[49m\u001B[43m \u001B[49m\u001B[43midx\u001B[49m\u001B[43m=\u001B[49m\u001B[43m_w\u001B[49m\u001B[43m(\u001B[49m\u001B[43ms\u001B[49m\u001B[43m,\u001B[49m\u001B[43m \u001B[49m\u001B[32;43m0\u001B[39;49m\u001B[43m)\u001B[49m\u001B[43m.\u001B[49m\u001B[43mend\u001B[49m\u001B[43m(\u001B[49m\u001B[43m)\u001B[49m\u001B[43m)\u001B[49m\n\u001B[32m    346\u001B[39m     end = _w(s, end).end()\n\u001B[32m    347\u001B[39m     \u001B[38;5;28;01mif\u001B[39;00m end != \u001B[38;5;28mlen\u001B[39m(s):\n",
      "\u001B[36mFile \u001B[39m\u001B[32m/opt/homebrew/Cellar/python@3.13/3.13.5/Frameworks/Python.framework/Versions/3.13/lib/python3.13/json/decoder.py:361\u001B[39m, in \u001B[36mJSONDecoder.raw_decode\u001B[39m\u001B[34m(self, s, idx)\u001B[39m\n\u001B[32m    352\u001B[39m \u001B[38;5;250m\u001B[39m\u001B[33;03m\"\"\"Decode a JSON document from ``s`` (a ``str`` beginning with\u001B[39;00m\n\u001B[32m    353\u001B[39m \u001B[33;03ma JSON document) and return a 2-tuple of the Python\u001B[39;00m\n\u001B[32m    354\u001B[39m \u001B[33;03mrepresentation and the index in ``s`` where the document ended.\u001B[39;00m\n\u001B[32m   (...)\u001B[39m\u001B[32m    358\u001B[39m \n\u001B[32m    359\u001B[39m \u001B[33;03m\"\"\"\u001B[39;00m\n\u001B[32m    360\u001B[39m \u001B[38;5;28;01mtry\u001B[39;00m:\n\u001B[32m--> \u001B[39m\u001B[32m361\u001B[39m     obj, end = \u001B[38;5;28;43mself\u001B[39;49m\u001B[43m.\u001B[49m\u001B[43mscan_once\u001B[49m\u001B[43m(\u001B[49m\u001B[43ms\u001B[49m\u001B[43m,\u001B[49m\u001B[43m \u001B[49m\u001B[43midx\u001B[49m\u001B[43m)\u001B[49m\n\u001B[32m    362\u001B[39m \u001B[38;5;28;01mexcept\u001B[39;00m \u001B[38;5;167;01mStopIteration\u001B[39;00m \u001B[38;5;28;01mas\u001B[39;00m err:\n\u001B[32m    363\u001B[39m     \u001B[38;5;28;01mraise\u001B[39;00m JSONDecodeError(\u001B[33m\"\u001B[39m\u001B[33mExpecting value\u001B[39m\u001B[33m\"\u001B[39m, s, err.value) \u001B[38;5;28;01mfrom\u001B[39;00m\u001B[38;5;250m \u001B[39m\u001B[38;5;28;01mNone\u001B[39;00m\n",
      "\u001B[31mJSONDecodeError\u001B[39m: Expecting ',' delimiter: line 1 column 17 (char 16)"
     ]
    }
   ],
   "execution_count": 63
  },
  {
   "cell_type": "markdown",
   "id": "9bdce7e2fa620fb3",
   "metadata": {},
   "source": [
    "## Item 81: `assert` Internal Assumptions and `raise` Missed Expectations\n",
    "Note: several linters will warn you about using `assert`"
   ]
  },
  {
   "cell_type": "code",
   "id": "f7760e93241b83a4",
   "metadata": {
    "ExecuteTime": {
     "end_time": "2025-08-06T19:58:58.804332Z",
     "start_time": "2025-08-06T19:58:58.767408Z"
    }
   },
   "source": [
    "list_a = [1, 2, 3]\n",
    "assert list_a, \"MUST NOT BE EMPTY!!!\"\n",
    "\n",
    "list_b = []\n",
    "assert list_b, \"MUST NOT BE EMPTY!!!\""
   ],
   "outputs": [
    {
     "ename": "AssertionError",
     "evalue": "MUST NOT BE EMPTY!!!",
     "output_type": "error",
     "traceback": [
      "\u001B[31m---------------------------------------------------------------------------\u001B[39m",
      "\u001B[31mAssertionError\u001B[39m                            Traceback (most recent call last)",
      "\u001B[36mCell\u001B[39m\u001B[36m \u001B[39m\u001B[32mIn[64]\u001B[39m\u001B[32m, line 5\u001B[39m\n\u001B[32m      2\u001B[39m \u001B[38;5;28;01massert\u001B[39;00m list_a, \u001B[33m\"\u001B[39m\u001B[33mMUST NOT BE EMPTY!!!\u001B[39m\u001B[33m\"\u001B[39m\n\u001B[32m      4\u001B[39m list_b = []\n\u001B[32m----> \u001B[39m\u001B[32m5\u001B[39m \u001B[38;5;28;01massert\u001B[39;00m list_b, \u001B[33m\"\u001B[39m\u001B[33mMUST NOT BE EMPTY!!!\u001B[39m\u001B[33m\"\u001B[39m\n",
      "\u001B[31mAssertionError\u001B[39m: MUST NOT BE EMPTY!!!"
     ]
    }
   ],
   "execution_count": 64
  },
  {
   "cell_type": "code",
   "id": "d0d3f8092a27949b",
   "metadata": {
    "ExecuteTime": {
     "end_time": "2025-08-06T19:58:59.163322Z",
     "start_time": "2025-08-06T19:58:59.149327Z"
    }
   },
   "source": [
    "# there's also raise\n",
    "class EmptyError(Exception):\n",
    "    pass\n",
    "\n",
    "\n",
    "list_c = []\n",
    "if not list_c:\n",
    "    raise EmptyError(\"list_c is empty\")"
   ],
   "outputs": [
    {
     "ename": "EmptyError",
     "evalue": "list_c is empty",
     "output_type": "error",
     "traceback": [
      "\u001B[31m---------------------------------------------------------------------------\u001B[39m",
      "\u001B[31mEmptyError\u001B[39m                                Traceback (most recent call last)",
      "\u001B[36mCell\u001B[39m\u001B[36m \u001B[39m\u001B[32mIn[65]\u001B[39m\u001B[32m, line 8\u001B[39m\n\u001B[32m      6\u001B[39m list_c = []\n\u001B[32m      7\u001B[39m \u001B[38;5;28;01mif\u001B[39;00m \u001B[38;5;129;01mnot\u001B[39;00m list_c:\n\u001B[32m----> \u001B[39m\u001B[32m8\u001B[39m     \u001B[38;5;28;01mraise\u001B[39;00m EmptyError(\u001B[33m\"\u001B[39m\u001B[33mlist_c is empty\u001B[39m\u001B[33m\"\u001B[39m)\n",
      "\u001B[31mEmptyError\u001B[39m: list_c is empty"
     ]
    }
   ],
   "execution_count": 65
  },
  {
   "cell_type": "code",
   "id": "ad708ae289db3826",
   "metadata": {
    "ExecuteTime": {
     "end_time": "2025-08-06T19:58:59.402694Z",
     "start_time": "2025-08-06T19:58:59.400250Z"
    }
   },
   "source": [
    "try:\n",
    "    raise EmptyError(\"raised it\")\n",
    "except EmptyError as e:\n",
    "    print(f\"caught {e}\")"
   ],
   "outputs": [
    {
     "name": "stdout",
     "output_type": "stream",
     "text": [
      "caught raised it\n"
     ]
    }
   ],
   "execution_count": 66
  },
  {
   "cell_type": "markdown",
   "id": "795927be878e602c",
   "metadata": {},
   "source": "Note that `assert` raises `AssertionError`"
  },
  {
   "cell_type": "markdown",
   "id": "57dcc4562377051c",
   "metadata": {},
   "source": [
    "So, when to use what?\n",
    "\n",
    "### `raises`\n",
    "This is considered part of a function's interface. The caller is expected to do something with it\n",
    "\n",
    "### `assert`\n",
    "This is not supposed to be part of the interface. It's used to verify assumptions in an implementation. It helps new readers of code understand that code better. Self-documenting. etc. Errors raised via assert can be treated as system problems, instead of \"the caller made a mistake\". \"Our assumption was wrong\""
   ]
  },
  {
   "cell_type": "code",
   "id": "cc8fc6514c4a5a99",
   "metadata": {
    "ExecuteTime": {
     "end_time": "2025-08-06T19:59:01.760602Z",
     "start_time": "2025-08-06T19:59:01.757675Z"
    }
   },
   "source": [
    "class MovieRating:\n",
    "    def __init__(self, max_rating):\n",
    "        assert 0 <= max_rating <= 10, (\n",
    "            \"Rating must be between 0 and 10\"\n",
    "        )  # assumption: the caller validated the max rating\n",
    "        self.max_rating = max_rating\n",
    "\n",
    "    def rate(self, rating):\n",
    "        if not 0 <= rating <= self.max_rating:\n",
    "            raise ValueError(\n",
    "                f\"Rating must be between 0 and {self.max_rating}\"\n",
    "            )  # error: the caller gave too high a rating"
   ],
   "outputs": [],
   "execution_count": 67
  },
  {
   "cell_type": "code",
   "id": "680fba62067c9093",
   "metadata": {
    "ExecuteTime": {
     "end_time": "2025-08-06T19:59:01.958591Z",
     "start_time": "2025-08-06T19:59:01.939042Z"
    }
   },
   "source": [
    "rater = MovieRating(11)  # our code is bugged"
   ],
   "outputs": [
    {
     "ename": "AssertionError",
     "evalue": "Rating must be between 0 and 10",
     "output_type": "error",
     "traceback": [
      "\u001B[31m---------------------------------------------------------------------------\u001B[39m",
      "\u001B[31mAssertionError\u001B[39m                            Traceback (most recent call last)",
      "\u001B[36mCell\u001B[39m\u001B[36m \u001B[39m\u001B[32mIn[68]\u001B[39m\u001B[32m, line 1\u001B[39m\n\u001B[32m----> \u001B[39m\u001B[32m1\u001B[39m rater = \u001B[43mMovieRating\u001B[49m\u001B[43m(\u001B[49m\u001B[32;43m11\u001B[39;49m\u001B[43m)\u001B[49m  \u001B[38;5;66;03m# our code is bugged\u001B[39;00m\n",
      "\u001B[36mCell\u001B[39m\u001B[36m \u001B[39m\u001B[32mIn[67]\u001B[39m\u001B[32m, line 3\u001B[39m, in \u001B[36mMovieRating.__init__\u001B[39m\u001B[34m(self, max_rating)\u001B[39m\n\u001B[32m      2\u001B[39m \u001B[38;5;28;01mdef\u001B[39;00m\u001B[38;5;250m \u001B[39m\u001B[34m__init__\u001B[39m(\u001B[38;5;28mself\u001B[39m, max_rating):\n\u001B[32m----> \u001B[39m\u001B[32m3\u001B[39m     \u001B[38;5;28;01massert\u001B[39;00m \u001B[32m0\u001B[39m <= max_rating <= \u001B[32m10\u001B[39m, (\n\u001B[32m      4\u001B[39m         \u001B[33m\"\u001B[39m\u001B[33mRating must be between 0 and 10\u001B[39m\u001B[33m\"\u001B[39m\n\u001B[32m      5\u001B[39m     )  \u001B[38;5;66;03m# assumption: the caller validated the max rating\u001B[39;00m\n\u001B[32m      6\u001B[39m     \u001B[38;5;28mself\u001B[39m.max_rating = max_rating\n",
      "\u001B[31mAssertionError\u001B[39m: Rating must be between 0 and 10"
     ]
    }
   ],
   "execution_count": 68
  },
  {
   "cell_type": "code",
   "id": "29bdc68b85587e8e",
   "metadata": {
    "ExecuteTime": {
     "end_time": "2025-08-06T19:59:02.772325Z",
     "start_time": "2025-08-06T19:59:02.751652Z"
    }
   },
   "source": [
    "rater = MovieRating(10)\n",
    "rater.rate(400)  # their code is bugged"
   ],
   "outputs": [
    {
     "ename": "ValueError",
     "evalue": "Rating must be between 0 and 10",
     "output_type": "error",
     "traceback": [
      "\u001B[31m---------------------------------------------------------------------------\u001B[39m",
      "\u001B[31mValueError\u001B[39m                                Traceback (most recent call last)",
      "\u001B[36mCell\u001B[39m\u001B[36m \u001B[39m\u001B[32mIn[69]\u001B[39m\u001B[32m, line 2\u001B[39m\n\u001B[32m      1\u001B[39m rater = MovieRating(\u001B[32m10\u001B[39m)\n\u001B[32m----> \u001B[39m\u001B[32m2\u001B[39m \u001B[43mrater\u001B[49m\u001B[43m.\u001B[49m\u001B[43mrate\u001B[49m\u001B[43m(\u001B[49m\u001B[32;43m400\u001B[39;49m\u001B[43m)\u001B[49m  \u001B[38;5;66;03m# their code is bugged\u001B[39;00m\n",
      "\u001B[36mCell\u001B[39m\u001B[36m \u001B[39m\u001B[32mIn[67]\u001B[39m\u001B[32m, line 10\u001B[39m, in \u001B[36mMovieRating.rate\u001B[39m\u001B[34m(self, rating)\u001B[39m\n\u001B[32m      8\u001B[39m \u001B[38;5;28;01mdef\u001B[39;00m\u001B[38;5;250m \u001B[39m\u001B[34mrate\u001B[39m(\u001B[38;5;28mself\u001B[39m, rating):\n\u001B[32m      9\u001B[39m     \u001B[38;5;28;01mif\u001B[39;00m \u001B[38;5;129;01mnot\u001B[39;00m \u001B[32m0\u001B[39m <= rating <= \u001B[38;5;28mself\u001B[39m.max_rating:\n\u001B[32m---> \u001B[39m\u001B[32m10\u001B[39m         \u001B[38;5;28;01mraise\u001B[39;00m \u001B[38;5;167;01mValueError\u001B[39;00m(\n\u001B[32m     11\u001B[39m             \u001B[33mf\u001B[39m\u001B[33m\"\u001B[39m\u001B[33mRating must be between 0 and \u001B[39m\u001B[38;5;132;01m{\u001B[39;00m\u001B[38;5;28mself\u001B[39m.max_rating\u001B[38;5;132;01m}\u001B[39;00m\u001B[33m\"\u001B[39m\n\u001B[32m     12\u001B[39m         )\n",
      "\u001B[31mValueError\u001B[39m: Rating must be between 0 and 10"
     ]
    }
   ],
   "execution_count": 69
  },
  {
   "cell_type": "markdown",
   "id": "c0af83ef7eaadc80",
   "metadata": {},
   "source": [
    "Still fluffy?\n",
    "\n",
    "That's okay, this is one of those \"at your own discretion\" areas.\n",
    "\n",
    "My only warning around this (and the author warns this too) is to not catch `AssertionError`! Don't do it! It defeats the point. This includes not doing a high-level `except Exception`, because `AssertionError` _is_ an `Exception`.\n",
    "\n",
    "### Things to Remember:\n",
    "- The raise statement can be used to report expected error conditions back to the caller\n",
    "- Exceptions raised by a function/method are part of its explicit interface\n",
    "- The assert statement should be used to verify a programmers assumptions about code\n",
    "- Dont catch/handle assertion errors! They indicate a bug!!!\n",
    "\n",
    "### Side note: custom exceptions\n",
    "stuff hes talking about here hints at something I _hope_ he talks about later (item 121): when building your own API, its usually better to make your own exception hierarchy, instead of using the builtins. That way you can have a top-level `except` for your module's code, without accidentally catching stuff you shouldn't (assertion errors!!!)"
   ]
  },
  {
   "metadata": {},
   "cell_type": "markdown",
   "source": "## Item 82: Consider `contextlib` and `with` Statements for Reusable `try/finally` Behavior",
   "id": "50ffc7bdb69f8085"
  },
  {
   "cell_type": "code",
   "id": "cf397c41d3f4938b",
   "metadata": {
    "ExecuteTime": {
     "end_time": "2025-08-06T19:59:04.035845Z",
     "start_time": "2025-08-06T19:59:04.032975Z"
    }
   },
   "source": [
    "from threading import Lock\n",
    "lock = Lock()\n",
    "\n",
    "with lock:\n",
    "    print(\"I'm running with a lock! Pretend theres threading code\")"
   ],
   "outputs": [
    {
     "name": "stdout",
     "output_type": "stream",
     "text": [
      "I'm running with a lock! Pretend theres threading code\n"
     ]
    }
   ],
   "execution_count": 70
  },
  {
   "metadata": {
    "ExecuteTime": {
     "end_time": "2025-08-06T19:59:04.288702Z",
     "start_time": "2025-08-06T19:59:04.286166Z"
    }
   },
   "cell_type": "code",
   "source": [
    "# Basically what's happening:\n",
    "\n",
    "lock.acquire()\n",
    "try:\n",
    "    print(\"I'm running with a lock! Pretend theres threading code\")\n",
    "finally:\n",
    "    lock.release()"
   ],
   "id": "d0dbd7f192b23246",
   "outputs": [
    {
     "name": "stdout",
     "output_type": "stream",
     "text": [
      "I'm running with a lock! Pretend theres threading code\n"
     ]
    }
   ],
   "execution_count": 71
  },
  {
   "metadata": {},
   "cell_type": "markdown",
   "source": "Can save oneself repetitive code by using `with` instead of the frequent `try/finally`",
   "id": "93305fdaf8a132cd"
  },
  {
   "metadata": {
    "ExecuteTime": {
     "end_time": "2025-08-06T19:59:08.009106Z",
     "start_time": "2025-08-06T19:59:08.005835Z"
    }
   },
   "cell_type": "code",
   "source": [
    "# lets use it\n",
    "\n",
    "import logging\n",
    "logger = logging.getLogger()\n",
    "logger.setLevel(logging.INFO)\n",
    "\n",
    "def my_func():\n",
    "    logger.debug(\"some msg\")\n",
    "    logger.info(\"Info about stuff!\")\n",
    "    logger.debug(\"more msg\")\n",
    "\n",
    "my_func()"
   ],
   "id": "b29231fd7f32ce0e",
   "outputs": [
    {
     "name": "stderr",
     "output_type": "stream",
     "text": [
      "INFO:root:Info about stuff!\n"
     ]
    }
   ],
   "execution_count": 72
  },
  {
   "metadata": {
    "ExecuteTime": {
     "end_time": "2025-08-06T19:59:08.753335Z",
     "start_time": "2025-08-06T19:59:08.749551Z"
    }
   },
   "cell_type": "code",
   "source": [
    "# Oh no no debug info! Maybe we set our app to that level. But what if we want a PARTICULAR area to always log its debug messages, but we don't care about other debug?\n",
    "\n",
    "def my_func_2():\n",
    "    current_level = logger.getEffectiveLevel()\n",
    "    logger.setLevel(logging.DEBUG)\n",
    "    logger.debug(\"some msg\")\n",
    "    logger.info(\"Info about stuff!\")\n",
    "    logger.debug(\"more msg\")\n",
    "    logger.setLevel(current_level)\n",
    "\n",
    "my_func_2()"
   ],
   "id": "7f95bc39d1d25f9d",
   "outputs": [
    {
     "name": "stderr",
     "output_type": "stream",
     "text": [
      "DEBUG:root:some msg\n",
      "INFO:root:Info about stuff!\n",
      "DEBUG:root:more msg\n"
     ]
    }
   ],
   "execution_count": 73
  },
  {
   "metadata": {
    "ExecuteTime": {
     "end_time": "2025-08-06T19:59:09.381827Z",
     "start_time": "2025-08-06T19:59:09.378762Z"
    }
   },
   "cell_type": "code",
   "source": [
    "# Gross if we have to scale it up right?\n",
    "\n",
    "from contextlib import contextmanager\n",
    "\n",
    "@contextmanager\n",
    "def debug_logging_on():\n",
    "    current_level = logger.getEffectiveLevel()\n",
    "    logger.setLevel(logging.DEBUG)\n",
    "    try:\n",
    "        yield\n",
    "    finally:\n",
    "        logger.setLevel(current_level)"
   ],
   "id": "1ff7913ccd47c6ba",
   "outputs": [],
   "execution_count": 74
  },
  {
   "metadata": {
    "ExecuteTime": {
     "end_time": "2025-08-06T19:59:13.864396Z",
     "start_time": "2025-08-06T19:59:13.860869Z"
    }
   },
   "cell_type": "code",
   "source": [
    "# Behold\n",
    "with debug_logging_on():\n",
    "    my_func()\n",
    "\n",
    "my_func()"
   ],
   "id": "fcab31e5b7b3709d",
   "outputs": [
    {
     "name": "stderr",
     "output_type": "stream",
     "text": [
      "DEBUG:root:some msg\n",
      "INFO:root:Info about stuff!\n",
      "DEBUG:root:more msg\n",
      "INFO:root:Info about stuff!\n"
     ]
    }
   ],
   "execution_count": 75
  },
  {
   "metadata": {},
   "cell_type": "markdown",
   "source": [
    "We can get variables from the context with `as`.\n",
    "\n",
    "```python\n",
    "handle = open(\"my_file.txt\", \"w\")\n",
    "try:\n",
    "    handle.write(\"cowabunga\")\n",
    "finally:\n",
    "    handle.close()\n",
    "\n",
    "with open(\"my_file.txt\", \"w\") as handle:\n",
    "    handle.write(\"cowabunga\")\n",
    "```"
   ],
   "id": "b76f5c90ccb65bfd"
  },
  {
   "metadata": {
    "ExecuteTime": {
     "end_time": "2025-08-07T16:00:23.790118Z",
     "start_time": "2025-08-07T16:00:23.786879Z"
    }
   },
   "cell_type": "code",
   "source": [
    "# do it ourselves\n",
    "\n",
    "@contextmanager\n",
    "def log_with(level, name):\n",
    "    my_logger = logging.getLogger(name)\n",
    "    current_level = my_logger.getEffectiveLevel()\n",
    "    my_logger.setLevel(level)\n",
    "    try:\n",
    "        yield my_logger  # this is what is sent out on the `as` part\n",
    "    finally:\n",
    "        logger.setLevel(current_level)\n",
    "\n",
    "with log_with(logging.DEBUG, \"my_module\") as loggeroni:\n",
    "    loggeroni.debug(\"some msg\")\n",
    "    loggeroni.info(\"Info about stuff!\")\n",
    "    loggeroni.debug(\"more msg\")\n",
    "    logger.debug(\"The other logger! We shouldn't see this message\")"
   ],
   "id": "41812c432f8f078c",
   "outputs": [
    {
     "name": "stderr",
     "output_type": "stream",
     "text": [
      "DEBUG:my_module:some msg\n",
      "INFO:my_module:Info about stuff!\n",
      "DEBUG:my_module:more msg\n",
      "DEBUG:root:The other logger! We shouldn't see this message\n",
      "DEBUG:my_module:Shout into the void!!\n"
     ]
    }
   ],
   "execution_count": 79
  },
  {
   "metadata": {
    "ExecuteTime": {
     "end_time": "2025-08-07T15:59:11.384066Z",
     "start_time": "2025-08-07T15:59:11.380393Z"
    }
   },
   "cell_type": "code",
   "source": [
    "# just for fun, lets get confusing\n",
    "with log_with(logging.DEBUG, \"my_module\") as loggeroni:\n",
    "    with debug_logging_on():\n",
    "        loggeroni.debug(\"some msg\")\n",
    "        loggeroni.info(\"Info about stuff!\")\n",
    "        loggeroni.debug(\"more msg\")\n",
    "        logger.debug(\"The other logger! We shouldn't see this message\")"
   ],
   "id": "d17fe549e190f6a3",
   "outputs": [
    {
     "name": "stderr",
     "output_type": "stream",
     "text": [
      "DEBUG:my_module:some msg\n",
      "INFO:my_module:Info about stuff!\n",
      "DEBUG:my_module:more msg\n",
      "DEBUG:root:The other logger! We shouldn't see this message\n"
     ]
    }
   ],
   "execution_count": 78
  },
  {
   "metadata": {},
   "cell_type": "markdown",
   "source": [
    "### Things to Remember\n",
    "- `with` allows you some nice reusable try/finally behavior\n",
    "- `contextlib`'s `contextmanager` makes it easy to build with-capable functions\n",
    "- The value one yields from a context manager is what is provided to the `as` statement."
   ],
   "id": "1a31e613cf9978da"
  },
  {
   "metadata": {},
   "cell_type": "markdown",
   "source": [
    "## Item 83: Always Make `try` Blocks as Short as Possible\n",
    "It's so easy to make these huge.\n",
    "\n",
    "Try to keep try blocks close to their error unit. Put only one source of **expected errors** in each try block"
   ],
   "id": "dfd65aa922bb04d"
  },
  {
   "metadata": {
    "ExecuteTime": {
     "end_time": "2025-08-07T18:48:20.504404Z",
     "start_time": "2025-08-07T18:48:20.502020Z"
    }
   },
   "cell_type": "code",
   "source": [
    "def shitty_func():\n",
    "    raise ValueError(\"I'm a bad function\")\n",
    "\n",
    "def wacky_func():\n",
    "    raise ValueError(\"el oh el i'm so crazy ;P\")\n",
    "\n",
    "try:\n",
    "    shitty_func()\n",
    "    wacky_func()\n",
    "except ValueError as e:\n",
    "    print(\"somebody goofed\")"
   ],
   "id": "bd4cefbf0f39198c",
   "outputs": [
    {
     "name": "stdout",
     "output_type": "stream",
     "text": [
      "somebody goofed\n"
     ]
    }
   ],
   "execution_count": 80
  },
  {
   "metadata": {},
   "cell_type": "markdown",
   "source": [
    "But who goofed?!\n",
    "\n",
    "Obviously we can reason about this example, but lets say these were real functions and it wasn't obvious if they'd throw or not.\n",
    "\n",
    "In that case, we have to think more about \"Who goofed\""
   ],
   "id": "da3b20edc969f5a5"
  },
  {
   "metadata": {
    "ExecuteTime": {
     "end_time": "2025-08-07T18:51:17.392628Z",
     "start_time": "2025-08-07T18:51:17.390975Z"
    }
   },
   "cell_type": "code",
   "source": [
    "try:\n",
    "    shitty_func()\n",
    "except ValueError as e:\n",
    "    print(\"Shitty_Func definitely goofed!\")\n",
    "else:\n",
    "    wacky_func() # will also goof, but thats not the point"
   ],
   "id": "4ac239cd49199b92",
   "outputs": [
    {
     "name": "stdout",
     "output_type": "stream",
     "text": [
      "Shitty_Func definitely goofed!\n"
     ]
    }
   ],
   "execution_count": 81
  },
  {
   "metadata": {},
   "cell_type": "markdown",
   "source": "If you can, try to have as little in the try block as possible. Move other things to `else:` or their own try block",
   "id": "35e571dc2c0eaccd"
  },
  {
   "metadata": {},
   "cell_type": "markdown",
   "source": [
    "## Item 84: Beware of Exception Variables Disappearing\n",
    "\n",
    "In a lot of places in python there are `blah as foo` statements, including exceptions: `except FooError as foo`. But unlike many others, the exception var does not live on past the exception block."
   ],
   "id": "8482f3ec8a442259"
  },
  {
   "metadata": {
    "ExecuteTime": {
     "end_time": "2025-08-07T18:57:51.976428Z",
     "start_time": "2025-08-07T18:57:51.966883Z"
    }
   },
   "cell_type": "code",
   "source": [
    "try:\n",
    "    shitty_func()\n",
    "except ValueError as e:\n",
    "    print(\"It wont stop goofin!!!\")\n",
    "\n",
    "print(f\"whats good {e=}\")"
   ],
   "id": "89043687e210abc2",
   "outputs": [
    {
     "name": "stdout",
     "output_type": "stream",
     "text": [
      "It wont stop goofin!!!\n"
     ]
    },
    {
     "ename": "NameError",
     "evalue": "name 'e' is not defined",
     "output_type": "error",
     "traceback": [
      "\u001B[31m---------------------------------------------------------------------------\u001B[39m",
      "\u001B[31mNameError\u001B[39m                                 Traceback (most recent call last)",
      "\u001B[36mCell\u001B[39m\u001B[36m \u001B[39m\u001B[32mIn[86]\u001B[39m\u001B[32m, line 6\u001B[39m\n\u001B[32m      3\u001B[39m \u001B[38;5;28;01mexcept\u001B[39;00m \u001B[38;5;167;01mValueError\u001B[39;00m \u001B[38;5;28;01mas\u001B[39;00m e:\n\u001B[32m      4\u001B[39m     \u001B[38;5;28mprint\u001B[39m(\u001B[33m\"\u001B[39m\u001B[33mIt wont stop goofin!!!\u001B[39m\u001B[33m\"\u001B[39m)\n\u001B[32m----> \u001B[39m\u001B[32m6\u001B[39m \u001B[38;5;28mprint\u001B[39m(\u001B[33mf\u001B[39m\u001B[33m\"\u001B[39m\u001B[33mwhats good \u001B[39m\u001B[38;5;132;01m{\u001B[39;00m\u001B[43me\u001B[49m\u001B[38;5;132;01m=}\u001B[39;00m\u001B[33m\"\u001B[39m)\n",
      "\u001B[31mNameError\u001B[39m: name 'e' is not defined"
     ]
    }
   ],
   "execution_count": 86
  },
  {
   "metadata": {
    "ExecuteTime": {
     "end_time": "2025-08-07T18:58:22.739062Z",
     "start_time": "2025-08-07T18:58:22.728652Z"
    }
   },
   "cell_type": "code",
   "source": [
    "# Oh that didn't work, well what about finally?\n",
    "\n",
    "try:\n",
    "    shitty_func()\n",
    "except ValueError as e:\n",
    "    print(\"It wont stop goofin!!!\")\n",
    "finally:\n",
    "    print(f\"whats good {e=}\")"
   ],
   "id": "5a591e976d846168",
   "outputs": [
    {
     "name": "stdout",
     "output_type": "stream",
     "text": [
      "It wont stop goofin!!!\n"
     ]
    },
    {
     "ename": "NameError",
     "evalue": "name 'e' is not defined",
     "output_type": "error",
     "traceback": [
      "\u001B[31m---------------------------------------------------------------------------\u001B[39m",
      "\u001B[31mNameError\u001B[39m                                 Traceback (most recent call last)",
      "\u001B[36mCell\u001B[39m\u001B[36m \u001B[39m\u001B[32mIn[87]\u001B[39m\u001B[32m, line 8\u001B[39m\n\u001B[32m      6\u001B[39m     \u001B[38;5;28mprint\u001B[39m(\u001B[33m\"\u001B[39m\u001B[33mIt wont stop goofin!!!\u001B[39m\u001B[33m\"\u001B[39m)\n\u001B[32m      7\u001B[39m \u001B[38;5;28;01mfinally\u001B[39;00m:\n\u001B[32m----> \u001B[39m\u001B[32m8\u001B[39m     \u001B[38;5;28mprint\u001B[39m(\u001B[33mf\u001B[39m\u001B[33m\"\u001B[39m\u001B[33mwhats good \u001B[39m\u001B[38;5;132;01m{\u001B[39;00m\u001B[43me\u001B[49m\u001B[38;5;132;01m=}\u001B[39;00m\u001B[33m\"\u001B[39m)\n",
      "\u001B[31mNameError\u001B[39m: name 'e' is not defined"
     ]
    }
   ],
   "execution_count": 87
  },
  {
   "metadata": {
    "ExecuteTime": {
     "end_time": "2025-08-07T19:00:35.246824Z",
     "start_time": "2025-08-07T19:00:35.244291Z"
    }
   },
   "cell_type": "code",
   "source": [
    "# if we DO need the variable outside the except block, its straight-forward:\n",
    "\n",
    "goof_meter = \"unknown goofs\"\n",
    "\n",
    "try:\n",
    "    wacky_func()\n",
    "except ValueError as e:\n",
    "    goof_meter = \"some goofs\"\n",
    "except AttributeError as e:\n",
    "    goof_meter = \"some goofs\"\n",
    "else:\n",
    "    goof_meter = \"no goofs\"\n",
    "finally:\n",
    "    print(f\"Approximate goof rate: {goof_meter}\")"
   ],
   "id": "dbc9c81b4f4fbd87",
   "outputs": [
    {
     "name": "stdout",
     "output_type": "stream",
     "text": [
      "Approximate goof rate: some goofs\n"
     ]
    }
   ],
   "execution_count": 90
  },
  {
   "metadata": {},
   "cell_type": "markdown",
   "source": [
    "## Item 85: Beware of Catching the `Exception` Class\n",
    "Oh boy, its the big one. Every linter in every language (that has exceptions) warns about this."
   ],
   "id": "50b48317ace89e04"
  },
  {
   "metadata": {
    "ExecuteTime": {
     "end_time": "2025-08-07T19:05:16.352288Z",
     "start_time": "2025-08-07T19:05:16.349588Z"
    }
   },
   "cell_type": "code",
   "source": [
    "# Let's do some goof analysis\n",
    "\n",
    "def load_data(raw_goofs):\n",
    "    with open(raw_goofs) as f:\n",
    "        return f.read()\n",
    "\n",
    "def analyze_goofs(goofs):\n",
    "    return goofs.count(\"goof\")\n",
    "\n",
    "def run_goof_report(path):\n",
    "    data = load_data(path)\n",
    "    goofs = analyze_goofs(data)\n",
    "    return goofs"
   ],
   "id": "f1a421134544c33f",
   "outputs": [],
   "execution_count": 91
  },
  {
   "metadata": {
    "ExecuteTime": {
     "end_time": "2025-08-07T19:05:34.163903Z",
     "start_time": "2025-08-07T19:05:34.132268Z"
    }
   },
   "cell_type": "code",
   "source": "run_goof_report(\"daily_goofs-08-16-2025.txt\")",
   "id": "e51e92a2f319c2b9",
   "outputs": [
    {
     "ename": "FileNotFoundError",
     "evalue": "[Errno 2] No such file or directory: 'daily_goofs-08-16-2025.txt'",
     "output_type": "error",
     "traceback": [
      "\u001B[31m---------------------------------------------------------------------------\u001B[39m",
      "\u001B[31mFileNotFoundError\u001B[39m                         Traceback (most recent call last)",
      "\u001B[36mCell\u001B[39m\u001B[36m \u001B[39m\u001B[32mIn[92]\u001B[39m\u001B[32m, line 1\u001B[39m\n\u001B[32m----> \u001B[39m\u001B[32m1\u001B[39m \u001B[43mrun_goof_report\u001B[49m\u001B[43m(\u001B[49m\u001B[33;43m\"\u001B[39;49m\u001B[33;43mdaily_goofs-08-16-2025.txt\u001B[39;49m\u001B[33;43m\"\u001B[39;49m\u001B[43m)\u001B[49m\n",
      "\u001B[36mCell\u001B[39m\u001B[36m \u001B[39m\u001B[32mIn[91]\u001B[39m\u001B[32m, line 11\u001B[39m, in \u001B[36mrun_goof_report\u001B[39m\u001B[34m(path)\u001B[39m\n\u001B[32m     10\u001B[39m \u001B[38;5;28;01mdef\u001B[39;00m\u001B[38;5;250m \u001B[39m\u001B[34mrun_goof_report\u001B[39m(path):\n\u001B[32m---> \u001B[39m\u001B[32m11\u001B[39m     data = \u001B[43mload_data\u001B[49m\u001B[43m(\u001B[49m\u001B[43mpath\u001B[49m\u001B[43m)\u001B[49m\n\u001B[32m     12\u001B[39m     goofs = analyze_goofs(data)\n\u001B[32m     13\u001B[39m     \u001B[38;5;28;01mreturn\u001B[39;00m goofs\n",
      "\u001B[36mCell\u001B[39m\u001B[36m \u001B[39m\u001B[32mIn[91]\u001B[39m\u001B[32m, line 4\u001B[39m, in \u001B[36mload_data\u001B[39m\u001B[34m(raw_goofs)\u001B[39m\n\u001B[32m      3\u001B[39m \u001B[38;5;28;01mdef\u001B[39;00m\u001B[38;5;250m \u001B[39m\u001B[34mload_data\u001B[39m(raw_goofs):\n\u001B[32m----> \u001B[39m\u001B[32m4\u001B[39m     \u001B[38;5;28;01mwith\u001B[39;00m \u001B[38;5;28;43mopen\u001B[39;49m\u001B[43m(\u001B[49m\u001B[43mraw_goofs\u001B[49m\u001B[43m)\u001B[49m \u001B[38;5;28;01mas\u001B[39;00m f:\n\u001B[32m      5\u001B[39m         \u001B[38;5;28;01mreturn\u001B[39;00m f.read()\n",
      "\u001B[36mFile \u001B[39m\u001B[32m~/dev/effective-python-notes/.venv/lib/python3.13/site-packages/IPython/core/interactiveshell.py:326\u001B[39m, in \u001B[36m_modified_open\u001B[39m\u001B[34m(file, *args, **kwargs)\u001B[39m\n\u001B[32m    319\u001B[39m \u001B[38;5;28;01mif\u001B[39;00m file \u001B[38;5;129;01min\u001B[39;00m {\u001B[32m0\u001B[39m, \u001B[32m1\u001B[39m, \u001B[32m2\u001B[39m}:\n\u001B[32m    320\u001B[39m     \u001B[38;5;28;01mraise\u001B[39;00m \u001B[38;5;167;01mValueError\u001B[39;00m(\n\u001B[32m    321\u001B[39m         \u001B[33mf\u001B[39m\u001B[33m\"\u001B[39m\u001B[33mIPython won\u001B[39m\u001B[33m'\u001B[39m\u001B[33mt let you open fd=\u001B[39m\u001B[38;5;132;01m{\u001B[39;00mfile\u001B[38;5;132;01m}\u001B[39;00m\u001B[33m by default \u001B[39m\u001B[33m\"\u001B[39m\n\u001B[32m    322\u001B[39m         \u001B[33m\"\u001B[39m\u001B[33mas it is likely to crash IPython. If you know what you are doing, \u001B[39m\u001B[33m\"\u001B[39m\n\u001B[32m    323\u001B[39m         \u001B[33m\"\u001B[39m\u001B[33myou can use builtins\u001B[39m\u001B[33m'\u001B[39m\u001B[33m open.\u001B[39m\u001B[33m\"\u001B[39m\n\u001B[32m    324\u001B[39m     )\n\u001B[32m--> \u001B[39m\u001B[32m326\u001B[39m \u001B[38;5;28;01mreturn\u001B[39;00m \u001B[43mio_open\u001B[49m\u001B[43m(\u001B[49m\u001B[43mfile\u001B[49m\u001B[43m,\u001B[49m\u001B[43m \u001B[49m\u001B[43m*\u001B[49m\u001B[43margs\u001B[49m\u001B[43m,\u001B[49m\u001B[43m \u001B[49m\u001B[43m*\u001B[49m\u001B[43m*\u001B[49m\u001B[43mkwargs\u001B[49m\u001B[43m)\u001B[49m\n",
      "\u001B[31mFileNotFoundError\u001B[39m: [Errno 2] No such file or directory: 'daily_goofs-08-16-2025.txt'"
     ]
    }
   ],
   "execution_count": 92
  },
  {
   "metadata": {
    "ExecuteTime": {
     "end_time": "2025-08-07T19:06:11.484154Z",
     "start_time": "2025-08-07T19:06:11.481899Z"
    }
   },
   "cell_type": "code",
   "source": [
    "# Aw dang it!\n",
    "try:\n",
    "    run_goof_report(\"daily_goofs-08-16-2025.txt\")\n",
    "except FileNotFoundError as e:\n",
    "    print(f\"Goof file not found: {e}\")"
   ],
   "id": "6a46b84bc553a99f",
   "outputs": [
    {
     "name": "stdout",
     "output_type": "stream",
     "text": [
      "Goof file not found: [Errno 2] No such file or directory: 'daily_goofs-08-16-2025.txt'\n"
     ]
    }
   ],
   "execution_count": 93
  },
  {
   "metadata": {
    "ExecuteTime": {
     "end_time": "2025-08-07T19:08:08.504773Z",
     "start_time": "2025-08-07T19:08:08.502123Z"
    }
   },
   "cell_type": "code",
   "source": [
    "# solved! Oh, but now we also have other stuff to add\n",
    "def run_goof_report(path):\n",
    "    shitty_func()  # New behavior with its own error chain\n",
    "    data = load_data(path)\n",
    "    goofs = analyze_goofs(data)\n",
    "    return goofs\n",
    "\n",
    "try:\n",
    "    run_goof_report(\"daily_goofs-08-16-2025.txt\")\n",
    "except Exception as e:  # Solved once and for all!!!\n",
    "    print(f\"Somebody really goofed: {e}\")"
   ],
   "id": "5acfb1faedf35363",
   "outputs": [
    {
     "name": "stdout",
     "output_type": "stream",
     "text": [
      "Somebody really goofed: I'm a bad function\n"
     ]
    }
   ],
   "execution_count": 94
  },
  {
   "metadata": {
    "ExecuteTime": {
     "end_time": "2025-08-07T19:10:21.106776Z",
     "start_time": "2025-08-07T19:10:21.104930Z"
    }
   },
   "cell_type": "code",
   "source": [
    "def run_goof_report(path):\n",
    "    bug_in_ur_code()  # more new functionality introduced, shittier than before!\n",
    "    shitty_func()\n",
    "    data = load_data(path)\n",
    "    goofs = analyze_goofs(data)\n",
    "    return goofs\n",
    "\n",
    "try:\n",
    "    run_goof_report(\"daily_goofs-08-16-2025.txt\")\n",
    "except Exception as e:\n",
    "    print(f\"Somebody really goofed: {e}\")"
   ],
   "id": "bae58489a17a8de5",
   "outputs": [
    {
     "name": "stdout",
     "output_type": "stream",
     "text": [
      "Somebody really goofed: name 'bug_in_ur_code' is not defined\n"
     ]
    }
   ],
   "execution_count": 97
  },
  {
   "metadata": {},
   "cell_type": "markdown",
   "source": "The problem here, is nobody was goofin, this was a goofin bug in our goof code! This sort of thing should bubble up to the top for us to see! Not be handled and ignored, as it represents bad, unrecoverable state!",
   "id": "70f0c381ac2b633a"
  },
  {
   "metadata": {
    "ExecuteTime": {
     "end_time": "2025-08-07T19:12:12.103395Z",
     "start_time": "2025-08-07T19:12:12.100976Z"
    }
   },
   "cell_type": "code",
   "source": [
    "# Let's mitigate\n",
    "try:\n",
    "    run_goof_report(\"daily_goofs-08-16-2025.txt\")\n",
    "except Exception as e:\n",
    "    print(\"Somebody really goofed:\", type(e), e)"
   ],
   "id": "7c2e3fd6a790fdb4",
   "outputs": [
    {
     "name": "stdout",
     "output_type": "stream",
     "text": [
      "Somebody really goofed: <class 'NameError'> name 'bug_in_ur_code' is not defined\n"
     ]
    }
   ],
   "execution_count": 98
  },
  {
   "metadata": {},
   "cell_type": "code",
   "outputs": [],
   "execution_count": null,
   "source": "",
   "id": "c45c45783e8e5979"
  }
 ],
 "metadata": {
  "kernelspec": {
   "display_name": "Python 3",
   "language": "python",
   "name": "python3"
  },
  "language_info": {
   "codemirror_mode": {
    "name": "ipython",
    "version": 2
   },
   "file_extension": ".py",
   "mimetype": "text/x-python",
   "name": "python",
   "nbconvert_exporter": "python",
   "pygments_lexer": "ipython2",
   "version": "2.7.6"
  }
 },
 "nbformat": 4,
 "nbformat_minor": 5
}
