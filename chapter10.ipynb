{
 "cells": [
  {
   "cell_type": "markdown",
   "id": "58d30ab68901bdaa",
   "metadata": {},
   "source": "# Chapter 10: Robustness"
  },
  {
   "cell_type": "markdown",
   "id": "29f7894b6e68f2f0",
   "metadata": {},
   "source": "## Item 80: Take Advantage of Each Block in `try/except/else/finally`"
  },
  {
   "cell_type": "code",
   "id": "7c5b34893041f2d4",
   "metadata": {},
   "source": [
    "def erics_cool_file_reader(filename):\n",
    "    print(\"Step 1: lets gooo\")\n",
    "    handle = open(filename)\n",
    "    try:\n",
    "        print(\"Step 2: read the file\")\n",
    "        return handle.read()\n",
    "    finally:\n",
    "        print(\"Step 3: close the file\")\n",
    "        handle.close()\n",
    "\n",
    "\n",
    "# This is essentially what `with open` is doing\n",
    "erics_cool_file_reader(\"packages.csv\")"
   ],
   "outputs": [],
   "execution_count": null
  },
  {
   "cell_type": "code",
   "id": "85e6e34a14b066",
   "metadata": {},
   "source": [
    "# THE ORDER OF EXECUTION\n",
    "\n",
    "throwaway_txt = \"throwaway.txt\"\n",
    "with open(throwaway_txt, \"wb\") as f:\n",
    "    f.write(b\"\\xf1\\xf2\\xf3\\xf4\")\n",
    "\n",
    "data = erics_cool_file_reader(\"foop\")"
   ],
   "outputs": [],
   "execution_count": null
  },
  {
   "cell_type": "markdown",
   "id": "e37f319a8f6811f",
   "metadata": {},
   "source": [
    "Note the order of operations. An exception did occur, but \"finally\" happened before the exception was propagated.\n",
    "\n",
    "So-called finally! Its a conspiracy!!!\n",
    "\n",
    "Bonus quiz: Why did the author not put `open` in the `try/finally` block?"
   ]
  },
  {
   "cell_type": "code",
   "id": "e565b68922ee1453",
   "metadata": {},
   "source": [
    "# Else blocks\n",
    "# These run when an exception didn't happen\n",
    "import json\n",
    "\n",
    "\n",
    "def get_some_json(data, key):\n",
    "    try:\n",
    "        print(\"READING\")\n",
    "        res = json.loads(data)\n",
    "    except ValueError:\n",
    "        print(\"WHOOPS\")\n",
    "        raise  # Author raises a KeyError, possibly for the caller's benefit?\n",
    "    else:\n",
    "        print(\"Looking!\")\n",
    "        return res[key]\n",
    "\n",
    "\n",
    "assert get_some_json('{\"foo\": \"bar\"}', \"foo\") == \"bar\""
   ],
   "outputs": [],
   "execution_count": null
  },
  {
   "cell_type": "code",
   "id": "ea7c4ad1de2ed6f3",
   "metadata": {},
   "source": [
    "# We're only catching errors with loading json, propagate out the rest\n",
    "get_some_json('{\"foo\": \"bar\"}', \"baz\")"
   ],
   "outputs": [],
   "execution_count": null
  },
  {
   "cell_type": "code",
   "id": "e2fdf9c388943cd4",
   "metadata": {},
   "source": [
    "# Some bad json\n",
    "get_some_json('{\"foo\" \"bar\"}', \"foo\")"
   ],
   "outputs": [],
   "execution_count": null
  },
  {
   "cell_type": "code",
   "id": "470a7ffd4c1145e9",
   "metadata": {},
   "source": [
    "# PUT THEM ALL TOGETHER\n",
    "\n",
    "UNDEFINED = object()\n",
    "\n",
    "\n",
    "def divider(path):\n",
    "    print(\"Open er up\")\n",
    "    handle = open(path, \"r+\")\n",
    "\n",
    "    try:\n",
    "        print(\"Read!!!\")\n",
    "        data = handle.read()\n",
    "\n",
    "        print(\"Parse!!!\")\n",
    "        data = json.loads(data)\n",
    "\n",
    "        print(\"Divide!!!\")\n",
    "        value = data[\"numerator\"] / data[\"denominator\"]\n",
    "    except ZeroDivisionError:\n",
    "        print(\"File not found\")\n",
    "        return UNDEFINED\n",
    "    else:\n",
    "        print(\"Calculate!!!\")\n",
    "        data[\"result\"] = value\n",
    "        result = json.dumps(data)\n",
    "        handle.seek(0)\n",
    "        handle.write(result)\n",
    "        return value\n",
    "    finally:\n",
    "        print(\"Close!!!\")\n",
    "        handle.close()"
   ],
   "outputs": [],
   "execution_count": null
  },
  {
   "cell_type": "code",
   "id": "a99850226cefa057",
   "metadata": {},
   "source": [
    "# happy path\n",
    "temp_path = \"random_data.json\"\n",
    "\n",
    "with open(temp_path, \"w+\") as f:\n",
    "    f.write('{\"numerator\": 1, \"denominator\": 10}')\n",
    "\n",
    "assert divider(temp_path) == 0.1\n",
    "\n",
    "with open(temp_path, \"r+\") as f:\n",
    "    print(f.read())"
   ],
   "outputs": [],
   "execution_count": null
  },
  {
   "cell_type": "code",
   "id": "414892203ed41a10",
   "metadata": {},
   "source": [
    "# zero division path\n",
    "temp_path = \"random_data.json\"\n",
    "\n",
    "with open(temp_path, \"w+\") as f:\n",
    "    f.write('{\"numerator\": 1, \"denominator\": 0}')\n",
    "\n",
    "assert divider(temp_path) is UNDEFINED\n",
    "\n",
    "with open(temp_path, \"r+\") as f:\n",
    "    print(f.read())"
   ],
   "outputs": [],
   "execution_count": null
  },
  {
   "cell_type": "code",
   "id": "4728e9f076de42b9",
   "metadata": {},
   "source": [
    "# Bad data path\n",
    "temp_path = \"random_data.json\"\n",
    "\n",
    "with open(temp_path, \"w+\") as f:\n",
    "    f.write('{\"numerator\": 1 lol what}')\n",
    "\n",
    "assert divider(temp_path) == 0.1\n",
    "\n",
    "with open(temp_path, \"r+\") as f:\n",
    "    print(f.read())"
   ],
   "outputs": [],
   "execution_count": null
  },
  {
   "cell_type": "markdown",
   "id": "9bdce7e2fa620fb3",
   "metadata": {},
   "source": [
    "## Item 81: `assert` Internal Assumptions and `raise` Missed Expectations\n",
    "Note: several linters will warn you about using `assert`"
   ]
  },
  {
   "cell_type": "code",
   "id": "f7760e93241b83a4",
   "metadata": {},
   "source": [
    "list_a = [1, 2, 3]\n",
    "assert list_a, \"MUST NOT BE EMPTY!!!\"\n",
    "\n",
    "list_b = []\n",
    "assert list_b, \"MUST NOT BE EMPTY!!!\""
   ],
   "outputs": [],
   "execution_count": null
  },
  {
   "cell_type": "code",
   "id": "d0d3f8092a27949b",
   "metadata": {},
   "source": [
    "# there's also raise\n",
    "class EmptyError(Exception):\n",
    "    pass\n",
    "\n",
    "\n",
    "list_c = []\n",
    "if not list_c:\n",
    "    raise EmptyError(\"list_c is empty\")"
   ],
   "outputs": [],
   "execution_count": null
  },
  {
   "cell_type": "code",
   "id": "ad708ae289db3826",
   "metadata": {},
   "source": [
    "try:\n",
    "    raise EmptyError(\"raised it\")\n",
    "except EmptyError as e:\n",
    "    print(f\"caught {e}\")"
   ],
   "outputs": [],
   "execution_count": null
  },
  {
   "cell_type": "markdown",
   "id": "795927be878e602c",
   "metadata": {},
   "source": "Note that `assert` raises `AssertionError`"
  },
  {
   "cell_type": "markdown",
   "id": "57dcc4562377051c",
   "metadata": {},
   "source": [
    "So, when to use what?\n",
    "\n",
    "### `raises`\n",
    "This is considered part of a function's interface. The caller is expected to do something with it\n",
    "\n",
    "### `assert`\n",
    "This is not supposed to be part of the interface. It's used to verify assumptions in an implementation. It helps new readers of code understand that code better. Self-documenting. etc. Errors raised via assert can be treated as system problems, instead of \"the caller made a mistake\". \"Our assumption was wrong\""
   ]
  },
  {
   "cell_type": "code",
   "id": "cc8fc6514c4a5a99",
   "metadata": {},
   "source": [
    "class MovieRating:\n",
    "    def __init__(self, max_rating):\n",
    "        assert 0 <= max_rating <= 10, (\n",
    "            \"Rating must be between 0 and 10\"\n",
    "        )  # assumption: the caller validated the max rating\n",
    "        self.max_rating = max_rating\n",
    "\n",
    "    def rate(self, rating):\n",
    "        if not 0 <= rating <= self.max_rating:\n",
    "            raise ValueError(\n",
    "                f\"Rating must be between 0 and {self.max_rating}\"\n",
    "            )  # error: the caller gave too high a rating"
   ],
   "outputs": [],
   "execution_count": null
  },
  {
   "cell_type": "code",
   "id": "680fba62067c9093",
   "metadata": {},
   "source": [
    "rater = MovieRating(11)  # our code is bugged"
   ],
   "outputs": [],
   "execution_count": null
  },
  {
   "cell_type": "code",
   "id": "29bdc68b85587e8e",
   "metadata": {},
   "source": [
    "rater = MovieRating(10)\n",
    "rater.rate(400)  # their code is bugged"
   ],
   "outputs": [],
   "execution_count": null
  },
  {
   "cell_type": "markdown",
   "id": "c0af83ef7eaadc80",
   "metadata": {},
   "source": [
    "Still fluffy?\n",
    "\n",
    "That's okay, this is one of those \"at your own discretion\" areas.\n",
    "\n",
    "My only warning around this (and the author warns this too) is to not catch `AssertionError`! Don't do it! It defeats the point. This includes not doing a high-level `except Exception`, because `AssertionError` _is_ an `Exception`.\n",
    "\n",
    "### Things to Remember:\n",
    "- The raise statement can be used to report expected error conditions back to the caller\n",
    "- Exceptions raised by a function/method are part of its explicit interface\n",
    "- The assert statement should be used to verify a programmers assumptions about code\n",
    "- Dont catch/handle assertion errors! They indicate a bug!!!\n",
    "\n",
    "### Side note: custom exceptions\n",
    "stuff hes talking about here hints at something I _hope_ he talks about later (item 121): when building your own API, its usually better to make your own exception hierarchy, instead of using the builtins. That way you can have a top-level `except` for your module's code, without accidentally catching stuff you shouldn't (assertion errors!!!)"
   ]
  },
  {
   "metadata": {},
   "cell_type": "markdown",
   "source": "## Item 82: Consider `contextlib` and `with` Statements for Reusable `try/finally` Behavior",
   "id": "50ffc7bdb69f8085"
  },
  {
   "cell_type": "code",
   "id": "cf397c41d3f4938b",
   "metadata": {},
   "source": [
    "from threading import Lock\n",
    "lock = Lock()\n",
    "\n",
    "with lock:\n",
    "    print(\"I'm running with a lock! Pretend theres threading code\")"
   ],
   "outputs": [],
   "execution_count": null
  },
  {
   "metadata": {},
   "cell_type": "code",
   "source": [
    "# Basically what's happening:\n",
    "\n",
    "lock.acquire()\n",
    "try:\n",
    "    print(\"I'm running with a lock! Pretend theres threading code\")\n",
    "finally:\n",
    "    lock.release()"
   ],
   "id": "d0dbd7f192b23246",
   "outputs": [],
   "execution_count": null
  },
  {
   "metadata": {},
   "cell_type": "markdown",
   "source": "Can save oneself repetitive code by using `with` instead of the frequent `try/finally`",
   "id": "93305fdaf8a132cd"
  },
  {
   "metadata": {},
   "cell_type": "code",
   "source": [
    "# lets use it\n",
    "\n",
    "import logging\n",
    "logger = logging.getLogger()\n",
    "logger.setLevel(logging.INFO)\n",
    "\n",
    "def my_func():\n",
    "    logger.debug(\"some msg\")\n",
    "    logger.info(\"Info about stuff!\")\n",
    "    logger.debug(\"more msg\")\n",
    "\n",
    "my_func()"
   ],
   "id": "b29231fd7f32ce0e",
   "outputs": [],
   "execution_count": null
  },
  {
   "metadata": {},
   "cell_type": "code",
   "source": [
    "# Oh no no debug info! Maybe we set our app to that level. But what if we want a PARTICULAR area to always log its debug messages, but we don't care about other debug?\n",
    "\n",
    "def my_func_2():\n",
    "    current_level = logger.getEffectiveLevel()\n",
    "    logger.setLevel(logging.DEBUG)\n",
    "    logger.debug(\"some msg\")\n",
    "    logger.info(\"Info about stuff!\")\n",
    "    logger.debug(\"more msg\")\n",
    "    logger.setLevel(current_level)\n",
    "\n",
    "my_func_2()"
   ],
   "id": "7f95bc39d1d25f9d",
   "outputs": [],
   "execution_count": null
  },
  {
   "metadata": {},
   "cell_type": "code",
   "source": [
    "# Gross if we have to scale it up right?\n",
    "\n",
    "from contextlib import contextmanager\n",
    "\n",
    "@contextmanager\n",
    "def debug_logging_on():\n",
    "    current_level = logger.getEffectiveLevel()\n",
    "    logger.setLevel(logging.DEBUG)\n",
    "    try:\n",
    "        yield\n",
    "    finally:\n",
    "        logger.setLevel(current_level)"
   ],
   "id": "1ff7913ccd47c6ba",
   "outputs": [],
   "execution_count": null
  },
  {
   "metadata": {},
   "cell_type": "code",
   "source": [
    "# Behold\n",
    "with debug_logging_on():\n",
    "    my_func()\n",
    "\n",
    "my_func()"
   ],
   "id": "fcab31e5b7b3709d",
   "outputs": [],
   "execution_count": null
  },
  {
   "metadata": {},
   "cell_type": "markdown",
   "source": [
    "We can get variables from the context with `as`.\n",
    "\n",
    "```python\n",
    "handle = open(\"my_file.txt\", \"w\")\n",
    "try:\n",
    "    handle.write(\"cowabunga\")\n",
    "finally:\n",
    "    handle.close()\n",
    "\n",
    "with open(\"my_file.txt\", \"w\") as handle:\n",
    "    handle.write(\"cowabunga\")\n",
    "```"
   ],
   "id": "b76f5c90ccb65bfd"
  },
  {
   "metadata": {},
   "cell_type": "code",
   "source": [
    "# do it ourselves\n",
    "\n",
    "@contextmanager\n",
    "def log_with(level, name):\n",
    "    my_logger = logging.getLogger(name)\n",
    "    current_level = my_logger.getEffectiveLevel()\n",
    "    my_logger.setLevel(level)\n",
    "    try:\n",
    "        yield my_logger  # this is what is sent out on the `as` part\n",
    "    finally:\n",
    "        logger.setLevel(current_level)\n",
    "\n",
    "with log_with(logging.DEBUG, \"my_module\") as loggeroni:\n",
    "    loggeroni.debug(\"some msg\")\n",
    "    loggeroni.info(\"Info about stuff!\")\n",
    "    loggeroni.debug(\"more msg\")\n",
    "    logger.debug(\"The other logger! We shouldn't see this message\")"
   ],
   "id": "41812c432f8f078c",
   "outputs": [],
   "execution_count": null
  },
  {
   "metadata": {},
   "cell_type": "code",
   "source": [
    "# just for fun, lets get confusing\n",
    "with log_with(logging.DEBUG, \"my_module\") as loggeroni:\n",
    "    with debug_logging_on():\n",
    "        loggeroni.debug(\"some msg\")\n",
    "        loggeroni.info(\"Info about stuff!\")\n",
    "        loggeroni.debug(\"more msg\")\n",
    "        logger.debug(\"The other logger! We shouldn't see this message\")"
   ],
   "id": "d17fe549e190f6a3",
   "outputs": [],
   "execution_count": null
  },
  {
   "metadata": {},
   "cell_type": "markdown",
   "source": [
    "### Things to Remember\n",
    "- `with` allows you some nice reusable try/finally behavior\n",
    "- `contextlib`'s `contextmanager` makes it easy to build with-capable functions\n",
    "- The value one yields from a context manager is what is provided to the `as` statement."
   ],
   "id": "1a31e613cf9978da"
  },
  {
   "metadata": {},
   "cell_type": "markdown",
   "source": [
    "## Item 83: Always Make `try` Blocks as Short as Possible\n",
    "It's so easy to make these huge.\n",
    "\n",
    "Try to keep try blocks close to their error unit. Put only one source of **expected errors** in each try block"
   ],
   "id": "dfd65aa922bb04d"
  },
  {
   "metadata": {},
   "cell_type": "code",
   "source": [
    "def shitty_func():\n",
    "    raise ValueError(\"I'm a bad function\")\n",
    "\n",
    "def wacky_func():\n",
    "    raise ValueError(\"el oh el i'm so crazy ;P\")\n",
    "\n",
    "try:\n",
    "    shitty_func()\n",
    "    wacky_func()\n",
    "except ValueError as e:\n",
    "    print(\"somebody goofed\")"
   ],
   "id": "bd4cefbf0f39198c",
   "outputs": [],
   "execution_count": null
  },
  {
   "metadata": {},
   "cell_type": "markdown",
   "source": [
    "But who goofed?!\n",
    "\n",
    "Obviously we can reason about this example, but lets say these were real functions and it wasn't obvious if they'd throw or not.\n",
    "\n",
    "In that case, we have to think more about \"Who goofed\""
   ],
   "id": "da3b20edc969f5a5"
  },
  {
   "metadata": {},
   "cell_type": "code",
   "source": [
    "try:\n",
    "    shitty_func()\n",
    "except ValueError as e:\n",
    "    print(\"Shitty_Func definitely goofed!\")\n",
    "else:\n",
    "    wacky_func() # will also goof, but thats not the point"
   ],
   "id": "4ac239cd49199b92",
   "outputs": [],
   "execution_count": null
  },
  {
   "metadata": {},
   "cell_type": "markdown",
   "source": "If you can, try to have as little in the try block as possible. Move other things to `else:` or their own try block",
   "id": "35e571dc2c0eaccd"
  },
  {
   "metadata": {},
   "cell_type": "markdown",
   "source": [
    "## Item 84: Beware of Exception Variables Disappearing\n",
    "\n",
    "In a lot of places in python there are `blah as foo` statements, including exceptions: `except FooError as foo`. But unlike many others, the exception var does not live on past the exception block."
   ],
   "id": "8482f3ec8a442259"
  },
  {
   "metadata": {},
   "cell_type": "code",
   "source": [
    "try:\n",
    "    shitty_func()\n",
    "except ValueError as e:\n",
    "    print(\"It wont stop goofin!!!\")\n",
    "\n",
    "print(f\"whats good {e=}\")"
   ],
   "id": "89043687e210abc2",
   "outputs": [],
   "execution_count": null
  },
  {
   "metadata": {},
   "cell_type": "code",
   "source": [
    "# Oh that didn't work, well what about finally?\n",
    "\n",
    "try:\n",
    "    shitty_func()\n",
    "except ValueError as e:\n",
    "    print(\"It wont stop goofin!!!\")\n",
    "finally:\n",
    "    print(f\"whats good {e=}\")"
   ],
   "id": "5a591e976d846168",
   "outputs": [],
   "execution_count": null
  },
  {
   "metadata": {},
   "cell_type": "code",
   "source": [
    "# if we DO need the variable outside the except block, its straight-forward:\n",
    "\n",
    "goof_meter = \"unknown goofs\"\n",
    "\n",
    "try:\n",
    "    wacky_func()\n",
    "except ValueError as e:\n",
    "    goof_meter = \"some goofs\"\n",
    "except AttributeError as e:\n",
    "    goof_meter = \"some goofs\"\n",
    "else:\n",
    "    goof_meter = \"no goofs\"\n",
    "finally:\n",
    "    print(f\"Approximate goof rate: {goof_meter}\")"
   ],
   "id": "dbc9c81b4f4fbd87",
   "outputs": [],
   "execution_count": null
  },
  {
   "metadata": {},
   "cell_type": "markdown",
   "source": [
    "## Item 85: Beware of Catching the `Exception` Class\n",
    "Oh boy, its the big one. Every linter in every language (that has exceptions) warns about this."
   ],
   "id": "50b48317ace89e04"
  },
  {
   "metadata": {},
   "cell_type": "code",
   "source": [
    "# Let's do some goof analysis\n",
    "\n",
    "def load_data(raw_goofs):\n",
    "    with open(raw_goofs) as f:\n",
    "        return f.read()\n",
    "\n",
    "def analyze_goofs(goofs):\n",
    "    return goofs.count(\"goof\")\n",
    "\n",
    "def run_goof_report(path):\n",
    "    data = load_data(path)\n",
    "    goofs = analyze_goofs(data)\n",
    "    return goofs"
   ],
   "id": "f1a421134544c33f",
   "outputs": [],
   "execution_count": null
  },
  {
   "metadata": {},
   "cell_type": "code",
   "source": "run_goof_report(\"daily_goofs-08-16-2025.txt\")",
   "id": "e51e92a2f319c2b9",
   "outputs": [],
   "execution_count": null
  },
  {
   "metadata": {},
   "cell_type": "code",
   "source": [
    "# Aw dang it!\n",
    "try:\n",
    "    run_goof_report(\"daily_goofs-08-16-2025.txt\")\n",
    "except FileNotFoundError as e:\n",
    "    print(f\"Goof file not found: {e}\")"
   ],
   "id": "6a46b84bc553a99f",
   "outputs": [],
   "execution_count": null
  },
  {
   "metadata": {},
   "cell_type": "code",
   "source": [
    "# solved! Oh, but now we also have other stuff to add\n",
    "def run_goof_report(path):\n",
    "    shitty_func()  # New behavior with its own error chain\n",
    "    data = load_data(path)\n",
    "    goofs = analyze_goofs(data)\n",
    "    return goofs\n",
    "\n",
    "try:\n",
    "    run_goof_report(\"daily_goofs-08-16-2025.txt\")\n",
    "except Exception as e:  # Solved once and for all!!!\n",
    "    print(f\"Somebody really goofed: {e}\")"
   ],
   "id": "5acfb1faedf35363",
   "outputs": [],
   "execution_count": null
  },
  {
   "metadata": {},
   "cell_type": "code",
   "source": [
    "def run_goof_report(path):\n",
    "    bug_in_ur_code()  # more new functionality introduced, shittier than before!\n",
    "    shitty_func()\n",
    "    data = load_data(path)\n",
    "    goofs = analyze_goofs(data)\n",
    "    return goofs\n",
    "\n",
    "try:\n",
    "    run_goof_report(\"daily_goofs-08-16-2025.txt\")\n",
    "except Exception as e:\n",
    "    print(f\"Somebody really goofed: {e}\")"
   ],
   "id": "bae58489a17a8de5",
   "outputs": [],
   "execution_count": null
  },
  {
   "metadata": {},
   "cell_type": "markdown",
   "source": "The problem here, is nobody was goofin, this was a goofin bug in our goof code! This sort of thing should bubble up to the top for us to see! Not be handled and ignored, as it represents bad, unrecoverable state!",
   "id": "70f0c381ac2b633a"
  },
  {
   "metadata": {},
   "cell_type": "code",
   "source": [
    "# Let's mitigate\n",
    "try:\n",
    "    run_goof_report(\"daily_goofs-08-16-2025.txt\")\n",
    "except Exception as e:\n",
    "    print(\"Somebody really goofed:\", type(e), e)"
   ],
   "id": "7c2e3fd6a790fdb4",
   "outputs": [],
   "execution_count": null
  },
  {
   "metadata": {},
   "cell_type": "markdown",
   "source": "## Item 86: Understand the Difference Between Exception and BaseException",
   "id": "66879c0df00bb44e"
  },
  {
   "metadata": {},
   "cell_type": "code",
   "source": [
    "import inspect\n",
    "\n",
    "print(inspect.getmro(BaseException))\n",
    "print(inspect.getmro(Exception))"
   ],
   "id": "9dde27c9fc6fc7fe",
   "outputs": [],
   "execution_count": null
  },
  {
   "metadata": {},
   "cell_type": "code",
   "source": [
    "try:\n",
    "    raise Exception(\"GOOFED\")\n",
    "except Exception as e:\n",
    "    print(f\"Exception: {e}\")"
   ],
   "id": "5216de15a8d32f51",
   "outputs": [],
   "execution_count": null
  },
  {
   "metadata": {},
   "cell_type": "code",
   "source": [
    "try:\n",
    "    raise KeyboardInterrupt(\"KEYBOARD GOOF\")\n",
    "except Exception as e:\n",
    "    print(f\"Exception: {e}\")"
   ],
   "id": "bf6dfc913da1aadd",
   "outputs": [],
   "execution_count": null
  },
  {
   "metadata": {},
   "cell_type": "markdown",
   "source": "WHAT?! HOW?!",
   "id": "fd019b38c619b1b0"
  },
  {
   "metadata": {},
   "cell_type": "code",
   "source": "inspect.getmro(KeyboardInterrupt)",
   "id": "7c04449bc3ec2b54",
   "outputs": [],
   "execution_count": null
  },
  {
   "metadata": {},
   "cell_type": "markdown",
   "source": [
    "Yes.\n",
    "\n",
    "Certain exceptions inherit from BaseException instead of Exception. SystemExit, KeyboardInterrupt, etc.\n",
    "\n",
    "Basically, if its used by the runtime itself, it will inherit from BaseException instead of Exception. And because of this, one should avoid catching BaseException"
   ],
   "id": "52aa62d3dcc6d02e"
  },
  {
   "metadata": {},
   "cell_type": "code",
   "source": [
    "import random\n",
    "\n",
    "try:\n",
    "    if random.random() < 0.5:\n",
    "        raise SystemExit(\"I'm not an error\")\n",
    "    else:\n",
    "        raise Exception(\"Legit goof!\")\n",
    "except BaseException as be:\n",
    "    # a greater sin than catching Exception!\n",
    "    print(f\"BaseException: {be}\")"
   ],
   "id": "e89cb0b88152f251",
   "outputs": [],
   "execution_count": null
  },
  {
   "metadata": {},
   "cell_type": "markdown",
   "source": [
    "It's not necessarily wrong to catch BaseException, just dangerous.\n",
    "\n",
    "### Things to Remember\n",
    "\n",
    "- For internal behaviors, Python sometimes raises BaseException child classes, which will skip except clauses that only handle the Exception base class.\n",
    "- try/finally statements, with statements, and similar constructs properly handle raised BaseException child classes without extra effort.\n",
    "- There are legitimate reasons to catch BaseException and related classes, but doing so can be error prone."
   ],
   "id": "72fb18baf2ebdb63"
  },
  {
   "metadata": {},
   "cell_type": "markdown",
   "source": "## Item 87: Use `traceback` for Enhanced Exception Reporting",
   "id": "3e203489a77df553"
  },
  {
   "metadata": {},
   "cell_type": "code",
   "source": [
    "def goofable(message):\n",
    "    assert False, message\n",
    "\n",
    "def ungoofable_trust_me_bro(message):\n",
    "    goofable(message)\n",
    "\n",
    "ungoofable_trust_me_bro(\"This will never goof!\")"
   ],
   "id": "1892dd814ef9a02b",
   "outputs": [],
   "execution_count": null
  },
  {
   "metadata": {},
   "cell_type": "markdown",
   "source": [
    "Works great, but think about concurrent/parallelism: do we want an error in one to crash the whole program? Possibly no.\n",
    "\n",
    "Let's solve it with a broad exception handler!!!"
   ],
   "id": "7d61bd87eac455ae"
  },
  {
   "metadata": {},
   "cell_type": "code",
   "source": [
    "def handle(msg):\n",
    "    try:\n",
    "        goofable(msg)\n",
    "    except BaseException as e:\n",
    "        print(repr(e))\n",
    "\n",
    "handle(\"Don't goof damn it!\")"
   ],
   "id": "e7b3092b3792f192",
   "outputs": [],
   "execution_count": null
  },
  {
   "metadata": {},
   "cell_type": "markdown",
   "source": [
    "Remember, this follows some of the advice from before: if you _have_ to have a blanket handler like this, at least show the exception type.\n",
    "\n",
    "But this has a problem: where the hell is the traceback?!"
   ],
   "id": "9c78348cccab4be5"
  },
  {
   "metadata": {},
   "cell_type": "code",
   "source": [
    "import traceback\n",
    "\n",
    "def handle2(msg):\n",
    "    try:\n",
    "        goofable(msg)\n",
    "    except BaseException as e:\n",
    "        traceback.print_tb(e.__traceback__)\n",
    "        print(repr(e))\n",
    "\n",
    "handle2(\"Don't goof damn it!\")"
   ],
   "id": "e5ae49552555750",
   "outputs": [],
   "execution_count": null
  },
  {
   "metadata": {},
   "cell_type": "code",
   "source": [
    "def handle3(msg):\n",
    "    try:\n",
    "        goofable(msg)\n",
    "    except BaseException as e:\n",
    "        stack = traceback.extract_tb(e.__traceback__)\n",
    "        for frame in stack:\n",
    "            print(frame.name)\n",
    "        print(repr(e))\n",
    "\n",
    "handle3(\"STOP GOOFING I BEG OF YOU!!\")"
   ],
   "id": "7d9abaf8f5ac726f",
   "outputs": [],
   "execution_count": null
  },
  {
   "metadata": {},
   "cell_type": "markdown",
   "source": [
    "### Things to Remember\n",
    "\n",
    "- When an unhandled exception propagates up to the entry point of a Python program, the interpreter will print a nicely formatted list of the stack frames that caused the error.\n",
    "- In highly concurrent programs, exception tracebacks are often not printed in the same way, making errors more difficult to understand and debug.\n",
    "- The traceback built-in module allows you to interact with the stack frames from an exception and process them in whatever way you see fit (i.e., to aid in debugging)."
   ],
   "id": "f830fc77642ae893"
  },
  {
   "metadata": {},
   "cell_type": "markdown",
   "source": "## Item 88: Consider Explicitly Chaining Exceptions to Clarify Tracebacks",
   "id": "447206848bde9d1c"
  },
  {
   "metadata": {},
   "cell_type": "code",
   "source": [
    "my_dict = {}\n",
    "my_dict[\"does_not_exist\"]"
   ],
   "id": "e098b69e3bc053c",
   "outputs": [],
   "execution_count": null
  },
  {
   "metadata": {},
   "cell_type": "code",
   "source": [
    "# Lets make some handling!\n",
    "class MissingError(Exception):\n",
    "    ...\n",
    "def lookup(a_dict, key):\n",
    "    try:\n",
    "        return a_dict[key]\n",
    "    except KeyError:\n",
    "        raise MissingError(\n",
    "            f\"Key '{key}' not found in dictionary\"\n",
    "        )\n",
    "\n",
    "lookup(my_dict, \"does_not_exist\")"
   ],
   "id": "4bfe28adbc12929f",
   "outputs": [],
   "execution_count": null
  },
  {
   "metadata": {},
   "cell_type": "code",
   "source": [
    "# Exceptions have a \"context\", BEHOLD\n",
    "\n",
    "try:\n",
    "    lookup(my_dict, \"does_not_exist\")\n",
    "except MissingError as e:\n",
    "    print(\"Second:\", repr(e))\n",
    "    print(\"First: \", repr(e.__context__))"
   ],
   "id": "9a4f0869c9d01d0",
   "outputs": [],
   "execution_count": null
  },
  {
   "metadata": {},
   "cell_type": "code",
   "source": [
    "my_dict[\"my key 1\"] = 123\n",
    "lookup(my_dict, \"my key 1\")"
   ],
   "id": "98557d2dc3d1c506",
   "outputs": [],
   "execution_count": null
  },
  {
   "metadata": {},
   "cell_type": "code",
   "source": [
    "class ServerMissingKeyError(Exception):\n",
    "    ...\n",
    "\n",
    "the_server = {\"foo\": \"bar\"}\n",
    "\n",
    "def fetch_from_server(key):\n",
    "    print(\"fetching from server\")\n",
    "    try:\n",
    "        return the_server[key]\n",
    "    except KeyError:\n",
    "        raise ServerMissingKeyError(\n",
    "            f\"Key '{key}' not found on server\"\n",
    "        )\n",
    "\n",
    "def lookup2(a_dict, key):\n",
    "    try:\n",
    "        return a_dict[key]\n",
    "    except KeyError:\n",
    "        a_dict[key] = fetch_from_server(key)\n",
    "        raise MissingError(\n",
    "            f\"Key '{key}' not found in dictionary\"\n",
    "        )"
   ],
   "id": "27bfcce654514df3",
   "outputs": [],
   "execution_count": null
  },
  {
   "metadata": {},
   "cell_type": "code",
   "source": [
    "some_dict = {\"bar\": \"baz\"}\n",
    "lookup2(some_dict, \"foo\")"
   ],
   "id": "e18caf2202abfbb2",
   "outputs": [],
   "execution_count": null
  },
  {
   "metadata": {},
   "cell_type": "code",
   "source": "lookup2(some_dict, \"foo\")",
   "id": "c2903092f965b502",
   "outputs": [],
   "execution_count": null
  },
  {
   "metadata": {},
   "cell_type": "code",
   "source": [
    "# But what about when the server doesn't have it either?\n",
    "lookup2(some_dict, \"baz\")"
   ],
   "id": "d15d039c97f98dd6",
   "outputs": [],
   "execution_count": null
  },
  {
   "metadata": {},
   "cell_type": "markdown",
   "source": [
    "Well now we get a ServerMissingKeyError instead of a MissingError! THE CONTRACT IS BROKEN!\n",
    "\n",
    "INSTEAD LETS CHAIN"
   ],
   "id": "239276c73ec00239"
  },
  {
   "metadata": {},
   "cell_type": "code",
   "source": [
    "def lookup3(a_dict, key):\n",
    "    try:\n",
    "        return a_dict[key]\n",
    "    except KeyError as e:\n",
    "        try:\n",
    "            result = fetch_from_server(key)\n",
    "        except ServerMissingKeyError:\n",
    "            raise MissingError(\n",
    "                f\"Key '{key}' not found in dictionary\"\n",
    "            ) from e\n",
    "        else:\n",
    "            a_dict[key] = result\n",
    "            return a_dict[key]"
   ],
   "id": "ca300c8e2f869dc1",
   "outputs": [],
   "execution_count": null
  },
  {
   "metadata": {},
   "cell_type": "code",
   "source": "lookup3(some_dict, \"baq\")",
   "id": "6d93f9153d23a193",
   "outputs": [],
   "execution_count": null
  },
  {
   "metadata": {},
   "cell_type": "markdown",
   "source": [
    "### Things to Remember\n",
    "\n",
    "- When an exception is raised from inside an except clause, the original exception for that handler will always be saved to the newly raised Exception value’s __context__ attribute.\n",
    "- The from clause in the raise statement lets you explicitly indicate—by setting the __cause__ attribute—that a previously raised exception is the cause of a newly raised one.\n",
    "- Explicitly chaining one exception from another will cause Python to only print the supplied cause (or lack thereof) instead of the automatically chained exception."
   ],
   "id": "64ec846c3d37b2e3"
  },
  {
   "metadata": {},
   "cell_type": "markdown",
   "source": "## Item 89: Always Pass Resources into Generators and Have Callers Clean Them Up Outside",
   "id": "a746475dd5a2e9a3"
  },
  {
   "metadata": {},
   "cell_type": "code",
   "source": [
    "# finally doesn't preempt exits\n",
    "\n",
    "def my_func():\n",
    "    try:\n",
    "        return 123\n",
    "    finally:\n",
    "        print(\"Finally my_func\")\n",
    "\n",
    "print(\"Before\")\n",
    "print(my_func())\n",
    "print(\"After\")"
   ],
   "id": "3e30c0c10f806481",
   "outputs": [],
   "execution_count": null
  },
  {
   "metadata": {},
   "cell_type": "code",
   "source": [
    "# But what about generators?\n",
    "\n",
    "def my_generator():\n",
    "    try:\n",
    "        yield 10\n",
    "        yield 20\n",
    "        yield 30\n",
    "    finally:\n",
    "        print(\"Finally my_generator\")\n",
    "\n",
    "print(\"Before\")\n",
    "for i in my_generator():\n",
    "    print(i)\n",
    "\n",
    "print(\"After\")"
   ],
   "id": "c066e260af4f663d",
   "outputs": [],
   "execution_count": null
  },
  {
   "metadata": {},
   "cell_type": "markdown",
   "source": [
    "Pause, so what's the difference? Shouldn't `finally` go before the exit? Yes! But unlike `return`, `yield` is not an exit! Generators exit condition is the `StopIteration` exception.\n",
    "\n",
    "And that is an important detail! Unlike `return`, `StopIteration` isn't guaranteed! A generator can like.. you know... just keep going."
   ],
   "id": "ce1e4e5bf1e4ede6"
  },
  {
   "metadata": {},
   "cell_type": "code",
   "source": [
    "# Behold, we don't get a finally!\n",
    "\n",
    "gooferator = my_generator()\n",
    "print(\"Before\")\n",
    "print(next(gooferator))\n",
    "print(next(gooferator))\n",
    "print(\"After\")"
   ],
   "id": "8e679c6ff48e48d8",
   "outputs": [],
   "execution_count": null
  },
  {
   "metadata": {},
   "cell_type": "markdown",
   "source": [
    "The generator didn't actually reach an exit condition, and therefore, `finally` didn't trigger.\n",
    "\n",
    "The GC might come around and nab it, if all references are gone:"
   ],
   "id": "45406aba63a05ef5"
  },
  {
   "metadata": {},
   "cell_type": "code",
   "source": [
    "import gc\n",
    "del gooferator\n",
    "gc.collect()"
   ],
   "id": "2d6421cd73d1b074",
   "outputs": [],
   "execution_count": null
  },
  {
   "metadata": {},
   "cell_type": "markdown",
   "source": [
    ":amaze:\n",
    "\n",
    "When python's GC cleans up the generator, it sends `GeneratorExit` exception. This exception causes the generator to return and clear its stack."
   ],
   "id": "91b6f5b7a32edccc"
  },
  {
   "metadata": {},
   "cell_type": "code",
   "source": [
    "# PROOF\n",
    "\n",
    "def catching_generator():\n",
    "    try:\n",
    "        yield 40\n",
    "        yield 50\n",
    "        yield 60\n",
    "    except BaseException as e:  # Catches GeneratorExit\n",
    "        print(\"Catching handler\", type(e), e)\n",
    "        raise\n",
    "\n",
    "gooferator = catching_generator()\n",
    "\n",
    "print(\"Before\")\n",
    "print(next(gooferator))\n",
    "print(next(gooferator))\n",
    "print(\"After\")\n",
    "\n",
    "del gooferator\n",
    "gc.collect()"
   ],
   "id": "1ec2bc4a6089f6c",
   "outputs": [],
   "execution_count": null
  },
  {
   "metadata": {},
   "cell_type": "markdown",
   "source": [
    "`GeneratorExit` isn't _actually_ handled by our generator, its handled by the garbage collector.\n",
    "\n",
    "Can we break it?"
   ],
   "id": "e826acb486bf9873"
  },
  {
   "metadata": {},
   "cell_type": "code",
   "source": [
    "def broken_generator():\n",
    "    try:\n",
    "        yield 70\n",
    "        yield 80\n",
    "    except BaseException as e:\n",
    "        print(\"Broken handler\", type(e), e)\n",
    "        raise RuntimeError(\"This should be a disaster and stop everything\")\n",
    "    finally:\n",
    "        print(\"Finally handler\")\n",
    "\n",
    "gooferator = broken_generator()\n",
    "print(\"Before\")\n",
    "print(next(gooferator))\n",
    "print(\"After\")\n",
    "del gooferator\n",
    "gc.collect()\n",
    "print(\"Still going\")\n"
   ],
   "id": "d63143ddcf4a4c47",
   "outputs": [],
   "execution_count": null
  },
  {
   "metadata": {},
   "cell_type": "markdown",
   "source": [
    "Note, that the `raise`, which _should_ have halted the program, did not. Again, the `gc` handles the `GeneratorExit`. What happened here, is we interrupted its own routine by injecting that `RuntimeError`. The `gc` can't just _crash_, so instead it swallows the exception, and continues on its merry way.\n",
    "\n",
    "One CAN still do this in a defensive and robust way... but why, when there's an easy alternative?"
   ],
   "id": "125a0f1fe477518e"
  },
  {
   "metadata": {},
   "cell_type": "code",
   "source": [
    "# Don't let generators manage file handles and the like\n",
    "\n",
    "def sing_to_me(path):\n",
    "    \"\"\"Yield lines from a file\n",
    "\n",
    "    This is so super safe by using that with statement!!! DONT QUESTION IT!!!\n",
    "    \"\"\"\n",
    "    try:\n",
    "        with open(path) as handle:\n",
    "            for line in handle:\n",
    "                yield line\n",
    "    finally:\n",
    "        print(\"Done singing!\")"
   ],
   "id": "1b5b5cc4f6c1bee4",
   "outputs": [],
   "execution_count": null
  },
  {
   "metadata": {},
   "cell_type": "code",
   "source": [
    "singerator = sing_to_me(\"sayitaintso.txt\")\n",
    "\n",
    "for line in singerator:\n",
    "    print(line)\n",
    "    if \"Wrestle with Jimmy\" in line:\n",
    "        break"
   ],
   "id": "7e8eaa1b31dcdd51",
   "outputs": [],
   "execution_count": null
  },
  {
   "metadata": {},
   "cell_type": "code",
   "source": [
    "# but wait, where was the finally?????\n",
    "\n",
    "del singerator\n",
    "gc.collect()"
   ],
   "id": "8db1ea3e566c0d2b",
   "outputs": [],
   "execution_count": null
  },
  {
   "metadata": {},
   "cell_type": "markdown",
   "source": [
    "Damn it! We didn't solve this goofy delayed behavior! I WANT THE RESOURCES CLEANED UP NOW!!!\n",
    "\n",
    "Seriously though, imagine this was something more high-stakes, like a mutex lock.\n",
    "\n",
    "![](deadlock.png)"
   ],
   "id": "8e89eafdb3f26a6"
  },
  {
   "metadata": {},
   "cell_type": "code",
   "source": [
    "# Okay, instead lets not let the generator manage the handle AT ALL\n",
    "\n",
    "def sing_to_me_2(handle):\n",
    "    try:\n",
    "        for line in handle:\n",
    "            yield line\n",
    "    finally:\n",
    "        print(\"Done singing!\")"
   ],
   "id": "1fba1dc9c9185fcc",
   "outputs": [],
   "execution_count": null
  },
  {
   "metadata": {},
   "cell_type": "code",
   "source": [
    "with open(\"sayitaintso.txt\") as handle:\n",
    "    singerator = sing_to_me_2(handle)\n",
    "    for line in singerator:\n",
    "        print(line)\n",
    "        if \"Wrestle with Jimmy\" in line:\n",
    "            break\n",
    "\n",
    "print(\"Is handle closed?\", handle.closed)"
   ],
   "id": "922e4e3cadd1f740",
   "outputs": [],
   "execution_count": null
  },
  {
   "metadata": {},
   "cell_type": "markdown",
   "source": [
    "### Things to Remember\n",
    "\n",
    "- In normal functions, finally clauses are executed before values are returned, but in generator functions, finally clauses are only run after exhaustion, when the StopIteration exception is raised.\n",
    "- In order to prevent memory leaks, the garbage collector injects GeneratorExit exceptions into unreferenced, partially iterated generators to cause them to exit and release resources.\n",
    "- Due to this behavior, it’s often better to pass resources (like files and mutexes) into generator functions instead of relying on them to allocate and clean up the resources properly."
   ],
   "id": "3c853ebc1920b2fd"
  },
  {
   "metadata": {},
   "cell_type": "markdown",
   "source": [
    "## Item 90: Never Set `__debug__` to `False`\n",
    "\n",
    "Remember when we talked about `assert`?"
   ],
   "id": "8100a2ce3c0f1eef"
  },
  {
   "metadata": {},
   "cell_type": "code",
   "source": [
    "n = 3\n",
    "assert n % 2 == 0, f\"{n=} not even\""
   ],
   "id": "cadb252d629743d3",
   "outputs": [],
   "execution_count": null
  },
  {
   "metadata": {},
   "cell_type": "code",
   "source": [
    "# This is functionally equivalent to\n",
    "if __debug__:\n",
    "    if not (n % 2 == 0):\n",
    "        raise AssertionError(f\"{n=} not even\")"
   ],
   "id": "aa84d71577605c38",
   "outputs": [],
   "execution_count": null
  },
  {
   "metadata": {},
   "cell_type": "code",
   "source": [
    "# this wont work\n",
    "__debug__ = False"
   ],
   "id": "81470bcac5fe5a60",
   "outputs": [],
   "execution_count": null
  },
  {
   "metadata": {},
   "cell_type": "markdown",
   "source": [
    "Somebody remind Eric to hover his mouse over `__debug__` in PyCharm.\n",
    "\n",
    "Yep! `__debug__` can only be changed by the `-O` interpreter flag. It will stay the same for the duration of the program.\n",
    "\n",
    "`-O` is the \"optimized mode\" flag. And this is _basically_ all it does. And in the runtime itself, all this does is disable `asserts`.\n",
    "\n",
    "TL;DR: This is a lame way to get a performance boost. There's better ways (which are coming in the next chapter!)\n",
    "\n",
    "## Things to Remember\n",
    "\n",
    "- By default, the `__debug__` global built-in variable is True, and Python programs will execute all `assert` statements.\n",
    "- The `-O` command-line flag can be used to set `__debug__` to False, which causes assert statements to be ignored.\n",
    "- Having `assert` statements present can help narrow the cause of bugs even when the assertions themselves haven’t failed."
   ],
   "id": "6096d6ef2b948512"
  },
  {
   "metadata": {},
   "cell_type": "markdown",
   "source": "## Item 91: Avoid `exec` and `eval` Unless You’re Building a Developer Tool",
   "id": "53271bf904f62761"
  },
  {
   "metadata": {},
   "cell_type": "code",
   "source": "eval(\"1 + 2\")",
   "id": "23783bccf96c54e2",
   "outputs": [],
   "execution_count": null
  },
  {
   "metadata": {},
   "cell_type": "markdown",
   "source": [
    "Yes, you saw that right.\n",
    "\n",
    "`eval` and `exec` are the ultimate expression of Python's \"screw it, do whatever you want in the runtime!\" attitude. They let you execute arbitrary code from strings.\n",
    "\n",
    "_They let you execute arbitrary code from strings._"
   ],
   "id": "c1016a2ff4acfe88"
  },
  {
   "metadata": {},
   "cell_type": "code",
   "source": [
    "# Eval is for single expressions\n",
    "eval(\"print('foobar!')\")"
   ],
   "id": "124ce187c81226e8",
   "outputs": [],
   "execution_count": null
  },
  {
   "metadata": {},
   "cell_type": "code",
   "source": [
    "# But won't work with multiple lines\n",
    "\n",
    "eval(\n",
    "    \"\"\"\n",
    "if True:\n",
    "    print('okay')\n",
    "else:\n",
    "    print('no')\n",
    "\"\"\"\n",
    ")"
   ],
   "id": "54c0bdcaf11a62c1",
   "outputs": [],
   "execution_count": null
  },
  {
   "metadata": {},
   "cell_type": "code",
   "source": [
    "# This is where exec comes in\n",
    "exec(\n",
    "    \"\"\"\n",
    "if True:\n",
    "    print('okay')\n",
    "else:\n",
    "    print('no')\n",
    "\"\"\"\n",
    ")"
   ],
   "id": "be7f98236edb69b0",
   "outputs": [],
   "execution_count": null
  },
  {
   "metadata": {},
   "cell_type": "markdown",
   "source": [
    "You can see why this is powerful. Imagine a python program that can write and execute a python program.\n",
    "\n",
    "Imagine a code agent willy-nilly using these.\n",
    "\n",
    "### WARNING: Boring Eric Anecdote Time!\n",
    "#### The Time Eric Used Exec in Real Code"
   ],
   "id": "efd2de6bc6e0ebc8"
  },
  {
   "metadata": {},
   "cell_type": "code",
   "source": [
    "# exec always returns None. To get data in and out of it, we have to use global and local scope variables.\n",
    "global_scope = {\"my_condition\": False}\n",
    "local_scope = {}\n",
    "exec(     \"\"\"\n",
    "if my_condition: # see the global scope?\n",
    "    x = 'yes'\n",
    "else:\n",
    "    x = 'no'\n",
    "\"\"\",\n",
    "    global_scope,\n",
    "    local_scope,\n",
    ")\n",
    "print(local_scope)"
   ],
   "id": "c1cb569729cef4a",
   "outputs": [],
   "execution_count": null
  },
  {
   "metadata": {},
   "cell_type": "markdown",
   "source": [
    "Typically, finding `eval` and `exec` in a codebase is a red flag. And some linters will let you know it!\n",
    "\n",
    "Examples of _proper_ usage? REPLs, Notebooks (like jupyter!), code generation, and so on.\n",
    "\n",
    "## Things to Remember\n",
    "\n",
    "- eval allows you to execute a string containing a Python expression and capture its return value.\n",
    "- exec allows you to execute a block of Python code and affect variable scope and the surrounding environment.\n",
    "- Due to potential security risks, these features should be used rarely or never, limited only to improving the development experience."
   ],
   "id": "b21a76f229fc6c3a"
  }
 ],
 "metadata": {
  "kernelspec": {
   "display_name": "Python 3",
   "language": "python",
   "name": "python3"
  },
  "language_info": {
   "codemirror_mode": {
    "name": "ipython",
    "version": 2
   },
   "file_extension": ".py",
   "mimetype": "text/x-python",
   "name": "python",
   "nbconvert_exporter": "python",
   "pygments_lexer": "ipython2",
   "version": "2.7.6"
  }
 },
 "nbformat": 4,
 "nbformat_minor": 5
}
