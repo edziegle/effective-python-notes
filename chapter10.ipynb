{
 "cells": [
  {
   "cell_type": "markdown",
   "id": "58d30ab68901bdaa",
   "metadata": {},
   "source": "# Chapter 10: Robustness"
  },
  {
   "cell_type": "markdown",
   "id": "29f7894b6e68f2f0",
   "metadata": {},
   "source": "## Item 80: Take Advantage of Each Block in `try/except/else/finally`"
  },
  {
   "cell_type": "code",
   "execution_count": 10,
   "id": "7c5b34893041f2d4",
   "metadata": {
    "ExecuteTime": {
     "end_time": "2025-08-06T17:22:00.266503Z",
     "start_time": "2025-08-06T17:22:00.262512Z"
    }
   },
   "outputs": [
    {
     "name": "stdout",
     "output_type": "stream",
     "text": [
      "Step 1: lets gooo\n",
      "Step 2: read the file\n",
      "Step 3: close the file\n"
     ]
    },
    {
     "data": {
      "text/plain": [
       "'Sydney, truck, 25\\nMelbourne, boat, 6\\nBrisbane, plane, 12\\nPerth, road train, 90\\nAdelaide, truck, 17\\n'"
      ]
     },
     "execution_count": 10,
     "metadata": {},
     "output_type": "execute_result"
    }
   ],
   "source": [
    "def erics_cool_file_reader(filename):\n",
    "    print(\"Step 1: lets gooo\")\n",
    "    handle = open(filename)\n",
    "    try:\n",
    "        print(\"Step 2: read the file\")\n",
    "        return handle.read()\n",
    "    finally:\n",
    "        print(\"Step 3: close the file\")\n",
    "        handle.close()\n",
    "\n",
    "\n",
    "# This is essentially what `with open` is doing\n",
    "erics_cool_file_reader(\"packages.csv\")"
   ]
  },
  {
   "cell_type": "code",
   "execution_count": 11,
   "id": "85e6e34a14b066",
   "metadata": {
    "ExecuteTime": {
     "end_time": "2025-08-06T17:22:00.753882Z",
     "start_time": "2025-08-06T17:22:00.724189Z"
    }
   },
   "outputs": [
    {
     "name": "stdout",
     "output_type": "stream",
     "text": [
      "Step 1: lets gooo\n",
      "Step 2: read the file\n",
      "Step 3: close the file\n"
     ]
    },
    {
     "ename": "UnboundLocalError",
     "evalue": "cannot access local variable 'handle' where it is not associated with a value",
     "output_type": "error",
     "traceback": [
      "\u001b[31m---------------------------------------------------------------------------\u001b[39m",
      "\u001b[31mFileNotFoundError\u001b[39m                         Traceback (most recent call last)",
      "\u001b[36mCell\u001b[39m\u001b[36m \u001b[39m\u001b[32mIn[10]\u001b[39m\u001b[32m, line 6\u001b[39m, in \u001b[36merics_cool_file_reader\u001b[39m\u001b[34m(filename)\u001b[39m\n\u001b[32m      5\u001b[39m \u001b[38;5;28mprint\u001b[39m(\u001b[33m\"\u001b[39m\u001b[33mStep 2: read the file\u001b[39m\u001b[33m\"\u001b[39m)\n\u001b[32m----> \u001b[39m\u001b[32m6\u001b[39m handle = \u001b[38;5;28;43mopen\u001b[39;49m\u001b[43m(\u001b[49m\u001b[43mfilename\u001b[49m\u001b[43m)\u001b[49m\n\u001b[32m      7\u001b[39m \u001b[38;5;28;01mreturn\u001b[39;00m handle.read()\n",
      "\u001b[36mFile \u001b[39m\u001b[32m~/dev/effective-python-notes/.venv/lib/python3.13/site-packages/IPython/core/interactiveshell.py:326\u001b[39m, in \u001b[36m_modified_open\u001b[39m\u001b[34m(file, *args, **kwargs)\u001b[39m\n\u001b[32m    320\u001b[39m     \u001b[38;5;28;01mraise\u001b[39;00m \u001b[38;5;167;01mValueError\u001b[39;00m(\n\u001b[32m    321\u001b[39m         \u001b[33mf\u001b[39m\u001b[33m\"\u001b[39m\u001b[33mIPython won\u001b[39m\u001b[33m'\u001b[39m\u001b[33mt let you open fd=\u001b[39m\u001b[38;5;132;01m{\u001b[39;00mfile\u001b[38;5;132;01m}\u001b[39;00m\u001b[33m by default \u001b[39m\u001b[33m\"\u001b[39m\n\u001b[32m    322\u001b[39m         \u001b[33m\"\u001b[39m\u001b[33mas it is likely to crash IPython. If you know what you are doing, \u001b[39m\u001b[33m\"\u001b[39m\n\u001b[32m    323\u001b[39m         \u001b[33m\"\u001b[39m\u001b[33myou can use builtins\u001b[39m\u001b[33m'\u001b[39m\u001b[33m open.\u001b[39m\u001b[33m\"\u001b[39m\n\u001b[32m    324\u001b[39m     )\n\u001b[32m--> \u001b[39m\u001b[32m326\u001b[39m \u001b[38;5;28;01mreturn\u001b[39;00m \u001b[43mio_open\u001b[49m\u001b[43m(\u001b[49m\u001b[43mfile\u001b[49m\u001b[43m,\u001b[49m\u001b[43m \u001b[49m\u001b[43m*\u001b[49m\u001b[43margs\u001b[49m\u001b[43m,\u001b[49m\u001b[43m \u001b[49m\u001b[43m*\u001b[49m\u001b[43m*\u001b[49m\u001b[43mkwargs\u001b[49m\u001b[43m)\u001b[49m\n",
      "\u001b[31mFileNotFoundError\u001b[39m: [Errno 2] No such file or directory: 'foop'",
      "\nDuring handling of the above exception, another exception occurred:\n",
      "\u001b[31mUnboundLocalError\u001b[39m                         Traceback (most recent call last)",
      "\u001b[36mCell\u001b[39m\u001b[36m \u001b[39m\u001b[32mIn[11]\u001b[39m\u001b[32m, line 7\u001b[39m\n\u001b[32m      4\u001b[39m \u001b[38;5;28;01mwith\u001b[39;00m \u001b[38;5;28mopen\u001b[39m(throwaway_txt, \u001b[33m'\u001b[39m\u001b[33mwb\u001b[39m\u001b[33m'\u001b[39m) \u001b[38;5;28;01mas\u001b[39;00m f:\n\u001b[32m      5\u001b[39m     f.write(\u001b[33mb\u001b[39m\u001b[33m\"\u001b[39m\u001b[38;5;130;01m\\xf1\u001b[39;00m\u001b[38;5;130;01m\\xf2\u001b[39;00m\u001b[38;5;130;01m\\xf3\u001b[39;00m\u001b[38;5;130;01m\\xf4\u001b[39;00m\u001b[33m\"\u001b[39m)\n\u001b[32m----> \u001b[39m\u001b[32m7\u001b[39m data = \u001b[43merics_cool_file_reader\u001b[49m\u001b[43m(\u001b[49m\u001b[33;43m\"\u001b[39;49m\u001b[33;43mfoop\u001b[39;49m\u001b[33;43m\"\u001b[39;49m\u001b[43m)\u001b[49m\n",
      "\u001b[36mCell\u001b[39m\u001b[36m \u001b[39m\u001b[32mIn[10]\u001b[39m\u001b[32m, line 10\u001b[39m, in \u001b[36merics_cool_file_reader\u001b[39m\u001b[34m(filename)\u001b[39m\n\u001b[32m      8\u001b[39m \u001b[38;5;28;01mfinally\u001b[39;00m:\n\u001b[32m      9\u001b[39m     \u001b[38;5;28mprint\u001b[39m(\u001b[33m\"\u001b[39m\u001b[33mStep 3: close the file\u001b[39m\u001b[33m\"\u001b[39m)\n\u001b[32m---> \u001b[39m\u001b[32m10\u001b[39m     \u001b[43mhandle\u001b[49m.close()\n",
      "\u001b[31mUnboundLocalError\u001b[39m: cannot access local variable 'handle' where it is not associated with a value"
     ]
    }
   ],
   "source": [
    "# THE ORDER OF EXECUTION\n",
    "\n",
    "throwaway_txt = \"throwaway.txt\"\n",
    "with open(throwaway_txt, \"wb\") as f:\n",
    "    f.write(b\"\\xf1\\xf2\\xf3\\xf4\")\n",
    "\n",
    "data = erics_cool_file_reader(\"foop\")"
   ]
  },
  {
   "cell_type": "markdown",
   "id": "e37f319a8f6811f",
   "metadata": {},
   "source": [
    "Note the order of operations. An exception did occur, but \"finally\" happened before the exception was propagated.\n",
    "\n",
    "So-called finally! Its a conspiracy!!!\n",
    "\n",
    "Bonus quiz: Why did the author not put `open` in the `try/finally` block?"
   ]
  },
  {
   "cell_type": "code",
   "execution_count": 19,
   "id": "e565b68922ee1453",
   "metadata": {
    "ExecuteTime": {
     "end_time": "2025-08-06T17:30:21.130191Z",
     "start_time": "2025-08-06T17:30:21.127385Z"
    }
   },
   "outputs": [
    {
     "name": "stdout",
     "output_type": "stream",
     "text": [
      "READING\n",
      "Looking!\n"
     ]
    }
   ],
   "source": [
    "# Else blocks\n",
    "# These run when an exception didn't happen\n",
    "import json\n",
    "\n",
    "\n",
    "def get_some_json(data, key):\n",
    "    try:\n",
    "        print(\"READING\")\n",
    "        res = json.loads(data)\n",
    "    except ValueError:\n",
    "        print(\"WHOOPS\")\n",
    "        raise  # Author raises a KeyError, possibly for the caller's benefit?\n",
    "    else:\n",
    "        print(\"Looking!\")\n",
    "        return res[key]\n",
    "\n",
    "\n",
    "assert get_some_json('{\"foo\": \"bar\"}', \"foo\") == \"bar\""
   ]
  },
  {
   "cell_type": "code",
   "execution_count": 21,
   "id": "ea7c4ad1de2ed6f3",
   "metadata": {
    "ExecuteTime": {
     "end_time": "2025-08-06T17:31:50.646938Z",
     "start_time": "2025-08-06T17:31:50.631482Z"
    }
   },
   "outputs": [
    {
     "name": "stdout",
     "output_type": "stream",
     "text": [
      "READING\n",
      "Looking!\n"
     ]
    },
    {
     "ename": "KeyError",
     "evalue": "'baz'",
     "output_type": "error",
     "traceback": [
      "\u001b[31m---------------------------------------------------------------------------\u001b[39m",
      "\u001b[31mKeyError\u001b[39m                                  Traceback (most recent call last)",
      "\u001b[36mCell\u001b[39m\u001b[36m \u001b[39m\u001b[32mIn[21]\u001b[39m\u001b[32m, line 2\u001b[39m\n\u001b[32m      1\u001b[39m \u001b[38;5;66;03m# We're only catching errors with loading json, propagate out the rest\u001b[39;00m\n\u001b[32m----> \u001b[39m\u001b[32m2\u001b[39m \u001b[43mget_some_json\u001b[49m\u001b[43m(\u001b[49m\u001b[33;43m'\u001b[39;49m\u001b[33;43m{\u001b[39;49m\u001b[33;43m\"\u001b[39;49m\u001b[33;43mfoo\u001b[39;49m\u001b[33;43m\"\u001b[39;49m\u001b[33;43m: \u001b[39;49m\u001b[33;43m\"\u001b[39;49m\u001b[33;43mbar\u001b[39;49m\u001b[33;43m\"\u001b[39;49m\u001b[33;43m}\u001b[39;49m\u001b[33;43m'\u001b[39;49m\u001b[43m,\u001b[49m\u001b[43m \u001b[49m\u001b[33;43m'\u001b[39;49m\u001b[33;43mbaz\u001b[39;49m\u001b[33;43m'\u001b[39;49m\u001b[43m)\u001b[49m\n",
      "\u001b[36mCell\u001b[39m\u001b[36m \u001b[39m\u001b[32mIn[19]\u001b[39m\u001b[32m, line 13\u001b[39m, in \u001b[36mget_some_json\u001b[39m\u001b[34m(data, key)\u001b[39m\n\u001b[32m     11\u001b[39m \u001b[38;5;28;01melse\u001b[39;00m:\n\u001b[32m     12\u001b[39m     \u001b[38;5;28mprint\u001b[39m(\u001b[33m\"\u001b[39m\u001b[33mLooking!\u001b[39m\u001b[33m\"\u001b[39m)\n\u001b[32m---> \u001b[39m\u001b[32m13\u001b[39m     \u001b[38;5;28;01mreturn\u001b[39;00m \u001b[43mres\u001b[49m\u001b[43m[\u001b[49m\u001b[43mkey\u001b[49m\u001b[43m]\u001b[49m\n",
      "\u001b[31mKeyError\u001b[39m: 'baz'"
     ]
    }
   ],
   "source": [
    "# We're only catching errors with loading json, propagate out the rest\n",
    "get_some_json('{\"foo\": \"bar\"}', \"baz\")"
   ]
  },
  {
   "cell_type": "code",
   "execution_count": 22,
   "id": "e2fdf9c388943cd4",
   "metadata": {
    "ExecuteTime": {
     "end_time": "2025-08-06T17:32:03.927314Z",
     "start_time": "2025-08-06T17:32:03.899521Z"
    }
   },
   "outputs": [
    {
     "name": "stdout",
     "output_type": "stream",
     "text": [
      "READING\n",
      "WHOOPS\n"
     ]
    },
    {
     "ename": "JSONDecodeError",
     "evalue": "Expecting ':' delimiter: line 1 column 8 (char 7)",
     "output_type": "error",
     "traceback": [
      "\u001b[31m---------------------------------------------------------------------------\u001b[39m",
      "\u001b[31mJSONDecodeError\u001b[39m                           Traceback (most recent call last)",
      "\u001b[36mCell\u001b[39m\u001b[36m \u001b[39m\u001b[32mIn[22]\u001b[39m\u001b[32m, line 2\u001b[39m\n\u001b[32m      1\u001b[39m \u001b[38;5;66;03m# Some bad json\u001b[39;00m\n\u001b[32m----> \u001b[39m\u001b[32m2\u001b[39m \u001b[43mget_some_json\u001b[49m\u001b[43m(\u001b[49m\u001b[33;43m'\u001b[39;49m\u001b[33;43m{\u001b[39;49m\u001b[33;43m\"\u001b[39;49m\u001b[33;43mfoo\u001b[39;49m\u001b[33;43m\"\u001b[39;49m\u001b[33;43m \u001b[39;49m\u001b[33;43m\"\u001b[39;49m\u001b[33;43mbar\u001b[39;49m\u001b[33;43m\"\u001b[39;49m\u001b[33;43m}\u001b[39;49m\u001b[33;43m'\u001b[39;49m\u001b[43m,\u001b[49m\u001b[43m \u001b[49m\u001b[33;43m'\u001b[39;49m\u001b[33;43mfoo\u001b[39;49m\u001b[33;43m'\u001b[39;49m\u001b[43m)\u001b[49m\n",
      "\u001b[36mCell\u001b[39m\u001b[36m \u001b[39m\u001b[32mIn[19]\u001b[39m\u001b[32m, line 7\u001b[39m, in \u001b[36mget_some_json\u001b[39m\u001b[34m(data, key)\u001b[39m\n\u001b[32m      5\u001b[39m \u001b[38;5;28;01mtry\u001b[39;00m:\n\u001b[32m      6\u001b[39m     \u001b[38;5;28mprint\u001b[39m(\u001b[33m\"\u001b[39m\u001b[33mREADING\u001b[39m\u001b[33m\"\u001b[39m)\n\u001b[32m----> \u001b[39m\u001b[32m7\u001b[39m     res = \u001b[43mjson\u001b[49m\u001b[43m.\u001b[49m\u001b[43mloads\u001b[49m\u001b[43m(\u001b[49m\u001b[43mdata\u001b[49m\u001b[43m)\u001b[49m\n\u001b[32m      8\u001b[39m \u001b[38;5;28;01mexcept\u001b[39;00m \u001b[38;5;167;01mValueError\u001b[39;00m:\n\u001b[32m      9\u001b[39m     \u001b[38;5;28mprint\u001b[39m(\u001b[33m\"\u001b[39m\u001b[33mWHOOPS\u001b[39m\u001b[33m\"\u001b[39m)\n",
      "\u001b[36mFile \u001b[39m\u001b[32m/opt/homebrew/Cellar/python@3.13/3.13.5/Frameworks/Python.framework/Versions/3.13/lib/python3.13/json/__init__.py:346\u001b[39m, in \u001b[36mloads\u001b[39m\u001b[34m(s, cls, object_hook, parse_float, parse_int, parse_constant, object_pairs_hook, **kw)\u001b[39m\n\u001b[32m    341\u001b[39m     s = s.decode(detect_encoding(s), \u001b[33m'\u001b[39m\u001b[33msurrogatepass\u001b[39m\u001b[33m'\u001b[39m)\n\u001b[32m    343\u001b[39m \u001b[38;5;28;01mif\u001b[39;00m (\u001b[38;5;28mcls\u001b[39m \u001b[38;5;129;01mis\u001b[39;00m \u001b[38;5;28;01mNone\u001b[39;00m \u001b[38;5;129;01mand\u001b[39;00m object_hook \u001b[38;5;129;01mis\u001b[39;00m \u001b[38;5;28;01mNone\u001b[39;00m \u001b[38;5;129;01mand\u001b[39;00m\n\u001b[32m    344\u001b[39m         parse_int \u001b[38;5;129;01mis\u001b[39;00m \u001b[38;5;28;01mNone\u001b[39;00m \u001b[38;5;129;01mand\u001b[39;00m parse_float \u001b[38;5;129;01mis\u001b[39;00m \u001b[38;5;28;01mNone\u001b[39;00m \u001b[38;5;129;01mand\u001b[39;00m\n\u001b[32m    345\u001b[39m         parse_constant \u001b[38;5;129;01mis\u001b[39;00m \u001b[38;5;28;01mNone\u001b[39;00m \u001b[38;5;129;01mand\u001b[39;00m object_pairs_hook \u001b[38;5;129;01mis\u001b[39;00m \u001b[38;5;28;01mNone\u001b[39;00m \u001b[38;5;129;01mand\u001b[39;00m \u001b[38;5;129;01mnot\u001b[39;00m kw):\n\u001b[32m--> \u001b[39m\u001b[32m346\u001b[39m     \u001b[38;5;28;01mreturn\u001b[39;00m \u001b[43m_default_decoder\u001b[49m\u001b[43m.\u001b[49m\u001b[43mdecode\u001b[49m\u001b[43m(\u001b[49m\u001b[43ms\u001b[49m\u001b[43m)\u001b[49m\n\u001b[32m    347\u001b[39m \u001b[38;5;28;01mif\u001b[39;00m \u001b[38;5;28mcls\u001b[39m \u001b[38;5;129;01mis\u001b[39;00m \u001b[38;5;28;01mNone\u001b[39;00m:\n\u001b[32m    348\u001b[39m     \u001b[38;5;28mcls\u001b[39m = JSONDecoder\n",
      "\u001b[36mFile \u001b[39m\u001b[32m/opt/homebrew/Cellar/python@3.13/3.13.5/Frameworks/Python.framework/Versions/3.13/lib/python3.13/json/decoder.py:345\u001b[39m, in \u001b[36mJSONDecoder.decode\u001b[39m\u001b[34m(self, s, _w)\u001b[39m\n\u001b[32m    340\u001b[39m \u001b[38;5;28;01mdef\u001b[39;00m\u001b[38;5;250m \u001b[39m\u001b[34mdecode\u001b[39m(\u001b[38;5;28mself\u001b[39m, s, _w=WHITESPACE.match):\n\u001b[32m    341\u001b[39m \u001b[38;5;250m    \u001b[39m\u001b[33;03m\"\"\"Return the Python representation of ``s`` (a ``str`` instance\u001b[39;00m\n\u001b[32m    342\u001b[39m \u001b[33;03m    containing a JSON document).\u001b[39;00m\n\u001b[32m    343\u001b[39m \n\u001b[32m    344\u001b[39m \u001b[33;03m    \"\"\"\u001b[39;00m\n\u001b[32m--> \u001b[39m\u001b[32m345\u001b[39m     obj, end = \u001b[38;5;28;43mself\u001b[39;49m\u001b[43m.\u001b[49m\u001b[43mraw_decode\u001b[49m\u001b[43m(\u001b[49m\u001b[43ms\u001b[49m\u001b[43m,\u001b[49m\u001b[43m \u001b[49m\u001b[43midx\u001b[49m\u001b[43m=\u001b[49m\u001b[43m_w\u001b[49m\u001b[43m(\u001b[49m\u001b[43ms\u001b[49m\u001b[43m,\u001b[49m\u001b[43m \u001b[49m\u001b[32;43m0\u001b[39;49m\u001b[43m)\u001b[49m\u001b[43m.\u001b[49m\u001b[43mend\u001b[49m\u001b[43m(\u001b[49m\u001b[43m)\u001b[49m\u001b[43m)\u001b[49m\n\u001b[32m    346\u001b[39m     end = _w(s, end).end()\n\u001b[32m    347\u001b[39m     \u001b[38;5;28;01mif\u001b[39;00m end != \u001b[38;5;28mlen\u001b[39m(s):\n",
      "\u001b[36mFile \u001b[39m\u001b[32m/opt/homebrew/Cellar/python@3.13/3.13.5/Frameworks/Python.framework/Versions/3.13/lib/python3.13/json/decoder.py:361\u001b[39m, in \u001b[36mJSONDecoder.raw_decode\u001b[39m\u001b[34m(self, s, idx)\u001b[39m\n\u001b[32m    352\u001b[39m \u001b[38;5;250m\u001b[39m\u001b[33;03m\"\"\"Decode a JSON document from ``s`` (a ``str`` beginning with\u001b[39;00m\n\u001b[32m    353\u001b[39m \u001b[33;03ma JSON document) and return a 2-tuple of the Python\u001b[39;00m\n\u001b[32m    354\u001b[39m \u001b[33;03mrepresentation and the index in ``s`` where the document ended.\u001b[39;00m\n\u001b[32m   (...)\u001b[39m\u001b[32m    358\u001b[39m \n\u001b[32m    359\u001b[39m \u001b[33;03m\"\"\"\u001b[39;00m\n\u001b[32m    360\u001b[39m \u001b[38;5;28;01mtry\u001b[39;00m:\n\u001b[32m--> \u001b[39m\u001b[32m361\u001b[39m     obj, end = \u001b[38;5;28;43mself\u001b[39;49m\u001b[43m.\u001b[49m\u001b[43mscan_once\u001b[49m\u001b[43m(\u001b[49m\u001b[43ms\u001b[49m\u001b[43m,\u001b[49m\u001b[43m \u001b[49m\u001b[43midx\u001b[49m\u001b[43m)\u001b[49m\n\u001b[32m    362\u001b[39m \u001b[38;5;28;01mexcept\u001b[39;00m \u001b[38;5;167;01mStopIteration\u001b[39;00m \u001b[38;5;28;01mas\u001b[39;00m err:\n\u001b[32m    363\u001b[39m     \u001b[38;5;28;01mraise\u001b[39;00m JSONDecodeError(\u001b[33m\"\u001b[39m\u001b[33mExpecting value\u001b[39m\u001b[33m\"\u001b[39m, s, err.value) \u001b[38;5;28;01mfrom\u001b[39;00m\u001b[38;5;250m \u001b[39m\u001b[38;5;28;01mNone\u001b[39;00m\n",
      "\u001b[31mJSONDecodeError\u001b[39m: Expecting ':' delimiter: line 1 column 8 (char 7)"
     ]
    }
   ],
   "source": [
    "# Some bad json\n",
    "get_some_json('{\"foo\" \"bar\"}', \"foo\")"
   ]
  },
  {
   "cell_type": "code",
   "execution_count": 23,
   "id": "470a7ffd4c1145e9",
   "metadata": {
    "ExecuteTime": {
     "end_time": "2025-08-06T17:35:39.967351Z",
     "start_time": "2025-08-06T17:35:39.965394Z"
    }
   },
   "outputs": [],
   "source": [
    "# PUT THEM ALL TOGETHER\n",
    "\n",
    "UNDEFINED = object()\n",
    "\n",
    "\n",
    "def divider(path):\n",
    "    print(\"Open er up\")\n",
    "    handle = open(path, \"r+\")\n",
    "\n",
    "    try:\n",
    "        print(\"Read!!!\")\n",
    "        data = handle.read()\n",
    "\n",
    "        print(\"Parse!!!\")\n",
    "        data = json.loads(data)\n",
    "\n",
    "        print(\"Divide!!!\")\n",
    "        value = data[\"numerator\"] / data[\"denominator\"]\n",
    "    except ZeroDivisionError:\n",
    "        print(\"File not found\")\n",
    "        return UNDEFINED\n",
    "    else:\n",
    "        print(\"Calculate!!!\")\n",
    "        data[\"result\"] = value\n",
    "        result = json.dumps(data)\n",
    "        handle.seek(0)\n",
    "        handle.write(result)\n",
    "        return value\n",
    "    finally:\n",
    "        print(\"Close!!!\")\n",
    "        handle.close()"
   ]
  },
  {
   "cell_type": "code",
   "execution_count": 25,
   "id": "a99850226cefa057",
   "metadata": {
    "ExecuteTime": {
     "end_time": "2025-08-06T17:36:56.572944Z",
     "start_time": "2025-08-06T17:36:56.568964Z"
    }
   },
   "outputs": [
    {
     "name": "stdout",
     "output_type": "stream",
     "text": [
      "Open er up\n",
      "Read!!!\n",
      "Parse!!!\n",
      "Divide!!!\n",
      "Calculate!!!\n",
      "Close!!!\n",
      "{\"numerator\": 1, \"denominator\": 10, \"result\": 0.1}\n"
     ]
    }
   ],
   "source": [
    "# happy path\n",
    "temp_path = \"random_data.json\"\n",
    "\n",
    "with open(temp_path, \"w+\") as f:\n",
    "    f.write('{\"numerator\": 1, \"denominator\": 10}')\n",
    "\n",
    "assert divider(temp_path) == 0.1\n",
    "\n",
    "with open(temp_path, \"r+\") as f:\n",
    "    print(f.read())"
   ]
  },
  {
   "cell_type": "code",
   "execution_count": 27,
   "id": "414892203ed41a10",
   "metadata": {
    "ExecuteTime": {
     "end_time": "2025-08-06T17:37:36.613657Z",
     "start_time": "2025-08-06T17:37:36.609898Z"
    }
   },
   "outputs": [
    {
     "name": "stdout",
     "output_type": "stream",
     "text": [
      "Open er up\n",
      "Read!!!\n",
      "Parse!!!\n",
      "Divide!!!\n",
      "File not found\n",
      "Close!!!\n",
      "{\"numerator\": 1, \"denominator\": 0}\n"
     ]
    }
   ],
   "source": [
    "# zero division path\n",
    "temp_path = \"random_data.json\"\n",
    "\n",
    "with open(temp_path, \"w+\") as f:\n",
    "    f.write('{\"numerator\": 1, \"denominator\": 0}')\n",
    "\n",
    "assert divider(temp_path) is UNDEFINED\n",
    "\n",
    "with open(temp_path, \"r+\") as f:\n",
    "    print(f.read())"
   ]
  },
  {
   "cell_type": "code",
   "execution_count": 28,
   "id": "4728e9f076de42b9",
   "metadata": {
    "ExecuteTime": {
     "end_time": "2025-08-06T17:38:06.343723Z",
     "start_time": "2025-08-06T17:38:06.303681Z"
    }
   },
   "outputs": [
    {
     "name": "stdout",
     "output_type": "stream",
     "text": [
      "Open er up\n",
      "Read!!!\n",
      "Parse!!!\n",
      "Close!!!\n"
     ]
    },
    {
     "ename": "JSONDecodeError",
     "evalue": "Expecting ',' delimiter: line 1 column 17 (char 16)",
     "output_type": "error",
     "traceback": [
      "\u001b[31m---------------------------------------------------------------------------\u001b[39m",
      "\u001b[31mJSONDecodeError\u001b[39m                           Traceback (most recent call last)",
      "\u001b[36mCell\u001b[39m\u001b[36m \u001b[39m\u001b[32mIn[28]\u001b[39m\u001b[32m, line 7\u001b[39m\n\u001b[32m      4\u001b[39m \u001b[38;5;28;01mwith\u001b[39;00m \u001b[38;5;28mopen\u001b[39m(temp_path, \u001b[33m\"\u001b[39m\u001b[33mw+\u001b[39m\u001b[33m\"\u001b[39m) \u001b[38;5;28;01mas\u001b[39;00m f:\n\u001b[32m      5\u001b[39m     f.write(\u001b[33m'\u001b[39m\u001b[33m{\u001b[39m\u001b[33m\"\u001b[39m\u001b[33mnumerator\u001b[39m\u001b[33m\"\u001b[39m\u001b[33m: 1 lol what}\u001b[39m\u001b[33m'\u001b[39m)\n\u001b[32m----> \u001b[39m\u001b[32m7\u001b[39m \u001b[38;5;28;01massert\u001b[39;00m \u001b[43mdivider\u001b[49m\u001b[43m(\u001b[49m\u001b[43mtemp_path\u001b[49m\u001b[43m)\u001b[49m == \u001b[32m0.1\u001b[39m\n\u001b[32m      9\u001b[39m \u001b[38;5;28;01mwith\u001b[39;00m \u001b[38;5;28mopen\u001b[39m(temp_path, \u001b[33m\"\u001b[39m\u001b[33mr+\u001b[39m\u001b[33m\"\u001b[39m) \u001b[38;5;28;01mas\u001b[39;00m f:\n\u001b[32m     10\u001b[39m     \u001b[38;5;28mprint\u001b[39m(f.read())\n",
      "\u001b[36mCell\u001b[39m\u001b[36m \u001b[39m\u001b[32mIn[23]\u001b[39m\u001b[32m, line 14\u001b[39m, in \u001b[36mdivider\u001b[39m\u001b[34m(path)\u001b[39m\n\u001b[32m     11\u001b[39m data = handle.read()\n\u001b[32m     13\u001b[39m \u001b[38;5;28mprint\u001b[39m(\u001b[33m\"\u001b[39m\u001b[33mParse!!!\u001b[39m\u001b[33m\"\u001b[39m)\n\u001b[32m---> \u001b[39m\u001b[32m14\u001b[39m data = \u001b[43mjson\u001b[49m\u001b[43m.\u001b[49m\u001b[43mloads\u001b[49m\u001b[43m(\u001b[49m\u001b[43mdata\u001b[49m\u001b[43m)\u001b[49m\n\u001b[32m     16\u001b[39m \u001b[38;5;28mprint\u001b[39m(\u001b[33m\"\u001b[39m\u001b[33mDivide!!!\u001b[39m\u001b[33m\"\u001b[39m)\n\u001b[32m     17\u001b[39m value = data[\u001b[33m'\u001b[39m\u001b[33mnumerator\u001b[39m\u001b[33m'\u001b[39m] / data[\u001b[33m'\u001b[39m\u001b[33mdenominator\u001b[39m\u001b[33m'\u001b[39m]\n",
      "\u001b[36mFile \u001b[39m\u001b[32m/opt/homebrew/Cellar/python@3.13/3.13.5/Frameworks/Python.framework/Versions/3.13/lib/python3.13/json/__init__.py:346\u001b[39m, in \u001b[36mloads\u001b[39m\u001b[34m(s, cls, object_hook, parse_float, parse_int, parse_constant, object_pairs_hook, **kw)\u001b[39m\n\u001b[32m    341\u001b[39m     s = s.decode(detect_encoding(s), \u001b[33m'\u001b[39m\u001b[33msurrogatepass\u001b[39m\u001b[33m'\u001b[39m)\n\u001b[32m    343\u001b[39m \u001b[38;5;28;01mif\u001b[39;00m (\u001b[38;5;28mcls\u001b[39m \u001b[38;5;129;01mis\u001b[39;00m \u001b[38;5;28;01mNone\u001b[39;00m \u001b[38;5;129;01mand\u001b[39;00m object_hook \u001b[38;5;129;01mis\u001b[39;00m \u001b[38;5;28;01mNone\u001b[39;00m \u001b[38;5;129;01mand\u001b[39;00m\n\u001b[32m    344\u001b[39m         parse_int \u001b[38;5;129;01mis\u001b[39;00m \u001b[38;5;28;01mNone\u001b[39;00m \u001b[38;5;129;01mand\u001b[39;00m parse_float \u001b[38;5;129;01mis\u001b[39;00m \u001b[38;5;28;01mNone\u001b[39;00m \u001b[38;5;129;01mand\u001b[39;00m\n\u001b[32m    345\u001b[39m         parse_constant \u001b[38;5;129;01mis\u001b[39;00m \u001b[38;5;28;01mNone\u001b[39;00m \u001b[38;5;129;01mand\u001b[39;00m object_pairs_hook \u001b[38;5;129;01mis\u001b[39;00m \u001b[38;5;28;01mNone\u001b[39;00m \u001b[38;5;129;01mand\u001b[39;00m \u001b[38;5;129;01mnot\u001b[39;00m kw):\n\u001b[32m--> \u001b[39m\u001b[32m346\u001b[39m     \u001b[38;5;28;01mreturn\u001b[39;00m \u001b[43m_default_decoder\u001b[49m\u001b[43m.\u001b[49m\u001b[43mdecode\u001b[49m\u001b[43m(\u001b[49m\u001b[43ms\u001b[49m\u001b[43m)\u001b[49m\n\u001b[32m    347\u001b[39m \u001b[38;5;28;01mif\u001b[39;00m \u001b[38;5;28mcls\u001b[39m \u001b[38;5;129;01mis\u001b[39;00m \u001b[38;5;28;01mNone\u001b[39;00m:\n\u001b[32m    348\u001b[39m     \u001b[38;5;28mcls\u001b[39m = JSONDecoder\n",
      "\u001b[36mFile \u001b[39m\u001b[32m/opt/homebrew/Cellar/python@3.13/3.13.5/Frameworks/Python.framework/Versions/3.13/lib/python3.13/json/decoder.py:345\u001b[39m, in \u001b[36mJSONDecoder.decode\u001b[39m\u001b[34m(self, s, _w)\u001b[39m\n\u001b[32m    340\u001b[39m \u001b[38;5;28;01mdef\u001b[39;00m\u001b[38;5;250m \u001b[39m\u001b[34mdecode\u001b[39m(\u001b[38;5;28mself\u001b[39m, s, _w=WHITESPACE.match):\n\u001b[32m    341\u001b[39m \u001b[38;5;250m    \u001b[39m\u001b[33;03m\"\"\"Return the Python representation of ``s`` (a ``str`` instance\u001b[39;00m\n\u001b[32m    342\u001b[39m \u001b[33;03m    containing a JSON document).\u001b[39;00m\n\u001b[32m    343\u001b[39m \n\u001b[32m    344\u001b[39m \u001b[33;03m    \"\"\"\u001b[39;00m\n\u001b[32m--> \u001b[39m\u001b[32m345\u001b[39m     obj, end = \u001b[38;5;28;43mself\u001b[39;49m\u001b[43m.\u001b[49m\u001b[43mraw_decode\u001b[49m\u001b[43m(\u001b[49m\u001b[43ms\u001b[49m\u001b[43m,\u001b[49m\u001b[43m \u001b[49m\u001b[43midx\u001b[49m\u001b[43m=\u001b[49m\u001b[43m_w\u001b[49m\u001b[43m(\u001b[49m\u001b[43ms\u001b[49m\u001b[43m,\u001b[49m\u001b[43m \u001b[49m\u001b[32;43m0\u001b[39;49m\u001b[43m)\u001b[49m\u001b[43m.\u001b[49m\u001b[43mend\u001b[49m\u001b[43m(\u001b[49m\u001b[43m)\u001b[49m\u001b[43m)\u001b[49m\n\u001b[32m    346\u001b[39m     end = _w(s, end).end()\n\u001b[32m    347\u001b[39m     \u001b[38;5;28;01mif\u001b[39;00m end != \u001b[38;5;28mlen\u001b[39m(s):\n",
      "\u001b[36mFile \u001b[39m\u001b[32m/opt/homebrew/Cellar/python@3.13/3.13.5/Frameworks/Python.framework/Versions/3.13/lib/python3.13/json/decoder.py:361\u001b[39m, in \u001b[36mJSONDecoder.raw_decode\u001b[39m\u001b[34m(self, s, idx)\u001b[39m\n\u001b[32m    352\u001b[39m \u001b[38;5;250m\u001b[39m\u001b[33;03m\"\"\"Decode a JSON document from ``s`` (a ``str`` beginning with\u001b[39;00m\n\u001b[32m    353\u001b[39m \u001b[33;03ma JSON document) and return a 2-tuple of the Python\u001b[39;00m\n\u001b[32m    354\u001b[39m \u001b[33;03mrepresentation and the index in ``s`` where the document ended.\u001b[39;00m\n\u001b[32m   (...)\u001b[39m\u001b[32m    358\u001b[39m \n\u001b[32m    359\u001b[39m \u001b[33;03m\"\"\"\u001b[39;00m\n\u001b[32m    360\u001b[39m \u001b[38;5;28;01mtry\u001b[39;00m:\n\u001b[32m--> \u001b[39m\u001b[32m361\u001b[39m     obj, end = \u001b[38;5;28;43mself\u001b[39;49m\u001b[43m.\u001b[49m\u001b[43mscan_once\u001b[49m\u001b[43m(\u001b[49m\u001b[43ms\u001b[49m\u001b[43m,\u001b[49m\u001b[43m \u001b[49m\u001b[43midx\u001b[49m\u001b[43m)\u001b[49m\n\u001b[32m    362\u001b[39m \u001b[38;5;28;01mexcept\u001b[39;00m \u001b[38;5;167;01mStopIteration\u001b[39;00m \u001b[38;5;28;01mas\u001b[39;00m err:\n\u001b[32m    363\u001b[39m     \u001b[38;5;28;01mraise\u001b[39;00m JSONDecodeError(\u001b[33m\"\u001b[39m\u001b[33mExpecting value\u001b[39m\u001b[33m\"\u001b[39m, s, err.value) \u001b[38;5;28;01mfrom\u001b[39;00m\u001b[38;5;250m \u001b[39m\u001b[38;5;28;01mNone\u001b[39;00m\n",
      "\u001b[31mJSONDecodeError\u001b[39m: Expecting ',' delimiter: line 1 column 17 (char 16)"
     ]
    }
   ],
   "source": [
    "# Bad data path\n",
    "temp_path = \"random_data.json\"\n",
    "\n",
    "with open(temp_path, \"w+\") as f:\n",
    "    f.write('{\"numerator\": 1 lol what}')\n",
    "\n",
    "assert divider(temp_path) == 0.1\n",
    "\n",
    "with open(temp_path, \"r+\") as f:\n",
    "    print(f.read())"
   ]
  },
  {
   "cell_type": "markdown",
   "id": "9bdce7e2fa620fb3",
   "metadata": {},
   "source": [
    "## Item 81: `assert` Internal Assumptions and `raise` Missed Expectations\n",
    "Note: several linters will warn you about using `assert`"
   ]
  },
  {
   "cell_type": "code",
   "execution_count": 29,
   "id": "f7760e93241b83a4",
   "metadata": {
    "ExecuteTime": {
     "end_time": "2025-08-06T18:09:47.419756Z",
     "start_time": "2025-08-06T18:09:47.404673Z"
    }
   },
   "outputs": [
    {
     "ename": "AssertionError",
     "evalue": "MUST NOT BE EMPTY!!!",
     "output_type": "error",
     "traceback": [
      "\u001b[31m---------------------------------------------------------------------------\u001b[39m",
      "\u001b[31mAssertionError\u001b[39m                            Traceback (most recent call last)",
      "\u001b[36mCell\u001b[39m\u001b[36m \u001b[39m\u001b[32mIn[29]\u001b[39m\u001b[32m, line 5\u001b[39m\n\u001b[32m      2\u001b[39m \u001b[38;5;28;01massert\u001b[39;00m list_a, \u001b[33m\"\u001b[39m\u001b[33mMUST NOT BE EMPTY!!!\u001b[39m\u001b[33m\"\u001b[39m\n\u001b[32m      4\u001b[39m list_b = []\n\u001b[32m----> \u001b[39m\u001b[32m5\u001b[39m \u001b[38;5;28;01massert\u001b[39;00m list_b, \u001b[33m\"\u001b[39m\u001b[33mMUST NOT BE EMPTY!!!\u001b[39m\u001b[33m\"\u001b[39m\n",
      "\u001b[31mAssertionError\u001b[39m: MUST NOT BE EMPTY!!!"
     ]
    }
   ],
   "source": [
    "list_a = [1, 2, 3]\n",
    "assert list_a, \"MUST NOT BE EMPTY!!!\"\n",
    "\n",
    "list_b = []\n",
    "assert list_b, \"MUST NOT BE EMPTY!!!\""
   ]
  },
  {
   "cell_type": "code",
   "execution_count": 30,
   "id": "d0d3f8092a27949b",
   "metadata": {
    "ExecuteTime": {
     "end_time": "2025-08-06T18:28:40.793745Z",
     "start_time": "2025-08-06T18:28:40.779673Z"
    }
   },
   "outputs": [
    {
     "ename": "EmptyError",
     "evalue": "list_c is empty",
     "output_type": "error",
     "traceback": [
      "\u001b[31m---------------------------------------------------------------------------\u001b[39m",
      "\u001b[31mEmptyError\u001b[39m                                Traceback (most recent call last)",
      "\u001b[36mCell\u001b[39m\u001b[36m \u001b[39m\u001b[32mIn[30]\u001b[39m\u001b[32m, line 7\u001b[39m\n\u001b[32m      5\u001b[39m list_c = []\n\u001b[32m      6\u001b[39m \u001b[38;5;28;01mif\u001b[39;00m \u001b[38;5;129;01mnot\u001b[39;00m list_c:\n\u001b[32m----> \u001b[39m\u001b[32m7\u001b[39m     \u001b[38;5;28;01mraise\u001b[39;00m EmptyError(\u001b[33m\"\u001b[39m\u001b[33mlist_c is empty\u001b[39m\u001b[33m\"\u001b[39m)\n",
      "\u001b[31mEmptyError\u001b[39m: list_c is empty"
     ]
    }
   ],
   "source": [
    "# there's also raise\n",
    "class EmptyError(Exception):\n",
    "    pass\n",
    "\n",
    "\n",
    "list_c = []\n",
    "if not list_c:\n",
    "    raise EmptyError(\"list_c is empty\")"
   ]
  },
  {
   "cell_type": "code",
   "execution_count": 32,
   "id": "ad708ae289db3826",
   "metadata": {
    "ExecuteTime": {
     "end_time": "2025-08-06T18:29:44.568898Z",
     "start_time": "2025-08-06T18:29:44.567326Z"
    }
   },
   "outputs": [
    {
     "name": "stdout",
     "output_type": "stream",
     "text": [
      "caught raised it\n"
     ]
    }
   ],
   "source": [
    "try:\n",
    "    raise EmptyError(\"raised it\")\n",
    "except EmptyError as e:\n",
    "    print(f\"caught {e}\")"
   ]
  },
  {
   "cell_type": "markdown",
   "id": "795927be878e602c",
   "metadata": {},
   "source": "Note that `assert` raises `AssertionError`"
  },
  {
   "cell_type": "markdown",
   "id": "57dcc4562377051c",
   "metadata": {},
   "source": [
    "So, when to use what?\n",
    "\n",
    "### `raises`\n",
    "This is considered part of a function's interface. The caller is expected to do something with it\n",
    "\n",
    "### `assert`\n",
    "This is not supposed to be part of the interface. It's used to verify assumptions in an implementation. It helps new readers of code understand that code better. Self-documenting. etc. Errors raised via assert can be treated as system problems, instead of \"the caller made a mistake\". \"Our assumption was wrong\""
   ]
  },
  {
   "cell_type": "code",
   "execution_count": 37,
   "id": "cc8fc6514c4a5a99",
   "metadata": {
    "ExecuteTime": {
     "end_time": "2025-08-06T18:48:24.714838Z",
     "start_time": "2025-08-06T18:48:24.711942Z"
    }
   },
   "outputs": [],
   "source": [
    "class MovieRating:\n",
    "    def __init__(self, max_rating):\n",
    "        assert 0 <= max_rating <= 10, (\n",
    "            \"Rating must be between 0 and 10\"\n",
    "        )  # assumption: the caller validated the max rating\n",
    "        self.max_rating = max_rating\n",
    "\n",
    "    def rate(self, rating):\n",
    "        if not 0 <= rating <= self.max_rating:\n",
    "            raise ValueError(\n",
    "                f\"Rating must be between 0 and {self.max_rating}\"\n",
    "            )  # error: the caller gave too high a rating"
   ]
  },
  {
   "cell_type": "code",
   "execution_count": 38,
   "id": "680fba62067c9093",
   "metadata": {
    "ExecuteTime": {
     "end_time": "2025-08-06T18:48:25.046602Z",
     "start_time": "2025-08-06T18:48:25.025645Z"
    }
   },
   "outputs": [
    {
     "ename": "AssertionError",
     "evalue": "Rating must be between 0 and 10",
     "output_type": "error",
     "traceback": [
      "\u001b[31m---------------------------------------------------------------------------\u001b[39m",
      "\u001b[31mAssertionError\u001b[39m                            Traceback (most recent call last)",
      "\u001b[36mCell\u001b[39m\u001b[36m \u001b[39m\u001b[32mIn[38]\u001b[39m\u001b[32m, line 1\u001b[39m\n\u001b[32m----> \u001b[39m\u001b[32m1\u001b[39m rater = \u001b[43mMovieRating\u001b[49m\u001b[43m(\u001b[49m\u001b[32;43m11\u001b[39;49m\u001b[43m)\u001b[49m \u001b[38;5;66;03m# our code is bugged\u001b[39;00m\n",
      "\u001b[36mCell\u001b[39m\u001b[36m \u001b[39m\u001b[32mIn[37]\u001b[39m\u001b[32m, line 3\u001b[39m, in \u001b[36mMovieRating.__init__\u001b[39m\u001b[34m(self, max_rating)\u001b[39m\n\u001b[32m      2\u001b[39m \u001b[38;5;28;01mdef\u001b[39;00m\u001b[38;5;250m \u001b[39m\u001b[34m__init__\u001b[39m(\u001b[38;5;28mself\u001b[39m, max_rating):\n\u001b[32m----> \u001b[39m\u001b[32m3\u001b[39m     \u001b[38;5;28;01massert\u001b[39;00m \u001b[32m0\u001b[39m <= max_rating <= \u001b[32m10\u001b[39m, \u001b[33m\"\u001b[39m\u001b[33mRating must be between 0 and 10\u001b[39m\u001b[33m\"\u001b[39m  \u001b[38;5;66;03m# assumption: the caller validated the max rating\u001b[39;00m\n\u001b[32m      4\u001b[39m     \u001b[38;5;28mself\u001b[39m.max_rating = max_rating\n",
      "\u001b[31mAssertionError\u001b[39m: Rating must be between 0 and 10"
     ]
    }
   ],
   "source": [
    "rater = MovieRating(11)  # our code is bugged"
   ]
  },
  {
   "cell_type": "code",
   "execution_count": 39,
   "id": "29bdc68b85587e8e",
   "metadata": {
    "ExecuteTime": {
     "end_time": "2025-08-06T18:48:25.512443Z",
     "start_time": "2025-08-06T18:48:25.488122Z"
    }
   },
   "outputs": [
    {
     "ename": "ValueError",
     "evalue": "Rating must be between 0 and 10",
     "output_type": "error",
     "traceback": [
      "\u001b[31m---------------------------------------------------------------------------\u001b[39m",
      "\u001b[31mValueError\u001b[39m                                Traceback (most recent call last)",
      "\u001b[36mCell\u001b[39m\u001b[36m \u001b[39m\u001b[32mIn[39]\u001b[39m\u001b[32m, line 2\u001b[39m\n\u001b[32m      1\u001b[39m rater = MovieRating(\u001b[32m10\u001b[39m)\n\u001b[32m----> \u001b[39m\u001b[32m2\u001b[39m \u001b[43mrater\u001b[49m\u001b[43m.\u001b[49m\u001b[43mrate\u001b[49m\u001b[43m(\u001b[49m\u001b[32;43m400\u001b[39;49m\u001b[43m)\u001b[49m \u001b[38;5;66;03m# their code is bugged\u001b[39;00m\n",
      "\u001b[36mCell\u001b[39m\u001b[36m \u001b[39m\u001b[32mIn[37]\u001b[39m\u001b[32m, line 8\u001b[39m, in \u001b[36mMovieRating.rate\u001b[39m\u001b[34m(self, rating)\u001b[39m\n\u001b[32m      6\u001b[39m \u001b[38;5;28;01mdef\u001b[39;00m\u001b[38;5;250m \u001b[39m\u001b[34mrate\u001b[39m(\u001b[38;5;28mself\u001b[39m, rating):\n\u001b[32m      7\u001b[39m     \u001b[38;5;28;01mif\u001b[39;00m \u001b[38;5;129;01mnot\u001b[39;00m \u001b[32m0\u001b[39m <= rating <= \u001b[38;5;28mself\u001b[39m.max_rating:\n\u001b[32m----> \u001b[39m\u001b[32m8\u001b[39m         \u001b[38;5;28;01mraise\u001b[39;00m \u001b[38;5;167;01mValueError\u001b[39;00m(\u001b[33mf\u001b[39m\u001b[33m\"\u001b[39m\u001b[33mRating must be between 0 and \u001b[39m\u001b[38;5;132;01m{\u001b[39;00m\u001b[38;5;28mself\u001b[39m.max_rating\u001b[38;5;132;01m}\u001b[39;00m\u001b[33m\"\u001b[39m)\n",
      "\u001b[31mValueError\u001b[39m: Rating must be between 0 and 10"
     ]
    }
   ],
   "source": [
    "rater = MovieRating(10)\n",
    "rater.rate(400)  # their code is bugged"
   ]
  },
  {
   "cell_type": "markdown",
   "id": "c0af83ef7eaadc80",
   "metadata": {},
   "source": [
    "Still fluffy?\n",
    "\n",
    "That's okay, this is one of those \"at your own discretion\" areas.\n",
    "\n",
    "My only warning around this (and the author warns this too) is to not catch `AssertionError`! Don't do it! It defeats the point. This includes not doing a high-level `except Exception`, because `AssertionError` _is_ an `Exception`.\n",
    "\n",
    "### Things to Remember:\n",
    "- The raise statement can be used to report expected error conditions back to the caller\n",
    "- Exceptions raised by a function/method are part of its explicit interface\n",
    "- The assert statement should be used to verify a programmers assumptions about code\n",
    "- Dont catch/handle assertion errors! They indicate a bug!!!\n",
    "\n",
    "### Side note: custom exceptions\n",
    "stuff hes talking about here hints at something I _hope_ he talks about later (item 121): when building your own API, its usually better to make your own exception hierarchy, instead of using the builtins. That way you can have a top-level `except` for your module's code, without accidentally catching stuff you shouldn't (assertion errors!!!)"
   ]
  },
  {
   "cell_type": "code",
   "execution_count": null,
   "id": "7093911bf6f6a14b",
   "metadata": {
    "ExecuteTime": {
     "end_time": "2025-08-06T19:09:17.139638Z",
     "start_time": "2025-08-06T19:09:17.136233Z"
    }
   },
   "outputs": [],
   "source": []
  },
  {
   "cell_type": "code",
   "execution_count": null,
   "id": "cf397c41d3f4938b",
   "metadata": {},
   "outputs": [],
   "source": []
  }
 ],
 "metadata": {
  "kernelspec": {
   "display_name": "Python 3",
   "language": "python",
   "name": "python3"
  },
  "language_info": {
   "codemirror_mode": {
    "name": "ipython",
    "version": 2
   },
   "file_extension": ".py",
   "mimetype": "text/x-python",
   "name": "python",
   "nbconvert_exporter": "python",
   "pygments_lexer": "ipython2",
   "version": "2.7.6"
  }
 },
 "nbformat": 4,
 "nbformat_minor": 5
}
