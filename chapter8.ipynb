{
 "cells": [
  {
   "cell_type": "markdown",
   "id": "657fca4a-f6eb-4ab5-ae8a-8ab101feee7c",
   "metadata": {},
   "source": [
    "# Chapter 8: Metaclasses and Attributes\n",
    "Follow the rule of least surprise"
   ]
  },
  {
   "cell_type": "markdown",
   "id": "38488f97-08ad-4009-9281-6bd3b9a195dc",
   "metadata": {},
   "source": [
    "## Item 58: Use Plain Attributes Instead of Setter and Getter Methods\n",
    "Java practitioners, take note!"
   ]
  },
  {
   "cell_type": "code",
   "execution_count": 2,
   "id": "8ea40a4f-8299-4df9-bd46-6e36171cd514",
   "metadata": {},
   "outputs": [],
   "source": [
    "class Jimmy:\n",
    "    def __init__(self, fios_installed: bool):\n",
    "        self.fios_installed = fios_installed\n",
    "\n",
    "    def get_fios_installed(self):\n",
    "        return self.fios_installed\n",
    "\n",
    "    def set_fios_installed(self, setto: bool):\n",
    "        self.fios_installed = setto\n",
    "\n",
    "    # etc etc etc"
   ]
  },
  {
   "cell_type": "code",
   "execution_count": 3,
   "id": "dcf3e029-0643-419c-b92a-7f4b11e5e060",
   "metadata": {},
   "outputs": [
    {
     "data": {
      "text/plain": [
       "True"
      ]
     },
     "execution_count": 3,
     "metadata": {},
     "output_type": "execute_result"
    }
   ],
   "source": [
    "jimbo = Jimmy(False)\n",
    "jimbo.set_fios_installed(True)\n",
    "jimbo.get_fios_installed()"
   ]
  },
  {
   "cell_type": "code",
   "execution_count": 4,
   "id": "6691c924-80f2-4bb2-bfa0-e46d2724246e",
   "metadata": {},
   "outputs": [
    {
     "data": {
      "text/plain": [
       "True"
      ]
     },
     "execution_count": 4,
     "metadata": {},
     "output_type": "execute_result"
    }
   ],
   "source": [
    "# But for simple cases like this, getter/setters aren't needed:\n",
    "class PythonicJimmy:\n",
    "    def __init__(self, fios_installed: bool):\n",
    "        self.fios_installed = fios_installed\n",
    "\n",
    "pimbo = PythonicJimmy(False)\n",
    "pimbo.fios_installed = True\n",
    "pimbo.fios_installed"
   ]
  },
  {
   "cell_type": "code",
   "execution_count": 5,
   "id": "07d68027-5757-47ae-b664-c4a4c013f367",
   "metadata": {},
   "outputs": [],
   "source": [
    "# If we do need a more complicated interface for interacting with an attribute, use @property\n",
    "class Jimmy:\n",
    "    def __init__(self, spongebob_refs: int):\n",
    "        self.sb_refs = spongebob_refs\n",
    "        self.time_til_patrick = 10\n",
    "\n",
    "    @property\n",
    "    def spongebob_references(self):\n",
    "        return self.sb_refs\n",
    "\n",
    "    @spongebob_references.setter\n",
    "    def spongebob_references(self, references: int):\n",
    "        if (self.time_til_patrick > 0):\n",
    "            self.sb_refs = references\n",
    "            self.time_til_patrick -= 1\n",
    "        else:\n",
    "            raise ValueError(\"Jimmy is now doing a Patrick impression\")"
   ]
  },
  {
   "cell_type": "code",
   "execution_count": 8,
   "id": "bb14caf9-dd7b-4ca0-81b9-dd611600abda",
   "metadata": {},
   "outputs": [],
   "source": [
    "jimbo2 = Jimmy(0)\n",
    "for x in range(0, 9):\n",
    "    jimbo2.spongebob_references = x"
   ]
  },
  {
   "cell_type": "code",
   "execution_count": 21,
   "id": "0a08e588-fee5-4a2b-8822-31786c913f66",
   "metadata": {},
   "outputs": [],
   "source": [
    "# This also lets you do type checking at runtime\n",
    "class Jimmy:\n",
    "    def __init__(self, spongebob_refs: int):\n",
    "        self.sb_refs = spongebob_refs\n",
    "        self.time_til_patrick = 10\n",
    "\n",
    "    @property\n",
    "    def spongebob_references(self):\n",
    "        return self.sb_refs\n",
    "\n",
    "    @spongebob_references.setter\n",
    "    def spongebob_references(self, references: int):\n",
    "        if not isinstance(references, int):\n",
    "            raise ValueError(\"NO\")\n",
    "        if (self.time_til_patrick > 0):\n",
    "            self.sb_refs = references\n",
    "            self.time_til_patrick -= 1\n",
    "        else:\n",
    "            raise ValueError(\"Jimmy is now doing a Patrick impression\")"
   ]
  },
  {
   "cell_type": "code",
   "execution_count": 22,
   "id": "abcc0f8f-7776-4f63-bac8-d687f18a39a6",
   "metadata": {},
   "outputs": [
    {
     "ename": "ValueError",
     "evalue": "NO",
     "output_type": "error",
     "traceback": [
      "\u001b[31m---------------------------------------------------------------------------\u001b[39m",
      "\u001b[31mValueError\u001b[39m                                Traceback (most recent call last)",
      "\u001b[36mCell\u001b[39m\u001b[36m \u001b[39m\u001b[32mIn[22]\u001b[39m\u001b[32m, line 2\u001b[39m\n\u001b[32m      1\u001b[39m jimbo = Jimmy(\u001b[32m0\u001b[39m)\n\u001b[32m----> \u001b[39m\u001b[32m2\u001b[39m \u001b[43mjimbo\u001b[49m\u001b[43m.\u001b[49m\u001b[43mspongebob_references\u001b[49m = \u001b[32m0.5\u001b[39m\n",
      "\u001b[36mCell\u001b[39m\u001b[36m \u001b[39m\u001b[32mIn[21]\u001b[39m\u001b[32m, line 14\u001b[39m, in \u001b[36mJimmy.spongebob_references\u001b[39m\u001b[34m(self, references)\u001b[39m\n\u001b[32m     11\u001b[39m \u001b[38;5;129m@spongebob_references\u001b[39m.setter\n\u001b[32m     12\u001b[39m \u001b[38;5;28;01mdef\u001b[39;00m\u001b[38;5;250m \u001b[39m\u001b[34mspongebob_references\u001b[39m(\u001b[38;5;28mself\u001b[39m, references: \u001b[38;5;28mint\u001b[39m):\n\u001b[32m     13\u001b[39m     \u001b[38;5;28;01mif\u001b[39;00m \u001b[38;5;129;01mnot\u001b[39;00m \u001b[38;5;28misinstance\u001b[39m(references, \u001b[38;5;28mint\u001b[39m):\n\u001b[32m---> \u001b[39m\u001b[32m14\u001b[39m         \u001b[38;5;28;01mraise\u001b[39;00m \u001b[38;5;167;01mValueError\u001b[39;00m(\u001b[33m\"\u001b[39m\u001b[33mNO\u001b[39m\u001b[33m\"\u001b[39m)\n\u001b[32m     15\u001b[39m     \u001b[38;5;28;01mif\u001b[39;00m (\u001b[38;5;28mself\u001b[39m.time_til_patrick > \u001b[32m0\u001b[39m):\n\u001b[32m     16\u001b[39m         \u001b[38;5;28mself\u001b[39m.sb_refs = references\n",
      "\u001b[31mValueError\u001b[39m: NO"
     ]
    }
   ],
   "source": [
    "jimbo = Jimmy(0)\n",
    "jimbo.spongebob_references = 0.5\n",
    "\n",
    "# NOTE: you could also enforce immutability this way: raise an exception after a `hasattr` check"
   ]
  },
  {
   "cell_type": "markdown",
   "id": "538f47f1-4b94-4e52-8f68-937c41a7ffd2",
   "metadata": {},
   "source": [
    "### Remember\n",
    "- Define new class interfaces using simple public attributes and avoid defining setter and getter methods.\n",
    "- Use @property to define special behavior when attributes are accessed on your objects.\n",
    "- Follow the rule of least surprise and avoid odd side effects in your @property methods.\n",
    "- Ensure that @property methods are fast; for slow or complex work—especially involving I/O or causing side effects—use normal methods instead."
   ]
  },
  {
   "cell_type": "markdown",
   "id": "1412992b-5643-4b6a-9291-854d4f98e394",
   "metadata": {},
   "source": [
    "## Item 59: Consider `@property` Instead of Refactoring Attributes"
   ]
  },
  {
   "cell_type": "code",
   "execution_count": 1,
   "id": "f3cded1b-76f9-412b-bd2c-72b62ee5d12f",
   "metadata": {},
   "outputs": [],
   "source": [
    "from datetime import datetime, timedelta\n",
    "\n",
    "class Bucket:\n",
    "    def __init__(self, period):\n",
    "        self.period_delta = timedelta(seconds=period)\n",
    "        self.reset_time = datetime.now()\n",
    "        self.quota = 0\n",
    "\n",
    "    def __repr__(self):\n",
    "        return f\"Bucket(quota={self.quota})\""
   ]
  },
  {
   "cell_type": "code",
   "execution_count": 2,
   "id": "6528234b-3c12-4ecf-8d95-0c5c5d742a4d",
   "metadata": {},
   "outputs": [],
   "source": [
    "def fill(bucket, amount):\n",
    "    now = datetime.now()\n",
    "    if (now - bucket.reset_time) > bucket.period_delta:\n",
    "        bucket.quota = 0\n",
    "        bucket.reset_time = now\n",
    "    bucket.quota += amount\n",
    "\n",
    "def deduct(bucket, amount):\n",
    "    now = datetime.now()\n",
    "    if (now - bucket.reset_time) > bucket.period_delta:\n",
    "        return False  # Bucket hasn't been filled this period\n",
    "    if bucket.quota - amount < 0:\n",
    "        return False  # Bucket was filled, but not enough\n",
    "    bucket.quota -= amount\n",
    "    return True       # Bucket had enough, quota consumed"
   ]
  },
  {
   "cell_type": "code",
   "execution_count": 3,
   "id": "34f1d4ca-b9c4-45a0-8f4f-6c6fb1ad05d6",
   "metadata": {},
   "outputs": [
    {
     "name": "stdout",
     "output_type": "stream",
     "text": [
      "Bucket(quota=100)\n"
     ]
    }
   ],
   "source": [
    "bucket = Bucket(60)\n",
    "fill(bucket, 100)\n",
    "print(bucket)"
   ]
  },
  {
   "cell_type": "code",
   "execution_count": 4,
   "id": "9c606adb-6186-4d5c-8965-e3381cd0e44a",
   "metadata": {},
   "outputs": [
    {
     "name": "stdout",
     "output_type": "stream",
     "text": [
      "Had 99 quota\n",
      "Bucket(quota=1)\n"
     ]
    }
   ],
   "source": [
    "if deduct(bucket, 99):\n",
    "    print(\"Had 99 quota\")\n",
    "else:\n",
    "    print(\"Not enough for 99 quota\")\n",
    "\n",
    "print(bucket)"
   ]
  },
  {
   "cell_type": "code",
   "execution_count": 5,
   "id": "37c3348a-9120-443b-a799-976e5bc5d91f",
   "metadata": {},
   "outputs": [
    {
     "name": "stdout",
     "output_type": "stream",
     "text": [
      "Not enough for 3 quota\n",
      "Bucket(quota=1)\n"
     ]
    }
   ],
   "source": [
    "if deduct(bucket, 3):\n",
    "    print(\"Had 3 quota\")\n",
    "else:\n",
    "    print(\"Not enough for 3 quota\")\n",
    "\n",
    "print(bucket)\n",
    "\n",
    "\n",
    "# Problem here, is we never really know if we're blocked because we ran out of quota, or because we never had quota (during this time period)"
   ]
  },
  {
   "cell_type": "code",
   "execution_count": 7,
   "id": "f181d976-8566-4e6b-92fb-ca1f13ead12b",
   "metadata": {},
   "outputs": [],
   "source": [
    "class NewBucket:\n",
    "    def __init__(self, period):\n",
    "        self.period_delta = timedelta(seconds=period)\n",
    "        self.reset_time = datetime.now()\n",
    "        self.max_quota = 0 # we add a max_quota to track quota issued during the period\n",
    "        self.quota_consumed = 0 # and this one is, well, how much we used dawg (dawg)\n",
    "\n",
    "    def __repr__(self):\n",
    "        return (\n",
    "            f\"NewBucket(max_quota={self.max_quota}, \"\n",
    "            f\"quota_consumed={self.quota_consumed})\"\n",
    "        )\n",
    "\n",
    "    # And NOW we use property so this new bucket has a compatible interface!\n",
    "    @property\n",
    "    def quota(self):\n",
    "        return self.max_quota - self.quota_consumed\n",
    "\n",
    "    @quota.setter\n",
    "    def quota(self, amount):\n",
    "        delta = self.max_quota - amount\n",
    "        if amount == 0:\n",
    "            # Quota being reset for a new period\n",
    "            self.quota_consumed = 0\n",
    "            self.max_quota = 0\n",
    "        elif delta < 0:\n",
    "            # Quota being filled during the period\n",
    "            self.max_quota = amount + self.quota_consumed\n",
    "        else:\n",
    "            # Quota being consumed during the period\n",
    "            self.quota_consumed = delta"
   ]
  },
  {
   "cell_type": "code",
   "execution_count": 8,
   "id": "e63e119c-10ab-49b7-a276-365b822d101a",
   "metadata": {},
   "outputs": [
    {
     "name": "stdout",
     "output_type": "stream",
     "text": [
      "Initial NewBucket(max_quota=0, quota_consumed=0)\n",
      "Filled NewBucket(max_quota=100, quota_consumed=0)\n",
      "Had 99 quota\n",
      "Now NewBucket(max_quota=100, quota_consumed=99)\n",
      "Not enough for 3 quota\n",
      "Still NewBucket(max_quota=100, quota_consumed=99)\n"
     ]
    }
   ],
   "source": [
    "bucket = NewBucket(60)\n",
    "print(\"Initial\", bucket)\n",
    "fill(bucket, 100)\n",
    "print(\"Filled\", bucket)\n",
    "\n",
    "if deduct(bucket, 99):\n",
    "    print(\"Had 99 quota\")\n",
    "else:\n",
    "    print(\"Not enough for 99 quota\")\n",
    "\n",
    "print(\"Now\", bucket)\n",
    "\n",
    "if deduct(bucket, 3):\n",
    "    print(\"Had 3 quota\")\n",
    "else:\n",
    "    print(\"Not enough for 3 quota\")\n",
    "\n",
    "print(\"Still\", bucket)\n"
   ]
  },
  {
   "cell_type": "markdown",
   "id": "198c55e8-dbbc-4032-beec-1c5b1c3ef013",
   "metadata": {},
   "source": [
    "The magic of `@property` is it lets you make incremental progress towards a better data model.\n",
    "\n",
    "> @property is a tool to help you address problems you’ll come across in real-world code. Don’t overuse it. When you find yourself repeatedly extending @property methods, it’s probably time to refactor your class instead of further paving over your code’s poor design."
   ]
  },
  {
   "cell_type": "markdown",
   "id": "33d719b3-3822-4e7b-8b08-7695b7f8d396",
   "metadata": {},
   "source": [
    "# Item 60: Use Descriptors for Reusable `@property` Methods"
   ]
  }
 ],
 "metadata": {
  "kernelspec": {
   "display_name": "Python 3 (ipykernel)",
   "language": "python",
   "name": "python3"
  },
  "language_info": {
   "codemirror_mode": {
    "name": "ipython",
    "version": 3
   },
   "file_extension": ".py",
   "mimetype": "text/x-python",
   "name": "python",
   "nbconvert_exporter": "python",
   "pygments_lexer": "ipython3",
   "version": "3.13.3"
  }
 },
 "nbformat": 4,
 "nbformat_minor": 5
}
