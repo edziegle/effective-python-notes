{
 "cells": [
  {
   "cell_type": "markdown",
   "id": "657fca4a-f6eb-4ab5-ae8a-8ab101feee7c",
   "metadata": {},
   "source": [
    "# Chapter 8: Metaclasses and Attributes\n",
    "Follow the rule of least surprise"
   ]
  },
  {
   "cell_type": "markdown",
   "id": "38488f97-08ad-4009-9281-6bd3b9a195dc",
   "metadata": {},
   "source": [
    "## Item 58: Use Plain Attributes Instead of Setter and Getter Methods\n",
    "Java practitioners, take note!"
   ]
  },
  {
   "cell_type": "code",
   "execution_count": null,
   "id": "8ea40a4f-8299-4df9-bd46-6e36171cd514",
   "metadata": {},
   "outputs": [],
   "source": [
    "class Jimmy:\n",
    "    def __init__(self, fios_installed: bool):\n",
    "        self.fios_installed = fios_installed\n",
    "\n",
    "    def get_fios_installed(self):\n",
    "        return self.fios_installed\n",
    "\n",
    "    def set_fios_installed(self, setto: bool):\n",
    "        self.fios_installed = setto\n",
    "\n",
    "    # etc etc etc"
   ]
  },
  {
   "cell_type": "code",
   "execution_count": null,
   "id": "dcf3e029-0643-419c-b92a-7f4b11e5e060",
   "metadata": {},
   "outputs": [],
   "source": [
    "jimbo = Jimmy(False)\n",
    "jimbo.set_fios_installed(True)\n",
    "jimbo.get_fios_installed()"
   ]
  },
  {
   "cell_type": "code",
   "execution_count": null,
   "id": "6691c924-80f2-4bb2-bfa0-e46d2724246e",
   "metadata": {},
   "outputs": [],
   "source": [
    "# But for simple cases like this, getter/setters aren't needed:\n",
    "class PythonicJimmy:\n",
    "    def __init__(self, fios_installed: bool):\n",
    "        self.fios_installed = fios_installed\n",
    "\n",
    "pimbo = PythonicJimmy(False)\n",
    "pimbo.fios_installed = True\n",
    "pimbo.fios_installed"
   ]
  },
  {
   "cell_type": "code",
   "execution_count": null,
   "id": "07d68027-5757-47ae-b664-c4a4c013f367",
   "metadata": {},
   "outputs": [],
   "source": [
    "# If we do need a more complicated interface for interacting with an attribute, use @property\n",
    "class Jimmy:\n",
    "    def __init__(self, spongebob_refs: int):\n",
    "        self.sb_refs = spongebob_refs\n",
    "        self.time_til_patrick = 10\n",
    "\n",
    "    @property\n",
    "    def spongebob_references(self):\n",
    "        return self.sb_refs\n",
    "\n",
    "    @spongebob_references.setter\n",
    "    def spongebob_references(self, references: int):\n",
    "        if (self.time_til_patrick > 0):\n",
    "            self.sb_refs = references\n",
    "            self.time_til_patrick -= 1\n",
    "        else:\n",
    "            raise ValueError(\"Jimmy is now doing a Patrick impression\")"
   ]
  },
  {
   "cell_type": "code",
   "execution_count": null,
   "id": "bb14caf9-dd7b-4ca0-81b9-dd611600abda",
   "metadata": {},
   "outputs": [],
   "source": [
    "jimbo2 = Jimmy(0)\n",
    "for x in range(0, 9):\n",
    "    jimbo2.spongebob_references = x"
   ]
  },
  {
   "cell_type": "code",
   "execution_count": null,
   "id": "0a08e588-fee5-4a2b-8822-31786c913f66",
   "metadata": {},
   "outputs": [],
   "source": [
    "# This also lets you do type checking at runtime\n",
    "class Jimmy:\n",
    "    def __init__(self, spongebob_refs: int):\n",
    "        self.sb_refs = spongebob_refs\n",
    "        self.time_til_patrick = 10\n",
    "\n",
    "    @property\n",
    "    def spongebob_references(self):\n",
    "        return self.sb_refs\n",
    "\n",
    "    @spongebob_references.setter\n",
    "    def spongebob_references(self, references: int):\n",
    "        if not isinstance(references, int):\n",
    "            raise ValueError(\"NO\")\n",
    "        if (self.time_til_patrick > 0):\n",
    "            self.sb_refs = references\n",
    "            self.time_til_patrick -= 1\n",
    "        else:\n",
    "            raise ValueError(\"Jimmy is now doing a Patrick impression\")"
   ]
  },
  {
   "cell_type": "code",
   "execution_count": null,
   "id": "abcc0f8f-7776-4f63-bac8-d687f18a39a6",
   "metadata": {},
   "outputs": [],
   "source": [
    "jimbo = Jimmy(0)\n",
    "jimbo.spongebob_references = 0.5\n",
    "\n",
    "# NOTE: you could also enforce immutability this way: raise an exception after a `hasattr` check"
   ]
  },
  {
   "cell_type": "markdown",
   "id": "538f47f1-4b94-4e52-8f68-937c41a7ffd2",
   "metadata": {},
   "source": [
    "### Remember\n",
    "- Define new class interfaces using simple public attributes and avoid defining setter and getter methods.\n",
    "- Use @property to define special behavior when attributes are accessed on your objects.\n",
    "- Follow the rule of least surprise and avoid odd side effects in your @property methods.\n",
    "- Ensure that @property methods are fast; for slow or complex work—especially involving I/O or causing side effects—use normal methods instead."
   ]
  },
  {
   "cell_type": "markdown",
   "id": "1412992b-5643-4b6a-9291-854d4f98e394",
   "metadata": {},
   "source": [
    "## Item 59: Consider `@property` Instead of Refactoring Attributes"
   ]
  },
  {
   "cell_type": "code",
   "execution_count": null,
   "id": "f3cded1b-76f9-412b-bd2c-72b62ee5d12f",
   "metadata": {},
   "outputs": [],
   "source": [
    "from datetime import datetime, timedelta\n",
    "\n",
    "class Bucket:\n",
    "    def __init__(self, period):\n",
    "        self.period_delta = timedelta(seconds=period)\n",
    "        self.reset_time = datetime.now()\n",
    "        self.quota = 0\n",
    "\n",
    "    def __repr__(self):\n",
    "        return f\"Bucket(quota={self.quota})\""
   ]
  },
  {
   "cell_type": "code",
   "execution_count": null,
   "id": "6528234b-3c12-4ecf-8d95-0c5c5d742a4d",
   "metadata": {},
   "outputs": [],
   "source": [
    "def fill(bucket, amount):\n",
    "    now = datetime.now()\n",
    "    if (now - bucket.reset_time) > bucket.period_delta:\n",
    "        bucket.quota = 0\n",
    "        bucket.reset_time = now\n",
    "    bucket.quota += amount\n",
    "\n",
    "def deduct(bucket, amount):\n",
    "    now = datetime.now()\n",
    "    if (now - bucket.reset_time) > bucket.period_delta:\n",
    "        return False  # Bucket hasn't been filled this period\n",
    "    if bucket.quota - amount < 0:\n",
    "        return False  # Bucket was filled, but not enough\n",
    "    bucket.quota -= amount\n",
    "    return True       # Bucket had enough, quota consumed"
   ]
  },
  {
   "cell_type": "code",
   "execution_count": null,
   "id": "34f1d4ca-b9c4-45a0-8f4f-6c6fb1ad05d6",
   "metadata": {},
   "outputs": [],
   "source": [
    "bucket = Bucket(60)\n",
    "fill(bucket, 100)\n",
    "print(bucket)"
   ]
  },
  {
   "cell_type": "code",
   "execution_count": null,
   "id": "9c606adb-6186-4d5c-8965-e3381cd0e44a",
   "metadata": {},
   "outputs": [],
   "source": [
    "if deduct(bucket, 99):\n",
    "    print(\"Had 99 quota\")\n",
    "else:\n",
    "    print(\"Not enough for 99 quota\")\n",
    "\n",
    "print(bucket)"
   ]
  },
  {
   "cell_type": "code",
   "execution_count": null,
   "id": "37c3348a-9120-443b-a799-976e5bc5d91f",
   "metadata": {},
   "outputs": [],
   "source": [
    "if deduct(bucket, 3):\n",
    "    print(\"Had 3 quota\")\n",
    "else:\n",
    "    print(\"Not enough for 3 quota\")\n",
    "\n",
    "print(bucket)\n",
    "\n",
    "\n",
    "# Problem here, is we never really know if we're blocked because we ran out of quota, or because we never had quota (during this time period)"
   ]
  },
  {
   "cell_type": "code",
   "execution_count": null,
   "id": "f181d976-8566-4e6b-92fb-ca1f13ead12b",
   "metadata": {},
   "outputs": [],
   "source": [
    "class NewBucket:\n",
    "    def __init__(self, period):\n",
    "        self.period_delta = timedelta(seconds=period)\n",
    "        self.reset_time = datetime.now()\n",
    "        self.max_quota = 0 # we add a max_quota to track quota issued during the period\n",
    "        self.quota_consumed = 0 # and this one is, well, how much we used dawg (dawg)\n",
    "\n",
    "    def __repr__(self):\n",
    "        return (\n",
    "            f\"NewBucket(max_quota={self.max_quota}, \"\n",
    "            f\"quota_consumed={self.quota_consumed})\"\n",
    "        )\n",
    "\n",
    "    # And NOW we use property so this new bucket has a compatible interface!\n",
    "    @property\n",
    "    def quota(self):\n",
    "        return self.max_quota - self.quota_consumed\n",
    "\n",
    "    @quota.setter\n",
    "    def quota(self, amount):\n",
    "        delta = self.max_quota - amount\n",
    "        if amount == 0:\n",
    "            # Quota being reset for a new period\n",
    "            self.quota_consumed = 0\n",
    "            self.max_quota = 0\n",
    "        elif delta < 0:\n",
    "            # Quota being filled during the period\n",
    "            self.max_quota = amount + self.quota_consumed\n",
    "        else:\n",
    "            # Quota being consumed during the period\n",
    "            self.quota_consumed = delta"
   ]
  },
  {
   "cell_type": "code",
   "execution_count": null,
   "id": "e63e119c-10ab-49b7-a276-365b822d101a",
   "metadata": {},
   "outputs": [],
   "source": [
    "bucket = NewBucket(60)\n",
    "print(\"Initial\", bucket)\n",
    "fill(bucket, 100)\n",
    "print(\"Filled\", bucket)\n",
    "\n",
    "if deduct(bucket, 99):\n",
    "    print(\"Had 99 quota\")\n",
    "else:\n",
    "    print(\"Not enough for 99 quota\")\n",
    "\n",
    "print(\"Now\", bucket)\n",
    "\n",
    "if deduct(bucket, 3):\n",
    "    print(\"Had 3 quota\")\n",
    "else:\n",
    "    print(\"Not enough for 3 quota\")\n",
    "\n",
    "print(\"Still\", bucket)\n"
   ]
  },
  {
   "cell_type": "markdown",
   "id": "198c55e8-dbbc-4032-beec-1c5b1c3ef013",
   "metadata": {},
   "source": [
    "The magic of `@property` is it lets you make incremental progress towards a better data model.\n",
    "\n",
    "> @property is a tool to help you address problems you’ll come across in real-world code. Don’t overuse it. When you find yourself repeatedly extending @property methods, it’s probably time to refactor your class instead of further paving over your code’s poor design."
   ]
  },
  {
   "cell_type": "markdown",
   "id": "33d719b3-3822-4e7b-8b08-7695b7f8d396",
   "metadata": {},
   "source": [
    "# Item 60: Use Descriptors for Reusable `@property` Methods\n",
    "\n",
    "Its kinda like Mixins, but for attributes."
   ]
  },
  {
   "cell_type": "code",
   "execution_count": null,
   "id": "d25d069e-313e-48ca-9a32-41d382a2b8e5",
   "metadata": {},
   "outputs": [],
   "source": [
    "# Note 2 eric: show the preamble in the book\n",
    "\n",
    "class Grade:\n",
    "    def __init__(self):\n",
    "        self._value = 0\n",
    "\n",
    "    def __get__(self, instance, instance_type):\n",
    "        return self._value\n",
    "\n",
    "    def __set__(self, instance, value):\n",
    "        if not (0 <= value <= 100):\n",
    "            raise ValueError(\"Grade must be between 0 and 100\")\n",
    "        self._value = value\n",
    "\n",
    "class Exam:\n",
    "    # Class attributes\n",
    "    math_grade = Grade()\n",
    "    writing_grade = Grade()\n",
    "    science_grade = Grade()"
   ]
  },
  {
   "cell_type": "code",
   "execution_count": null,
   "id": "69ac0702-d67c-4a47-8ab5-ca2831447684",
   "metadata": {},
   "outputs": [],
   "source": [
    "class Exam:\n",
    "    math_grade = Grade()\n",
    "    writing_grade = Grade()\n",
    "    science_grade = Grade()\n",
    "\n",
    "first_exam = Exam()\n",
    "first_exam.writing_grade = 82\n",
    "first_exam.science_grade = 99\n",
    "print(\"Writing\", first_exam.writing_grade)\n",
    "print(\"Science\", first_exam.science_grade)"
   ]
  },
  {
   "cell_type": "code",
   "execution_count": null,
   "id": "4f63b77d-91b8-466d-8873-ba6aae39230d",
   "metadata": {},
   "outputs": [],
   "source": [
    "# All good right? NOPE!!!!\n",
    "second_exam = Exam()\n",
    "second_exam.writing_grade = 75\n",
    "print(f\"Second {second_exam.writing_grade} is right\")\n",
    "print(f\"First  {first_exam.writing_grade} is wrong; \"\n",
    "      f\"should be 82\")\n"
   ]
  },
  {
   "cell_type": "code",
   "execution_count": null,
   "id": "b3fc4a7a-e1c5-41df-9114-9f736a9e599e",
   "metadata": {},
   "outputs": [],
   "source": [
    "# Why this happen???\n",
    "second_exam.writing_grade is first_exam.writing_grade"
   ]
  },
  {
   "cell_type": "markdown",
   "id": "90be0679-2b84-4b14-80f9-c0d2b146d8b2",
   "metadata": {},
   "source": [
    "Remember long ago:\n",
    "```python\n",
    "def foo(bar=[]):\n",
    "    ...\n",
    "```\n",
    "\n",
    "Like this older example, Python only evaluates that `Grade()` once!"
   ]
  },
  {
   "cell_type": "code",
   "execution_count": null,
   "id": "403130a5-8ae9-4f2f-aa8b-9e68a55947bc",
   "metadata": {},
   "outputs": [],
   "source": [
    "class DictGrade:\n",
    "    \"\"\"\n",
    "    A Grade class that keeps track of the individual values in each Exam that uses it.\n",
    "    \"\"\"\n",
    "    def __init__(self):\n",
    "        self._values = {}  # hint\n",
    "\n",
    "    def __get__(self, instance, instance_type):\n",
    "        \"\"\"Return the grade value for the instance\"\"\"\n",
    "        if instance is None:\n",
    "            return self\n",
    "        return self._values.get(instance, 0)\n",
    "\n",
    "    def __set__(self, instance, value):\n",
    "        \"\"\"Set the grade value for the instance\"\"\"\n",
    "        if not (0 <= value <= 100):\n",
    "            raise ValueError(\"Grade must be between 0 and 100\")\n",
    "        self._values[instance] = value"
   ]
  },
  {
   "cell_type": "markdown",
   "id": "8615c34f-4462-4852-b681-1c345257a1af",
   "metadata": {},
   "source": [
    "Put on your Garbage Collector Engineer hat: what is wrong with the above implementation?"
   ]
  },
  {
   "cell_type": "code",
   "execution_count": null,
   "id": "48d11395-88e1-4a9a-943a-cb3e4f629043",
   "metadata": {},
   "outputs": [],
   "source": [
    "# Luckily Python actually has a way of making a Descriptor that can be unique to the instance that uses it:\n",
    "# BEHOLD: __set_name__\n",
    "class NamedGrade:\n",
    "    def __set_name__(self, owner, name):\n",
    "        self.internal_name = \"_\" + name  # creates a unique attr just for the \"owning\" instance\n",
    "\n",
    "    def __get__(self, instance, instance_type):\n",
    "        \"\"\"Return the grade value for the instance\"\"\"\n",
    "        if instance is None:\n",
    "            return self\n",
    "        return getattr(instance, self.internal_name)  # Note how we use getattr here,\n",
    "\n",
    "    def __set__(self, instance, value):\n",
    "        \"\"\"Set the grade value for the instance\"\"\"\n",
    "        if not (0 <= value <= 100):\n",
    "            raise ValueError(\"Grade must be between 0 and 100\")\n",
    "        setattr(instance, self.internal_name, value)  # Note setattr"
   ]
  },
  {
   "cell_type": "code",
   "execution_count": null,
   "id": "90efec6c-3db8-4900-8d62-15c51151ec22",
   "metadata": {},
   "outputs": [],
   "source": [
    "# Watch the magic\n",
    "\n",
    "class NamedExam:\n",
    "    math_grade = NamedGrade()\n",
    "    writing_grade = NamedGrade()\n",
    "    science_grade = NamedGrade()\n",
    "\n",
    "vars(NamedExam.science_grade)"
   ]
  },
  {
   "cell_type": "code",
   "execution_count": null,
   "id": "3c60c4c1-4f6d-44f2-9ba7-926cfd3c2065",
   "metadata": {},
   "outputs": [],
   "source": [
    "first_exam = NamedExam()\n",
    "first_exam.math_grade = 78\n",
    "first_exam.writing_grade = 89\n",
    "first_exam.science_grade = 94\n",
    "first_exam.__dict__"
   ]
  },
  {
   "cell_type": "code",
   "execution_count": null,
   "id": "21e7e257-a81d-43bd-906c-1b0767a69548",
   "metadata": {},
   "outputs": [],
   "source": [
    "# And just double checking our instance tracking works..\n",
    "second_exam = NamedExam()\n",
    "second_exam.writing_grade = 99\n",
    "first_exam.writing_grade is second_exam.writing_grade"
   ]
  },
  {
   "cell_type": "markdown",
   "id": "31544f15-e855-4e2a-9a21-f6d8dd1750a7",
   "metadata": {},
   "source": [
    "Okay, so how is it working? Take a look back to `setattr` and `getattr`. The descriptor _itself_ is not storing the data, rather, the data is now being stored on `Exam`, but with the `internal_name` that the Descriptor knows it by (for Exam instances at least).\n",
    "\n",
    "The `writing_grade` Descriptor now knows, when an Exam class is calling `set` on it, it needs to reroute that `get` to an internal field on `Exam` called `_writing_grade`. Likewise with sets!\n",
    "\n",
    "Now the `NamedGrade` no longer keeps a reference to any `Exam` objects, allowing full garbage collection!"
   ]
  },
  {
   "cell_type": "markdown",
   "id": "50155f87-3589-45d1-948a-e41f138cb769",
   "metadata": {},
   "source": [
    "### Remember\n",
    "-  Reuse the behavior and validation of @property methods by defining your own descriptor classes.\n",
    "- Use __set_name__ along with setattr and getattr to store the data needed by descriptors in object instance dictionaries in order to avoid memory leaks.\n",
    "- Don’t get bogged down trying to understand exactly how __getattribute__ uses the descriptor protocol for getting and setting attributes."
   ]
  },
  {
   "cell_type": "markdown",
   "id": "5cc52e85-e461-4937-90f3-2eaa83b6fd6d",
   "metadata": {},
   "source": [
    "# Item 61: Use `__getattr__`, `__getattribute__`, and `__setattr__` for Lazy Attributes\n",
    "We saw getattr and setattr already, lets take a gander at these more, and why they're sweet"
   ]
  },
  {
   "cell_type": "code",
   "execution_count": null,
   "id": "2872e8f4-12bc-41bf-8f9a-207bba2219b0",
   "metadata": {},
   "outputs": [],
   "source": [
    "# When a class HAS a __getattr__ defined, it is called whenever an attribute can't be found\n",
    "# Imagine this is the Python representation of a database record.\n",
    "\n",
    "class LazyRecord:\n",
    "    def __init__(self):\n",
    "        self.exists = 5\n",
    "\n",
    "    def __getattr__(self, name):\n",
    "        \"\"\"If they're trying to find an attr that doesn't exist, we just make it!\"\"\"\n",
    "        value = f\"Value for {name}\"\n",
    "        setattr(self, name, value)\n",
    "        return value"
   ]
  },
  {
   "cell_type": "code",
   "execution_count": null,
   "id": "5e9cbcd4-1d31-45fd-ac1a-87ec542740c5",
   "metadata": {},
   "outputs": [],
   "source": [
    "data = LazyRecord()\n",
    "print(\"Before:\", data.__dict__)\n",
    "print(\"foo:   \", data.foo)\n",
    "print(\"After: \", data.__dict__)"
   ]
  },
  {
   "cell_type": "code",
   "execution_count": null,
   "id": "07894626-e406-42dd-9ce8-6f2eb4de8124",
   "metadata": {},
   "outputs": [],
   "source": [
    "# An example of attaching some self-logging, to show where the getattr actually happens\n",
    "\n",
    "class LoggingLazyRecord(LazyRecord):\n",
    "    def __getattr__(self, name):\n",
    "        print(\n",
    "            f\"* Called __getattr__({name!r}), \"\n",
    "            f\"populating instance dictionary\"\n",
    "        )\n",
    "        result = super().__getattr__(name)  # POP QUIZ: Why am I using super here?\n",
    "        print(f\"* Returning {result!r}\")\n",
    "        return result\n",
    "\n",
    "data = LoggingLazyRecord()\n",
    "print(\"exists:     \", data.exists)\n",
    "print(\"First foo:  \", data.foo)\n",
    "print(\"Second foo: \", data.foo)"
   ]
  },
  {
   "cell_type": "markdown",
   "id": "603416ca-74fd-41d0-8a5f-5b7fb4b1ba4a",
   "metadata": {},
   "source": [
    "Note that the log only happened once, right before the `First foo`. By the time we try to print foo again, it exists on the class, so `__getattr__` is not called again. **Lazy Instantiation**!"
   ]
  },
  {
   "cell_type": "code",
   "execution_count": null,
   "id": "f5f00d4c-9efb-4c73-abe2-89e726e230ec",
   "metadata": {},
   "outputs": [],
   "source": [
    "# What about __getattribute__?\n",
    "# Imagine we want to support db Transactions: anytime a user accesses an attr, we want to check if its valid, AND if the transaction is still open!\n",
    "# __getattr__ won't help us here, cause it only gets called that first time an attr is being made\n",
    "\n",
    "class ValidatingRecord:\n",
    "    def __init__(self):\n",
    "        self.exists = 5\n",
    "\n",
    "    def __getattribute__(self, name): # This gets called anytime an attr is accessed\n",
    "        print(f\"* Called __getattribute__({name!r})\")\n",
    "        try:\n",
    "            value = super().__getattribute__(name)\n",
    "            print(f\"* Found {name!r}, returning {value!r}\")\n",
    "            return value\n",
    "        except AttributeError:  # if the attr doesn't exist, lets go ahead and add it!\n",
    "            value = f\"Value for {name}\"\n",
    "            print(f\"* Setting {name!r} to {value!r}\")\n",
    "            setattr(self, name, value)\n",
    "            return value\n",
    "\n",
    "data = ValidatingRecord()\n",
    "print(\"exists:     \", data.exists)\n",
    "print(\"First foo:  \", data.foo)\n",
    "print(\"Second foo: \", data.foo)"
   ]
  },
  {
   "cell_type": "code",
   "execution_count": null,
   "id": "940f1400-8525-43e7-9146-0b5dcac8def6",
   "metadata": {},
   "outputs": [],
   "source": [
    "# Speaking of AttributeError, this is exaclty what this exception is for\n",
    "\n",
    "class MissingPropertyRecord:\n",
    "    def __getattr__(self, name):\n",
    "        if name == \"bad_name\":\n",
    "            raise AttributeError(f\"{name} is missing\")\n",
    "        ...\n",
    "\n",
    "data = MissingPropertyRecord()\n",
    "data.bad_name"
   ]
  },
  {
   "cell_type": "markdown",
   "id": "86c71850-94ff-4d6b-a93a-e12da013cd27",
   "metadata": {},
   "source": [
    "Use `AttributeError` to activate Python's standard handling of a missing attribute."
   ]
  },
  {
   "cell_type": "code",
   "execution_count": null,
   "id": "edda42bd-e7e8-425c-8262-100a731f2b5e",
   "metadata": {},
   "outputs": [],
   "source": [
    "# Side note, `hasattr` is useful too\n",
    "data = LoggingLazyRecord()  # Implements __getattr__\n",
    "print(\"Before:         \", data.__dict__)\n",
    "print(\"Has first foo:  \", hasattr(data, \"foo\"))\n",
    "print(\"After:          \", data.__dict__)\n",
    "print(\"Has second foo: \", hasattr(data, \"foo\"))"
   ]
  },
  {
   "cell_type": "markdown",
   "id": "3e0a793b-eb77-4780-acd1-f69440ccb970",
   "metadata": {},
   "source": [
    "Notice something strange? Why did the getattr logger fire? 👀\n",
    "\n",
    "`hasattr` invoked `__getattr__` since foo didn't exist."
   ]
  },
  {
   "cell_type": "code",
   "execution_count": null,
   "id": "e2531069-1028-4968-bc20-80bcbace8fe1",
   "metadata": {},
   "outputs": [],
   "source": [
    "# A little more about setattr: unlike getattr and getattribute, theres no need for two set methods, setattr handles both cases\n",
    "\n",
    "class SavingRecord:\n",
    "    def __setattr__(self, name, value):\n",
    "        # Imagine those ... are fancy code that magically updates the database in the background as attrs are set on this class\n",
    "        ...\n",
    "        super().__setattr__(name, value)\n",
    "\n",
    "# Lets take a look at call order\n",
    "class LoggingSavingRecord(SavingRecord):\n",
    "    def __setattr__(self, name, value):\n",
    "        print(f\"* Called __setattr__({name!r}, {value!r})\")\n",
    "        super().__setattr__(name, value)\n",
    "\n",
    "data = LoggingSavingRecord()\n",
    "print(\"Before: \", data.__dict__)\n",
    "data.foo = 5\n",
    "print(\"After:  \", data.__dict__)\n",
    "data.foo = 7\n",
    "print(\"Finally:\", data.__dict__)"
   ]
  },
  {
   "cell_type": "code",
   "execution_count": null,
   "id": "bc9c3c11-50d9-4c06-bc2f-0f6a1af324a6",
   "metadata": {},
   "outputs": [],
   "source": [
    "# SURPRISE POP QUIZ: find the error\n",
    "class BrokenDictionaryRecord:\n",
    "    def __init__(self, data):\n",
    "        self._data = data\n",
    "\n",
    "    def __getattribute__(self, name):\n",
    "        print(f\"* Called __getattribute__({name!r})\")\n",
    "        return self._data[name]\n",
    "\n",
    "data = BrokenDictionaryRecord({\"foo\": 3})\n",
    "data.foo"
   ]
  },
  {
   "cell_type": "markdown",
   "id": "8a927673-e455-41e6-bf42-2c0b0596f918",
   "metadata": {},
   "source": [
    "# Remember\n",
    "- Use __getattr__ and __setattr__ to lazily load and save attributes for an object.\n",
    "- Understand that __getattr__ only gets called when accessing a missing attribute, whereas __getattribute__ gets called every time any attribute is accessed.\n",
    "- Avoid infinite recursion in __getattribute__ and __setattr__ method implementations by calling super().__getattribute__ and super().__getattr__ to access object attributes."
   ]
  },
  {
   "cell_type": "markdown",
   "id": "10c1256c-6fdf-4234-87a7-e2336885b440",
   "metadata": {},
   "source": [
    "# Item 62: Validate Subclasses with `__init_subclass__`\n",
    "Metaclasses give a nice way to validate subclasses, enforcing structure and relationships."
   ]
  },
  {
   "cell_type": "code",
   "execution_count": 7,
   "id": "1cc8e123-fa79-4e3c-b6e0-7a232f63142c",
   "metadata": {},
   "outputs": [
    {
     "name": "stdout",
     "output_type": "stream",
     "text": [
      "* Running <class '__main__.Meta'>.__new__ for MyClass\n",
      "Bases: ()\n",
      "{'__module__': '__main__', '__qualname__': 'MyClass', '__firstlineno__': 12, 'stuff': 123, 'foo': <function MyClass.foo at 0x11941ac00>, '__static_attributes__': ()}\n",
      "* Running <class '__main__.Meta'>.__new__ for MySubclass\n",
      "Bases: (<class '__main__.MyClass'>,)\n",
      "{'__module__': '__main__', '__qualname__': 'MySubclass', '__firstlineno__': 18, 'other': 567, 'bar': <function MySubclass.bar at 0x119418cc0>, '__static_attributes__': ()}\n"
     ]
    }
   ],
   "source": [
    "# HOL UP\n",
    "# WTF even _is_ a metaclass tho\n",
    "\n",
    "class Meta(type):  # note it inherits from type\n",
    "    zzz = 1\n",
    "    def __new__(meta, name, bases, class_dict):\n",
    "        print(f\"* Running {meta}.__new__ for {name}\")\n",
    "        print(\"Bases:\", bases)\n",
    "        print(class_dict)\n",
    "        return type.__new__(meta, name, bases, class_dict)\n",
    "\n",
    "class MyClass(metaclass=Meta):\n",
    "    stuff = 123\n",
    "\n",
    "    def foo(self):\n",
    "        pass\n",
    "\n",
    "class MySubclass(MyClass):\n",
    "    other = 567\n",
    "\n",
    "    def bar(self):\n",
    "        pass\n"
   ]
  },
  {
   "cell_type": "markdown",
   "id": "5f4ff78a-12e2-430f-b0c8-7fdaeec52e1d",
   "metadata": {},
   "source": [
    "Notice something interesting about that last cell?\n",
    "\n",
    "Yeah: The metaclass ran after the construction of `MyClass`.\n",
    "\n",
    "`bases` is the info about the parent classes btw. That's why we see `(<class '__main__.MyClass'>,)` under `MySubClass`, but nothing under (parentless) `MyClass` 😀\n",
    "\n",
    "`meta` is \"self\"\n",
    "\n",
    "`name` is the name of the class (not the meta class)\n",
    "\n",
    "`class_dict` come on you guys should know what this is by now 🦍"
   ]
  },
  {
   "cell_type": "markdown",
   "id": "c2685137-037f-460c-ac39-c62526133e41",
   "metadata": {},
   "source": [
    "#### But there's something else interesting..."
   ]
  },
  {
   "cell_type": "code",
   "execution_count": 8,
   "id": "337f1b4f-cdc0-46de-8741-1e539694efbf",
   "metadata": {},
   "outputs": [
    {
     "data": {
      "text/plain": [
       "['__class__',\n",
       " '__delattr__',\n",
       " '__dict__',\n",
       " '__dir__',\n",
       " '__doc__',\n",
       " '__eq__',\n",
       " '__firstlineno__',\n",
       " '__format__',\n",
       " '__ge__',\n",
       " '__getattribute__',\n",
       " '__getstate__',\n",
       " '__gt__',\n",
       " '__hash__',\n",
       " '__init__',\n",
       " '__init_subclass__',\n",
       " '__le__',\n",
       " '__lt__',\n",
       " '__module__',\n",
       " '__ne__',\n",
       " '__new__',\n",
       " '__reduce__',\n",
       " '__reduce_ex__',\n",
       " '__repr__',\n",
       " '__setattr__',\n",
       " '__sizeof__',\n",
       " '__static_attributes__',\n",
       " '__str__',\n",
       " '__subclasshook__',\n",
       " '__weakref__',\n",
       " 'bar',\n",
       " 'foo',\n",
       " 'other',\n",
       " 'stuff']"
      ]
     },
     "execution_count": 8,
     "metadata": {},
     "output_type": "execute_result"
    }
   ],
   "source": [
    "foo = MySubclass()\n",
    "dir(foo)"
   ]
  },
  {
   "cell_type": "markdown",
   "id": "8c118abd-c074-41f6-993e-575ca0c31788",
   "metadata": {},
   "source": [
    "Classes inherit from `object`, metaclasses inherit from `type`. Note how `Meta` has a `zzz` field, but none of the classes that utilize it have that field.\n",
    "\n",
    "Point I'm trying to make: Metaclasses are not strictly part of the class hierarchy, think of them as a controling concern, outside of the classes.\n",
    "\n",
    "### Okay but who cares?\n",
    "\n",
    "[Pydantic cares](https://github.com/pydantic/pydantic/blob/d992117243b3d44047ef37f9d7d75243bb98dbca/pydantic/_internal/_model_construction.py#L80)"
   ]
  },
  {
   "cell_type": "code",
   "execution_count": 9,
   "id": "5364f332-4184-4e2e-a798-0c1b9785d218",
   "metadata": {},
   "outputs": [],
   "source": [
    "# The above is a pretty advanced example. Lets scale back yeah?\n",
    "\n",
    "class ValidatePolygon(type):\n",
    "    def __new__(meta, name, bases, class_dict):\n",
    "        # Only validate subclasses of the Polygon class\n",
    "        if bases:\n",
    "            if class_dict[\"sides\"] < 3:\n",
    "                raise ValueError(\"Polygons need 3+ sides\")\n",
    "        return type.__new__(meta, name, bases, class_dict)\n",
    "\n",
    "class Polygon(metaclass=ValidatePolygon):\n",
    "    sides = None  # Must be specified by subclasses\n",
    "\n",
    "    @classmethod\n",
    "    def interior_angles(cls):\n",
    "        return (cls.sides - 2) * 180\n",
    "\n",
    "class Triangle(Polygon):\n",
    "    sides = 3\n",
    "\n",
    "class Rectangle(Polygon):\n",
    "    sides = 4\n",
    "\n",
    "class Nonagon(Polygon):\n",
    "    sides = 9\n",
    "\n",
    "assert Triangle.interior_angles() == 180\n",
    "assert Rectangle.interior_angles() == 360\n",
    "assert Nonagon.interior_angles() == 1260"
   ]
  },
  {
   "cell_type": "code",
   "execution_count": 11,
   "id": "7033fbc3-b0ce-4b50-85a6-5901525aba9d",
   "metadata": {},
   "outputs": [
    {
     "name": "stdout",
     "output_type": "stream",
     "text": [
      "1\n",
      "2\n",
      "3\n"
     ]
    },
    {
     "ename": "ValueError",
     "evalue": "Polygons need 3+ sides",
     "output_type": "error",
     "traceback": [
      "\u001b[31m---------------------------------------------------------------------------\u001b[39m",
      "\u001b[31mValueError\u001b[39m                                Traceback (most recent call last)",
      "\u001b[36mCell\u001b[39m\u001b[36m \u001b[39m\u001b[32mIn[11]\u001b[39m\u001b[32m, line 5\u001b[39m\n\u001b[32m      1\u001b[39m \u001b[38;5;66;03m# Let's be wrong and bad\u001b[39;00m\n\u001b[32m      3\u001b[39m \u001b[38;5;28mprint\u001b[39m(\u001b[33m\"\u001b[39m\u001b[33m1\u001b[39m\u001b[33m\"\u001b[39m)\n\u001b[32m----> \u001b[39m\u001b[32m5\u001b[39m \u001b[38;5;28;43;01mclass\u001b[39;49;00m\u001b[38;5;250;43m \u001b[39;49m\u001b[34;43;01mLine\u001b[39;49;00m\u001b[43m(\u001b[49m\u001b[43mPolygon\u001b[49m\u001b[43m)\u001b[49m\u001b[43m:\u001b[49m\n\u001b[32m      6\u001b[39m \u001b[43m    \u001b[49m\u001b[38;5;28;43mprint\u001b[39;49m\u001b[43m(\u001b[49m\u001b[33;43m\"\u001b[39;49m\u001b[33;43m2\u001b[39;49m\u001b[33;43m\"\u001b[39;49m\u001b[43m)\u001b[49m\n\u001b[32m      7\u001b[39m \u001b[43m    \u001b[49m\u001b[43msides\u001b[49m\u001b[43m \u001b[49m\u001b[43m=\u001b[49m\u001b[43m \u001b[49m\u001b[32;43m2\u001b[39;49m\n",
      "\u001b[36mCell\u001b[39m\u001b[36m \u001b[39m\u001b[32mIn[9]\u001b[39m\u001b[32m, line 8\u001b[39m, in \u001b[36mValidatePolygon.__new__\u001b[39m\u001b[34m(meta, name, bases, class_dict)\u001b[39m\n\u001b[32m      6\u001b[39m \u001b[38;5;28;01mif\u001b[39;00m bases:\n\u001b[32m      7\u001b[39m     \u001b[38;5;28;01mif\u001b[39;00m class_dict[\u001b[33m\"\u001b[39m\u001b[33msides\u001b[39m\u001b[33m\"\u001b[39m] < \u001b[32m3\u001b[39m:\n\u001b[32m----> \u001b[39m\u001b[32m8\u001b[39m         \u001b[38;5;28;01mraise\u001b[39;00m \u001b[38;5;167;01mValueError\u001b[39;00m(\u001b[33m\"\u001b[39m\u001b[33mPolygons need 3+ sides\u001b[39m\u001b[33m\"\u001b[39m)\n\u001b[32m      9\u001b[39m \u001b[38;5;28;01mreturn\u001b[39;00m \u001b[38;5;28mtype\u001b[39m.\u001b[34m__new__\u001b[39m(meta, name, bases, class_dict)\n",
      "\u001b[31mValueError\u001b[39m: Polygons need 3+ sides"
     ]
    }
   ],
   "source": [
    "# Let's be wrong and bad\n",
    "\n",
    "print(\"1\")\n",
    "\n",
    "class Line(Polygon):\n",
    "    print(\"2\")\n",
    "    sides = 2\n",
    "    print(\"3\")\n",
    "\n",
    "print(\"4\")"
   ]
  },
  {
   "cell_type": "markdown",
   "id": "9e9a12a7-9cb9-4766-a4a5-d82a1969a74c",
   "metadata": {},
   "source": [
    "### Pretty cool stuff, but seems like a lot of work yeah?\n",
    "\n",
    "[Pydantic agrees](https://github.com/pydantic/pydantic/blob/2c38bf402c2a7ebadfcf2d1ccf8718513f9dc969/pydantic/root_model.py#L55)\n",
    "\n",
    "We now have `__init_subclass__` special class method, which can get us the same behavior, and _avoid metaclasses entirely_."
   ]
  },
  {
   "cell_type": "code",
   "execution_count": 12,
   "id": "b4536e9b-f34e-4e32-9078-672e97bd3c9a",
   "metadata": {},
   "outputs": [],
   "source": [
    "class BetterPolygon:\n",
    "    sides = None  # Subclasses must specify this\n",
    "\n",
    "    def __init_subclass__(cls):\n",
    "        super().__init_subclass__()\n",
    "        if cls.sides < 3:\n",
    "            raise ValueError(\"Polygons need 3+ sides.\")\n",
    "\n",
    "    @classmethod\n",
    "    def interior_angles(cls):\n",
    "        return (cls.sides - 2) * 180\n",
    "\n",
    "class Hexagon(BetterPolygon):\n",
    "    sides = 6\n",
    "\n",
    "assert Hexagon.interior_angles() == 720"
   ]
  },
  {
   "cell_type": "markdown",
   "id": "11e55d53-7df8-4e5c-805d-d942ee01a791",
   "metadata": {},
   "source": [
    "### The pros\n",
    "- This is a lot easier to read than `ValidatePolygon`. I'd argue the uninitaited pythonista would probably gleam whats happening here without too much thinking, whereas the metaclass could tkae a moment to understand.\n",
    "- We don't have to mess around with `class_dict` since we're already right here in the `cls`"
   ]
  },
  {
   "cell_type": "code",
   "execution_count": 13,
   "id": "54015c06-2eda-4202-aace-b20eff13038d",
   "metadata": {},
   "outputs": [
    {
     "name": "stdout",
     "output_type": "stream",
     "text": [
      "1\n"
     ]
    },
    {
     "ename": "ValueError",
     "evalue": "Polygons need 3+ sides.",
     "output_type": "error",
     "traceback": [
      "\u001b[31m---------------------------------------------------------------------------\u001b[39m",
      "\u001b[31mValueError\u001b[39m                                Traceback (most recent call last)",
      "\u001b[36mCell\u001b[39m\u001b[36m \u001b[39m\u001b[32mIn[13]\u001b[39m\u001b[32m, line 2\u001b[39m\n\u001b[32m      1\u001b[39m \u001b[38;5;28mprint\u001b[39m(\u001b[33m\"\u001b[39m\u001b[33m1\u001b[39m\u001b[33m\"\u001b[39m)\n\u001b[32m----> \u001b[39m\u001b[32m2\u001b[39m \u001b[38;5;28;43;01mclass\u001b[39;49;00m\u001b[38;5;250;43m \u001b[39;49m\u001b[34;43;01mPoint\u001b[39;49;00m\u001b[43m(\u001b[49m\u001b[43mBetterPolygon\u001b[49m\u001b[43m)\u001b[49m\u001b[43m:\u001b[49m\n\u001b[32m      3\u001b[39m \u001b[43m    \u001b[49m\u001b[43msides\u001b[49m\u001b[43m \u001b[49m\u001b[43m=\u001b[49m\u001b[43m \u001b[49m\u001b[32;43m1\u001b[39;49m\n\u001b[32m      4\u001b[39m \u001b[38;5;28mprint\u001b[39m(\u001b[33m\"\u001b[39m\u001b[33m2\u001b[39m\u001b[33m\"\u001b[39m)\n",
      "\u001b[36mCell\u001b[39m\u001b[36m \u001b[39m\u001b[32mIn[12]\u001b[39m\u001b[32m, line 7\u001b[39m, in \u001b[36mBetterPolygon.__init_subclass__\u001b[39m\u001b[34m(cls)\u001b[39m\n\u001b[32m      5\u001b[39m \u001b[38;5;28msuper\u001b[39m().__init_subclass__()\n\u001b[32m      6\u001b[39m \u001b[38;5;28;01mif\u001b[39;00m \u001b[38;5;28mcls\u001b[39m.sides < \u001b[32m3\u001b[39m:\n\u001b[32m----> \u001b[39m\u001b[32m7\u001b[39m     \u001b[38;5;28;01mraise\u001b[39;00m \u001b[38;5;167;01mValueError\u001b[39;00m(\u001b[33m\"\u001b[39m\u001b[33mPolygons need 3+ sides.\u001b[39m\u001b[33m\"\u001b[39m)\n",
      "\u001b[31mValueError\u001b[39m: Polygons need 3+ sides."
     ]
    }
   ],
   "source": [
    "print(\"1\")\n",
    "class Point(BetterPolygon):\n",
    "    sides = 1\n",
    "print(\"2\")"
   ]
  },
  {
   "cell_type": "markdown",
   "id": "d5be377c-c0a4-4c16-bb8d-38f64211cbae",
   "metadata": {},
   "source": [
    "### The pros, pt2\n",
    "Any given class can only have **one** metaclass. I mention this because programmers new to metaclasses will instinctually thing they are superior to `__init_subclass__` via composability; create a variety of shareable validations via metaclass and compose them together!\n",
    "  - Alas, this is but a dream."
   ]
  },
  {
   "cell_type": "code",
   "execution_count": 14,
   "id": "be8bcfb6-327f-4e7b-bd06-09571f3ce43f",
   "metadata": {},
   "outputs": [
    {
     "ename": "TypeError",
     "evalue": "metaclass conflict: the metaclass of a derived class must be a (non-strict) subclass of the metaclasses of all its bases",
     "output_type": "error",
     "traceback": [
      "\u001b[31m---------------------------------------------------------------------------\u001b[39m",
      "\u001b[31mTypeError\u001b[39m                                 Traceback (most recent call last)",
      "\u001b[36mCell\u001b[39m\u001b[36m \u001b[39m\u001b[32mIn[14]\u001b[39m\u001b[32m, line 15\u001b[39m\n\u001b[32m     12\u001b[39m \u001b[38;5;28;01mclass\u001b[39;00m\u001b[38;5;250m \u001b[39m\u001b[34;01mFilled\u001b[39;00m(metaclass=ValidateFilled):\n\u001b[32m     13\u001b[39m     color = \u001b[38;5;28;01mNone\u001b[39;00m  \u001b[38;5;66;03m# Must be specified by subclasses\u001b[39;00m\n\u001b[32m---> \u001b[39m\u001b[32m15\u001b[39m \u001b[38;5;28;43;01mclass\u001b[39;49;00m\u001b[38;5;250;43m \u001b[39;49m\u001b[34;43;01mRedPentagon\u001b[39;49;00m\u001b[43m(\u001b[49m\u001b[43mFilled\u001b[49m\u001b[43m,\u001b[49m\u001b[43m \u001b[49m\u001b[43mPolygon\u001b[49m\u001b[43m)\u001b[49m\u001b[43m:\u001b[49m\n\u001b[32m     16\u001b[39m \u001b[43m    \u001b[49m\u001b[43mcolor\u001b[49m\u001b[43m \u001b[49m\u001b[43m=\u001b[49m\u001b[43m \u001b[49m\u001b[33;43m\"\u001b[39;49m\u001b[33;43mblue\u001b[39;49m\u001b[33;43m\"\u001b[39;49m\n\u001b[32m     17\u001b[39m \u001b[43m    \u001b[49m\u001b[43msides\u001b[49m\u001b[43m \u001b[49m\u001b[43m=\u001b[49m\u001b[43m \u001b[49m\u001b[32;43m5\u001b[39;49m\n",
      "\u001b[31mTypeError\u001b[39m: metaclass conflict: the metaclass of a derived class must be a (non-strict) subclass of the metaclasses of all its bases"
     ]
    }
   ],
   "source": [
    "# Lets show what I mean, here's a second class with its own meta.\n",
    "# We'll make a Red Pentagon!\n",
    "\n",
    "class ValidateFilled(type):\n",
    "    def __new__(meta, name, bases, class_dict):\n",
    "        # Only validate subclasses of the Filled class\n",
    "        if bases:\n",
    "            if class_dict[\"color\"] not in (\"red\", \"green\"):\n",
    "                raise ValueError(\"Fill color must be supported\")\n",
    "        return type.__new__(meta, name, bases, class_dict)\n",
    "\n",
    "class Filled(metaclass=ValidateFilled):\n",
    "    color = None  # Must be specified by subclasses\n",
    "\n",
    "class RedPentagon(Filled, Polygon):\n",
    "    color = \"blue\"\n",
    "    sides = 5"
   ]
  },
  {
   "cell_type": "markdown",
   "id": "c9934f53-c99f-4e9a-aeca-a65e5cf97eac",
   "metadata": {},
   "source": [
    "😔 Alas..\n",
    "\n",
    "Now.. it _is_ possible to do something like this via a complex class hierarchy, since Metaclasses can inherit from eachother. But that _ain't_ composable.\n",
    "\n",
    "Imagine trying to use a mixin with this; pain and suffering!"
   ]
  },
  {
   "cell_type": "code",
   "execution_count": 16,
   "id": "860f9061-8372-45ad-8b9a-ae90084b6e2c",
   "metadata": {},
   "outputs": [],
   "source": [
    "# Let's redo it with __init_subclass__\n",
    "\n",
    "class BetterFilled:\n",
    "    color = None  # Must be specified by subclasses\n",
    "\n",
    "    def __init_subclass__(cls):\n",
    "        super().__init_subclass__()\n",
    "        if cls.color not in (\"red\", \"green\", \"blue\"):\n",
    "            raise ValueError(\"Fills need a valid color\")\n",
    "\n",
    "class RedTriangle(BetterFilled, BetterPolygon):\n",
    "    color = \"red\"\n",
    "    sides = 3\n",
    "\n",
    "red_boi = RedTriangle()\n",
    "assert isinstance(red_boi, BetterFilled)\n",
    "assert isinstance(red_boi, BetterPolygon)"
   ]
  },
  {
   "cell_type": "code",
   "execution_count": 18,
   "id": "63322d2d-0a78-4b2f-9dbe-f291e55564dc",
   "metadata": {},
   "outputs": [
    {
     "name": "stdout",
     "output_type": "stream",
     "text": [
      "1\n"
     ]
    },
    {
     "ename": "ValueError",
     "evalue": "Polygons need 3+ sides.",
     "output_type": "error",
     "traceback": [
      "\u001b[31m---------------------------------------------------------------------------\u001b[39m",
      "\u001b[31mValueError\u001b[39m                                Traceback (most recent call last)",
      "\u001b[36mCell\u001b[39m\u001b[36m \u001b[39m\u001b[32mIn[18]\u001b[39m\u001b[32m, line 2\u001b[39m\n\u001b[32m      1\u001b[39m \u001b[38;5;28mprint\u001b[39m(\u001b[33m\"\u001b[39m\u001b[33m1\u001b[39m\u001b[33m\"\u001b[39m)\n\u001b[32m----> \u001b[39m\u001b[32m2\u001b[39m \u001b[38;5;28;43;01mclass\u001b[39;49;00m\u001b[38;5;250;43m \u001b[39;49m\u001b[34;43;01mBlueLine\u001b[39;49;00m\u001b[43m(\u001b[49m\u001b[43mBetterFilled\u001b[49m\u001b[43m,\u001b[49m\u001b[43m \u001b[49m\u001b[43mBetterPolygon\u001b[49m\u001b[43m)\u001b[49m\u001b[43m:\u001b[49m\n\u001b[32m      3\u001b[39m \u001b[43m    \u001b[49m\u001b[43mcolor\u001b[49m\u001b[43m \u001b[49m\u001b[43m=\u001b[49m\u001b[43m \u001b[49m\u001b[33;43m\"\u001b[39;49m\u001b[33;43mblue\u001b[39;49m\u001b[33;43m\"\u001b[39;49m\n\u001b[32m      4\u001b[39m \u001b[43m    \u001b[49m\u001b[43msides\u001b[49m\u001b[43m \u001b[49m\u001b[43m=\u001b[49m\u001b[43m \u001b[49m\u001b[32;43m2\u001b[39;49m\n",
      "\u001b[36mCell\u001b[39m\u001b[36m \u001b[39m\u001b[32mIn[16]\u001b[39m\u001b[32m, line 7\u001b[39m, in \u001b[36mBetterFilled.__init_subclass__\u001b[39m\u001b[34m(cls)\u001b[39m\n\u001b[32m      6\u001b[39m \u001b[38;5;28;01mdef\u001b[39;00m\u001b[38;5;250m \u001b[39m\u001b[34m__init_subclass__\u001b[39m(\u001b[38;5;28mcls\u001b[39m):\n\u001b[32m----> \u001b[39m\u001b[32m7\u001b[39m     \u001b[38;5;28;43msuper\u001b[39;49m\u001b[43m(\u001b[49m\u001b[43m)\u001b[49m\u001b[43m.\u001b[49m\u001b[43m__init_subclass__\u001b[49m\u001b[43m(\u001b[49m\u001b[43m)\u001b[49m\n\u001b[32m      8\u001b[39m     \u001b[38;5;28;01mif\u001b[39;00m \u001b[38;5;28mcls\u001b[39m.color \u001b[38;5;129;01mnot\u001b[39;00m \u001b[38;5;129;01min\u001b[39;00m (\u001b[33m\"\u001b[39m\u001b[33mred\u001b[39m\u001b[33m\"\u001b[39m, \u001b[33m\"\u001b[39m\u001b[33mgreen\u001b[39m\u001b[33m\"\u001b[39m, \u001b[33m\"\u001b[39m\u001b[33mblue\u001b[39m\u001b[33m\"\u001b[39m):\n\u001b[32m      9\u001b[39m         \u001b[38;5;28;01mraise\u001b[39;00m \u001b[38;5;167;01mValueError\u001b[39;00m(\u001b[33m\"\u001b[39m\u001b[33mFills need a valid color\u001b[39m\u001b[33m\"\u001b[39m)\n",
      "\u001b[36mCell\u001b[39m\u001b[36m \u001b[39m\u001b[32mIn[12]\u001b[39m\u001b[32m, line 7\u001b[39m, in \u001b[36mBetterPolygon.__init_subclass__\u001b[39m\u001b[34m(cls)\u001b[39m\n\u001b[32m      5\u001b[39m \u001b[38;5;28msuper\u001b[39m().__init_subclass__()\n\u001b[32m      6\u001b[39m \u001b[38;5;28;01mif\u001b[39;00m \u001b[38;5;28mcls\u001b[39m.sides < \u001b[32m3\u001b[39m:\n\u001b[32m----> \u001b[39m\u001b[32m7\u001b[39m     \u001b[38;5;28;01mraise\u001b[39;00m \u001b[38;5;167;01mValueError\u001b[39;00m(\u001b[33m\"\u001b[39m\u001b[33mPolygons need 3+ sides.\u001b[39m\u001b[33m\"\u001b[39m)\n",
      "\u001b[31mValueError\u001b[39m: Polygons need 3+ sides."
     ]
    }
   ],
   "source": [
    "class BlueLine(BetterFilled, BetterPolygon):\n",
    "    color = \"blue\"\n",
    "    sides = 2"
   ]
  },
  {
   "cell_type": "code",
   "execution_count": 19,
   "id": "33e515ed-c67d-40ab-9c8a-9e0ca4fc3e14",
   "metadata": {},
   "outputs": [
    {
     "ename": "ValueError",
     "evalue": "Fills need a valid color",
     "output_type": "error",
     "traceback": [
      "\u001b[31m---------------------------------------------------------------------------\u001b[39m",
      "\u001b[31mValueError\u001b[39m                                Traceback (most recent call last)",
      "\u001b[36mCell\u001b[39m\u001b[36m \u001b[39m\u001b[32mIn[19]\u001b[39m\u001b[32m, line 1\u001b[39m\n\u001b[32m----> \u001b[39m\u001b[32m1\u001b[39m \u001b[38;5;28;43;01mclass\u001b[39;49;00m\u001b[38;5;250;43m \u001b[39;49m\u001b[34;43;01mChartreuseSquare\u001b[39;49;00m\u001b[43m(\u001b[49m\u001b[43mBetterFilled\u001b[49m\u001b[43m,\u001b[49m\u001b[43m \u001b[49m\u001b[43mBetterPolygon\u001b[49m\u001b[43m)\u001b[49m\u001b[43m:\u001b[49m\n\u001b[32m      2\u001b[39m \u001b[43m    \u001b[49m\u001b[43mcolor\u001b[49m\u001b[43m \u001b[49m\u001b[43m=\u001b[49m\u001b[43m \u001b[49m\u001b[33;43m\"\u001b[39;49m\u001b[33;43mchartreuse\u001b[39;49m\u001b[33;43m\"\u001b[39;49m\n\u001b[32m      3\u001b[39m \u001b[43m    \u001b[49m\u001b[43msides\u001b[49m\u001b[43m \u001b[49m\u001b[43m=\u001b[49m\u001b[43m \u001b[49m\u001b[32;43m4\u001b[39;49m\n",
      "\u001b[36mCell\u001b[39m\u001b[36m \u001b[39m\u001b[32mIn[16]\u001b[39m\u001b[32m, line 9\u001b[39m, in \u001b[36mBetterFilled.__init_subclass__\u001b[39m\u001b[34m(cls)\u001b[39m\n\u001b[32m      7\u001b[39m \u001b[38;5;28msuper\u001b[39m().__init_subclass__()\n\u001b[32m      8\u001b[39m \u001b[38;5;28;01mif\u001b[39;00m \u001b[38;5;28mcls\u001b[39m.color \u001b[38;5;129;01mnot\u001b[39;00m \u001b[38;5;129;01min\u001b[39;00m (\u001b[33m\"\u001b[39m\u001b[33mred\u001b[39m\u001b[33m\"\u001b[39m, \u001b[33m\"\u001b[39m\u001b[33mgreen\u001b[39m\u001b[33m\"\u001b[39m, \u001b[33m\"\u001b[39m\u001b[33mblue\u001b[39m\u001b[33m\"\u001b[39m):\n\u001b[32m----> \u001b[39m\u001b[32m9\u001b[39m     \u001b[38;5;28;01mraise\u001b[39;00m \u001b[38;5;167;01mValueError\u001b[39;00m(\u001b[33m\"\u001b[39m\u001b[33mFills need a valid color\u001b[39m\u001b[33m\"\u001b[39m)\n",
      "\u001b[31mValueError\u001b[39m: Fills need a valid color"
     ]
    }
   ],
   "source": [
    "class ChartreuseSquare(BetterFilled, BetterPolygon):\n",
    "    color = \"chartreuse\"\n",
    "    sides = 4"
   ]
  },
  {
   "cell_type": "markdown",
   "id": "cd48c892-5e0d-4412-aef5-27f65057cf41",
   "metadata": {},
   "source": [
    "## Things to Remember\n",
    "\n",
    "- The `__new__` method of metaclasses is run after the class statement’s entire body has been processed.\n",
    "- Metaclasses can be used to inspect or modify a class after it’s defined but before it’s created, but they’re often more heavyweight than you need.\n",
    "- Use `__init_subclass__` to ensure that subclasses are well formed at the time they are defined, before objects of their type are constructed.\n",
    "- Be sure to call `super().__init_subclass__` from within your class’s `__init_subclass__` definition to enable composable validation in multiple layers of classes and multiple inheritance."
   ]
  },
  {
   "cell_type": "markdown",
   "id": "e879ee18-7349-41e9-a6f2-9a48c6e67f69",
   "metadata": {},
   "source": [
    "# Item 63: Register Class Existence with `__init_subclass__`\n",
    "The `__init_subclass__` good times aint over! This method is pretty useful for registering the existence of types. This is handy in scenarios where you need to do a reverse lookup.\n",
    "\n",
    "Bear with me..."
   ]
  },
  {
   "cell_type": "code",
   "execution_count": 21,
   "id": "e1840ef9-9f20-43b6-b77c-45546f43d88e",
   "metadata": {},
   "outputs": [
    {
     "name": "stdout",
     "output_type": "stream",
     "text": [
      "Object:     Point2D(5, 3)\n",
      "Serialized: {\"args\": [5, 3]}\n"
     ]
    }
   ],
   "source": [
    "# Our own little \"serializable\"\n",
    "# (though its less cool than that JSON mixin we made, that thing was sweet).\n",
    "\n",
    "import json\n",
    "\n",
    "class Serializable:\n",
    "    def __init__(self, *args):\n",
    "        # note here, the class records the input arguments\n",
    "        self.args = args\n",
    "\n",
    "    def serialize(self):\n",
    "        return json.dumps({\"args\": self.args})\n",
    "\n",
    "# Lets see _why_ we recorded those args\n",
    "class Point2D(Serializable):\n",
    "    def __init__(self, x, y):\n",
    "        super().__init__(x, y)\n",
    "        self.x = x\n",
    "        self.y = y\n",
    "\n",
    "    def __repr__(self):\n",
    "        return f\"Point2D({self.x}, {self.y})\"\n",
    "\n",
    "point = Point2D(5, 3)\n",
    "print(\"Object:    \", point)\n",
    "print(\"Serialized:\", point.serialize())"
   ]
  },
  {
   "cell_type": "markdown",
   "id": "5d635977-8794-4ed7-b891-5a2fbc5ea63e",
   "metadata": {},
   "source": [
    "Our `Serializable` captures the \"args\" so it can effectively serialize it!"
   ]
  },
  {
   "cell_type": "code",
   "execution_count": 22,
   "id": "efd81db3-4ffe-4337-b5a2-13168fb5fea2",
   "metadata": {},
   "outputs": [],
   "source": [
    "# We gotta deserialize sometimes too I guess\n",
    "\n",
    "class Deserializable(Serializable): # Note the parent\n",
    "    @classmethod\n",
    "    def deserialize(cls, json_data):\n",
    "        params = json.loads(json_data)\n",
    "        return cls(*params[\"args\"])"
   ]
  },
  {
   "cell_type": "code",
   "execution_count": 23,
   "id": "016b3176-4f4e-4835-9009-b8515dcd1d0b",
   "metadata": {},
   "outputs": [
    {
     "name": "stdout",
     "output_type": "stream",
     "text": [
      "Before:     Point2D(5, 3)\n",
      "Serialized: {\"args\": [5, 3]}\n",
      "After:      Point2D(5, 3)\n"
     ]
    }
   ],
   "source": [
    "class BetterPoint2D(Deserializable):\n",
    "    def __init__(self, x, y):\n",
    "        super().__init__(x, y)\n",
    "        self.x = x\n",
    "        self.y = y\n",
    "\n",
    "    def __repr__(self):\n",
    "        return f\"Point2D({self.x}, {self.y})\"\n",
    "\n",
    "before = BetterPoint2D(5, 3)\n",
    "print(\"Before:    \", before)\n",
    "data = before.serialize()\n",
    "print(\"Serialized:\", data)\n",
    "after = BetterPoint2D.deserialize(data)\n",
    "print(\"After:     \", after)\n"
   ]
  },
  {
   "cell_type": "markdown",
   "id": "eed17577-cca2-4248-b1c5-775b3e5ba1d9",
   "metadata": {},
   "source": [
    "The problem here, is you gotta inherit from `Des` anytime you want this functionality. Not terribly generic.. and idk about you, but typically when dealing with JSON, I'm SerDes'ing a bunch of different classes.\n",
    "\n",
    "Let's attempt to make something _more_ generic, supporting a generic `deserialize` function."
   ]
  },
  {
   "cell_type": "code",
   "execution_count": 31,
   "id": "f2cf5c11-5d0a-4b67-bc14-0b967e3ca3d6",
   "metadata": {},
   "outputs": [],
   "source": [
    "class BetterSerializable:\n",
    "    def __init__(self, *args):\n",
    "        self.args = args\n",
    "\n",
    "    def serialize(self):\n",
    "        return json.dumps(\n",
    "            {\n",
    "                # include the serialized object’s class name in the JSON data\n",
    "                \"class\": self.__class__.__name__,\n",
    "                \"args\": self.args,\n",
    "            }\n",
    "        )\n",
    "\n",
    "    def __repr__(self):\n",
    "        name = self.__class__.__name__\n",
    "        args_str = \", \".join(str(x) for x in self.args)\n",
    "        return f\"{name}({args_str})\""
   ]
  },
  {
   "cell_type": "code",
   "execution_count": 32,
   "id": "4517f290-8a82-4112-bd3f-4bc2fa3b0b1d",
   "metadata": {},
   "outputs": [],
   "source": [
    "REGISTRY = {}  # in practice, possibly a global\n",
    "\n",
    "def register_class(target_class):\n",
    "    REGISTRY[target_class.__name__] = target_class\n",
    "\n",
    "def deserialize(data):\n",
    "    params = json.loads(data)\n",
    "    name = params[\"class\"]\n",
    "    target_class = REGISTRY[name]\n",
    "    return target_class(*params[\"args\"])"
   ]
  },
  {
   "cell_type": "code",
   "execution_count": 33,
   "id": "934baf0c-8f8a-4448-89fa-52724d1a7c4e",
   "metadata": {},
   "outputs": [],
   "source": [
    "class EvenBetterPoint2D(BetterSerializable):\n",
    "    def __init__(self, x, y):\n",
    "        super().__init__(x, y)\n",
    "        self.x = x\n",
    "        self.y = y\n",
    "\n",
    "# I have to do this every time if I want `deserialize` to support it\n",
    "register_class(EvenBetterPoint2D)\n",
    "# Surely you see where this is going..."
   ]
  },
  {
   "cell_type": "code",
   "execution_count": 34,
   "id": "b06087bc-7d8c-4e91-81b3-f47b4dae3145",
   "metadata": {},
   "outputs": [
    {
     "name": "stdout",
     "output_type": "stream",
     "text": [
      "Before:     EvenBetterPoint2D(5, 3)\n",
      "Serialized: {\"class\": \"EvenBetterPoint2D\", \"args\": [5, 3]}\n",
      "After:      EvenBetterPoint2D(5, 3)\n"
     ]
    }
   ],
   "source": [
    "before = EvenBetterPoint2D(5, 3)\n",
    "print(\"Before:    \", before)\n",
    "data = before.serialize()\n",
    "print(\"Serialized:\", data)\n",
    "after = deserialize(data)\n",
    "print(\"After:     \", after)"
   ]
  },
  {
   "cell_type": "markdown",
   "id": "cdcc93eb-f817-4c01-aecb-650b7eae7ec6",
   "metadata": {},
   "source": [
    "It works.\n",
    "\n",
    "But it sucks too: we, and our callers, are probably going to forget to call `register_class(...)`\n",
    "\n",
    "- (I mean... we could probably solve this with a metaclass... put `register_class` in `__new__` 👀)\n",
    "- (( But we already saw that `__init_subclass__` is better more useful for this kind of thing ))\n",
    "- ((( Look at all these parens, what is this, a lisp dialect?! )))\n",
    "- (((( Okay, lets look at a better way ))))"
   ]
  },
  {
   "cell_type": "code",
   "execution_count": 35,
   "id": "dd7cf881-2084-42e1-842e-4d3312158f92",
   "metadata": {},
   "outputs": [
    {
     "name": "stdout",
     "output_type": "stream",
     "text": [
      "Before:     Vector1D(6)\n",
      "Serialized: {\"class\": \"Vector1D\", \"args\": [6]}\n",
      "After:      Vector1D(6)\n"
     ]
    }
   ],
   "source": [
    "class BetterRegisteredSerializable(BetterSerializable):\n",
    "    def __init_subclass__(cls):\n",
    "        super().__init_subclass__()\n",
    "        register_class(cls)\n",
    "\n",
    "class Vector1D(BetterRegisteredSerializable):\n",
    "    def __init__(self, magnitude):\n",
    "        super().__init__(magnitude)\n",
    "        self.magnitude = magnitude\n",
    "\n",
    "before = Vector1D(6)\n",
    "print(\"Before:    \", before)\n",
    "data = before.serialize()\n",
    "print(\"Serialized:\", data)\n",
    "print(\"After:     \", deserialize(data))"
   ]
  },
  {
   "cell_type": "markdown",
   "id": "2a80a90d-484d-48cd-a036-753b3fe50f85",
   "metadata": {},
   "source": [
    "I got lazy and didn't want to look, but its likely you'll find this pattern in popular ORM libraries like `Beanie` and `SQLAlchemy`."
   ]
  },
  {
   "cell_type": "markdown",
   "id": "2265f88a-bae4-4b18-9216-1ecf9b833ad6",
   "metadata": {},
   "source": [
    "## Things to Remember\n",
    "\n",
    "- Class registration is a helpful pattern for building modular Python programs.\n",
    "- Metaclasses let you run registration code automatically each time your base class is subclassed in a program.\n",
    "- Using metaclasses for class registration helps you avoid errors by ensuring that you never miss a registration call.\n",
    "- Prefer `__init_subclass__` over standard metaclass machinery because it’s clearer and easier for beginners to understand."
   ]
  },
  {
   "cell_type": "markdown",
   "id": "e97a7797-70f9-4117-b65c-c40b19544f6c",
   "metadata": {},
   "source": [
    "# Item 64: Annotate Class Atributes with `__set_name__`\n",
    "Not gonna lie, I found this section largely redundant to Item 60.\n",
    "\n",
    "This chapter shows how to accomplish a descriptor via a metaclass, and _then_ shows you to not do that and instead do it with `__set_name__`, the way Item 60 shows.\n",
    "\n",
    "I'm just gonna skip this one!"
   ]
  },
  {
   "cell_type": "markdown",
   "id": "8aaac021-bbac-453c-9b87-131f07b20147",
   "metadata": {},
   "source": [
    "# Item 65: Consider Class Body Definition Order to Establish Relationships Between Attributes"
   ]
  },
  {
   "cell_type": "code",
   "execution_count": 37,
   "id": "0f9831fc-0af5-4607-a363-8a43340f2d37",
   "metadata": {},
   "outputs": [
    {
     "name": "stdout",
     "output_type": "stream",
     "text": [
      "['Sydney', ' truck', ' 25']\n",
      "['Melbourne', ' boat', ' 6']\n",
      "['Brisbane', ' plane', ' 12']\n",
      "['Perth', ' road train', ' 90']\n",
      "['Adelaide', ' truck', ' 17']\n"
     ]
    }
   ],
   "source": [
    "# Lots of times python represents external data.\n",
    "# Lets look at some external data!\n",
    "\n",
    "import csv\n",
    "\n",
    "with open(\"packages.csv\") as f:\n",
    "    for row in csv.reader(f):\n",
    "        print(row)\n",
    "\n",
    "# Side note: isn't python's csv package great? It just works"
   ]
  },
  {
   "cell_type": "code",
   "execution_count": 38,
   "id": "9773f905-2ef5-482e-a411-da9e79f4392d",
   "metadata": {},
   "outputs": [
    {
     "name": "stdout",
     "output_type": "stream",
     "text": [
      "{'destination': 'Sydney', 'method': 'truck', 'weight': '25'}\n"
     ]
    }
   ],
   "source": [
    "# That data is useless to us right now, lets do something with it!\n",
    "\n",
    "class Delivery:\n",
    "    def __init__(self, destination, method, weight):\n",
    "        self.destination = destination\n",
    "        self.method = method\n",
    "        self.weight = weight\n",
    "\n",
    "    @classmethod\n",
    "    def from_row(cls, row):\n",
    "        \"\"\"Sweet sweet static constructor\"\"\"\n",
    "        return cls(row[0], row[1], row[2])\n",
    "\n",
    "row1 = [\"Sydney\", \"truck\", \"25\"]\n",
    "obj1 = Delivery.from_row(row1)\n",
    "print(obj1.__dict__)"
   ]
  },
  {
   "cell_type": "markdown",
   "id": "ac24046d-c26a-4445-b7d7-f08dbd8b21d0",
   "metadata": {},
   "source": [
    "Good stuff. But what if we have a _lot_ of different kinds of CSVs? Do we gotta write `from_row` and the `init` for every one?!\n",
    "\n",
    "😡 don't yall know I'm lazy"
   ]
  },
  {
   "cell_type": "code",
   "execution_count": 39,
   "id": "9777dbeb-3232-45a2-9bcc-8b46280d86b8",
   "metadata": {},
   "outputs": [],
   "source": [
    "# We can save a bit of effort via `fields` :D\n",
    "\n",
    "class RowMapper:\n",
    "    \"\"\"A parent class for CSV eaters!\"\"\"\n",
    "    fields = ()  # Must be in CSV column order\n",
    "\n",
    "    def __init__(self, **kwargs):\n",
    "        for key, value in kwargs.items():\n",
    "            if key not in type(self).fields:\n",
    "                raise TypeError(f\"Invalid field: {key}\")\n",
    "            setattr(self, key, value)\n",
    "\n",
    "    @classmethod\n",
    "    def from_row(cls, row):\n",
    "        if len(row) != len(cls.fields):\n",
    "            raise ValueError(\"Wrong number of fields\")\n",
    "        kwargs = dict(pair for pair in zip(cls.fields, row))\n",
    "        return cls(**kwargs)"
   ]
  },
  {
   "cell_type": "code",
   "execution_count": 40,
   "id": "0fe3a22c-2591-4e01-9119-67b3fb58b7a0",
   "metadata": {},
   "outputs": [],
   "source": [
    "# Behold, Delivery, but now a mapper\n",
    "class DeliveryMapper(RowMapper):\n",
    "    fields = (\"destination\", \"method\", \"weight\")\n",
    "\n",
    "obj2 = DeliveryMapper.from_row(row1)\n",
    "assert obj2.destination == \"Sydney\"\n",
    "assert obj2.method == \"truck\"\n",
    "assert obj2.weight == \"25\""
   ]
  },
  {
   "cell_type": "code",
   "execution_count": 41,
   "id": "7b8a0099-4a94-4032-98e8-04f2c444d505",
   "metadata": {},
   "outputs": [],
   "source": [
    "# We can make more!!!\n",
    "class MovingMapper(RowMapper):\n",
    "    fields = (\"source\", \"destination\", \"square_feet\")"
   ]
  },
  {
   "cell_type": "markdown",
   "id": "fcfef43c-82e4-49a3-a4ac-ea4ac8f22759",
   "metadata": {},
   "source": [
    "It's got a weakness though. Attributes defined via string? MEH\n",
    "\n",
    "Also, using `fields` feels kinda redundant. It's a list of attributes inside a list of attributes. I don't like it.\n",
    "\n",
    "I'd rather actually have the field names, in a python-y way. LETS DO THIS:"
   ]
  },
  {
   "cell_type": "code",
   "execution_count": 43,
   "id": "b00c4a55-0c3a-4352-b292-99e3c1f725d1",
   "metadata": {},
   "outputs": [],
   "source": [
    "class BetterRowMapper(RowMapper):\n",
    "    def __init_subclass__(cls): # this bad boi again\n",
    "        fields = []\n",
    "        for key, value in cls.__dict__.items():  # dict insertion order is consistent in new python\n",
    "            if value is Ellipsis: # 👀\n",
    "                fields.append(key)\n",
    "        cls.fields = tuple(fields)"
   ]
  },
  {
   "cell_type": "code",
   "execution_count": 44,
   "id": "e1eb61c2-cb63-42c3-889f-7f4dbb7b0372",
   "metadata": {},
   "outputs": [],
   "source": [
    "class BetterDeliveryMapper(BetterRowMapper):\n",
    "    destination = ...\n",
    "    method = ...\n",
    "    weight = ...\n",
    "\n",
    "obj3 = BetterDeliveryMapper.from_row(row1)\n",
    "assert obj3.destination == \"Sydney\"\n",
    "assert obj3.method == \"truck\"\n",
    "assert obj3.weight == \"25\""
   ]
  },
  {
   "cell_type": "markdown",
   "id": "55ff8057-c4b6-457f-bd07-ce87c4ce2e3c",
   "metadata": {},
   "source": [
    "Much nicer! If we see `...` we know that the subclass is meant to instantiate a field with that name.\n",
    "\n",
    "The dict-ordering stuff (from item 25) also lets us move fields around (in case the CSV's change their ordering):"
   ]
  },
  {
   "cell_type": "code",
   "execution_count": 45,
   "id": "08536092-5314-4a86-a0a0-74aa6f15ee5a",
   "metadata": {},
   "outputs": [
    {
     "name": "stdout",
     "output_type": "stream",
     "text": [
      "{'method': 'road train', 'weight': '90', 'destination': 'Perth'}\n"
     ]
    }
   ],
   "source": [
    "class ReorderedDeliveryMapper(BetterRowMapper):\n",
    "    method = ...\n",
    "    weight = ...\n",
    "    destination = ...  # Moved\n",
    "\n",
    "row4 = [\"road train\", \"90\", \"Perth\"]  # Different order\n",
    "obj4 = ReorderedDeliveryMapper.from_row(row4)\n",
    "print(obj4.__dict__)"
   ]
  },
  {
   "cell_type": "markdown",
   "id": "2aff32fe-712e-4c97-a1d4-487a2eeba13f",
   "metadata": {},
   "source": [
    "This works well, but using `Ellipsis` can be a bit clunky when you want more advanced stuff like validation, data conversion, etc... If only we had a way to have fields with advanced behaviors on a class...\n",
    "\n",
    "🤔"
   ]
  },
  {
   "cell_type": "code",
   "execution_count": 46,
   "id": "8890ff27-9c5a-4eec-b6e6-cb2141ad0ea2",
   "metadata": {},
   "outputs": [],
   "source": [
    "# Descriptors again?!\n",
    "\n",
    "class Field:\n",
    "    def __init__(self):\n",
    "        self.internal_name = None\n",
    "\n",
    "    def __set_name__(self, owner, column_name):\n",
    "        self.internal_name = \"_\" + column_name\n",
    "\n",
    "    def __get__(self, instance, instance_type):\n",
    "        if instance is None:\n",
    "            return self\n",
    "        return getattr(instance, self.internal_name, \"\")\n",
    "\n",
    "    def __set__(self, instance, value):\n",
    "        adjusted_value = self.convert(value)\n",
    "        setattr(instance, self.internal_name, adjusted_value)\n",
    "\n",
    "    def convert(self, value):\n",
    "        raise NotImplementedError\n",
    "\n",
    "# Basically, you could use this instead of Ellipsis\n",
    "\n",
    "class StringField(Field):\n",
    "    def convert(self, value):\n",
    "        if not isinstance(value, str):\n",
    "            raise ValueError\n",
    "        return value\n",
    "\n",
    "class FloatField(Field):\n",
    "    def convert(self, value):\n",
    "        return float(value)\n",
    "\n",
    "class DescriptorRowMapper(RowMapper):\n",
    "    def __init_subclass__(cls):\n",
    "        fields = []\n",
    "        for key, value in cls.__dict__.items():\n",
    "            if isinstance(value, Field):  # Changed\n",
    "                fields.append(key)\n",
    "        cls.fields = tuple(fields)"
   ]
  },
  {
   "cell_type": "code",
   "execution_count": 51,
   "id": "1cef0ca9-9a26-46f1-ac4f-a02b4c0dec7b",
   "metadata": {},
   "outputs": [],
   "source": [
    "class ConvertingDeliveryMapper(DescriptorRowMapper):\n",
    "    destination = StringField()\n",
    "    method = StringField()\n",
    "    weight = FloatField()\n",
    "\n",
    "obj5 = ConvertingDeliveryMapper.from_row(row1)\n",
    "assert obj5.destination == \"Sydney\"\n",
    "assert obj5.method == \"truck\"\n",
    "assert obj5.weight == 25.0  # Number, not string"
   ]
  },
  {
   "cell_type": "markdown",
   "id": "8e6e7146-a3c2-4ea5-ba72-3c5e78b488c1",
   "metadata": {},
   "source": [
    "Side quest, lets write our own Temporal, using this stuff."
   ]
  },
  {
   "cell_type": "code",
   "execution_count": 52,
   "id": "8a912189-3208-4554-8887-a445e2b5db1a",
   "metadata": {},
   "outputs": [],
   "source": [
    "def activity(func):\n",
    "    \"\"\"Super basic decorator, if we were serious we'd use functools.wrap\"\"\"\n",
    "    func._is_activity = True\n",
    "    return func\n",
    "\n",
    "class Workflow:\n",
    "    def __init_subclass__(cls):\n",
    "        activities = []\n",
    "        for key, value in cls.__dict__.items(): # like fields, order is enforced\n",
    "            if callable(value) and hasattr(value, \"_is_activity\"):\n",
    "                activities.append(key)\n",
    "        cls.steps = tuple(activities)\n",
    "\n",
    "    def run(self):\n",
    "        for activity_name in type(self).steps:\n",
    "            func = getattr(self, activity_name)\n",
    "            func()"
   ]
  },
  {
   "cell_type": "code",
   "execution_count": 53,
   "id": "cf0efd2e-30ed-4645-9ee3-2a5d92601b96",
   "metadata": {},
   "outputs": [],
   "source": [
    "class ResizerSupportWorkflow(Workflow):\n",
    "    @activity\n",
    "    def page_jimmy(self):\n",
    "        print(\"paging Jimmy\")\n",
    "\n",
    "    def crappy_helper_function(self):\n",
    "        raise RuntimeError(\"Whoops this function sucks!\")\n",
    "\n",
    "    @activity\n",
    "    def figure_out_if_pebkac(self):\n",
    "        print(\"determining if its the customers fault\")\n",
    "\n",
    "    @activity\n",
    "    def apologize_to_jimmy(self):\n",
    "        print(\"lol sorry Jimmy, it was the customers fault.\")"
   ]
  },
  {
   "cell_type": "raw",
   "id": "85db882e-74be-4536-9807-60d698a460da",
   "metadata": {},
   "source": [
    "workflow = ResizerSupportWorkflow()\n",
    "workflow.run()"
   ]
  },
  {
   "cell_type": "code",
   "execution_count": null,
   "id": "48475664-93f0-46b4-b489-8d56e305489f",
   "metadata": {},
   "outputs": [],
   "source": []
  }
 ],
 "metadata": {
  "kernelspec": {
   "display_name": "Python 3 (ipykernel)",
   "language": "python",
   "name": "python3"
  },
  "language_info": {
   "codemirror_mode": {
    "name": "ipython",
    "version": 3
   },
   "file_extension": ".py",
   "mimetype": "text/x-python",
   "name": "python",
   "nbconvert_exporter": "python",
   "pygments_lexer": "ipython3",
   "version": "3.13.3"
  }
 },
 "nbformat": 4,
 "nbformat_minor": 5
}
