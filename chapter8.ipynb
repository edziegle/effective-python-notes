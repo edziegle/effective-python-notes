{
 "cells": [
  {
   "cell_type": "markdown",
   "id": "657fca4a-f6eb-4ab5-ae8a-8ab101feee7c",
   "metadata": {},
   "source": [
    "# Chapter 8: Metaclasses and Attributes\n",
    "Follow the rule of least surprise"
   ]
  },
  {
   "cell_type": "markdown",
   "id": "38488f97-08ad-4009-9281-6bd3b9a195dc",
   "metadata": {},
   "source": [
    "## Item 58: Use Plain Attributes Instead of Setter and Getter Methods\n",
    "Java practitioners, take note!"
   ]
  },
  {
   "cell_type": "code",
   "execution_count": 1,
   "id": "8ea40a4f-8299-4df9-bd46-6e36171cd514",
   "metadata": {},
   "outputs": [],
   "source": [
    "class Jimmy:\n",
    "    def __init__(self, fios_installed: bool):\n",
    "        self.fios_installed = fios_installed\n",
    "\n",
    "    def get_fios_installed(self):\n",
    "        return self.fios_installed\n",
    "\n",
    "    def set_fios_installed(self, setto: bool):\n",
    "        self.fios_installed = setto\n",
    "\n",
    "    # etc etc etc"
   ]
  },
  {
   "cell_type": "code",
   "execution_count": 2,
   "id": "dcf3e029-0643-419c-b92a-7f4b11e5e060",
   "metadata": {},
   "outputs": [
    {
     "data": {
      "text/plain": [
       "True"
      ]
     },
     "execution_count": 2,
     "metadata": {},
     "output_type": "execute_result"
    }
   ],
   "source": [
    "jimbo = Jimmy(False)\n",
    "jimbo.set_fios_installed(True)\n",
    "jimbo.get_fios_installed()"
   ]
  },
  {
   "cell_type": "code",
   "execution_count": 3,
   "id": "6691c924-80f2-4bb2-bfa0-e46d2724246e",
   "metadata": {},
   "outputs": [
    {
     "data": {
      "text/plain": [
       "True"
      ]
     },
     "execution_count": 3,
     "metadata": {},
     "output_type": "execute_result"
    }
   ],
   "source": [
    "# But for simple cases like this, getter/setters aren't needed:\n",
    "class PythonicJimmy:\n",
    "    def __init__(self, fios_installed: bool):\n",
    "        self.fios_installed = fios_installed\n",
    "\n",
    "pimbo = PythonicJimmy(False)\n",
    "pimbo.fios_installed = True\n",
    "pimbo.fios_installed"
   ]
  },
  {
   "cell_type": "code",
   "execution_count": 4,
   "id": "07d68027-5757-47ae-b664-c4a4c013f367",
   "metadata": {},
   "outputs": [],
   "source": [
    "# If we do need a more complicated interface for interacting with an attribute, use @property\n",
    "class Jimmy:\n",
    "    def __init__(self, spongebob_refs: int):\n",
    "        self.sb_refs = spongebob_refs\n",
    "        self.time_til_patrick = 10\n",
    "\n",
    "    @property\n",
    "    def spongebob_references(self):\n",
    "        return self.sb_refs\n",
    "\n",
    "    @spongebob_references.setter\n",
    "    def spongebob_references(self, references: int):\n",
    "        if (self.time_til_patrick > 0):\n",
    "            self.sb_refs = references\n",
    "            self.time_til_patrick -= 1\n",
    "        else:\n",
    "            raise ValueError(\"Jimmy is now doing a Patrick impression\")"
   ]
  },
  {
   "cell_type": "code",
   "execution_count": 5,
   "id": "bb14caf9-dd7b-4ca0-81b9-dd611600abda",
   "metadata": {},
   "outputs": [],
   "source": [
    "jimbo2 = Jimmy(0)\n",
    "for x in range(0, 9):\n",
    "    jimbo2.spongebob_references = x"
   ]
  },
  {
   "cell_type": "code",
   "execution_count": 6,
   "id": "0a08e588-fee5-4a2b-8822-31786c913f66",
   "metadata": {},
   "outputs": [],
   "source": [
    "# This also lets you do type checking at runtime\n",
    "class Jimmy:\n",
    "    def __init__(self, spongebob_refs: int):\n",
    "        self.sb_refs = spongebob_refs\n",
    "        self.time_til_patrick = 10\n",
    "\n",
    "    @property\n",
    "    def spongebob_references(self):\n",
    "        return self.sb_refs\n",
    "\n",
    "    @spongebob_references.setter\n",
    "    def spongebob_references(self, references: int):\n",
    "        if not isinstance(references, int):\n",
    "            raise ValueError(\"NO\")\n",
    "        if (self.time_til_patrick > 0):\n",
    "            self.sb_refs = references\n",
    "            self.time_til_patrick -= 1\n",
    "        else:\n",
    "            raise ValueError(\"Jimmy is now doing a Patrick impression\")"
   ]
  },
  {
   "cell_type": "code",
   "execution_count": 7,
   "id": "abcc0f8f-7776-4f63-bac8-d687f18a39a6",
   "metadata": {},
   "outputs": [
    {
     "ename": "ValueError",
     "evalue": "NO",
     "output_type": "error",
     "traceback": [
      "\u001b[31m---------------------------------------------------------------------------\u001b[39m",
      "\u001b[31mValueError\u001b[39m                                Traceback (most recent call last)",
      "\u001b[36mCell\u001b[39m\u001b[36m \u001b[39m\u001b[32mIn[7]\u001b[39m\u001b[32m, line 2\u001b[39m\n\u001b[32m      1\u001b[39m jimbo = Jimmy(\u001b[32m0\u001b[39m)\n\u001b[32m----> \u001b[39m\u001b[32m2\u001b[39m \u001b[43mjimbo\u001b[49m\u001b[43m.\u001b[49m\u001b[43mspongebob_references\u001b[49m = \u001b[32m0.5\u001b[39m\n\u001b[32m      4\u001b[39m \u001b[38;5;66;03m# NOTE: you could also enforce immutability this way: raise an exception after a `hasattr` check\u001b[39;00m\n",
      "\u001b[36mCell\u001b[39m\u001b[36m \u001b[39m\u001b[32mIn[6]\u001b[39m\u001b[32m, line 14\u001b[39m, in \u001b[36mJimmy.spongebob_references\u001b[39m\u001b[34m(self, references)\u001b[39m\n\u001b[32m     11\u001b[39m \u001b[38;5;129m@spongebob_references\u001b[39m.setter\n\u001b[32m     12\u001b[39m \u001b[38;5;28;01mdef\u001b[39;00m\u001b[38;5;250m \u001b[39m\u001b[34mspongebob_references\u001b[39m(\u001b[38;5;28mself\u001b[39m, references: \u001b[38;5;28mint\u001b[39m):\n\u001b[32m     13\u001b[39m     \u001b[38;5;28;01mif\u001b[39;00m \u001b[38;5;129;01mnot\u001b[39;00m \u001b[38;5;28misinstance\u001b[39m(references, \u001b[38;5;28mint\u001b[39m):\n\u001b[32m---> \u001b[39m\u001b[32m14\u001b[39m         \u001b[38;5;28;01mraise\u001b[39;00m \u001b[38;5;167;01mValueError\u001b[39;00m(\u001b[33m\"\u001b[39m\u001b[33mNO\u001b[39m\u001b[33m\"\u001b[39m)\n\u001b[32m     15\u001b[39m     \u001b[38;5;28;01mif\u001b[39;00m (\u001b[38;5;28mself\u001b[39m.time_til_patrick > \u001b[32m0\u001b[39m):\n\u001b[32m     16\u001b[39m         \u001b[38;5;28mself\u001b[39m.sb_refs = references\n",
      "\u001b[31mValueError\u001b[39m: NO"
     ]
    }
   ],
   "source": [
    "jimbo = Jimmy(0)\n",
    "jimbo.spongebob_references = 0.5\n",
    "\n",
    "# NOTE: you could also enforce immutability this way: raise an exception after a `hasattr` check"
   ]
  },
  {
   "cell_type": "markdown",
   "id": "538f47f1-4b94-4e52-8f68-937c41a7ffd2",
   "metadata": {},
   "source": [
    "### Remember\n",
    "- Define new class interfaces using simple public attributes and avoid defining setter and getter methods.\n",
    "- Use @property to define special behavior when attributes are accessed on your objects.\n",
    "- Follow the rule of least surprise and avoid odd side effects in your @property methods.\n",
    "- Ensure that @property methods are fast; for slow or complex work—especially involving I/O or causing side effects—use normal methods instead."
   ]
  },
  {
   "cell_type": "markdown",
   "id": "1412992b-5643-4b6a-9291-854d4f98e394",
   "metadata": {},
   "source": [
    "## Item 59: Consider `@property` Instead of Refactoring Attributes"
   ]
  },
  {
   "cell_type": "code",
   "execution_count": 8,
   "id": "f3cded1b-76f9-412b-bd2c-72b62ee5d12f",
   "metadata": {},
   "outputs": [],
   "source": [
    "from datetime import datetime, timedelta\n",
    "\n",
    "class Bucket:\n",
    "    def __init__(self, period):\n",
    "        self.period_delta = timedelta(seconds=period)\n",
    "        self.reset_time = datetime.now()\n",
    "        self.quota = 0\n",
    "\n",
    "    def __repr__(self):\n",
    "        return f\"Bucket(quota={self.quota})\""
   ]
  },
  {
   "cell_type": "code",
   "execution_count": 9,
   "id": "6528234b-3c12-4ecf-8d95-0c5c5d742a4d",
   "metadata": {},
   "outputs": [],
   "source": [
    "def fill(bucket, amount):\n",
    "    now = datetime.now()\n",
    "    if (now - bucket.reset_time) > bucket.period_delta:\n",
    "        bucket.quota = 0\n",
    "        bucket.reset_time = now\n",
    "    bucket.quota += amount\n",
    "\n",
    "def deduct(bucket, amount):\n",
    "    now = datetime.now()\n",
    "    if (now - bucket.reset_time) > bucket.period_delta:\n",
    "        return False  # Bucket hasn't been filled this period\n",
    "    if bucket.quota - amount < 0:\n",
    "        return False  # Bucket was filled, but not enough\n",
    "    bucket.quota -= amount\n",
    "    return True       # Bucket had enough, quota consumed"
   ]
  },
  {
   "cell_type": "code",
   "execution_count": 10,
   "id": "34f1d4ca-b9c4-45a0-8f4f-6c6fb1ad05d6",
   "metadata": {},
   "outputs": [
    {
     "name": "stdout",
     "output_type": "stream",
     "text": [
      "Bucket(quota=100)\n"
     ]
    }
   ],
   "source": [
    "bucket = Bucket(60)\n",
    "fill(bucket, 100)\n",
    "print(bucket)"
   ]
  },
  {
   "cell_type": "code",
   "execution_count": 11,
   "id": "9c606adb-6186-4d5c-8965-e3381cd0e44a",
   "metadata": {},
   "outputs": [
    {
     "name": "stdout",
     "output_type": "stream",
     "text": [
      "Had 99 quota\n",
      "Bucket(quota=1)\n"
     ]
    }
   ],
   "source": [
    "if deduct(bucket, 99):\n",
    "    print(\"Had 99 quota\")\n",
    "else:\n",
    "    print(\"Not enough for 99 quota\")\n",
    "\n",
    "print(bucket)"
   ]
  },
  {
   "cell_type": "code",
   "execution_count": 12,
   "id": "37c3348a-9120-443b-a799-976e5bc5d91f",
   "metadata": {},
   "outputs": [
    {
     "name": "stdout",
     "output_type": "stream",
     "text": [
      "Not enough for 3 quota\n",
      "Bucket(quota=1)\n"
     ]
    }
   ],
   "source": [
    "if deduct(bucket, 3):\n",
    "    print(\"Had 3 quota\")\n",
    "else:\n",
    "    print(\"Not enough for 3 quota\")\n",
    "\n",
    "print(bucket)\n",
    "\n",
    "\n",
    "# Problem here, is we never really know if we're blocked because we ran out of quota, or because we never had quota (during this time period)"
   ]
  },
  {
   "cell_type": "code",
   "execution_count": 13,
   "id": "f181d976-8566-4e6b-92fb-ca1f13ead12b",
   "metadata": {},
   "outputs": [],
   "source": [
    "class NewBucket:\n",
    "    def __init__(self, period):\n",
    "        self.period_delta = timedelta(seconds=period)\n",
    "        self.reset_time = datetime.now()\n",
    "        self.max_quota = 0 # we add a max_quota to track quota issued during the period\n",
    "        self.quota_consumed = 0 # and this one is, well, how much we used dawg (dawg)\n",
    "\n",
    "    def __repr__(self):\n",
    "        return (\n",
    "            f\"NewBucket(max_quota={self.max_quota}, \"\n",
    "            f\"quota_consumed={self.quota_consumed})\"\n",
    "        )\n",
    "\n",
    "    # And NOW we use property so this new bucket has a compatible interface!\n",
    "    @property\n",
    "    def quota(self):\n",
    "        return self.max_quota - self.quota_consumed\n",
    "\n",
    "    @quota.setter\n",
    "    def quota(self, amount):\n",
    "        delta = self.max_quota - amount\n",
    "        if amount == 0:\n",
    "            # Quota being reset for a new period\n",
    "            self.quota_consumed = 0\n",
    "            self.max_quota = 0\n",
    "        elif delta < 0:\n",
    "            # Quota being filled during the period\n",
    "            self.max_quota = amount + self.quota_consumed\n",
    "        else:\n",
    "            # Quota being consumed during the period\n",
    "            self.quota_consumed = delta"
   ]
  },
  {
   "cell_type": "code",
   "execution_count": 14,
   "id": "e63e119c-10ab-49b7-a276-365b822d101a",
   "metadata": {},
   "outputs": [
    {
     "name": "stdout",
     "output_type": "stream",
     "text": [
      "Initial NewBucket(max_quota=0, quota_consumed=0)\n",
      "Filled NewBucket(max_quota=100, quota_consumed=0)\n",
      "Had 99 quota\n",
      "Now NewBucket(max_quota=100, quota_consumed=99)\n",
      "Not enough for 3 quota\n",
      "Still NewBucket(max_quota=100, quota_consumed=99)\n"
     ]
    }
   ],
   "source": [
    "bucket = NewBucket(60)\n",
    "print(\"Initial\", bucket)\n",
    "fill(bucket, 100)\n",
    "print(\"Filled\", bucket)\n",
    "\n",
    "if deduct(bucket, 99):\n",
    "    print(\"Had 99 quota\")\n",
    "else:\n",
    "    print(\"Not enough for 99 quota\")\n",
    "\n",
    "print(\"Now\", bucket)\n",
    "\n",
    "if deduct(bucket, 3):\n",
    "    print(\"Had 3 quota\")\n",
    "else:\n",
    "    print(\"Not enough for 3 quota\")\n",
    "\n",
    "print(\"Still\", bucket)\n"
   ]
  },
  {
   "cell_type": "markdown",
   "id": "198c55e8-dbbc-4032-beec-1c5b1c3ef013",
   "metadata": {},
   "source": [
    "The magic of `@property` is it lets you make incremental progress towards a better data model.\n",
    "\n",
    "> @property is a tool to help you address problems you’ll come across in real-world code. Don’t overuse it. When you find yourself repeatedly extending @property methods, it’s probably time to refactor your class instead of further paving over your code’s poor design."
   ]
  },
  {
   "cell_type": "markdown",
   "id": "33d719b3-3822-4e7b-8b08-7695b7f8d396",
   "metadata": {},
   "source": [
    "# Item 60: Use Descriptors for Reusable `@property` Methods\n",
    "\n",
    "Its kinda like Mixins, but for attributes."
   ]
  },
  {
   "cell_type": "code",
   "execution_count": 15,
   "id": "d25d069e-313e-48ca-9a32-41d382a2b8e5",
   "metadata": {},
   "outputs": [],
   "source": [
    "# Note 2 eric: show the preamble in the book\n",
    "\n",
    "class Grade:\n",
    "    def __init__(self):\n",
    "        self._value = 0\n",
    "\n",
    "    def __get__(self, instance, instance_type):\n",
    "        return self._value\n",
    "\n",
    "    def __set__(self, instance, value):\n",
    "        if not (0 <= value <= 100):\n",
    "            raise ValueError(\"Grade must be between 0 and 100\")\n",
    "        self._value = value\n",
    "\n",
    "class Exam:\n",
    "    # Class attributes\n",
    "    math_grade = Grade()\n",
    "    writing_grade = Grade()\n",
    "    science_grade = Grade()"
   ]
  },
  {
   "cell_type": "code",
   "execution_count": 16,
   "id": "69ac0702-d67c-4a47-8ab5-ca2831447684",
   "metadata": {},
   "outputs": [
    {
     "name": "stdout",
     "output_type": "stream",
     "text": [
      "Writing 82\n",
      "Science 99\n"
     ]
    }
   ],
   "source": [
    "class Exam:\n",
    "    math_grade = Grade()\n",
    "    writing_grade = Grade()\n",
    "    science_grade = Grade()\n",
    "\n",
    "first_exam = Exam()\n",
    "first_exam.writing_grade = 82\n",
    "first_exam.science_grade = 99\n",
    "print(\"Writing\", first_exam.writing_grade)\n",
    "print(\"Science\", first_exam.science_grade)"
   ]
  },
  {
   "cell_type": "code",
   "execution_count": 17,
   "id": "4f63b77d-91b8-466d-8873-ba6aae39230d",
   "metadata": {},
   "outputs": [
    {
     "name": "stdout",
     "output_type": "stream",
     "text": [
      "Second 75 is right\n",
      "First  75 is wrong; should be 82\n"
     ]
    }
   ],
   "source": [
    "# All good right? NOPE!!!!\n",
    "second_exam = Exam()\n",
    "second_exam.writing_grade = 75\n",
    "print(f\"Second {second_exam.writing_grade} is right\")\n",
    "print(f\"First  {first_exam.writing_grade} is wrong; \"\n",
    "      f\"should be 82\")\n"
   ]
  },
  {
   "cell_type": "code",
   "execution_count": 18,
   "id": "b3fc4a7a-e1c5-41df-9114-9f736a9e599e",
   "metadata": {},
   "outputs": [
    {
     "data": {
      "text/plain": [
       "True"
      ]
     },
     "execution_count": 18,
     "metadata": {},
     "output_type": "execute_result"
    }
   ],
   "source": [
    "# Why this happen???\n",
    "second_exam.writing_grade is first_exam.writing_grade"
   ]
  },
  {
   "cell_type": "markdown",
   "id": "90be0679-2b84-4b14-80f9-c0d2b146d8b2",
   "metadata": {},
   "source": [
    "Remember long ago:\n",
    "```python\n",
    "def foo(bar=[]):\n",
    "    ...\n",
    "```\n",
    "\n",
    "Like this older example, Python only evaluates that `Grade()` once!"
   ]
  },
  {
   "cell_type": "code",
   "execution_count": 19,
   "id": "403130a5-8ae9-4f2f-aa8b-9e68a55947bc",
   "metadata": {},
   "outputs": [],
   "source": [
    "class DictGrade:\n",
    "    \"\"\"\n",
    "    A Grade class that keeps track of the individual values in each Exam that uses it.\n",
    "    \"\"\"\n",
    "    def __init__(self):\n",
    "        self._values = {}  # hint\n",
    "\n",
    "    def __get__(self, instance, instance_type):\n",
    "        \"\"\"Return the grade value for the instance\"\"\"\n",
    "        if instance is None:\n",
    "            return self\n",
    "        return self._values.get(instance, 0)\n",
    "\n",
    "    def __set__(self, instance, value):\n",
    "        \"\"\"Set the grade value for the instance\"\"\"\n",
    "        if not (0 <= value <= 100):\n",
    "            raise ValueError(\"Grade must be between 0 and 100\")\n",
    "        self._values[instance] = value"
   ]
  },
  {
   "cell_type": "markdown",
   "id": "8615c34f-4462-4852-b681-1c345257a1af",
   "metadata": {},
   "source": [
    "Put on your Garbage Collector Engineer hat: what is wrong with the above implementation?"
   ]
  },
  {
   "cell_type": "code",
   "execution_count": 20,
   "id": "48d11395-88e1-4a9a-943a-cb3e4f629043",
   "metadata": {},
   "outputs": [],
   "source": [
    "# Luckily Python actually has a way of making a Descriptor that can be unique to the instance that uses it:\n",
    "# BEHOLD: __set_name__\n",
    "class NamedGrade:\n",
    "    def __set_name__(self, owner, name):\n",
    "        self.internal_name = \"_\" + name  # creates a unique attr just for the \"owning\" instance\n",
    "\n",
    "    def __get__(self, instance, instance_type):\n",
    "        \"\"\"Return the grade value for the instance\"\"\"\n",
    "        if instance is None:\n",
    "            return self\n",
    "        return getattr(instance, self.internal_name)  # Note how we use getattr here,\n",
    "\n",
    "    def __set__(self, instance, value):\n",
    "        \"\"\"Set the grade value for the instance\"\"\"\n",
    "        if not (0 <= value <= 100):\n",
    "            raise ValueError(\"Grade must be between 0 and 100\")\n",
    "        setattr(instance, self.internal_name, value)  # Note setattr"
   ]
  },
  {
   "cell_type": "code",
   "execution_count": 22,
   "id": "90efec6c-3db8-4900-8d62-15c51151ec22",
   "metadata": {},
   "outputs": [
    {
     "data": {
      "text/plain": [
       "{'internal_name': '_science_grade'}"
      ]
     },
     "execution_count": 22,
     "metadata": {},
     "output_type": "execute_result"
    }
   ],
   "source": [
    "# Watch the magic\n",
    "\n",
    "class NamedExam:\n",
    "    math_grade = NamedGrade()\n",
    "    writing_grade = NamedGrade()\n",
    "    science_grade = NamedGrade()\n",
    "\n",
    "vars(NamedExam.science_grade)"
   ]
  },
  {
   "cell_type": "code",
   "execution_count": 23,
   "id": "3c60c4c1-4f6d-44f2-9ba7-926cfd3c2065",
   "metadata": {},
   "outputs": [
    {
     "data": {
      "text/plain": [
       "{'_math_grade': 78, '_writing_grade': 89, '_science_grade': 94}"
      ]
     },
     "execution_count": 23,
     "metadata": {},
     "output_type": "execute_result"
    }
   ],
   "source": [
    "first_exam = NamedExam()\n",
    "first_exam.math_grade = 78\n",
    "first_exam.writing_grade = 89\n",
    "first_exam.science_grade = 94\n",
    "first_exam.__dict__"
   ]
  },
  {
   "cell_type": "code",
   "execution_count": 26,
   "id": "21e7e257-a81d-43bd-906c-1b0767a69548",
   "metadata": {},
   "outputs": [
    {
     "data": {
      "text/plain": [
       "False"
      ]
     },
     "execution_count": 26,
     "metadata": {},
     "output_type": "execute_result"
    }
   ],
   "source": [
    "# And just double checking our instance tracking works..\n",
    "second_exam = NamedExam()\n",
    "second_exam.writing_grade = 99\n",
    "first_exam.writing_grade is second_exam.writing_grade"
   ]
  },
  {
   "cell_type": "markdown",
   "id": "31544f15-e855-4e2a-9a21-f6d8dd1750a7",
   "metadata": {},
   "source": [
    "Okay, so how is it working? Take a look back to `setattr` and `getattr`. The descriptor _itself_ is not storing the data, rather, the data is now being stored on `Exam`, but with the `internal_name` that the Descriptor knows it by (for Exam instances at least).\n",
    "\n",
    "The `writing_grade` Descriptor now knows, when an Exam class is calling `set` on it, it needs to reroute that `get` to an internal field on `Exam` called `_writing_grade`. Likewise with sets!\n",
    "\n",
    "Now the `NamedGrade` no longer keeps a reference to any `Exam` objects, allowing full garbage collection!"
   ]
  },
  {
   "cell_type": "markdown",
   "id": "50155f87-3589-45d1-948a-e41f138cb769",
   "metadata": {},
   "source": [
    "### Remember\n",
    "-  Reuse the behavior and validation of @property methods by defining your own descriptor classes.\n",
    "- Use __set_name__ along with setattr and getattr to store the data needed by descriptors in object instance dictionaries in order to avoid memory leaks.\n",
    "- Don’t get bogged down trying to understand exactly how __getattribute__ uses the descriptor protocol for getting and setting attributes."
   ]
  },
  {
   "cell_type": "markdown",
   "id": "5cc52e85-e461-4937-90f3-2eaa83b6fd6d",
   "metadata": {},
   "source": [
    "# Item 61: Use __getattr__, __getattribute__, and __setattr__ for Lazy Attributes"
   ]
  },
  {
   "cell_type": "code",
   "execution_count": null,
   "id": "2872e8f4-12bc-41bf-8f9a-207bba2219b0",
   "metadata": {},
   "outputs": [],
   "source": []
  }
 ],
 "metadata": {
  "kernelspec": {
   "display_name": "Python 3 (ipykernel)",
   "language": "python",
   "name": "python3"
  },
  "language_info": {
   "codemirror_mode": {
    "name": "ipython",
    "version": 3
   },
   "file_extension": ".py",
   "mimetype": "text/x-python",
   "name": "python",
   "nbconvert_exporter": "python",
   "pygments_lexer": "ipython3",
   "version": "3.13.3"
  }
 },
 "nbformat": 4,
 "nbformat_minor": 5
}
