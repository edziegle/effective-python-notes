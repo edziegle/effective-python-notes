{
 "cells": [
  {
   "cell_type": "markdown",
   "id": "657fca4a-f6eb-4ab5-ae8a-8ab101feee7c",
   "metadata": {},
   "source": [
    "# Chapter 8: Metaclasses and Attributes\n",
    "Follow the rule of least surprise"
   ]
  },
  {
   "cell_type": "markdown",
   "id": "38488f97-08ad-4009-9281-6bd3b9a195dc",
   "metadata": {},
   "source": [
    "## Item 58: Use Plain Attributes Instead of Setter and Getter Methods\n",
    "Java practitioners, take note!"
   ]
  },
  {
   "cell_type": "code",
   "execution_count": null,
   "id": "8ea40a4f-8299-4df9-bd46-6e36171cd514",
   "metadata": {},
   "outputs": [],
   "source": [
    "class Jimmy:\n",
    "    def __init__(self, fios_installed: bool):\n",
    "        self.fios_installed = fios_installed\n",
    "\n",
    "    def get_fios_installed(self):\n",
    "        return self.fios_installed\n",
    "\n",
    "    def set_fios_installed(self, setto: bool):\n",
    "        self.fios_installed = setto\n",
    "\n",
    "    # etc etc etc"
   ]
  },
  {
   "cell_type": "code",
   "execution_count": null,
   "id": "dcf3e029-0643-419c-b92a-7f4b11e5e060",
   "metadata": {},
   "outputs": [],
   "source": [
    "jimbo = Jimmy(False)\n",
    "jimbo.set_fios_installed(True)\n",
    "jimbo.get_fios_installed()"
   ]
  },
  {
   "cell_type": "code",
   "execution_count": null,
   "id": "6691c924-80f2-4bb2-bfa0-e46d2724246e",
   "metadata": {},
   "outputs": [],
   "source": [
    "# But for simple cases like this, getter/setters aren't needed:\n",
    "class PythonicJimmy:\n",
    "    def __init__(self, fios_installed: bool):\n",
    "        self.fios_installed = fios_installed\n",
    "\n",
    "pimbo = PythonicJimmy(False)\n",
    "pimbo.fios_installed = True\n",
    "pimbo.fios_installed"
   ]
  },
  {
   "cell_type": "code",
   "execution_count": null,
   "id": "07d68027-5757-47ae-b664-c4a4c013f367",
   "metadata": {},
   "outputs": [],
   "source": [
    "# If we do need a more complicated interface for interacting with an attribute, use @property\n",
    "class Jimmy:\n",
    "    def __init__(self, spongebob_refs: int):\n",
    "        self.sb_refs = spongebob_refs\n",
    "        self.time_til_patrick = 10\n",
    "\n",
    "    @property\n",
    "    def spongebob_references(self):\n",
    "        return self.sb_refs\n",
    "\n",
    "    @spongebob_references.setter\n",
    "    def spongebob_references(self, references: int):\n",
    "        if (self.time_til_patrick > 0):\n",
    "            self.sb_refs = references\n",
    "            self.time_til_patrick -= 1\n",
    "        else:\n",
    "            raise ValueError(\"Jimmy is now doing a Patrick impression\")"
   ]
  },
  {
   "cell_type": "code",
   "execution_count": null,
   "id": "bb14caf9-dd7b-4ca0-81b9-dd611600abda",
   "metadata": {},
   "outputs": [],
   "source": [
    "jimbo2 = Jimmy(0)\n",
    "for x in range(0, 9):\n",
    "    jimbo2.spongebob_references = x"
   ]
  },
  {
   "cell_type": "code",
   "execution_count": null,
   "id": "0a08e588-fee5-4a2b-8822-31786c913f66",
   "metadata": {},
   "outputs": [],
   "source": [
    "# This also lets you do type checking at runtime\n",
    "class Jimmy:\n",
    "    def __init__(self, spongebob_refs: int):\n",
    "        self.sb_refs = spongebob_refs\n",
    "        self.time_til_patrick = 10\n",
    "\n",
    "    @property\n",
    "    def spongebob_references(self):\n",
    "        return self.sb_refs\n",
    "\n",
    "    @spongebob_references.setter\n",
    "    def spongebob_references(self, references: int):\n",
    "        if not isinstance(references, int):\n",
    "            raise ValueError(\"NO\")\n",
    "        if (self.time_til_patrick > 0):\n",
    "            self.sb_refs = references\n",
    "            self.time_til_patrick -= 1\n",
    "        else:\n",
    "            raise ValueError(\"Jimmy is now doing a Patrick impression\")"
   ]
  },
  {
   "cell_type": "code",
   "execution_count": null,
   "id": "abcc0f8f-7776-4f63-bac8-d687f18a39a6",
   "metadata": {},
   "outputs": [],
   "source": [
    "jimbo = Jimmy(0)\n",
    "jimbo.spongebob_references = 0.5\n",
    "\n",
    "# NOTE: you could also enforce immutability this way: raise an exception after a `hasattr` check"
   ]
  },
  {
   "cell_type": "markdown",
   "id": "538f47f1-4b94-4e52-8f68-937c41a7ffd2",
   "metadata": {},
   "source": [
    "### Remember\n",
    "- Define new class interfaces using simple public attributes and avoid defining setter and getter methods.\n",
    "- Use @property to define special behavior when attributes are accessed on your objects.\n",
    "- Follow the rule of least surprise and avoid odd side effects in your @property methods.\n",
    "- Ensure that @property methods are fast; for slow or complex work—especially involving I/O or causing side effects—use normal methods instead."
   ]
  },
  {
   "cell_type": "markdown",
   "id": "1412992b-5643-4b6a-9291-854d4f98e394",
   "metadata": {},
   "source": [
    "## Item 59: Consider `@property` Instead of Refactoring Attributes"
   ]
  },
  {
   "cell_type": "code",
   "execution_count": null,
   "id": "f3cded1b-76f9-412b-bd2c-72b62ee5d12f",
   "metadata": {},
   "outputs": [],
   "source": [
    "from datetime import datetime, timedelta\n",
    "\n",
    "class Bucket:\n",
    "    def __init__(self, period):\n",
    "        self.period_delta = timedelta(seconds=period)\n",
    "        self.reset_time = datetime.now()\n",
    "        self.quota = 0\n",
    "\n",
    "    def __repr__(self):\n",
    "        return f\"Bucket(quota={self.quota})\""
   ]
  },
  {
   "cell_type": "code",
   "execution_count": null,
   "id": "6528234b-3c12-4ecf-8d95-0c5c5d742a4d",
   "metadata": {},
   "outputs": [],
   "source": [
    "def fill(bucket, amount):\n",
    "    now = datetime.now()\n",
    "    if (now - bucket.reset_time) > bucket.period_delta:\n",
    "        bucket.quota = 0\n",
    "        bucket.reset_time = now\n",
    "    bucket.quota += amount\n",
    "\n",
    "def deduct(bucket, amount):\n",
    "    now = datetime.now()\n",
    "    if (now - bucket.reset_time) > bucket.period_delta:\n",
    "        return False  # Bucket hasn't been filled this period\n",
    "    if bucket.quota - amount < 0:\n",
    "        return False  # Bucket was filled, but not enough\n",
    "    bucket.quota -= amount\n",
    "    return True       # Bucket had enough, quota consumed"
   ]
  },
  {
   "cell_type": "code",
   "execution_count": null,
   "id": "34f1d4ca-b9c4-45a0-8f4f-6c6fb1ad05d6",
   "metadata": {},
   "outputs": [],
   "source": [
    "bucket = Bucket(60)\n",
    "fill(bucket, 100)\n",
    "print(bucket)"
   ]
  },
  {
   "cell_type": "code",
   "execution_count": null,
   "id": "9c606adb-6186-4d5c-8965-e3381cd0e44a",
   "metadata": {},
   "outputs": [],
   "source": [
    "if deduct(bucket, 99):\n",
    "    print(\"Had 99 quota\")\n",
    "else:\n",
    "    print(\"Not enough for 99 quota\")\n",
    "\n",
    "print(bucket)"
   ]
  },
  {
   "cell_type": "code",
   "execution_count": null,
   "id": "37c3348a-9120-443b-a799-976e5bc5d91f",
   "metadata": {},
   "outputs": [],
   "source": [
    "if deduct(bucket, 3):\n",
    "    print(\"Had 3 quota\")\n",
    "else:\n",
    "    print(\"Not enough for 3 quota\")\n",
    "\n",
    "print(bucket)\n",
    "\n",
    "\n",
    "# Problem here, is we never really know if we're blocked because we ran out of quota, or because we never had quota (during this time period)"
   ]
  },
  {
   "cell_type": "code",
   "execution_count": null,
   "id": "f181d976-8566-4e6b-92fb-ca1f13ead12b",
   "metadata": {},
   "outputs": [],
   "source": [
    "class NewBucket:\n",
    "    def __init__(self, period):\n",
    "        self.period_delta = timedelta(seconds=period)\n",
    "        self.reset_time = datetime.now()\n",
    "        self.max_quota = 0 # we add a max_quota to track quota issued during the period\n",
    "        self.quota_consumed = 0 # and this one is, well, how much we used dawg (dawg)\n",
    "\n",
    "    def __repr__(self):\n",
    "        return (\n",
    "            f\"NewBucket(max_quota={self.max_quota}, \"\n",
    "            f\"quota_consumed={self.quota_consumed})\"\n",
    "        )\n",
    "\n",
    "    # And NOW we use property so this new bucket has a compatible interface!\n",
    "    @property\n",
    "    def quota(self):\n",
    "        return self.max_quota - self.quota_consumed\n",
    "\n",
    "    @quota.setter\n",
    "    def quota(self, amount):\n",
    "        delta = self.max_quota - amount\n",
    "        if amount == 0:\n",
    "            # Quota being reset for a new period\n",
    "            self.quota_consumed = 0\n",
    "            self.max_quota = 0\n",
    "        elif delta < 0:\n",
    "            # Quota being filled during the period\n",
    "            self.max_quota = amount + self.quota_consumed\n",
    "        else:\n",
    "            # Quota being consumed during the period\n",
    "            self.quota_consumed = delta"
   ]
  },
  {
   "cell_type": "code",
   "execution_count": null,
   "id": "e63e119c-10ab-49b7-a276-365b822d101a",
   "metadata": {},
   "outputs": [],
   "source": [
    "bucket = NewBucket(60)\n",
    "print(\"Initial\", bucket)\n",
    "fill(bucket, 100)\n",
    "print(\"Filled\", bucket)\n",
    "\n",
    "if deduct(bucket, 99):\n",
    "    print(\"Had 99 quota\")\n",
    "else:\n",
    "    print(\"Not enough for 99 quota\")\n",
    "\n",
    "print(\"Now\", bucket)\n",
    "\n",
    "if deduct(bucket, 3):\n",
    "    print(\"Had 3 quota\")\n",
    "else:\n",
    "    print(\"Not enough for 3 quota\")\n",
    "\n",
    "print(\"Still\", bucket)\n"
   ]
  },
  {
   "cell_type": "markdown",
   "id": "198c55e8-dbbc-4032-beec-1c5b1c3ef013",
   "metadata": {},
   "source": [
    "The magic of `@property` is it lets you make incremental progress towards a better data model.\n",
    "\n",
    "> @property is a tool to help you address problems you’ll come across in real-world code. Don’t overuse it. When you find yourself repeatedly extending @property methods, it’s probably time to refactor your class instead of further paving over your code’s poor design."
   ]
  },
  {
   "cell_type": "markdown",
   "id": "33d719b3-3822-4e7b-8b08-7695b7f8d396",
   "metadata": {},
   "source": [
    "# Item 60: Use Descriptors for Reusable `@property` Methods\n",
    "\n",
    "Its kinda like Mixins, but for attributes."
   ]
  },
  {
   "cell_type": "code",
   "execution_count": null,
   "id": "d25d069e-313e-48ca-9a32-41d382a2b8e5",
   "metadata": {},
   "outputs": [],
   "source": [
    "# Note 2 eric: show the preamble in the book\n",
    "\n",
    "class Grade:\n",
    "    def __init__(self):\n",
    "        self._value = 0\n",
    "\n",
    "    def __get__(self, instance, instance_type):\n",
    "        return self._value\n",
    "\n",
    "    def __set__(self, instance, value):\n",
    "        if not (0 <= value <= 100):\n",
    "            raise ValueError(\"Grade must be between 0 and 100\")\n",
    "        self._value = value\n",
    "\n",
    "class Exam:\n",
    "    # Class attributes\n",
    "    math_grade = Grade()\n",
    "    writing_grade = Grade()\n",
    "    science_grade = Grade()"
   ]
  },
  {
   "cell_type": "code",
   "execution_count": null,
   "id": "69ac0702-d67c-4a47-8ab5-ca2831447684",
   "metadata": {},
   "outputs": [],
   "source": [
    "class Exam:\n",
    "    math_grade = Grade()\n",
    "    writing_grade = Grade()\n",
    "    science_grade = Grade()\n",
    "\n",
    "first_exam = Exam()\n",
    "first_exam.writing_grade = 82\n",
    "first_exam.science_grade = 99\n",
    "print(\"Writing\", first_exam.writing_grade)\n",
    "print(\"Science\", first_exam.science_grade)"
   ]
  },
  {
   "cell_type": "code",
   "execution_count": null,
   "id": "4f63b77d-91b8-466d-8873-ba6aae39230d",
   "metadata": {},
   "outputs": [],
   "source": [
    "# All good right? NOPE!!!!\n",
    "second_exam = Exam()\n",
    "second_exam.writing_grade = 75\n",
    "print(f\"Second {second_exam.writing_grade} is right\")\n",
    "print(f\"First  {first_exam.writing_grade} is wrong; \"\n",
    "      f\"should be 82\")\n"
   ]
  },
  {
   "cell_type": "code",
   "execution_count": null,
   "id": "b3fc4a7a-e1c5-41df-9114-9f736a9e599e",
   "metadata": {},
   "outputs": [],
   "source": [
    "# Why this happen???\n",
    "second_exam.writing_grade is first_exam.writing_grade"
   ]
  },
  {
   "cell_type": "markdown",
   "id": "90be0679-2b84-4b14-80f9-c0d2b146d8b2",
   "metadata": {},
   "source": [
    "Remember long ago:\n",
    "```python\n",
    "def foo(bar=[]):\n",
    "    ...\n",
    "```\n",
    "\n",
    "Like this older example, Python only evaluates that `Grade()` once!"
   ]
  },
  {
   "cell_type": "code",
   "execution_count": null,
   "id": "403130a5-8ae9-4f2f-aa8b-9e68a55947bc",
   "metadata": {},
   "outputs": [],
   "source": [
    "class DictGrade:\n",
    "    \"\"\"\n",
    "    A Grade class that keeps track of the individual values in each Exam that uses it.\n",
    "    \"\"\"\n",
    "    def __init__(self):\n",
    "        self._values = {}  # hint\n",
    "\n",
    "    def __get__(self, instance, instance_type):\n",
    "        \"\"\"Return the grade value for the instance\"\"\"\n",
    "        if instance is None:\n",
    "            return self\n",
    "        return self._values.get(instance, 0)\n",
    "\n",
    "    def __set__(self, instance, value):\n",
    "        \"\"\"Set the grade value for the instance\"\"\"\n",
    "        if not (0 <= value <= 100):\n",
    "            raise ValueError(\"Grade must be between 0 and 100\")\n",
    "        self._values[instance] = value"
   ]
  },
  {
   "cell_type": "markdown",
   "id": "8615c34f-4462-4852-b681-1c345257a1af",
   "metadata": {},
   "source": [
    "Put on your Garbage Collector Engineer hat: what is wrong with the above implementation?"
   ]
  },
  {
   "cell_type": "code",
   "execution_count": null,
   "id": "48d11395-88e1-4a9a-943a-cb3e4f629043",
   "metadata": {},
   "outputs": [],
   "source": [
    "# Luckily Python actually has a way of making a Descriptor that can be unique to the instance that uses it:\n",
    "# BEHOLD: __set_name__\n",
    "class NamedGrade:\n",
    "    def __set_name__(self, owner, name):\n",
    "        self.internal_name = \"_\" + name  # creates a unique attr just for the \"owning\" instance\n",
    "\n",
    "    def __get__(self, instance, instance_type):\n",
    "        \"\"\"Return the grade value for the instance\"\"\"\n",
    "        if instance is None:\n",
    "            return self\n",
    "        return getattr(instance, self.internal_name)  # Note how we use getattr here,\n",
    "\n",
    "    def __set__(self, instance, value):\n",
    "        \"\"\"Set the grade value for the instance\"\"\"\n",
    "        if not (0 <= value <= 100):\n",
    "            raise ValueError(\"Grade must be between 0 and 100\")\n",
    "        setattr(instance, self.internal_name, value)  # Note setattr"
   ]
  },
  {
   "cell_type": "code",
   "execution_count": null,
   "id": "90efec6c-3db8-4900-8d62-15c51151ec22",
   "metadata": {},
   "outputs": [],
   "source": [
    "# Watch the magic\n",
    "\n",
    "class NamedExam:\n",
    "    math_grade = NamedGrade()\n",
    "    writing_grade = NamedGrade()\n",
    "    science_grade = NamedGrade()\n",
    "\n",
    "vars(NamedExam.science_grade)"
   ]
  },
  {
   "cell_type": "code",
   "execution_count": null,
   "id": "3c60c4c1-4f6d-44f2-9ba7-926cfd3c2065",
   "metadata": {},
   "outputs": [],
   "source": [
    "first_exam = NamedExam()\n",
    "first_exam.math_grade = 78\n",
    "first_exam.writing_grade = 89\n",
    "first_exam.science_grade = 94\n",
    "first_exam.__dict__"
   ]
  },
  {
   "cell_type": "code",
   "execution_count": null,
   "id": "21e7e257-a81d-43bd-906c-1b0767a69548",
   "metadata": {},
   "outputs": [],
   "source": [
    "# And just double checking our instance tracking works..\n",
    "second_exam = NamedExam()\n",
    "second_exam.writing_grade = 99\n",
    "first_exam.writing_grade is second_exam.writing_grade"
   ]
  },
  {
   "cell_type": "markdown",
   "id": "31544f15-e855-4e2a-9a21-f6d8dd1750a7",
   "metadata": {},
   "source": [
    "Okay, so how is it working? Take a look back to `setattr` and `getattr`. The descriptor _itself_ is not storing the data, rather, the data is now being stored on `Exam`, but with the `internal_name` that the Descriptor knows it by (for Exam instances at least).\n",
    "\n",
    "The `writing_grade` Descriptor now knows, when an Exam class is calling `set` on it, it needs to reroute that `get` to an internal field on `Exam` called `_writing_grade`. Likewise with sets!\n",
    "\n",
    "Now the `NamedGrade` no longer keeps a reference to any `Exam` objects, allowing full garbage collection!"
   ]
  },
  {
   "cell_type": "markdown",
   "id": "50155f87-3589-45d1-948a-e41f138cb769",
   "metadata": {},
   "source": [
    "### Remember\n",
    "-  Reuse the behavior and validation of @property methods by defining your own descriptor classes.\n",
    "- Use __set_name__ along with setattr and getattr to store the data needed by descriptors in object instance dictionaries in order to avoid memory leaks.\n",
    "- Don’t get bogged down trying to understand exactly how __getattribute__ uses the descriptor protocol for getting and setting attributes."
   ]
  },
  {
   "cell_type": "markdown",
   "id": "5cc52e85-e461-4937-90f3-2eaa83b6fd6d",
   "metadata": {},
   "source": [
    "# Item 61: Use `__getattr__`, `__getattribute__`, and `__setattr__` for Lazy Attributes\n",
    "We saw getattr and setattr already, lets take a gander at these more, and why they're sweet"
   ]
  },
  {
   "cell_type": "code",
   "execution_count": null,
   "id": "2872e8f4-12bc-41bf-8f9a-207bba2219b0",
   "metadata": {},
   "outputs": [],
   "source": [
    "# When a class HAS a __getattr__ defined, it is called whenever an attribute can't be found\n",
    "# Imagine this is the Python representation of a database record.\n",
    "\n",
    "class LazyRecord:\n",
    "    def __init__(self):\n",
    "        self.exists = 5\n",
    "\n",
    "    def __getattr__(self, name):\n",
    "        \"\"\"If they're trying to find an attr that doesn't exist, we just make it!\"\"\"\n",
    "        value = f\"Value for {name}\"\n",
    "        setattr(self, name, value)\n",
    "        return value"
   ]
  },
  {
   "cell_type": "code",
   "execution_count": null,
   "id": "5e9cbcd4-1d31-45fd-ac1a-87ec542740c5",
   "metadata": {},
   "outputs": [],
   "source": [
    "data = LazyRecord()\n",
    "print(\"Before:\", data.__dict__)\n",
    "print(\"foo:   \", data.foo)\n",
    "print(\"After: \", data.__dict__)"
   ]
  },
  {
   "cell_type": "code",
   "execution_count": null,
   "id": "07894626-e406-42dd-9ce8-6f2eb4de8124",
   "metadata": {},
   "outputs": [],
   "source": [
    "# An example of attaching some self-logging, to show where the getattr actually happens\n",
    "\n",
    "class LoggingLazyRecord(LazyRecord):\n",
    "    def __getattr__(self, name):\n",
    "        print(\n",
    "            f\"* Called __getattr__({name!r}), \"\n",
    "            f\"populating instance dictionary\"\n",
    "        )\n",
    "        result = super().__getattr__(name)  # POP QUIZ: Why am I using super here?\n",
    "        print(f\"* Returning {result!r}\")\n",
    "        return result\n",
    "\n",
    "data = LoggingLazyRecord()\n",
    "print(\"exists:     \", data.exists)\n",
    "print(\"First foo:  \", data.foo)\n",
    "print(\"Second foo: \", data.foo)"
   ]
  },
  {
   "cell_type": "markdown",
   "id": "603416ca-74fd-41d0-8a5f-5b7fb4b1ba4a",
   "metadata": {},
   "source": [
    "Note that the log only happened once, right before the `First foo`. By the time we try to print foo again, it exists on the class, so `__getattr__` is not called again. **Lazy Instantiation**!"
   ]
  },
  {
   "cell_type": "code",
   "execution_count": null,
   "id": "f5f00d4c-9efb-4c73-abe2-89e726e230ec",
   "metadata": {},
   "outputs": [],
   "source": [
    "# What about __getattribute__?\n",
    "# Imagine we want to support db Transactions: anytime a user accesses an attr, we want to check if its valid, AND if the transaction is still open!\n",
    "# __getattr__ won't help us here, cause it only gets called that first time an attr is being made\n",
    "\n",
    "class ValidatingRecord:\n",
    "    def __init__(self):\n",
    "        self.exists = 5\n",
    "\n",
    "    def __getattribute__(self, name): # This gets called anytime an attr is accessed\n",
    "        print(f\"* Called __getattribute__({name!r})\")\n",
    "        try:\n",
    "            value = super().__getattribute__(name)\n",
    "            print(f\"* Found {name!r}, returning {value!r}\")\n",
    "            return value\n",
    "        except AttributeError:  # if the attr doesn't exist, lets go ahead and add it!\n",
    "            value = f\"Value for {name}\"\n",
    "            print(f\"* Setting {name!r} to {value!r}\")\n",
    "            setattr(self, name, value)\n",
    "            return value\n",
    "\n",
    "data = ValidatingRecord()\n",
    "print(\"exists:     \", data.exists)\n",
    "print(\"First foo:  \", data.foo)\n",
    "print(\"Second foo: \", data.foo)"
   ]
  },
  {
   "cell_type": "code",
   "execution_count": null,
   "id": "940f1400-8525-43e7-9146-0b5dcac8def6",
   "metadata": {},
   "outputs": [],
   "source": [
    "# Speaking of AttributeError, this is exaclty what this exception is for\n",
    "\n",
    "class MissingPropertyRecord:\n",
    "    def __getattr__(self, name):\n",
    "        if name == \"bad_name\":\n",
    "            raise AttributeError(f\"{name} is missing\")\n",
    "        ...\n",
    "\n",
    "data = MissingPropertyRecord()\n",
    "data.bad_name"
   ]
  },
  {
   "cell_type": "markdown",
   "id": "86c71850-94ff-4d6b-a93a-e12da013cd27",
   "metadata": {},
   "source": [
    "Use `AttributeError` to activate Python's standard handling of a missing attribute."
   ]
  },
  {
   "cell_type": "code",
   "execution_count": null,
   "id": "edda42bd-e7e8-425c-8262-100a731f2b5e",
   "metadata": {},
   "outputs": [],
   "source": [
    "# Side note, `hasattr` is useful too\n",
    "data = LoggingLazyRecord()  # Implements __getattr__\n",
    "print(\"Before:         \", data.__dict__)\n",
    "print(\"Has first foo:  \", hasattr(data, \"foo\"))\n",
    "print(\"After:          \", data.__dict__)\n",
    "print(\"Has second foo: \", hasattr(data, \"foo\"))"
   ]
  },
  {
   "cell_type": "markdown",
   "id": "3e0a793b-eb77-4780-acd1-f69440ccb970",
   "metadata": {},
   "source": [
    "Notice something strange? Why did the getattr logger fire? 👀\n",
    "\n",
    "`hasattr` invoked `__getattr__` since foo didn't exist."
   ]
  },
  {
   "cell_type": "code",
   "execution_count": null,
   "id": "e2531069-1028-4968-bc20-80bcbace8fe1",
   "metadata": {},
   "outputs": [],
   "source": [
    "# A little more about setattr: unlike getattr and getattribute, theres no need for two set methods, setattr handles both cases\n",
    "\n",
    "class SavingRecord:\n",
    "    def __setattr__(self, name, value):\n",
    "        # Imagine those ... are fancy code that magically updates the database in the background as attrs are set on this class\n",
    "        ...\n",
    "        super().__setattr__(name, value)\n",
    "\n",
    "# Lets take a look at call order\n",
    "class LoggingSavingRecord(SavingRecord):\n",
    "    def __setattr__(self, name, value):\n",
    "        print(f\"* Called __setattr__({name!r}, {value!r})\")\n",
    "        super().__setattr__(name, value)\n",
    "\n",
    "data = LoggingSavingRecord()\n",
    "print(\"Before: \", data.__dict__)\n",
    "data.foo = 5\n",
    "print(\"After:  \", data.__dict__)\n",
    "data.foo = 7\n",
    "print(\"Finally:\", data.__dict__)"
   ]
  },
  {
   "cell_type": "code",
   "execution_count": null,
   "id": "bc9c3c11-50d9-4c06-bc2f-0f6a1af324a6",
   "metadata": {},
   "outputs": [],
   "source": [
    "# SURPRISE POP QUIZ: find the error\n",
    "class BrokenDictionaryRecord:\n",
    "    def __init__(self, data):\n",
    "        self._data = data\n",
    "\n",
    "    def __getattribute__(self, name):\n",
    "        print(f\"* Called __getattribute__({name!r})\")\n",
    "        return self._data[name]\n",
    "\n",
    "data = BrokenDictionaryRecord({\"foo\": 3})\n",
    "data.foo"
   ]
  },
  {
   "cell_type": "markdown",
   "id": "8a927673-e455-41e6-bf42-2c0b0596f918",
   "metadata": {},
   "source": [
    "# Remember\n",
    "- Use __getattr__ and __setattr__ to lazily load and save attributes for an object.\n",
    "- Understand that __getattr__ only gets called when accessing a missing attribute, whereas __getattribute__ gets called every time any attribute is accessed.\n",
    "- Avoid infinite recursion in __getattribute__ and __setattr__ method implementations by calling super().__getattribute__ and super().__getattr__ to access object attributes."
   ]
  },
  {
   "cell_type": "code",
   "execution_count": null,
   "id": "4bdb7fc5-9887-4999-8f8e-d13baee19bd3",
   "metadata": {},
   "outputs": [],
   "source": []
  }
 ],
 "metadata": {
  "kernelspec": {
   "display_name": "Python 3 (ipykernel)",
   "language": "python",
   "name": "python3"
  },
  "language_info": {
   "codemirror_mode": {
    "name": "ipython",
    "version": 3
   },
   "file_extension": ".py",
   "mimetype": "text/x-python",
   "name": "python",
   "nbconvert_exporter": "python",
   "pygments_lexer": "ipython3",
   "version": "3.13.3"
  }
 },
 "nbformat": 4,
 "nbformat_minor": 5
}
